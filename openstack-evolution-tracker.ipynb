{
 "cells": [
  {
   "cell_type": "code",
   "execution_count": 202,
   "metadata": {},
   "outputs": [],
   "source": [
    "import pandas as pd\n",
    "import re\n",
    "import helpers as hpr"
   ]
  },
  {
   "cell_type": "code",
   "execution_count": 203,
   "metadata": {},
   "outputs": [],
   "source": [
    "df = pd.DataFrame([])\n",
    "data_path = \"Data/\"\n",
    "changes_file_names = hpr.list_file(data_path)\n",
    "for i in range(len(changes_file_names)):\n",
    "    # df_per_file = pd.read_csv(\"%s/%s\" % (data_path, f))\n",
    "    df_per_file = pd.read_csv(\"%schanges_data_%d.csv\" % (data_path, i))\n",
    "    df = pd.concat((df, df_per_file))"
   ]
  },
  {
   "cell_type": "code",
   "execution_count": 204,
   "metadata": {},
   "outputs": [],
   "source": [
    "df = df.reset_index(drop=True).sort_values(by=\"updated\", ascending=False)"
   ]
  },
  {
   "cell_type": "code",
   "execution_count": 205,
   "metadata": {},
   "outputs": [
    {
     "data": {
      "text/plain": [
       "703048"
      ]
     },
     "execution_count": 205,
     "metadata": {},
     "output_type": "execute_result"
    }
   ],
   "source": [
    "len(df)"
   ]
  },
  {
   "cell_type": "code",
   "execution_count": 206,
   "metadata": {},
   "outputs": [
    {
     "data": {
      "text/plain": [
       "id    703048\n",
       "dtype: int64"
      ]
     },
     "execution_count": 206,
     "metadata": {},
     "output_type": "execute_result"
    }
   ],
   "source": [
    "df[[\"id\"]].isnull().count() # No emty id"
   ]
  },
  {
   "cell_type": "code",
   "execution_count": 225,
   "metadata": {},
   "outputs": [],
   "source": [
    "def retrieve_depends_on(x):\n",
    "    result = re.split(r\"\\n|\\r\", x)\n",
    "\n",
    "    final_result = []\n",
    "    for l in result:\n",
    "        if re.search(r\"Depends-On:\\s[a-zA-Z0-9]+\", l):\n",
    "            if l.startswith(\"Depends-On: https://review\"):\n",
    "                final_result.append(str(re.search(r\"\\d+\", l)[0]))\n",
    "            elif re.search(r\"^Depends-On:\\s[^@:%._\\\\+~#?&//=]\", l):\n",
    "                if l.find(\"https\") != -1:\n",
    "                    continue\n",
    "\n",
    "                final_result.append(l[12:])\n",
    "    return final_result if len(final_result) != 0 else None\n",
    "\n",
    "\n",
    "def retrieve_closes_bug(x):\n",
    "    result = re.search(r\"(Closes-Bug:\\s#\\d+)\", x)\n",
    "    return result[0][13:] if result else None"
   ]
  },
  {
   "cell_type": "code",
   "execution_count": 235,
   "metadata": {},
   "outputs": [],
   "source": [
    "df_subset = df.head(1000).copy()"
   ]
  },
  {
   "cell_type": "code",
   "execution_count": 236,
   "metadata": {},
   "outputs": [],
   "source": [
    "df_subset[\"depends_on\"] = df_subset[\"commit_message\"].map(retrieve_depends_on)"
   ]
  },
  {
   "cell_type": "code",
   "execution_count": 237,
   "metadata": {},
   "outputs": [],
   "source": [
    "df_subset = df_subset[df_subset[\"depends_on\"].isnull() == False].reset_index(drop=True)"
   ]
  },
  {
   "cell_type": "code",
   "execution_count": 238,
   "metadata": {},
   "outputs": [
    {
     "data": {
      "text/html": [
       "<div>\n",
       "<style scoped>\n",
       "    .dataframe tbody tr th:only-of-type {\n",
       "        vertical-align: middle;\n",
       "    }\n",
       "\n",
       "    .dataframe tbody tr th {\n",
       "        vertical-align: top;\n",
       "    }\n",
       "\n",
       "    .dataframe thead th {\n",
       "        text-align: right;\n",
       "    }\n",
       "</style>\n",
       "<table border=\"1\" class=\"dataframe\">\n",
       "  <thead>\n",
       "    <tr style=\"text-align: right;\">\n",
       "      <th></th>\n",
       "      <th>id</th>\n",
       "      <th>project</th>\n",
       "      <th>branch</th>\n",
       "      <th>topic</th>\n",
       "      <th>change_id</th>\n",
       "      <th>subject</th>\n",
       "      <th>status</th>\n",
       "      <th>created</th>\n",
       "      <th>updated</th>\n",
       "      <th>submitted</th>\n",
       "      <th>...</th>\n",
       "      <th>current_revision</th>\n",
       "      <th>discussion_messages_count</th>\n",
       "      <th>reviewers_count</th>\n",
       "      <th>revisions_count</th>\n",
       "      <th>files_count</th>\n",
       "      <th>owner_account_id</th>\n",
       "      <th>owner_name</th>\n",
       "      <th>owner_username</th>\n",
       "      <th>commit_message</th>\n",
       "      <th>depends_on</th>\n",
       "    </tr>\n",
       "  </thead>\n",
       "  <tbody>\n",
       "    <tr>\n",
       "      <th>0</th>\n",
       "      <td>openstack%2Fdevstack-plugin-ceph~master~I89982...</td>\n",
       "      <td>openstack/devstack-plugin-ceph</td>\n",
       "      <td>master</td>\n",
       "      <td>unpin-focal</td>\n",
       "      <td>I899822fec863f43cd6c58b25cf4688c6a3ac1e9b</td>\n",
       "      <td>Revert \"Temporary pin the ceph jobs nodeset to...</td>\n",
       "      <td>NEW</td>\n",
       "      <td>2022-11-22 17:32:50.000000000</td>\n",
       "      <td>2022-11-22 21:13:04.000000000</td>\n",
       "      <td>NaN</td>\n",
       "      <td>...</td>\n",
       "      <td>5941bb9df5b87b1d98da5424465c2f2b29fd34eb</td>\n",
       "      <td>6</td>\n",
       "      <td>1</td>\n",
       "      <td>2</td>\n",
       "      <td>1</td>\n",
       "      <td>13252</td>\n",
       "      <td>Dr. Jens Harbott</td>\n",
       "      <td>jrosenboom</td>\n",
       "      <td>Revert \"Temporary pin the ceph jobs nodeset to...</td>\n",
       "      <td>[865314]</td>\n",
       "    </tr>\n",
       "    <tr>\n",
       "      <th>1</th>\n",
       "      <td>openstack%2Fnova~stable%2Fwallaby~I4b400d499b9...</td>\n",
       "      <td>openstack/nova</td>\n",
       "      <td>stable/wallaby</td>\n",
       "      <td>bug/1970467</td>\n",
       "      <td>I4b400d499b9f594798f2da6d16f21204371a9f42</td>\n",
       "      <td>Detect port-resource-request-groups neutron AP...</td>\n",
       "      <td>NEW</td>\n",
       "      <td>2022-11-22 20:59:56.000000000</td>\n",
       "      <td>2022-11-22 20:59:56.000000000</td>\n",
       "      <td>NaN</td>\n",
       "      <td>...</td>\n",
       "      <td>eaf70f06a136c86a20d97191b7f801038c81f751</td>\n",
       "      <td>1</td>\n",
       "      <td>0</td>\n",
       "      <td>1</td>\n",
       "      <td>3</td>\n",
       "      <td>11604</td>\n",
       "      <td>sean mooney</td>\n",
       "      <td>sean-k-mooney</td>\n",
       "      <td>Detect port-resource-request-groups neutron AP...</td>\n",
       "      <td>[803905]</td>\n",
       "    </tr>\n",
       "    <tr>\n",
       "      <th>2</th>\n",
       "      <td>openstack%2Ftripleo-heat-templates~master~If4e...</td>\n",
       "      <td>openstack/tripleo-heat-templates</td>\n",
       "      <td>master</td>\n",
       "      <td>NaN</td>\n",
       "      <td>If4e74edb03037fa156dbc765e1b665d4b9b5b192</td>\n",
       "      <td>Allow to skip container-image-prepare task</td>\n",
       "      <td>NEW</td>\n",
       "      <td>2022-10-06 05:39:19.000000000</td>\n",
       "      <td>2022-11-22 20:45:23.000000000</td>\n",
       "      <td>NaN</td>\n",
       "      <td>...</td>\n",
       "      <td>bbba6157476347f5f0eaf9f88b117e6ade6651fe</td>\n",
       "      <td>5</td>\n",
       "      <td>4</td>\n",
       "      <td>1</td>\n",
       "      <td>1</td>\n",
       "      <td>8833</td>\n",
       "      <td>Rabi Mishra</td>\n",
       "      <td>rabi</td>\n",
       "      <td>Allow to skip container-image-prepare task\\r\\n...</td>\n",
       "      <td>[860524]</td>\n",
       "    </tr>\n",
       "    <tr>\n",
       "      <th>3</th>\n",
       "      <td>openstack%2Fneutron~master~I8164d76b28904cde88...</td>\n",
       "      <td>openstack/neutron</td>\n",
       "      <td>master</td>\n",
       "      <td>improve-neutron-ci</td>\n",
       "      <td>I8164d76b28904cde88f4de7da08d647f6bd98a10</td>\n",
       "      <td>Add tempest job which will run on the oldest U...</td>\n",
       "      <td>NEW</td>\n",
       "      <td>2022-10-24 13:07:58.000000000</td>\n",
       "      <td>2022-11-22 20:39:07.000000000</td>\n",
       "      <td>NaN</td>\n",
       "      <td>...</td>\n",
       "      <td>01b11df1b5652fbd11f941c008892261714e46a3</td>\n",
       "      <td>40</td>\n",
       "      <td>6</td>\n",
       "      <td>3</td>\n",
       "      <td>3</td>\n",
       "      <td>11975</td>\n",
       "      <td>Slawek Kaplonski</td>\n",
       "      <td>slaweq</td>\n",
       "      <td>Add tempest job which will run on the oldest U...</td>\n",
       "      <td>[861110, 862219, 862479]</td>\n",
       "    </tr>\n",
       "    <tr>\n",
       "      <th>4</th>\n",
       "      <td>openstack%2Ftripleo-ansible~stable%2Ftrain~I61...</td>\n",
       "      <td>openstack/tripleo-ansible</td>\n",
       "      <td>stable/train</td>\n",
       "      <td>ceph_ansible_log_rotate</td>\n",
       "      <td>I61f80b11c9394f34e09297ca1aa93d7000bb8047</td>\n",
       "      <td>[TRAIN-ONLY] Rotate ceph_ansible_command.log</td>\n",
       "      <td>NEW</td>\n",
       "      <td>2022-11-21 23:16:36.000000000</td>\n",
       "      <td>2022-11-22 20:38:22.000000000</td>\n",
       "      <td>NaN</td>\n",
       "      <td>...</td>\n",
       "      <td>22e9588f9d89f385e5fbbe7deb435de0fbafae15</td>\n",
       "      <td>9</td>\n",
       "      <td>6</td>\n",
       "      <td>1</td>\n",
       "      <td>1</td>\n",
       "      <td>18002</td>\n",
       "      <td>John Fulton</td>\n",
       "      <td>fultonj</td>\n",
       "      <td>[TRAIN-ONLY] Rotate ceph_ansible_command.log\\r...</td>\n",
       "      <td>[Ifbd990f15b9d85260ab20a2004fe79bafda929d9]</td>\n",
       "    </tr>\n",
       "  </tbody>\n",
       "</table>\n",
       "<p>5 rows × 24 columns</p>\n",
       "</div>"
      ],
      "text/plain": [
       "                                                  id  \\\n",
       "0  openstack%2Fdevstack-plugin-ceph~master~I89982...   \n",
       "1  openstack%2Fnova~stable%2Fwallaby~I4b400d499b9...   \n",
       "2  openstack%2Ftripleo-heat-templates~master~If4e...   \n",
       "3  openstack%2Fneutron~master~I8164d76b28904cde88...   \n",
       "4  openstack%2Ftripleo-ansible~stable%2Ftrain~I61...   \n",
       "\n",
       "                            project          branch                    topic  \\\n",
       "0    openstack/devstack-plugin-ceph          master              unpin-focal   \n",
       "1                    openstack/nova  stable/wallaby              bug/1970467   \n",
       "2  openstack/tripleo-heat-templates          master                      NaN   \n",
       "3                 openstack/neutron          master       improve-neutron-ci   \n",
       "4         openstack/tripleo-ansible    stable/train  ceph_ansible_log_rotate   \n",
       "\n",
       "                                   change_id  \\\n",
       "0  I899822fec863f43cd6c58b25cf4688c6a3ac1e9b   \n",
       "1  I4b400d499b9f594798f2da6d16f21204371a9f42   \n",
       "2  If4e74edb03037fa156dbc765e1b665d4b9b5b192   \n",
       "3  I8164d76b28904cde88f4de7da08d647f6bd98a10   \n",
       "4  I61f80b11c9394f34e09297ca1aa93d7000bb8047   \n",
       "\n",
       "                                             subject status  \\\n",
       "0  Revert \"Temporary pin the ceph jobs nodeset to...    NEW   \n",
       "1  Detect port-resource-request-groups neutron AP...    NEW   \n",
       "2         Allow to skip container-image-prepare task    NEW   \n",
       "3  Add tempest job which will run on the oldest U...    NEW   \n",
       "4       [TRAIN-ONLY] Rotate ceph_ansible_command.log    NEW   \n",
       "\n",
       "                         created                        updated submitted  \\\n",
       "0  2022-11-22 17:32:50.000000000  2022-11-22 21:13:04.000000000       NaN   \n",
       "1  2022-11-22 20:59:56.000000000  2022-11-22 20:59:56.000000000       NaN   \n",
       "2  2022-10-06 05:39:19.000000000  2022-11-22 20:45:23.000000000       NaN   \n",
       "3  2022-10-24 13:07:58.000000000  2022-11-22 20:39:07.000000000       NaN   \n",
       "4  2022-11-21 23:16:36.000000000  2022-11-22 20:38:22.000000000       NaN   \n",
       "\n",
       "   ...                          current_revision  discussion_messages_count  \\\n",
       "0  ...  5941bb9df5b87b1d98da5424465c2f2b29fd34eb                          6   \n",
       "1  ...  eaf70f06a136c86a20d97191b7f801038c81f751                          1   \n",
       "2  ...  bbba6157476347f5f0eaf9f88b117e6ade6651fe                          5   \n",
       "3  ...  01b11df1b5652fbd11f941c008892261714e46a3                         40   \n",
       "4  ...  22e9588f9d89f385e5fbbe7deb435de0fbafae15                          9   \n",
       "\n",
       "   reviewers_count  revisions_count files_count  owner_account_id  \\\n",
       "0                1                2           1             13252   \n",
       "1                0                1           3             11604   \n",
       "2                4                1           1              8833   \n",
       "3                6                3           3             11975   \n",
       "4                6                1           1             18002   \n",
       "\n",
       "         owner_name  owner_username  \\\n",
       "0  Dr. Jens Harbott      jrosenboom   \n",
       "1       sean mooney   sean-k-mooney   \n",
       "2       Rabi Mishra            rabi   \n",
       "3  Slawek Kaplonski          slaweq   \n",
       "4       John Fulton         fultonj   \n",
       "\n",
       "                                      commit_message  \\\n",
       "0  Revert \"Temporary pin the ceph jobs nodeset to...   \n",
       "1  Detect port-resource-request-groups neutron AP...   \n",
       "2  Allow to skip container-image-prepare task\\r\\n...   \n",
       "3  Add tempest job which will run on the oldest U...   \n",
       "4  [TRAIN-ONLY] Rotate ceph_ansible_command.log\\r...   \n",
       "\n",
       "                                    depends_on  \n",
       "0                                     [865314]  \n",
       "1                                     [803905]  \n",
       "2                                     [860524]  \n",
       "3                     [861110, 862219, 862479]  \n",
       "4  [Ifbd990f15b9d85260ab20a2004fe79bafda929d9]  \n",
       "\n",
       "[5 rows x 24 columns]"
      ]
     },
     "execution_count": 238,
     "metadata": {},
     "output_type": "execute_result"
    }
   ],
   "source": [
    "df_subset.head(5)"
   ]
  },
  {
   "cell_type": "code",
   "execution_count": 243,
   "metadata": {},
   "outputs": [],
   "source": [
    "df_subset = df_subset.explode(column=\"depends_on\").reset_index(drop=True)"
   ]
  },
  {
   "cell_type": "code",
   "execution_count": 244,
   "metadata": {},
   "outputs": [
    {
     "data": {
      "text/plain": [
       "3    861110\n",
       "4    862219\n",
       "5    862479\n",
       "Name: depends_on, dtype: object"
      ]
     },
     "execution_count": 244,
     "metadata": {},
     "output_type": "execute_result"
    }
   ],
   "source": [
    "df_subset.loc[df_subset[\"change_id\"] == \"I8164d76b28904cde88f4de7da08d647f6bd98a10\", \"depends_on\"]"
   ]
  },
  {
   "cell_type": "code",
   "execution_count": 245,
   "metadata": {},
   "outputs": [],
   "source": [
    "df[\"depends_on\"] = df[\"commit_message\"].map(retrieve_depends_on)"
   ]
  },
  {
   "cell_type": "code",
   "execution_count": 247,
   "metadata": {},
   "outputs": [],
   "source": [
    "df = df.explode(column=\"depends_on\").reset_index(drop=True)"
   ]
  },
  {
   "cell_type": "code",
   "execution_count": 248,
   "metadata": {},
   "outputs": [
    {
     "data": {
      "text/html": [
       "<div>\n",
       "<style scoped>\n",
       "    .dataframe tbody tr th:only-of-type {\n",
       "        vertical-align: middle;\n",
       "    }\n",
       "\n",
       "    .dataframe tbody tr th {\n",
       "        vertical-align: top;\n",
       "    }\n",
       "\n",
       "    .dataframe thead th {\n",
       "        text-align: right;\n",
       "    }\n",
       "</style>\n",
       "<table border=\"1\" class=\"dataframe\">\n",
       "  <thead>\n",
       "    <tr style=\"text-align: right;\">\n",
       "      <th></th>\n",
       "      <th>id</th>\n",
       "    </tr>\n",
       "  </thead>\n",
       "  <tbody>\n",
       "    <tr>\n",
       "      <th>count</th>\n",
       "      <td>707230</td>\n",
       "    </tr>\n",
       "    <tr>\n",
       "      <th>unique</th>\n",
       "      <td>702912</td>\n",
       "    </tr>\n",
       "    <tr>\n",
       "      <th>top</th>\n",
       "      <td>openstack%2Ftripleo-ci~master~I2c0726b2234e0b7...</td>\n",
       "    </tr>\n",
       "    <tr>\n",
       "      <th>freq</th>\n",
       "      <td>44</td>\n",
       "    </tr>\n",
       "  </tbody>\n",
       "</table>\n",
       "</div>"
      ],
      "text/plain": [
       "                                                       id\n",
       "count                                              707230\n",
       "unique                                             702912\n",
       "top     openstack%2Ftripleo-ci~master~I2c0726b2234e0b7...\n",
       "freq                                                   44"
      ]
     },
     "execution_count": 248,
     "metadata": {},
     "output_type": "execute_result"
    }
   ],
   "source": [
    "df[[\"id\"]].describe()"
   ]
  },
  {
   "cell_type": "code",
   "execution_count": 249,
   "metadata": {},
   "outputs": [
    {
     "data": {
      "text/plain": [
       "707230"
      ]
     },
     "execution_count": 249,
     "metadata": {},
     "output_type": "execute_result"
    }
   ],
   "source": [
    "len(df)"
   ]
  },
  {
   "cell_type": "code",
   "execution_count": 251,
   "metadata": {},
   "outputs": [
    {
     "data": {
      "text/html": [
       "<div>\n",
       "<style scoped>\n",
       "    .dataframe tbody tr th:only-of-type {\n",
       "        vertical-align: middle;\n",
       "    }\n",
       "\n",
       "    .dataframe tbody tr th {\n",
       "        vertical-align: top;\n",
       "    }\n",
       "\n",
       "    .dataframe thead th {\n",
       "        text-align: right;\n",
       "    }\n",
       "</style>\n",
       "<table border=\"1\" class=\"dataframe\">\n",
       "  <thead>\n",
       "    <tr style=\"text-align: right;\">\n",
       "      <th></th>\n",
       "      <th>depends_on</th>\n",
       "    </tr>\n",
       "  </thead>\n",
       "  <tbody>\n",
       "    <tr>\n",
       "      <th>count</th>\n",
       "      <td>31690</td>\n",
       "    </tr>\n",
       "    <tr>\n",
       "      <th>unique</th>\n",
       "      <td>22197</td>\n",
       "    </tr>\n",
       "    <tr>\n",
       "      <th>top</th>\n",
       "      <td>555034</td>\n",
       "    </tr>\n",
       "    <tr>\n",
       "      <th>freq</th>\n",
       "      <td>222</td>\n",
       "    </tr>\n",
       "  </tbody>\n",
       "</table>\n",
       "</div>"
      ],
      "text/plain": [
       "       depends_on\n",
       "count       31690\n",
       "unique      22197\n",
       "top        555034\n",
       "freq          222"
      ]
     },
     "execution_count": 251,
     "metadata": {},
     "output_type": "execute_result"
    }
   ],
   "source": [
    "df[[\"depends_on\"]].describe()"
   ]
  },
  {
   "cell_type": "code",
   "execution_count": 252,
   "metadata": {},
   "outputs": [],
   "source": [
    "df[[\"depends_on\"]].value_counts().to_csv(\"./experiments/depends_on.csv\")"
   ]
  },
  {
   "cell_type": "code",
   "execution_count": 254,
   "metadata": {},
   "outputs": [],
   "source": [
    "# df[[\"depends_on\"]].value_counts().to_csv(\"./experiments/depends_on.csv\")\n",
    "df[df[\"depends_on\"].isnull() == False].sort_values(\n",
    "    by=\"depends_on\", ascending=False, ignore_index=True)[[\n",
    "        \"id\", \"project\", \"branch\", \"topic\", \"change_id\", \"subject\", \"status\",\n",
    "        \"created\", \"updated\", \"submitted\", \"insertions\", \"deletions\",\n",
    "        \"total_comment_count\", \"number\", \"discussion_messages_count\",\n",
    "        \"reviewers_count\", \"revisions_count\", \"files_count\", \"depends_on\"\n",
    "    ]].to_csv(\"./experiments/depends_on_all.csv\", index=False)\n"
   ]
  },
  {
   "cell_type": "code",
   "execution_count": 257,
   "metadata": {},
   "outputs": [],
   "source": [
    "def build_depends_chain(row):\n",
    "    obj = {}\n",
    "    depends_on = row[\"depends_on\"]\n",
    "    obj[\"Target\"] = row[\"change_id\"]\n",
    "    obj[\"Target_repo\"] = row[\"project\"]\n",
    "    row_src = None\n",
    "    if depends_on.isnumeric():\n",
    "        row_src = df[df[\"number\"] == int(depends_on)].head(1)\n",
    "    else:\n",
    "        row_src = df[df[\"change_id\"] == depends_on].head(1)\n",
    "\n",
    "    if len(row_src) != 0:\n",
    "        obj[\"Source\"] = row_src[\"change_id\"].tolist()[0]\n",
    "        obj[\"Source_repo\"] = row_src[\"project\"].tolist()[0]\n",
    "\n",
    "    return obj"
   ]
  },
  {
   "cell_type": "code",
   "execution_count": 258,
   "metadata": {},
   "outputs": [],
   "source": [
    "df_subset_columns = [\"change_id\", \"project\", \"depends_on\", \"number\"]\n",
    "\n",
    "df_subset_dep = df.loc[df[\"depends_on\"].isnull() == False,\n",
    "                       df_subset_columns].copy().reset_index(drop=True)\n",
    "\n",
    "df_depends_on = df_subset_dep.apply(build_depends_chain, axis=1)\n",
    "\n",
    "df_depends_on = pd.json_normalize(data=df_depends_on, errors=\"ignore\")"
   ]
  },
  {
   "cell_type": "code",
   "execution_count": 262,
   "metadata": {},
   "outputs": [],
   "source": [
    "evolution_columns = [\"Source\", \"Target\", \"Source_repo\", \"Target_repo\"]\n",
    "\n",
    "df_depends_on = df_depends_on.loc[:, evolution_columns]"
   ]
  },
  {
   "cell_type": "code",
   "execution_count": null,
   "metadata": {},
   "outputs": [],
   "source": [
    "df_depends_on.to_csv(\"openstack_evolution.csv\", index=False)"
   ]
  },
  {
   "cell_type": "code",
   "execution_count": null,
   "metadata": {},
   "outputs": [],
   "source": [
    "df_depends_on[[\"Source\", \"Target\", \"Source_repo\", \"Target_repo\"\n",
    "               ]].value_counts().to_csv(\"./experiments/duplicates.csv\")"
   ]
  },
  {
   "cell_type": "code",
   "execution_count": 285,
   "metadata": {},
   "outputs": [],
   "source": [
    "df_depends_on = pd.read_csv(\"./openstack_evolution.csv\")"
   ]
  },
  {
   "cell_type": "code",
   "execution_count": 287,
   "metadata": {},
   "outputs": [
    {
     "data": {
      "text/plain": [
       "Source         30463\n",
       "Target         31690\n",
       "Source_repo    30463\n",
       "Target_repo    31690\n",
       "dtype: int64"
      ]
     },
     "execution_count": 287,
     "metadata": {},
     "output_type": "execute_result"
    }
   ],
   "source": [
    "df_depends_on.count()"
   ]
  },
  {
   "cell_type": "code",
   "execution_count": 286,
   "metadata": {},
   "outputs": [
    {
     "data": {
      "text/plain": [
       "Source         1227\n",
       "Target            0\n",
       "Source_repo    1227\n",
       "Target_repo       0\n",
       "dtype: int64"
      ]
     },
     "execution_count": 286,
     "metadata": {},
     "output_type": "execute_result"
    }
   ],
   "source": [
    "df_depends_on.isnull().sum()"
   ]
  },
  {
   "cell_type": "code",
   "execution_count": 288,
   "metadata": {},
   "outputs": [],
   "source": [
    "df_depends_on = df_depends_on.dropna()"
   ]
  },
  {
   "cell_type": "code",
   "execution_count": 290,
   "metadata": {},
   "outputs": [
    {
     "data": {
      "text/plain": [
       "Source         30463\n",
       "Target         30463\n",
       "Source_repo    30463\n",
       "Target_repo    30463\n",
       "dtype: int64"
      ]
     },
     "execution_count": 290,
     "metadata": {},
     "output_type": "execute_result"
    }
   ],
   "source": [
    "df_depends_on.count()"
   ]
  },
  {
   "cell_type": "code",
   "execution_count": 289,
   "metadata": {},
   "outputs": [
    {
     "data": {
      "text/plain": [
       "Source         0\n",
       "Target         0\n",
       "Source_repo    0\n",
       "Target_repo    0\n",
       "dtype: int64"
      ]
     },
     "execution_count": 289,
     "metadata": {},
     "output_type": "execute_result"
    }
   ],
   "source": [
    "df_depends_on.isnull().sum()"
   ]
  },
  {
   "cell_type": "code",
   "execution_count": 292,
   "metadata": {},
   "outputs": [
    {
     "data": {
      "text/plain": [
       "3070"
      ]
     },
     "execution_count": 292,
     "metadata": {},
     "output_type": "execute_result"
    }
   ],
   "source": [
    "df_depends_on.duplicated().sum()"
   ]
  },
  {
   "cell_type": "code",
   "execution_count": 293,
   "metadata": {},
   "outputs": [],
   "source": [
    "df_depends_on = df_depends_on.drop_duplicates()"
   ]
  },
  {
   "cell_type": "code",
   "execution_count": 294,
   "metadata": {},
   "outputs": [
    {
     "data": {
      "text/plain": [
       "0"
      ]
     },
     "execution_count": 294,
     "metadata": {},
     "output_type": "execute_result"
    }
   ],
   "source": [
    "df_depends_on.duplicated().sum()"
   ]
  },
  {
   "cell_type": "code",
   "execution_count": 298,
   "metadata": {},
   "outputs": [
    {
     "data": {
      "text/plain": [
       "22051"
      ]
     },
     "execution_count": 298,
     "metadata": {},
     "output_type": "execute_result"
    }
   ],
   "source": [
    "df_depends_on[[\"Source_repo\", \"Target_repo\"]].duplicated().sum()"
   ]
  },
  {
   "cell_type": "code",
   "execution_count": 299,
   "metadata": {},
   "outputs": [],
   "source": [
    "df_depends_on = df_depends_on.drop_duplicates(subset=[\"Source_repo\", \"Target_repo\"])"
   ]
  },
  {
   "cell_type": "code",
   "execution_count": 300,
   "metadata": {},
   "outputs": [
    {
     "data": {
      "text/plain": [
       "0"
      ]
     },
     "execution_count": 300,
     "metadata": {},
     "output_type": "execute_result"
    }
   ],
   "source": [
    "df_depends_on[[\"Source_repo\", \"Target_repo\"]].duplicated().sum()"
   ]
  },
  {
   "cell_type": "code",
   "execution_count": 301,
   "metadata": {},
   "outputs": [
    {
     "data": {
      "text/plain": [
       "Source         5342\n",
       "Target         5342\n",
       "Source_repo    5342\n",
       "Target_repo    5342\n",
       "dtype: int64"
      ]
     },
     "execution_count": 301,
     "metadata": {},
     "output_type": "execute_result"
    }
   ],
   "source": [
    "df_depends_on.count()"
   ]
  },
  {
   "cell_type": "code",
   "execution_count": 302,
   "metadata": {},
   "outputs": [],
   "source": [
    "df_depends_on = df_depends_on.reset_index(drop=True)"
   ]
  },
  {
   "cell_type": "code",
   "execution_count": 304,
   "metadata": {},
   "outputs": [],
   "source": [
    "df_depends_on.to_csv(\"clean_openstack_evolution.csv\", index=False)"
   ]
  }
 ],
 "metadata": {
  "kernelspec": {
   "display_name": "Python 3.9.7 ('base')",
   "language": "python",
   "name": "python3"
  },
  "language_info": {
   "codemirror_mode": {
    "name": "ipython",
    "version": 3
   },
   "file_extension": ".py",
   "mimetype": "text/x-python",
   "name": "python",
   "nbconvert_exporter": "python",
   "pygments_lexer": "ipython3",
   "version": "3.9.7"
  },
  "orig_nbformat": 4,
  "vscode": {
   "interpreter": {
    "hash": "5179d32cf6ec497baf3f8a3ef987cc77c5d2dc691fdde20a56316522f61a7323"
   }
  }
 },
 "nbformat": 4,
 "nbformat_minor": 2
}
