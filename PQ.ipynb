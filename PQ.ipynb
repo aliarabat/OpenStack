{
 "cells": [
  {
   "cell_type": "code",
   "execution_count": 3,
   "metadata": {},
   "outputs": [],
   "source": [
    "import pandas as pd\n",
    "import numpy as np\n",
    "import os.path as osp\n",
    "import ast\n",
    "from datetime import datetime\n",
    "from bs4 import BeautifulSoup\n",
    "import requests as rq\n",
    "import collections\n",
    "import utils.helpers as hpr\n",
    "from itertools import combinations\n",
    "import re"
   ]
  },
  {
   "cell_type": "code",
   "execution_count": 5,
   "metadata": {},
   "outputs": [],
   "source": [
    "path = osp.join('.', 'RQs', 'PQ', 'Files')"
   ]
  },
  {
   "cell_type": "code",
   "execution_count": 21,
   "metadata": {},
   "outputs": [],
   "source": [
    "df = hpr.combine_openstack_data()"
   ]
  },
  {
   "cell_type": "code",
   "execution_count": 28,
   "metadata": {},
   "outputs": [],
   "source": [
    "df[\"reviewers\"] = df[\"reviewers\"].apply(ast.literal_eval)"
   ]
  },
  {
   "cell_type": "code",
   "execution_count": 233,
   "metadata": {},
   "outputs": [],
   "source": [
    "os_projects = df[\"project\"].unique()"
   ]
  },
  {
   "cell_type": "markdown",
   "metadata": {},
   "source": [
    "### Core developers"
   ]
  },
  {
   "cell_type": "code",
   "execution_count": 23,
   "metadata": {},
   "outputs": [],
   "source": [
    "os_core_team_devs = pd.read_csv(f'{path}/os_core_team.csv')\n",
    "os_core_team_devs[\"developers\"] = os_core_team_devs[\"developers\"].map(ast.literal_eval)\n",
    "os_core_team_devs = list(dict.fromkeys(hpr.flatten_list(os_core_team_devs[\"developers\"].values)))"
   ]
  },
  {
   "attachments": {},
   "cell_type": "markdown",
   "metadata": {},
   "source": [
    "### Casual contributors"
   ]
  },
  {
   "cell_type": "code",
   "execution_count": 41,
   "metadata": {},
   "outputs": [],
   "source": [
    "def count_age(id):\n",
    "    dates = df.loc[df.owner_account_id==id, 'created'].values\n",
    "    if len(dates) == 1:\n",
    "        return 0\n",
    "    \n",
    "    end = datetime.strptime(dates[0], \"%Y-%m-%d %H:%M:%S\")\n",
    "    first = datetime.strptime(dates[-1], \"%Y-%m-%d %H:%M:%S\")\n",
    "\n",
    "    age = (end - first).days\n",
    "    return age\n",
    "\n",
    "df_developers = pd.DataFrame({'id': df['owner_account_id'].unique()})\n",
    "df_developers['age'] = df_developers['id'].map(count_age)\n",
    "df_developers['changes'] = df_developers['id'].map(lambda x: len(df.loc[df.owner_account_id==x, 'number']))"
   ]
  },
  {
   "cell_type": "code",
   "execution_count": 90,
   "metadata": {},
   "outputs": [],
   "source": [
    "df_developers.to_csv(f'{path}/developers.csv', index=None)"
   ]
  },
  {
   "cell_type": "code",
   "execution_count": 42,
   "metadata": {},
   "outputs": [],
   "source": [
    "casual_developers = df_developers.loc[\n",
    "    (df_developers.age<15) &\n",
    "    (df_developers.changes<=2) &\n",
    "    (~df_developers.id.isin(os_core_team_devs)),\n",
    "['id']]\n",
    "casual_developers.to_csv(f'{path}/casual_contributors.csv', index=None)\n",
    "casual_developers = casual_developers.id.to_list()\n",
    "\n",
    "df_developers = df_developers[\n",
    "    ((df_developers.age>=15)&(df_developers.changes>=3))|\n",
    "    (df_developers.id.isin(os_core_team_devs))\n",
    "]"
   ]
  },
  {
   "attachments": {},
   "cell_type": "markdown",
   "metadata": {},
   "source": [
    "### How many changes made by core and non. core developers ?"
   ]
  },
  {
   "attachments": {},
   "cell_type": "markdown",
   "metadata": {},
   "source": [
    "#### Developers"
   ]
  },
  {
   "cell_type": "code",
   "execution_count": 237,
   "metadata": {},
   "outputs": [],
   "source": [
    "df_developers[\"status\"] = df_developers[\"id\"].map(lambda x: \"Core\" if x in os_core_team_devs else \"Non core\")"
   ]
  },
  {
   "cell_type": "code",
   "execution_count": 96,
   "metadata": {},
   "outputs": [],
   "source": [
    "df_developers[['id', \"status\", \"changes\"]].to_csv(\"./RQs/PQ/Files/core_non_core_changes.csv\", index=False)"
   ]
  },
  {
   "attachments": {},
   "cell_type": "markdown",
   "metadata": {},
   "source": [
    "#### Reviewers"
   ]
  },
  {
   "cell_type": "code",
   "execution_count": 238,
   "metadata": {},
   "outputs": [],
   "source": [
    "df_reviewers = df['reviewers'].values.tolist()\n",
    "df_reviewers = hpr.flatten_list(df_reviewers)\n",
    "df_reviewers = [rev['_account_id'] for rev in df_reviewers if \"tags\" not in rev and rev['_account_id'] not in casual_developers]\n",
    "df_reviewers = collections.Counter(df_reviewers)\n",
    "df_reviewers = pd.DataFrame({'id': df_reviewers.keys(), 'changes': df_reviewers.values()})\n",
    "df_reviewers[\"status\"] = df_reviewers[\"id\"].map(lambda rev_id: \"Core\" if rev_id in os_core_team_devs else \"Non core\")"
   ]
  },
  {
   "cell_type": "code",
   "execution_count": 128,
   "metadata": {},
   "outputs": [],
   "source": [
    "df_reviewers.to_csv(\"./RQs/PQ/Files/core_non_core_reviewers_changes.csv\", index=False)"
   ]
  },
  {
   "attachments": {},
   "cell_type": "markdown",
   "metadata": {},
   "source": [
    "### Analysis of OS teams release notes' projects overlap"
   ]
  },
  {
   "cell_type": "code",
   "execution_count": 239,
   "metadata": {},
   "outputs": [],
   "source": [
    "request_teams = rq.get(\"https://releases.openstack.org/index.html#teams\")\n",
    "soup_teams = BeautifulSoup(request_teams.text, 'html.parser')\n",
    "\n",
    "teams_projects = {}\n",
    "section_teams = soup_teams.find(\"section\", attrs={\"id\": \"teams\"})\n",
    "li_teams = section_teams.find_all(\"li\", \"toctree-l1\")\n",
    "\n",
    "for i in range(0, len(li_teams)):\n",
    "    li_segment = li_teams[i].find(\"a\")\n",
    "    link = li_teams[i].find(\"a\")\n",
    "    link_suffix = link[\"href\"]\n",
    "\n",
    "    request_projects = rq.get(\"https://releases.openstack.org/%s\" % (link_suffix))\n",
    "    soup_projects = BeautifulSoup(request_projects.text, 'html.parser')\n",
    "    table_of_contents = soup_projects.find(\"div\", attrs={\"id\": \"table-of-contents\"})\n",
    "    ul_projects = table_of_contents.find(\"ul\")\n",
    "    ul_projects = ul_projects.find(\"ul\")\n",
    "    li_releases = ul_projects.find_all(\"li\")\n",
    "    projects = []\n",
    "    for li_rel in li_releases:\n",
    "        if li_rel.text not in ['Antelope', 'Bobcat', 'Caracal']:\n",
    "            li_projects = li_rel.find_all(\"li\")\n",
    "\n",
    "            for href_project in li_projects:\n",
    "                projects.append(href_project.text.replace(\" (EOL)\", \"\"))\n",
    "\n",
    "    teams_projects[re.compile('[^a-zA-Z]').sub('',  link_suffix[6:-5].lower())] = list(dict.fromkeys(projects))"
   ]
  },
  {
   "cell_type": "code",
   "execution_count": 240,
   "metadata": {},
   "outputs": [],
   "source": [
    "def get_teams_deliverables():\n",
    "    \"\"\"Get project team deliverables\n",
    "    \"\"\"\n",
    "    request_teams = rq.get(\"https://governance.openstack.org/tc/reference/projects/index.html\")\n",
    "    soup_teams = BeautifulSoup(request_teams.text, 'html.parser')\n",
    "\n",
    "    teams_deliverables = {}\n",
    "    href_links_teams = soup_teams.find_all(\"a\", \"reference internal\")\n",
    "\n",
    "    for i in range(1, len(href_links_teams)-2):\n",
    "        link = href_links_teams[i]\n",
    "        link_suffix = link[\"href\"]\n",
    "\n",
    "        request_projects = rq.get(\"https://governance.openstack.org/tc/reference/projects/%s\" % (link_suffix))\n",
    "        soup_projects = BeautifulSoup(request_projects.text, 'html.parser')\n",
    "        href_links_projects = soup_projects.find_all(\"a\", \"reference internal\")\n",
    "\n",
    "        projects = [href_links_projects[j].text for j in range(3, len(href_links_projects))]\n",
    "        teams_deliverables[re.compile('[^a-zA-Z]').sub('',  link_suffix[:-5].lower())] = projects\n",
    "    return teams_deliverables\n",
    "\n",
    "additional_teams = get_teams_deliverables()\n",
    "\n",
    "# combine the two teams lists\n",
    "team_names = teams_projects.keys()\n",
    "for key, val in additional_teams.items():\n",
    "    if key not in team_names:\n",
    "        teams_projects[key] = val\n",
    "\n",
    "# Filter out projects with no changes\n",
    "for team, projects in teams_projects.items():\n",
    "    teams_projects[team] = [p for p in projects if p in os_projects]\n",
    "\n",
    "df_teams = pd.DataFrame({'team': teams_projects.keys(), 'projects': teams_projects.values()})\n",
    "df_teams['size'] = df_teams['projects'].map(len)\n",
    "df_teams = df_teams[df_teams['size']!=0]"
   ]
  },
  {
   "cell_type": "code",
   "execution_count": 246,
   "metadata": {},
   "outputs": [],
   "source": [
    "df_team_pairs = list(combinations(df_teams.team.tolist(), 2))\n",
    "df_team_pairs = np.array(df_team_pairs)"
   ]
  },
  {
   "cell_type": "code",
   "execution_count": 247,
   "metadata": {},
   "outputs": [],
   "source": [
    "df_team_pairs = pd.DataFrame({\"teamA\": df_team_pairs[:, 0], \"teamB\": df_team_pairs[:, 1]})"
   ]
  },
  {
   "cell_type": "code",
   "execution_count": 248,
   "metadata": {},
   "outputs": [],
   "source": [
    "def calc_intersection(row):\n",
    "    projects_a = teams_projects.get(row['teamA'])\n",
    "    projects_b = teams_projects.get(row['teamB'])\n",
    "    intersect_team = set(projects_a).intersection(projects_b)\n",
    "    union_team = set(projects_a).union(projects_b)\n",
    "    return 100 * len(intersect_team) / len(union_team)"
   ]
  },
  {
   "cell_type": "code",
   "execution_count": 250,
   "metadata": {},
   "outputs": [],
   "source": [
    "df_team_pairs['intersection'] = df_team_pairs.apply(calc_intersection, axis=1)"
   ]
  },
  {
   "cell_type": "code",
   "execution_count": 262,
   "metadata": {},
   "outputs": [],
   "source": [
    "df_team_pairs.to_csv(\"./RQs/PQ/Files/teams_metrics.csv\", index=False)"
   ]
  },
  {
   "cell_type": "markdown",
   "metadata": {},
   "source": [
    "#### Map projects to their respective teams"
   ]
  },
  {
   "cell_type": "code",
   "execution_count": 272,
   "metadata": {},
   "outputs": [],
   "source": [
    "def map_projects(row):\n",
    "    team = row['team']\n",
    "    projects = []\n",
    "    if team == 'heat':\n",
    "        projects = ['heat-translator', 'tosca-parser', 'os-apply-config', 'os-collect-config', 'os-refresh-config']\n",
    "    elif team == 'neutron':\n",
    "        projects = ['neutron-lbaas', 'octavia']\n",
    "    elif team == 'oslo':\n",
    "        projects = ['openstack-doc-tools', 'openstackdocstheme']\n",
    "    elif team == 'manila':\n",
    "        projects = ['manila-ui']\n",
    "    else:\n",
    "        return row\n",
    "\n",
    "    row['projects'] = [p for p in row['projects'] if p not in projects]\n",
    "\n",
    "    return row"
   ]
  },
  {
   "cell_type": "code",
   "execution_count": 273,
   "metadata": {},
   "outputs": [],
   "source": [
    "df_teams = df_teams.apply(map_projects, axis=1)"
   ]
  },
  {
   "cell_type": "markdown",
   "metadata": {},
   "source": [
    "### Compute the percentage of shared developers between pairs of projects within the same team "
   ]
  },
  {
   "cell_type": "code",
   "execution_count": 372,
   "metadata": {},
   "outputs": [],
   "source": [
    "def retrieve_devs(projects, dev_type):\n",
    "    if dev_type == 'Core':\n",
    "        devs = df.loc[\n",
    "            (df['owner_account_id'].isin(os_core_team_devs))&\n",
    "         (df[\"project\"].isin(projects)), \"owner_account_id\"].unique()\n",
    "    else:\n",
    "        devs = df.loc[\n",
    "            (~df['owner_account_id'].isin(os_core_team_devs))&\n",
    "            (~df[\"owner_account_id\"].isin(casual_developers))\n",
    "         &(df[\"project\"].isin(projects)), \"owner_account_id\"].unique()\n",
    "    return list(set(devs))\n",
    "\n",
    "\n",
    "def retrieve_reviewers(projects, dev_type):\n",
    "    reviewers = hpr.flatten_list(df.loc[(df[\"project\"].isin(projects)) &\n",
    "                                        (~df[\"owner_account_id\"].isin(casual_developers)),\n",
    "                                        \"reviewers\"].values.tolist())\n",
    "    result = []\n",
    "    for rev in reviewers:\n",
    "        if \"tags\" in rev:\n",
    "            continue\n",
    "\n",
    "        if dev_type==\"Core\" and rev['_account_id'] in os_core_team_devs:\n",
    "            result.append(rev['_account_id'])\n",
    "        elif rev['_account_id'] not in os_core_team_devs and rev[\"_account_id\"] not in casual_developers:\n",
    "            result.append(rev['_account_id'])\n",
    "    return list(set(result))\n",
    "\n",
    "def retrieve_intersect(list1, list2):\n",
    "    return list(set(list1).intersection(list2))\n",
    "\n",
    "def retrieve_union(list1, list2):\n",
    "    return list(set(list1).union(list2))\n",
    "\n",
    "def compute_inter_within_team(row):\n",
    "    result = {'Dev': {'Core': [], 'Non-core': []}, 'Rev': {'Core': [], 'Non-core': []}}\n",
    "    pairs = list(combinations(row['projects'], 2))\n",
    "    for pair in pairs:\n",
    "        for dev_type in ['Core', 'Non-core']:\n",
    "            # dev_a = retrieve_devs([pair[0]], dev_type)\n",
    "            # dev_b = retrieve_devs([pair[1]], dev_type)\n",
    "            rev_a = retrieve_reviewers([pair[0]], dev_type)\n",
    "            rev_b = retrieve_reviewers([pair[1]], dev_type)\n",
    "\n",
    "            # intersect_dev = len(retrieve_intersect(dev_a, dev_b))\n",
    "            intersect_rev = len(retrieve_intersect(rev_a, rev_b))\n",
    "            # union_dev = len(retrieve_union(dev_a, dev_b))\n",
    "            union_rev = len(retrieve_union(rev_a, rev_b))\n",
    "\n",
    "            # ptge_dev = 0 if union_dev == 0 else 100 * intersect_dev / union_dev\n",
    "            ptge_rev = 0 if union_rev == 0 else 100 * intersect_rev / union_rev\n",
    "            # result['Dev'][dev_type] += [ptge_dev]\n",
    "            result['Rev'][dev_type] += [ptge_rev]\n",
    "\n",
    "    return result\n",
    "    "
   ]
  },
  {
   "cell_type": "code",
   "execution_count": 377,
   "metadata": {},
   "outputs": [],
   "source": [
    "df_teams['intersection'] = df_teams.apply(compute_inter_within_team, axis=1)"
   ]
  },
  {
   "cell_type": "code",
   "execution_count": 379,
   "metadata": {},
   "outputs": [],
   "source": [
    "df_teams['Rev'] = df_teams['intersection'].map(lambda x: x['Rev'])"
   ]
  },
  {
   "cell_type": "code",
   "execution_count": 345,
   "metadata": {},
   "outputs": [],
   "source": [
    "df_team_devs = df_teams.copy()\n",
    "df_team_devs['status'] = [['Core', 'Non-core']for _ in range(len(df_team_devs))]\n",
    "df_team_devs = df_team_devs.explode(column='status')\n",
    "df_team_devs['intersection'] = df_team_devs.apply(lambda row: row['Dev'][row['status']], axis=1)\n",
    "df_team_devs = df_team_devs.explode(column='intersection')\n",
    "df_team_devs = df_team_devs[df_team_devs['size']!=1]\n",
    "df_team_devs.reset_index(drop=True, inplace=True)\n",
    "for c in ['projects', 'size', 'Dev']:\n",
    "    del df_team_devs[c]\n",
    "df_team_devs.to_csv(f'{path}/dev_with_team.csv', index=False)"
   ]
  },
  {
   "cell_type": "code",
   "execution_count": 142,
   "metadata": {},
   "outputs": [],
   "source": [
    "del df_teams['intersection']"
   ]
  },
  {
   "cell_type": "code",
   "execution_count": 118,
   "metadata": {},
   "outputs": [],
   "source": [
    "df_team_revs = pd.read_csv(f'{path}/rev_with_team.csv')"
   ]
  },
  {
   "cell_type": "code",
   "execution_count": 137,
   "metadata": {},
   "outputs": [],
   "source": [
    "# df_team_revs = df_teams.copy()\n",
    "# df_team_revs['status'] = [['Core', 'Non-core']for _ in range(len(df_team_revs))]\n",
    "# df_team_revs = df_team_revs.explode(column='status')\n",
    "# df_team_revs['intersection'] = df_team_revs.apply(lambda row: row['Rev'][row['status']], axis=1)\n",
    "# df_team_revs = df_team_revs.explode(column='intersection')\n",
    "# df_team_revs = df_team_revs[df_team_revs['size']!=1]\n",
    "# df_team_revs.reset_index(drop=True, inplace=True)\n",
    "# for c in ['projects', 'size', 'Rev']:\n",
    "#     del df_team_revs[c]\n",
    "df_team_revs.to_csv(f'{path}/rev_with_team.csv', index=False)"
   ]
  },
  {
   "cell_type": "code",
   "execution_count": 140,
   "metadata": {},
   "outputs": [
    {
     "data": {
      "text/html": [
       "<div>\n",
       "<style scoped>\n",
       "    .dataframe tbody tr th:only-of-type {\n",
       "        vertical-align: middle;\n",
       "    }\n",
       "\n",
       "    .dataframe tbody tr th {\n",
       "        vertical-align: top;\n",
       "    }\n",
       "\n",
       "    .dataframe thead th {\n",
       "        text-align: right;\n",
       "    }\n",
       "</style>\n",
       "<table border=\"1\" class=\"dataframe\">\n",
       "  <thead>\n",
       "    <tr style=\"text-align: right;\">\n",
       "      <th></th>\n",
       "      <th>team</th>\n",
       "      <th>intersection</th>\n",
       "      <th>status</th>\n",
       "    </tr>\n",
       "  </thead>\n",
       "  <tbody>\n",
       "    <tr>\n",
       "      <th>0</th>\n",
       "      <td>adjutant</td>\n",
       "      <td>62.500000</td>\n",
       "      <td>Core</td>\n",
       "    </tr>\n",
       "    <tr>\n",
       "      <th>1</th>\n",
       "      <td>adjutant</td>\n",
       "      <td>66.666667</td>\n",
       "      <td>Core</td>\n",
       "    </tr>\n",
       "    <tr>\n",
       "      <th>2</th>\n",
       "      <td>adjutant</td>\n",
       "      <td>55.555556</td>\n",
       "      <td>Core</td>\n",
       "    </tr>\n",
       "    <tr>\n",
       "      <th>3</th>\n",
       "      <td>adjutant</td>\n",
       "      <td>29.411765</td>\n",
       "      <td>Non-core</td>\n",
       "    </tr>\n",
       "    <tr>\n",
       "      <th>4</th>\n",
       "      <td>adjutant</td>\n",
       "      <td>5.000000</td>\n",
       "      <td>Non-core</td>\n",
       "    </tr>\n",
       "    <tr>\n",
       "      <th>...</th>\n",
       "      <td>...</td>\n",
       "      <td>...</td>\n",
       "      <td>...</td>\n",
       "    </tr>\n",
       "    <tr>\n",
       "      <th>27459</th>\n",
       "      <td>openstackhelm</td>\n",
       "      <td>46.039604</td>\n",
       "      <td>Non-core</td>\n",
       "    </tr>\n",
       "    <tr>\n",
       "      <th>27460</th>\n",
       "      <td>openstackhelm</td>\n",
       "      <td>6.626506</td>\n",
       "      <td>Non-core</td>\n",
       "    </tr>\n",
       "    <tr>\n",
       "      <th>27461</th>\n",
       "      <td>openstackhelm</td>\n",
       "      <td>24.161074</td>\n",
       "      <td>Non-core</td>\n",
       "    </tr>\n",
       "    <tr>\n",
       "      <th>27462</th>\n",
       "      <td>openstackhelm</td>\n",
       "      <td>11.666667</td>\n",
       "      <td>Non-core</td>\n",
       "    </tr>\n",
       "    <tr>\n",
       "      <th>27463</th>\n",
       "      <td>openstackhelm</td>\n",
       "      <td>7.006369</td>\n",
       "      <td>Non-core</td>\n",
       "    </tr>\n",
       "  </tbody>\n",
       "</table>\n",
       "<p>27464 rows × 3 columns</p>\n",
       "</div>"
      ],
      "text/plain": [
       "                team  intersection    status\n",
       "0           adjutant     62.500000      Core\n",
       "1           adjutant     66.666667      Core\n",
       "2           adjutant     55.555556      Core\n",
       "3           adjutant     29.411765  Non-core\n",
       "4           adjutant      5.000000  Non-core\n",
       "...              ...           ...       ...\n",
       "27459  openstackhelm     46.039604  Non-core\n",
       "27460  openstackhelm      6.626506  Non-core\n",
       "27461  openstackhelm     24.161074  Non-core\n",
       "27462  openstackhelm     11.666667  Non-core\n",
       "27463  openstackhelm      7.006369  Non-core\n",
       "\n",
       "[27464 rows x 3 columns]"
      ]
     },
     "execution_count": 140,
     "metadata": {},
     "output_type": "execute_result"
    }
   ],
   "source": [
    "df_team_devs"
   ]
  },
  {
   "cell_type": "code",
   "execution_count": 143,
   "metadata": {},
   "outputs": [],
   "source": [
    "df_teams.to_csv(f'{path}/os_teams.csv', index=None)"
   ]
  },
  {
   "cell_type": "code",
   "execution_count": 6,
   "metadata": {},
   "outputs": [],
   "source": [
    "df_teams = pd.read_csv(f'{path}/os_teams.csv')\n",
    "df_teams['projects'] = df_teams['projects'].map(ast.literal_eval)"
   ]
  },
  {
   "cell_type": "code",
   "execution_count": 7,
   "metadata": {},
   "outputs": [
    {
     "data": {
      "text/plain": [
       "587"
      ]
     },
     "execution_count": 7,
     "metadata": {},
     "output_type": "execute_result"
    }
   ],
   "source": [
    "df_teams['size'].sum()"
   ]
  },
  {
   "cell_type": "markdown",
   "metadata": {},
   "source": [
    "### Compute developers' intersection across OpenStack teams' projects"
   ]
  },
  {
   "cell_type": "code",
   "execution_count": 16,
   "metadata": {},
   "outputs": [],
   "source": [
    "def combine_projects_pairs_metrics(status='Dev'):\n",
    "    '''Combine generated csv files into a single DataFrame object\n",
    "    '''\n",
    "    df = pd.DataFrame([])\n",
    "    data_path = osp.join('.', 'RQs', 'PQ', 'Files', 'project_metrics', status)\n",
    "    changes_file_names = hpr.list_file(data_path)\n",
    "    for f in changes_file_names:\n",
    "        df_per_file = pd.read_csv(\"%s/%s\" % (data_path, f))\n",
    "        df = pd.concat((df, df_per_file))\n",
    "\n",
    "    return df"
   ]
  },
  {
   "cell_type": "code",
   "execution_count": 11,
   "metadata": {},
   "outputs": [],
   "source": [
    "projects_pairs_dev = combine_projects_pairs_metrics()"
   ]
  },
  {
   "cell_type": "code",
   "execution_count": 14,
   "metadata": {},
   "outputs": [],
   "source": [
    "projects_pairs_dev.to_csv(f'{path}/inter_team_dev.csv', index=False)"
   ]
  },
  {
   "cell_type": "code",
   "execution_count": 17,
   "metadata": {},
   "outputs": [],
   "source": [
    "projects_pairs_rev = combine_projects_pairs_metrics('Rev')"
   ]
  },
  {
   "cell_type": "code",
   "execution_count": 18,
   "metadata": {},
   "outputs": [],
   "source": [
    "projects_pairs_rev.to_csv(f'{path}/inter_team_rev.csv', index=False)"
   ]
  },
  {
   "cell_type": "code",
   "execution_count": 9,
   "metadata": {},
   "outputs": [],
   "source": [
    "projects_pairs_rev = pd.read_csv(f'{path}/inter_team_rev.csv')"
   ]
  },
  {
   "cell_type": "code",
   "execution_count": 15,
   "metadata": {},
   "outputs": [
    {
     "data": {
      "text/html": [
       "<div>\n",
       "<style scoped>\n",
       "    .dataframe tbody tr th:only-of-type {\n",
       "        vertical-align: middle;\n",
       "    }\n",
       "\n",
       "    .dataframe tbody tr th {\n",
       "        vertical-align: top;\n",
       "    }\n",
       "\n",
       "    .dataframe thead th {\n",
       "        text-align: right;\n",
       "    }\n",
       "</style>\n",
       "<table border=\"1\" class=\"dataframe\">\n",
       "  <thead>\n",
       "    <tr style=\"text-align: right;\">\n",
       "      <th></th>\n",
       "      <th>count</th>\n",
       "      <th>mean</th>\n",
       "      <th>std</th>\n",
       "      <th>min</th>\n",
       "      <th>25%</th>\n",
       "      <th>50%</th>\n",
       "      <th>75%</th>\n",
       "      <th>max</th>\n",
       "    </tr>\n",
       "    <tr>\n",
       "      <th>status</th>\n",
       "      <th></th>\n",
       "      <th></th>\n",
       "      <th></th>\n",
       "      <th></th>\n",
       "      <th></th>\n",
       "      <th></th>\n",
       "      <th></th>\n",
       "      <th></th>\n",
       "    </tr>\n",
       "  </thead>\n",
       "  <tbody>\n",
       "    <tr>\n",
       "      <th>Core</th>\n",
       "      <td>152444.0</td>\n",
       "      <td>3.876762</td>\n",
       "      <td>3.691422</td>\n",
       "      <td>0.0</td>\n",
       "      <td>0.961538</td>\n",
       "      <td>3.003003</td>\n",
       "      <td>5.844156</td>\n",
       "      <td>50.000000</td>\n",
       "    </tr>\n",
       "    <tr>\n",
       "      <th>Non-core</th>\n",
       "      <td>152444.0</td>\n",
       "      <td>3.397173</td>\n",
       "      <td>3.615398</td>\n",
       "      <td>0.0</td>\n",
       "      <td>0.000000</td>\n",
       "      <td>2.494331</td>\n",
       "      <td>5.200000</td>\n",
       "      <td>58.823529</td>\n",
       "    </tr>\n",
       "  </tbody>\n",
       "</table>\n",
       "</div>"
      ],
      "text/plain": [
       "             count      mean       std  min       25%       50%       75%  \\\n",
       "status                                                                      \n",
       "Core      152444.0  3.876762  3.691422  0.0  0.961538  3.003003  5.844156   \n",
       "Non-core  152444.0  3.397173  3.615398  0.0  0.000000  2.494331  5.200000   \n",
       "\n",
       "                max  \n",
       "status               \n",
       "Core      50.000000  \n",
       "Non-core  58.823529  "
      ]
     },
     "execution_count": 15,
     "metadata": {},
     "output_type": "execute_result"
    }
   ],
   "source": [
    "projects_pairs_rev.groupby('status')['intersection'].describe()"
   ]
  },
  {
   "attachments": {},
   "cell_type": "markdown",
   "metadata": {},
   "source": [
    "### # of developers per # of projects"
   ]
  },
  {
   "cell_type": "code",
   "execution_count": 19,
   "metadata": {},
   "outputs": [],
   "source": [
    "casual_contributors = pd.read_csv(f\"{path}/casual_contributors.csv\")[\"id\"].values"
   ]
  },
  {
   "cell_type": "code",
   "execution_count": 139,
   "metadata": {},
   "outputs": [],
   "source": [
    "df_dev_per_projects = df.loc[(~df[\"owner_account_id\"].isin(casual_contributors))].groupby(by=[\"owner_account_id\"]).agg({\"project\": pd.Series.nunique}).reset_index(level=0)#.groupby(\"project\").count().reset_index(level=0)\n",
    "# df_dev_per_projects.rename(columns={\"project\": \"projects_nbr\", \"owner_account_id\": \"devs_nbr\"}, inplace=True)\n",
    "df_dev_per_projects[\"status\"] = df_dev_per_projects[\"owner_account_id\"].map(lambda rev_id: \"Core\" if rev_id in os_core_team_devs else \"Non-core\")\n",
    "df_dev_per_projects['individual'] = 'Developer'"
   ]
  },
  {
   "attachments": {},
   "cell_type": "markdown",
   "metadata": {},
   "source": [
    "### # of reviewers per # of projects"
   ]
  },
  {
   "cell_type": "code",
   "execution_count": 137,
   "metadata": {},
   "outputs": [],
   "source": [
    "df_rev_per_projects = df.loc[(~df[\"owner_account_id\"].isin(casual_contributors))].copy()\n",
    "df_rev_per_projects[\"reviewers\"] = df_rev_per_projects[\"reviewers\"].map(lambda revs: [rev[\"_account_id\"] for rev in revs if (\"tags\" not in rev) and (rev[\"_account_id\"] not in casual_contributors)])\n",
    "df_rev_per_projects = df_rev_per_projects[[\"project\", \"number\", \"reviewers\"]].explode(column=\"reviewers\")\n",
    "\n",
    "df_rev_per_projects = df_rev_per_projects.groupby(by=[\"reviewers\"]).agg({\"project\": pd.Series.nunique}).reset_index(level=0)#.groupby(\"project\").count().reset_index(level=0)\n",
    "df_rev_per_projects.rename(columns={ \"reviewers\": \"owner_account_id\"}, inplace=True)\n",
    "df_rev_per_projects[\"status\"] = df_rev_per_projects[\"owner_account_id\"].map(lambda rev_id: \"Core\" if rev_id in os_core_team_devs else \"Non-core\")\n",
    "\n",
    "df_rev_per_projects['individual'] = 'Reviewer'\n",
    "# attrs = ['projects_nbr', 'status', 'individual']"
   ]
  },
  {
   "cell_type": "code",
   "execution_count": 141,
   "metadata": {},
   "outputs": [],
   "source": [
    "pd.concat((df_dev_per_projects, df_rev_per_projects)).to_csv(f'{path}/dev_rev_pro.csv', index=None)"
   ]
  },
  {
   "attachments": {},
   "cell_type": "markdown",
   "metadata": {},
   "source": [
    "### # of developers per # of teams"
   ]
  },
  {
   "cell_type": "code",
   "execution_count": 8,
   "metadata": {},
   "outputs": [],
   "source": [
    "online_repositories = dict(zip(df_teams['team'].values.reshape(-1), df_teams[\"projects\"].values))\n",
    "\n",
    "def invert_projects_teams():\n",
    "    return {p:team for team, projects in online_repositories.items() for p in projects}\n",
    "\n",
    "project_teams_inv = invert_projects_teams()"
   ]
  },
  {
   "cell_type": "code",
   "execution_count": 11,
   "metadata": {},
   "outputs": [],
   "source": [
    "pd.DataFrame({'project': project_teams_inv.keys(), 'team': project_teams_inv. values()}).to_csv(f'{path}/inv_pro_team.csv', index=None)"
   ]
  },
  {
   "cell_type": "code",
   "execution_count": 91,
   "metadata": {},
   "outputs": [],
   "source": [
    "df_dev_per_teams = df.loc[(~df[\"owner_account_id\"].isin(casual_contributors)), [\"project\", \"owner_account_id\"]]\n",
    "df_dev_per_teams[\"team\"] = df_dev_per_teams[\"project\"].map(lambda p: project_teams_inv.get(p))\n",
    "\n",
    "df_dev_per_teams.dropna(subset=[\"team\"], inplace=True)\n",
    "df_dev_per_teams = df_dev_per_teams.groupby(by=[\"owner_account_id\"]).agg({\"team\": pd.Series.nunique}).reset_index(level=0)#.groupby(\"project\").count().reset_index(level=0)\n",
    "df_dev_per_teams[\"status\"] = df_dev_per_teams[\"owner_account_id\"].map(lambda rev_id: \"Core\" if rev_id in os_core_team_devs else \"Non-core\")\n",
    "df_dev_per_teams['individual'] = 'Developer'"
   ]
  },
  {
   "attachments": {},
   "cell_type": "markdown",
   "metadata": {},
   "source": [
    "### # of reviewers per # of teams"
   ]
  },
  {
   "cell_type": "code",
   "execution_count": 93,
   "metadata": {},
   "outputs": [],
   "source": [
    "df_rev_per_teams = df.loc[(~df[\"owner_account_id\"].isin(casual_contributors))].copy()\n",
    "df_rev_per_teams[\"team\"] = df_rev_per_teams[\"project\"].map(lambda p: project_teams_inv.get(p))\n",
    "df_rev_per_teams = df_rev_per_teams.explode(column=[\"team\"])\n",
    "df_rev_per_teams.dropna(subset=[\"team\"], inplace=True)\n",
    "df_rev_per_teams[\"owner_account_id\"] = df_rev_per_teams[\"reviewers\"].map(lambda revs: [rev[\"_account_id\"] for rev in revs if (\"tags\" not in rev) and (rev[\"_account_id\"] not in casual_contributors)])\n",
    "df_rev_per_teams = df_rev_per_teams.explode(column=[\"owner_account_id\"])\n",
    "df_rev_per_teams = df_rev_per_teams.groupby(by=[\"owner_account_id\"]).agg({\"team\": pd.Series.nunique}).reset_index(level=0)#.groupby(\"project\").count().reset_index(level=0)\n",
    "df_rev_per_teams[\"status\"] = df_rev_per_teams[\"owner_account_id\"].map(lambda rev_id: \"Core\" if rev_id in os_core_team_devs else \"Non-core\")\n",
    "df_rev_per_teams['individual'] = 'Reviewer'"
   ]
  },
  {
   "cell_type": "code",
   "execution_count": 99,
   "metadata": {},
   "outputs": [],
   "source": [
    "pd.concat((df_dev_per_teams, df_rev_per_teams)).to_csv(f'{path}/dev_rev_team.csv', index=None)"
   ]
  }
 ],
 "metadata": {
  "kernelspec": {
   "display_name": "base",
   "language": "python",
   "name": "python3"
  },
  "language_info": {
   "codemirror_mode": {
    "name": "ipython",
    "version": 3
   },
   "file_extension": ".py",
   "mimetype": "text/x-python",
   "name": "python",
   "nbconvert_exporter": "python",
   "pygments_lexer": "ipython3",
   "version": "3.11.1"
  },
  "orig_nbformat": 4,
  "vscode": {
   "interpreter": {
    "hash": "4c3f98dc7a618963d8c453529bd2f978a19750ea04392a0abd6ac6b1e473063f"
   }
  }
 },
 "nbformat": 4,
 "nbformat_minor": 2
}
