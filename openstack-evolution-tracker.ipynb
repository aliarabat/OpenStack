{
 "cells": [
  {
   "cell_type": "code",
   "execution_count": 130,
   "metadata": {},
   "outputs": [],
   "source": [
    "import pandas as pd\n",
    "import numpy as np\n",
    "import re\n",
    "import networkx as nx\n",
    "import helpers as hpr"
   ]
  },
  {
   "cell_type": "code",
   "execution_count": 3,
   "metadata": {},
   "outputs": [],
   "source": [
    "df = pd.DataFrame([])\n",
    "data_path = \"Changes/\"\n",
    "changes_file_names = hpr.list_file(data_path)\n",
    "for i in range(len(changes_file_names)):\n",
    "    # df_per_file = pd.read_csv(\"%s/%s\" % (data_path, f))\n",
    "    df_per_file = pd.read_csv(\"%schanges_data_%d.csv\" % (data_path, i))\n",
    "    df = pd.concat((df, df_per_file))"
   ]
  },
  {
   "cell_type": "code",
   "execution_count": 206,
   "metadata": {},
   "outputs": [],
   "source": [
    "df = df.reset_index(drop=True).sort_values(by=\"updated\", ascending=False)"
   ]
  },
  {
   "cell_type": "code",
   "execution_count": 418,
   "metadata": {},
   "outputs": [],
   "source": [
    "df = pd.read_csv(\"./experiments/os_datasets.csv\")"
   ]
  },
  {
   "cell_type": "code",
   "execution_count": 419,
   "metadata": {},
   "outputs": [
    {
     "data": {
      "text/plain": [
       "703048"
      ]
     },
     "execution_count": 419,
     "metadata": {},
     "output_type": "execute_result"
    }
   ],
   "source": [
    "len(df)"
   ]
  },
  {
   "cell_type": "code",
   "execution_count": 420,
   "metadata": {},
   "outputs": [
    {
     "data": {
      "text/plain": [
       "85"
      ]
     },
     "execution_count": 420,
     "metadata": {},
     "output_type": "execute_result"
    }
   ],
   "source": [
    "(df[[\"number\"]].value_counts() == 2).sum() # No emty id"
   ]
  },
  {
   "cell_type": "code",
   "execution_count": 421,
   "metadata": {},
   "outputs": [],
   "source": [
    "df = df.drop_duplicates(subset=[\"number\"])"
   ]
  },
  {
   "cell_type": "code",
   "execution_count": 422,
   "metadata": {},
   "outputs": [
    {
     "data": {
      "text/plain": [
       "0"
      ]
     },
     "execution_count": 422,
     "metadata": {},
     "output_type": "execute_result"
    }
   ],
   "source": [
    "(df[[\"number\"]].value_counts() == 2).sum()"
   ]
  },
  {
   "cell_type": "code",
   "execution_count": 159,
   "metadata": {},
   "outputs": [],
   "source": [
    "def retrieve_depends_on(x):\n",
    "    result = re.split(r\"\\n|\\r\", x)\n",
    "\n",
    "    final_result = []\n",
    "    for l in result:\n",
    "        if re.search(r\"Depends-On:\\s[a-zA-Z0-9]+\", l):\n",
    "            if l.startswith(\"Depends-On: http://review\") | l.startswith(\"Depends-On: https://review\"):\n",
    "                final_result.append(str(re.search(r\"\\d+\", l)[0]))\n",
    "            elif re.search(r\"^Depends-On:\\s[^@:%._\\\\+~#?&//=\\\\s]\", l):\n",
    "                if l.find(\"http\") != -1:\n",
    "                    continue\n",
    "                final_result.append(l[12:].split(\" \")[0])\n",
    "    return final_result if len(final_result) != 0 else None\n",
    "\n",
    "\n",
    "def retrieve_related_bug(x):\n",
    "    result = re.search(r\"(Related-Bug:\\s#\\d+)\", x)\n",
    "    return result[0][14:] if result else None"
   ]
  },
  {
   "cell_type": "code",
   "execution_count": null,
   "metadata": {},
   "outputs": [],
   "source": [
    "# 110705,\"['I01c0ecc276a73fbbc06ec39bfaa1c66f47fc3a9c Trove', 'Iee7ed7b141548ef64231acad6319e769d356b97f python-troveclient']\"\n",
    "# 110704,['I01c0ecc276a73fbbc06ec39bfaa1c66f47fc3a9c Trove']\n",
    "# 628498,\"['Iae415339308a93ad49eeb7e4d7e0be2662abf0ee', 'I7762af7b824ae0c7303438d48fc35c9f24a00c9c']\"\n",
    "# 642605,['639096']\n",
    "# 118521,['Id22d18a84a4ac104ff8af09959e8eb2ae0102e97']\n",
    "# 124181,['I3a772e84a1bc6028caeabcc8e09a0942f44b8612']\n",
    "\n",
    "# 637664,\"['635634', '635621', '635648']\""
   ]
  },
  {
   "cell_type": "code",
   "execution_count": 8,
   "metadata": {},
   "outputs": [],
   "source": [
    "test_df = df[df[\"number\"].isin([\n",
    "    110705, 110704, 628498, 642605, 118521, 124181, 637664\n",
    "])].copy().reset_index(drop=True)\n"
   ]
  },
  {
   "cell_type": "code",
   "execution_count": 9,
   "metadata": {},
   "outputs": [],
   "source": [
    "test_df[\"depends_on\"] = test_df[\"commit_message\"].map(retrieve_depends_on)\n",
    "test_df[\"related_bug\"] = test_df[\"commit_message\"].map(retrieve_related_bug)"
   ]
  },
  {
   "cell_type": "code",
   "execution_count": 35,
   "metadata": {},
   "outputs": [
    {
     "data": {
      "text/plain": [
       "array(['Add mgmt API for datastores\\r\\n\\r\\nImplemented mgmt API calls for create/update datastores/versions.\\r\\nTo access this API call \"admin\" role is required.\\r\\nRemoved datastores related commands from trove-manage.\\r\\nChanged response from datastore-list, now regular user can see only\\r\\ndatastores which has atleast one active version.\\r\\n\\r\\nChanges:\\r\\n - updated the way of datastores are being registered\\r\\n   while calling ./redstack kick-start <datastore>\\r\\n\\r\\nPartially implements: blueprint datastores-mgmt-api\\r\\n\\r\\nDepends-On: I01c0ecc276a73fbbc06ec39bfaa1c66f47fc3a9c Trove\\r\\nDepends-On: Iee7ed7b141548ef64231acad6319e769d356b97f python-troveclient\\r\\n\\r\\nChange-Id: I49195c2c8c08fe4673b2dc69d86ea16ee7654431\\r\\n'],\n",
       "      dtype=object)"
      ]
     },
     "execution_count": 35,
     "metadata": {},
     "output_type": "execute_result"
    }
   ],
   "source": [
    "test_df.loc[test_df[\"number\"]==110705, \"commit_message\"].to_numpy()\n",
    "# test_df.loc[test_df[\"depends_on\"].isnull() == False, [\"number\", \"depends_on\"]].to_csv(\"./experiments/test.csv\", index=False)"
   ]
  },
  {
   "cell_type": "code",
   "execution_count": 160,
   "metadata": {},
   "outputs": [],
   "source": [
    "df[\"depends_on\"] = df[\"commit_message\"].map(retrieve_depends_on)\n",
    "df[\"related_bug\"] = df[\"commit_message\"].map(retrieve_related_bug)"
   ]
  },
  {
   "cell_type": "code",
   "execution_count": 161,
   "metadata": {},
   "outputs": [],
   "source": [
    "df = df.explode(column=\"depends_on\").reset_index(drop=True)"
   ]
  },
  {
   "cell_type": "code",
   "execution_count": 162,
   "metadata": {},
   "outputs": [
    {
     "data": {
      "text/html": [
       "<div>\n",
       "<style scoped>\n",
       "    .dataframe tbody tr th:only-of-type {\n",
       "        vertical-align: middle;\n",
       "    }\n",
       "\n",
       "    .dataframe tbody tr th {\n",
       "        vertical-align: top;\n",
       "    }\n",
       "\n",
       "    .dataframe thead th {\n",
       "        text-align: right;\n",
       "    }\n",
       "</style>\n",
       "<table border=\"1\" class=\"dataframe\">\n",
       "  <thead>\n",
       "    <tr style=\"text-align: right;\">\n",
       "      <th></th>\n",
       "      <th>id</th>\n",
       "    </tr>\n",
       "  </thead>\n",
       "  <tbody>\n",
       "    <tr>\n",
       "      <th>count</th>\n",
       "      <td>707145</td>\n",
       "    </tr>\n",
       "    <tr>\n",
       "      <th>unique</th>\n",
       "      <td>702912</td>\n",
       "    </tr>\n",
       "    <tr>\n",
       "      <th>top</th>\n",
       "      <td>openstack%2Ftripleo-ci~master~I2c0726b2234e0b7...</td>\n",
       "    </tr>\n",
       "    <tr>\n",
       "      <th>freq</th>\n",
       "      <td>44</td>\n",
       "    </tr>\n",
       "  </tbody>\n",
       "</table>\n",
       "</div>"
      ],
      "text/plain": [
       "                                                       id\n",
       "count                                              707145\n",
       "unique                                             702912\n",
       "top     openstack%2Ftripleo-ci~master~I2c0726b2234e0b7...\n",
       "freq                                                   44"
      ]
     },
     "execution_count": 162,
     "metadata": {},
     "output_type": "execute_result"
    }
   ],
   "source": [
    "df[[\"id\"]].describe()"
   ]
  },
  {
   "cell_type": "code",
   "execution_count": 163,
   "metadata": {},
   "outputs": [
    {
     "data": {
      "text/plain": [
       "707145"
      ]
     },
     "execution_count": 163,
     "metadata": {},
     "output_type": "execute_result"
    }
   ],
   "source": [
    "len(df)"
   ]
  },
  {
   "cell_type": "code",
   "execution_count": 164,
   "metadata": {},
   "outputs": [],
   "source": [
    "df[[\"depends_on\"]].value_counts().to_csv(\"./experiments/test.csv\")"
   ]
  },
  {
   "cell_type": "code",
   "execution_count": 165,
   "metadata": {},
   "outputs": [],
   "source": [
    "def flatten_list(array):\n",
    "    response = [item for sublist in array for item in sublist]\n",
    "    return response"
   ]
  },
  {
   "cell_type": "code",
   "execution_count": 167,
   "metadata": {},
   "outputs": [],
   "source": [
    "def build_depends_chain(row):\n",
    "    obj = {}\n",
    "    depends_on = row[\"depends_on\"]\n",
    "    obj[\"Target\"] = row[\"number\"]\n",
    "    obj[\"Target_repo\"] = row[\"project\"]\n",
    "    row_src = None\n",
    "    if depends_on.isnumeric():\n",
    "        row_src = df[df[\"number\"] == int(depends_on)]\n",
    "    else:\n",
    "        row_src = df[df[\"change_id\"] == depends_on]\n",
    "\n",
    "    if len(row_src) != 0:\n",
    "        source_numbers = flatten_list(row_src[[\"number\"]].to_numpy())\n",
    "\n",
    "        source_numbers = list(dict.fromkeys(source_numbers))\n",
    "        obj[\"Source\"] = source_numbers\n",
    "        obj[\"Source_repo\"] = row_src[\"project\"].head(1).tolist()[0]\n",
    "\n",
    "    return obj"
   ]
  },
  {
   "cell_type": "code",
   "execution_count": 60,
   "metadata": {},
   "outputs": [],
   "source": [
    "df_subset_columns = [\"change_id\", \"project\", \"depends_on\", \"number\"]\n",
    "\n",
    "df_subset_dep = df.loc[df[\"depends_on\"].isnull() == False,\n",
    "                       df_subset_columns].copy().reset_index(drop=True)\n",
    "\n",
    "df_depends_on = df_subset_dep.apply(build_depends_chain, axis=1)\n",
    "\n",
    "df_depends_on = pd.json_normalize(data=df_depends_on, errors=\"ignore\")"
   ]
  },
  {
   "cell_type": "code",
   "execution_count": 63,
   "metadata": {},
   "outputs": [
    {
     "data": {
      "text/plain": [
       "Target            0\n",
       "Target_repo       0\n",
       "Source         1183\n",
       "Source_repo    1183\n",
       "dtype: int64"
      ]
     },
     "execution_count": 63,
     "metadata": {},
     "output_type": "execute_result"
    }
   ],
   "source": [
    "df_depends_on.isnull().sum()"
   ]
  },
  {
   "cell_type": "code",
   "execution_count": 65,
   "metadata": {},
   "outputs": [],
   "source": [
    "df_depends_on = df_depends_on.dropna()"
   ]
  },
  {
   "cell_type": "code",
   "execution_count": 66,
   "metadata": {},
   "outputs": [
    {
     "data": {
      "text/plain": [
       "Target         0\n",
       "Target_repo    0\n",
       "Source         0\n",
       "Source_repo    0\n",
       "dtype: int64"
      ]
     },
     "execution_count": 66,
     "metadata": {},
     "output_type": "execute_result"
    }
   ],
   "source": [
    "df_depends_on.isnull().sum()"
   ]
  },
  {
   "cell_type": "code",
   "execution_count": 70,
   "metadata": {},
   "outputs": [],
   "source": [
    "df_depends_on = df_depends_on.explode(column=\"Source\").reset_index(drop=True)"
   ]
  },
  {
   "cell_type": "code",
   "execution_count": 71,
   "metadata": {},
   "outputs": [
    {
     "data": {
      "text/plain": [
       "36225"
      ]
     },
     "execution_count": 71,
     "metadata": {},
     "output_type": "execute_result"
    }
   ],
   "source": [
    "len(df_depends_on)"
   ]
  },
  {
   "cell_type": "code",
   "execution_count": 73,
   "metadata": {},
   "outputs": [],
   "source": [
    "evolution_columns = [\"Source\", \"Target\", \"Source_repo\", \"Target_repo\"]\n",
    "\n",
    "df_depends_on = df_depends_on.loc[:, evolution_columns]"
   ]
  },
  {
   "cell_type": "code",
   "execution_count": 81,
   "metadata": {},
   "outputs": [
    {
     "data": {
      "text/plain": [
       "Source         3243\n",
       "Target         3243\n",
       "Source_repo    3243\n",
       "Target_repo    3243\n",
       "dtype: int64"
      ]
     },
     "execution_count": 81,
     "metadata": {},
     "output_type": "execute_result"
    }
   ],
   "source": [
    "df_depends_on[df_depends_on[\"Source_repo\"] == df_depends_on[\"Target_repo\"]].count()"
   ]
  },
  {
   "cell_type": "code",
   "execution_count": 82,
   "metadata": {},
   "outputs": [],
   "source": [
    "df_depends_on = df_depends_on[df_depends_on[\"Source_repo\"] != df_depends_on[\"Target_repo\"]]"
   ]
  },
  {
   "cell_type": "code",
   "execution_count": 83,
   "metadata": {},
   "outputs": [
    {
     "data": {
      "text/plain": [
       "Source         0\n",
       "Target         0\n",
       "Source_repo    0\n",
       "Target_repo    0\n",
       "dtype: int64"
      ]
     },
     "execution_count": 83,
     "metadata": {},
     "output_type": "execute_result"
    }
   ],
   "source": [
    "df_depends_on[df_depends_on[\"Source_repo\"] == df_depends_on[\"Target_repo\"]].count()"
   ]
  },
  {
   "cell_type": "code",
   "execution_count": 84,
   "metadata": {},
   "outputs": [
    {
     "data": {
      "text/plain": [
       "Source         32982\n",
       "Target         32982\n",
       "Source_repo    32982\n",
       "Target_repo    32982\n",
       "dtype: int64"
      ]
     },
     "execution_count": 84,
     "metadata": {},
     "output_type": "execute_result"
    }
   ],
   "source": [
    "df_depends_on.count()"
   ]
  },
  {
   "cell_type": "code",
   "execution_count": 86,
   "metadata": {},
   "outputs": [],
   "source": [
    "df_depends_on = df_depends_on.reset_index(drop=True)"
   ]
  },
  {
   "cell_type": "code",
   "execution_count": 87,
   "metadata": {},
   "outputs": [],
   "source": [
    "df_depends_on[\"Source\"] = df_depends_on[[\"Source\"]].astype(int)\n",
    "df_depends_on[\"Target\"] = df_depends_on[[\"Target\"]].astype(int)"
   ]
  },
  {
   "cell_type": "code",
   "execution_count": 88,
   "metadata": {},
   "outputs": [],
   "source": [
    "df_depends_on.to_csv(\"./Files/clean_openstack_evolution.csv\", index=False)"
   ]
  },
  {
   "cell_type": "markdown",
   "metadata": {},
   "source": [
    "### Building Data for graph"
   ]
  },
  {
   "cell_type": "code",
   "execution_count": 138,
   "metadata": {},
   "outputs": [],
   "source": [
    "df_depends_on = pd.read_csv(\"./Files/clean_openstack_evolution.csv\")"
   ]
  },
  {
   "cell_type": "code",
   "execution_count": 139,
   "metadata": {},
   "outputs": [],
   "source": [
    "graph = nx.from_pandas_edgelist(df=df_depends_on, source=\"Source\", target=\"Target\", create_using=nx.DiGraph)"
   ]
  },
  {
   "cell_type": "code",
   "execution_count": 140,
   "metadata": {},
   "outputs": [],
   "source": [
    "from itertools import chain, product, starmap\n",
    "from functools import partial\n",
    "\n",
    "\n",
    "roots = (node for node, d in graph.in_degree if d == 0)\n",
    "\n",
    "leaves = (node for node, d in graph.out_degree if d == 0)\n",
    "\n",
    "all_paths = partial(nx.all_simple_paths, graph)\n",
    "\n",
    "paths = list(chain.from_iterable(starmap(all_paths, product(roots, leaves))))"
   ]
  },
  {
   "cell_type": "code",
   "execution_count": 145,
   "metadata": {},
   "outputs": [],
   "source": [
    "pd.DataFrame({\"Path\": paths}).to_csv(\"./Files/co_evolution_number_depends_on.csv\", index=False) "
   ]
  },
  {
   "cell_type": "code",
   "execution_count": 146,
   "metadata": {},
   "outputs": [],
   "source": [
    "os_edges = df_depends_on[[\"Source\", \"Target\"]].copy()\n",
    "os_nodes_1 = df_depends_on[[\"Source\", \"Source_repo\"]].copy()\n",
    "os_nodes_1 = os_nodes_1.rename(columns={\n",
    "    \"Source\": \"id\",\n",
    "    \"Source_repo\": \"label\"\n",
    "})\n",
    "os_nodes_2 = df_depends_on[[\"Target\", \"Target_repo\"]].copy()\n",
    "os_nodes_2 = os_nodes_2.rename(columns={\n",
    "    \"Target\": \"id\",\n",
    "    \"Target_repo\": \"label\"\n",
    "})"
   ]
  },
  {
   "cell_type": "code",
   "execution_count": 147,
   "metadata": {},
   "outputs": [],
   "source": [
    "os_edges = os_edges.reset_index(drop=True)"
   ]
  },
  {
   "cell_type": "code",
   "execution_count": 148,
   "metadata": {},
   "outputs": [],
   "source": [
    "os_nodes = pd.concat((os_nodes_1, os_nodes_2))\n",
    "os_nodes = os_nodes.drop_duplicates()\n",
    "os_nodes = os_nodes.reset_index(drop=True)"
   ]
  },
  {
   "cell_type": "markdown",
   "metadata": {},
   "source": [
    "### Related-Bug"
   ]
  },
  {
   "cell_type": "code",
   "execution_count": 148,
   "metadata": {},
   "outputs": [],
   "source": [
    "def combine_projects(row):\n",
    "    combined_projects = \"\"\n",
    "    projects = list(dict.fromkeys(row[\"project\"]))\n",
    "    for i in range(len(projects)):\n",
    "        combined_projects += projects[i]\n",
    "        if i + 1 < len(projects):\n",
    "            combined_projects += \" \"\n",
    "    return combined_projects"
   ]
  },
  {
   "cell_type": "code",
   "execution_count": 150,
   "metadata": {},
   "outputs": [],
   "source": [
    "def retrieve_project_numbers(x):\n",
    "    return x[\"number\"].values\n",
    "\n",
    "def remove_single_components(arr):\n",
    "    result = []\n",
    "    for item in arr:\n",
    "        if len(dict.fromkeys(item)) > 1:\n",
    "            result.append(list(item))\n",
    "\n",
    "    return result"
   ]
  },
  {
   "cell_type": "code",
   "execution_count": 168,
   "metadata": {},
   "outputs": [],
   "source": [
    "df_main_related_bug = df[df[\"related_bug\"].isnull() == False].copy()\n",
    "\n",
    "df_main_related_bug[\"related_bug\"] = df_main_related_bug[[\"related_bug\"]].astype(int).reset_index(drop=True)\n",
    "\n",
    "df_related_bug_subset = df_main_related_bug.copy()[[\n",
    "    \"related_bug\", \"number\"\n",
    "]].groupby(\"related_bug\").apply(retrieve_project_numbers).reset_index(\n",
    "    drop=True)\n",
    "\n",
    "related_bug_number_co_changes = remove_single_components(df_related_bug_subset)"
   ]
  },
  {
   "cell_type": "markdown",
   "metadata": {},
   "source": [
    "### Topic"
   ]
  },
  {
   "cell_type": "code",
   "execution_count": 169,
   "metadata": {},
   "outputs": [],
   "source": [
    "df_main_topic = df[df[\"topic\"].isnull() == False].copy()\n",
    "\n",
    "df_topic_subset = df_main_topic.copy()[[\n",
    "    \"topic\", \"number\"\n",
    "]].groupby(\"topic\").apply(retrieve_project_numbers).reset_index(\n",
    "    drop=True)\n",
    "\n",
    "topic_number_co_changes = remove_single_components(df_topic_subset)"
   ]
  },
  {
   "cell_type": "markdown",
   "metadata": {},
   "source": [
    "### Subject"
   ]
  },
  {
   "cell_type": "code",
   "execution_count": 170,
   "metadata": {},
   "outputs": [],
   "source": [
    "df_main_subject = df[df[\"subject\"].isnull() == False].copy()\n",
    "\n",
    "df_subject_subset = df_main_subject.copy()[[\n",
    "    \"subject\", \"number\"\n",
    "]].groupby(\"subject\").apply(retrieve_project_numbers).reset_index(\n",
    "    drop=True)\n",
    "\n",
    "subject_number_co_changes = remove_single_components(df_subject_subset)"
   ]
  },
  {
   "cell_type": "markdown",
   "metadata": {},
   "source": [
    "### Change-id"
   ]
  },
  {
   "cell_type": "code",
   "execution_count": 171,
   "metadata": {},
   "outputs": [],
   "source": [
    "df_main_change_id = df[df[\"change_id\"].isnull() == False].copy()\n",
    "\n",
    "df_change_id_subset = df_main_change_id.copy()[[\n",
    "    \"change_id\", \"number\"\n",
    "]].groupby(\"change_id\").apply(retrieve_project_numbers).reset_index(\n",
    "    drop=True)\n",
    "\n",
    "change_id_number_co_changes = remove_single_components(df_change_id_subset)"
   ]
  },
  {
   "cell_type": "markdown",
   "metadata": {},
   "source": [
    "### All possible paths including depend-on, related-bug, topic, subject and change-id based co-changes"
   ]
  },
  {
   "cell_type": "code",
   "execution_count": 326,
   "metadata": {},
   "outputs": [],
   "source": [
    "def combine_co_changes_number(depends_on_number_co_changes, other_arrays):\n",
    "    result = depends_on_number_co_changes.copy()\n",
    "    \n",
    "    for other_arr in other_arrays:\n",
    "        for arr_item in other_arr:\n",
    "            arrays_to_add = []\n",
    "\n",
    "            for j in range(len(depends_on_number_co_changes)):\n",
    "                row_dep = depends_on_number_co_changes[j]\n",
    "                check_any = any(item in row_dep for item in arr_item)\n",
    "\n",
    "                if check_any == True:\n",
    "                    result[j] = list(dict.fromkeys(result[j] + arr_item))\n",
    "                elif arr_item not in arrays_to_add:\n",
    "                    arrays_to_add.append(arr_item)\n",
    "\n",
    "            arrays_to_add = [item for item in arr_item]\n",
    "            result.append(arrays_to_add)\n",
    "            arrays_to_add = []\n",
    "    return result"
   ]
  },
  {
   "cell_type": "markdown",
   "metadata": {},
   "source": [
    "### Test"
   ]
  },
  {
   "cell_type": "code",
   "execution_count": 435,
   "metadata": {},
   "outputs": [
    {
     "name": "stdout",
     "output_type": "stream",
     "text": [
      "[['A', 'C', 'B', 'F'], ['D', 'C', 'B'], ['F', 'K', 'A', 'L'], ['B', 'C'], ['A', 'F'], ['L', 'K'], ['Z', 'N']]\n"
     ]
    }
   ],
   "source": [
    "depends_on_test = [[\"A\", \"C\"], [\"D\", \"C\"], [\"F\", \"K\"]]\n",
    "other_arrays_test = [[\"B\", \"C\"], [\"A\", \"F\"], [\"L\", \"K\"], [\"Z\", \"N\"]]\n",
    "\n",
    "test = combine_co_changes_number(depends_on_test, [other_arrays_test])\n",
    "print(test)"
   ]
  },
  {
   "cell_type": "code",
   "execution_count": 300,
   "metadata": {},
   "outputs": [],
   "source": [
    "result_number_co_changes = combine_co_changes_number(paths, [related_bug_number_co_changes])"
   ]
  },
  {
   "cell_type": "code",
   "execution_count": 301,
   "metadata": {},
   "outputs": [],
   "source": [
    "result_number_co_changes = combine_co_changes_number(result_number_co_changes, [topic_number_co_changes])"
   ]
  },
  {
   "cell_type": "code",
   "execution_count": 302,
   "metadata": {},
   "outputs": [],
   "source": [
    "result_number_co_changes = combine_co_changes_number(result_number_co_changes, [subject_number_co_changes])"
   ]
  },
  {
   "cell_type": "code",
   "execution_count": 303,
   "metadata": {},
   "outputs": [],
   "source": [
    "result_number_co_changes = combine_co_changes_number(result_number_co_changes, [change_id_number_co_changes])"
   ]
  },
  {
   "cell_type": "code",
   "execution_count": 308,
   "metadata": {},
   "outputs": [],
   "source": [
    "pd.DataFrame({\"Path\": paths}).to_csv(\"./Co-changes/Number/depends_on.csv\", index=False)\n",
    "pd.DataFrame({\"Path\": related_bug_number_co_changes}).to_csv(\"./Co-changes/Number/related_bug.csv\", index=False)\n",
    "pd.DataFrame({\"Path\": topic_number_co_changes}).to_csv(\"./Co-changes/Number/topic.csv\", index=False)\n",
    "pd.DataFrame({\"Path\": subject_number_co_changes}).to_csv(\"./Co-changes/Number/subject.csv\", index=False)\n",
    "pd.DataFrame({\"Path\": change_id_number_co_changes}).to_csv(\"./Co-changes/Number/change_id.csv\", index=False)\n",
    "pd.DataFrame({\"Path\": result_number_co_changes}).to_csv(\"./Co-changes/Number/all_paths.csv\", index=False)"
   ]
  },
  {
   "cell_type": "markdown",
   "metadata": {},
   "source": [
    "### Simple test of the 1st item of the paths"
   ]
  },
  {
   "cell_type": "code",
   "execution_count": 332,
   "metadata": {},
   "outputs": [
    {
     "name": "stdout",
     "output_type": "stream",
     "text": [
      "[865314, 865315, 212127, 599335, 579277, 510663, 485956, 465150, 461122, 360999, 360991, 96492]\n",
      "[865314, 865315, 212127, 599335, 579277, 510663, 485956, 465150, 461122, 360999, 360991, 96492]\n"
     ]
    }
   ],
   "source": [
    "print(result_number_co_changes[0])\n",
    "print(list(dict.fromkeys(paths[0]+result_number_co_changes[0])))"
   ]
  },
  {
   "cell_type": "markdown",
   "metadata": {},
   "source": [
    "### Extending the csv file with single-component related changes that do not appear in other co-changes"
   ]
  },
  {
   "cell_type": "code",
   "execution_count": 423,
   "metadata": {},
   "outputs": [],
   "source": [
    "all_paths_flattend = list(dict.fromkeys(flatten_list(result_number_co_changes)))"
   ]
  },
  {
   "cell_type": "code",
   "execution_count": 424,
   "metadata": {},
   "outputs": [],
   "source": [
    "single_component_changes = df.loc[~df[\"number\"].isin(all_paths_flattend), [\"number\", \"project\"]].reset_index(drop=True)"
   ]
  },
  {
   "cell_type": "code",
   "execution_count": 426,
   "metadata": {},
   "outputs": [],
   "source": [
    "single_component_changes_number = single_component_changes[\"number\"].map(lambda x: [x]).tolist()"
   ]
  },
  {
   "cell_type": "code",
   "execution_count": 452,
   "metadata": {},
   "outputs": [],
   "source": [
    "extended_paths_number = result_number_co_changes + single_component_changes_number"
   ]
  },
  {
   "cell_type": "code",
   "execution_count": 433,
   "metadata": {},
   "outputs": [
    {
     "name": "stdout",
     "output_type": "stream",
     "text": [
      "result_number_co_changes 215309\n",
      "single_component_changes_number 214328\n",
      "extended_paths_number 429637\n"
     ]
    }
   ],
   "source": [
    "print(\"result_number_co_changes %d\"%len(result_number_co_changes))\n",
    "print(\"single_component_changes_number %d\"%len(single_component_changes_number))\n",
    "print(\"extended_paths_number %d\"%len(extended_paths_number))"
   ]
  },
  {
   "cell_type": "code",
   "execution_count": 463,
   "metadata": {},
   "outputs": [],
   "source": [
    "result_number_co_changes = pd.read_csv(\"./Co-changes/Number/all_paths.csv\", converters={'Path': pd.eval})"
   ]
  },
  {
   "cell_type": "markdown",
   "metadata": {},
   "source": [
    "### Replace numbers with repos in extended_paths_number "
   ]
  },
  {
   "cell_type": "code",
   "execution_count": 448,
   "metadata": {},
   "outputs": [],
   "source": [
    "def number_to_repo(data):\n",
    "    df_subset = df[[\"number\", \"project\"]]\n",
    "    for i in range(len(data)):\n",
    "        row = data[i]\n",
    "        for j in range(len(row)):\n",
    "            data[i][j] = df_subset.loc[df_subset[\"number\"] == row[j], \"project\"].tolist()[0]\n",
    "    return data"
   ]
  },
  {
   "cell_type": "code",
   "execution_count": null,
   "metadata": {},
   "outputs": [],
   "source": [
    "extended_paths_repo = number_to_repo(extended_paths_number)\n",
    "# extended_paths_number[1]"
   ]
  },
  {
   "cell_type": "code",
   "execution_count": 505,
   "metadata": {},
   "outputs": [
    {
     "name": "stdout",
     "output_type": "stream",
     "text": [
      "[['A', 'B', 'D', 'C'], ['X', 'K', 'L'], ['M', 'N', 'Q'], ['X', 'K']]\n"
     ]
    }
   ],
   "source": [
    "result = []\n",
    "# test = flatten_list(result_number_co_changes.copy().values)\n",
    "test = [[\"A\", \"B\", \"D\"], [\"X\", \"K\", \"L\"], [\"C\", \"D\"], [\"M\", \"N\", \"Q\"],\n",
    "        [\"X\", \"K\"]]\n",
    "for i in range(len(test)):\n",
    "    new_item = {}\n",
    "\n",
    "    if len(test[i]) == 0:\n",
    "        continue\n",
    "\n",
    "    for j in range(1, len(test)):\n",
    "        check_all = all(item in test[i] for item in test[j])\n",
    "        if len(test[j]) == 0 or check_all == True:\n",
    "            continue\n",
    "\n",
    "        check_any = any(item in test[i] for item in test[j])\n",
    "        if check_any == True:\n",
    "            new_item = new_item | dict.fromkeys(test[i] + test[j])\n",
    "            test[j] = []\n",
    "    \n",
    "    if len(new_item) == 0:\n",
    "        result.append(test[i])\n",
    "    else:\n",
    "        result.append(list(new_item))\n",
    "\n",
    "    test[i] = []\n",
    "print(result)"
   ]
  },
  {
   "cell_type": "code",
   "execution_count": 493,
   "metadata": {},
   "outputs": [
    {
     "name": "stdout",
     "output_type": "stream",
     "text": [
      "[865314 865315 212127 599335 579277 510663 485956 465150 461122 360999\n",
      " 360991 96492]\n"
     ]
    }
   ],
   "source": []
  }
 ],
 "metadata": {
  "kernelspec": {
   "display_name": "Python 3.9.7 ('base')",
   "language": "python",
   "name": "python3"
  },
  "language_info": {
   "codemirror_mode": {
    "name": "ipython",
    "version": 3
   },
   "file_extension": ".py",
   "mimetype": "text/x-python",
   "name": "python",
   "nbconvert_exporter": "python",
   "pygments_lexer": "ipython3",
   "version": "3.9.7"
  },
  "orig_nbformat": 4,
  "vscode": {
   "interpreter": {
    "hash": "5179d32cf6ec497baf3f8a3ef987cc77c5d2dc691fdde20a56316522f61a7323"
   }
  }
 },
 "nbformat": 4,
 "nbformat_minor": 2
}
