{
 "cells": [
  {
   "cell_type": "code",
   "execution_count": 1,
   "metadata": {},
   "outputs": [],
   "source": [
    "import pandas as pd\n",
    "import numpy as np\n",
    "import re\n",
    "import networkx as nx\n",
    "import helpers as hpr\n",
    "import ast\n",
    "from datetime import datetime"
   ]
  },
  {
   "cell_type": "code",
   "execution_count": 48,
   "metadata": {},
   "outputs": [],
   "source": [
    "df = pd.DataFrame([])\n",
    "data_path = \"Changes2/\"\n",
    "changes_file_names = hpr.list_file(data_path)\n",
    "for i in range(len(changes_file_names)):\n",
    "    # df_per_file = pd.read_csv(\"%s/%s\" % (data_path, f))\n",
    "    df_per_file = pd.read_csv(\"%schanges_data_%d.csv\" % (data_path, i))\n",
    "    df = pd.concat((df, df_per_file))"
   ]
  },
  {
   "cell_type": "code",
   "execution_count": 49,
   "metadata": {},
   "outputs": [],
   "source": [
    "df = df.sort_values(by=\"updated\", ascending=False)"
   ]
  },
  {
   "cell_type": "code",
   "execution_count": 2,
   "metadata": {},
   "outputs": [],
   "source": [
    "df = pd.read_csv(\"./experiments/os_datasets.csv\")"
   ]
  },
  {
   "cell_type": "code",
   "execution_count": 50,
   "metadata": {},
   "outputs": [
    {
     "data": {
      "text/plain": [
       "22687"
      ]
     },
     "execution_count": 50,
     "metadata": {},
     "output_type": "execute_result"
    }
   ],
   "source": [
    "len(df)"
   ]
  },
  {
   "cell_type": "code",
   "execution_count": 51,
   "metadata": {},
   "outputs": [
    {
     "data": {
      "text/plain": [
       "0"
      ]
     },
     "execution_count": 51,
     "metadata": {},
     "output_type": "execute_result"
    }
   ],
   "source": [
    "(df[[\"number\"]].value_counts() == 2).sum() # No emty id"
   ]
  },
  {
   "cell_type": "code",
   "execution_count": 5,
   "metadata": {},
   "outputs": [],
   "source": [
    "df = df.drop_duplicates(subset=[\"number\"])"
   ]
  },
  {
   "cell_type": "code",
   "execution_count": 19,
   "metadata": {},
   "outputs": [
    {
     "data": {
      "text/plain": [
       "0"
      ]
     },
     "execution_count": 19,
     "metadata": {},
     "output_type": "execute_result"
    }
   ],
   "source": [
    "(df[[\"number\"]].value_counts() == 2).sum()"
   ]
  },
  {
   "cell_type": "code",
   "execution_count": 6,
   "metadata": {},
   "outputs": [],
   "source": [
    "df[\"updated\"] = pd.to_datetime(df[\"updated\"])"
   ]
  },
  {
   "cell_type": "code",
   "execution_count": 6,
   "metadata": {},
   "outputs": [],
   "source": [
    "def retrieve_depends_on(x):\n",
    "    result = re.split(r\"\\n|\\r\", x)\n",
    "\n",
    "    final_result = []\n",
    "    for l in result:\n",
    "        if re.search(r\"Depends-On:\\s[a-zA-Z0-9]+\", l):\n",
    "            if l.startswith(\"Depends-On: http://review\") | l.startswith(\"Depends-On: https://review\"):\n",
    "                final_result.append(str(re.search(r\"\\d+\", l)[0]))\n",
    "            elif re.search(r\"^Depends-On:\\s[^@:%._\\\\+~#?&//=\\\\s]\", l):\n",
    "                if l.find(\"http\") != -1:\n",
    "                    continue\n",
    "                final_result.append(l[12:].split(\" \")[0])\n",
    "    return final_result if len(final_result) != 0 else None\n",
    "\n",
    "\n",
    "def retrieve_related_bug(x):\n",
    "    result = re.search(r\"(Related-Bug:\\s#\\d+)\", x)\n",
    "    return result[0][14:] if result else None\n",
    "\n",
    "def retrieve_needed_by(x):\n",
    "    result = re.split(r\"\\n|\\r\", x)\n",
    "    final_result = []\n",
    "    for l in result:\n",
    "        if re.search(r\"Needed-By:\\s[a-zA-Z0-9]+\", l):\n",
    "            if l.startswith(\"Needed-By: http://review\") | l.startswith(\"Needed-By: https://review\"):\n",
    "                final_result.append(str(re.search(r\"\\d+\", l)[0]))\n",
    "            elif re.search(r\"^Needed-By:\\s[^@:%._\\\\+~#?&//=\\\\s]\", l):\n",
    "                if l.find(\"http\") != -1:\n",
    "                    continue\n",
    "                final_result.append(l[12:].split(\" \")[0])\n",
    "    return final_result if len(final_result) != 0 else None\n"
   ]
  },
  {
   "cell_type": "code",
   "execution_count": 8,
   "metadata": {},
   "outputs": [],
   "source": [
    "test_df = df[df[\"number\"].isin([\n",
    "    110705, 110704, 628498, 642605, 118521, 124181, 637664\n",
    "])].copy().reset_index(drop=True)\n"
   ]
  },
  {
   "cell_type": "code",
   "execution_count": null,
   "metadata": {},
   "outputs": [],
   "source": [
    "test_df[\"depends_on\"] = test_df[\"commit_message\"].map(retrieve_depends_on)\n",
    "test_df[\"related_bug\"] = test_df[\"commit_message\"].map(retrieve_related_bug)"
   ]
  },
  {
   "cell_type": "code",
   "execution_count": null,
   "metadata": {},
   "outputs": [],
   "source": [
    "test_df.loc[test_df[\"number\"]==110705, \"commit_message\"].to_numpy()\n",
    "# test_df.loc[test_df[\"depends_on\"].isnull() == False, [\"number\", \"depends_on\"]].to_csv(\"./experiments/test.csv\", index=False)"
   ]
  },
  {
   "cell_type": "code",
   "execution_count": 7,
   "metadata": {},
   "outputs": [],
   "source": [
    "df[\"depends_on\"] = df[\"commit_message\"].map(retrieve_depends_on)\n",
    "df[\"needed_by\"] = df[\"commit_message\"].map(retrieve_needed_by)\n",
    "df[\"related_bug\"] = df[\"commit_message\"].map(retrieve_related_bug)"
   ]
  },
  {
   "cell_type": "code",
   "execution_count": 17,
   "metadata": {},
   "outputs": [],
   "source": [
    "df_temp = df.loc[df[\"updated\"] > datetime(2022, 1, 1)]"
   ]
  },
  {
   "cell_type": "code",
   "execution_count": 19,
   "metadata": {},
   "outputs": [],
   "source": [
    "df_temp = df_temp.explode(column=\"depends_on\").reset_index(drop=True)\n",
    "df_temp = df_temp.explode(column=\"needed_by\").reset_index(drop=True)"
   ]
  },
  {
   "cell_type": "code",
   "execution_count": 20,
   "metadata": {},
   "outputs": [
    {
     "data": {
      "text/plain": [
       "39022"
      ]
     },
     "execution_count": 20,
     "metadata": {},
     "output_type": "execute_result"
    }
   ],
   "source": [
    "len(df_temp)"
   ]
  },
  {
   "cell_type": "code",
   "execution_count": 8,
   "metadata": {},
   "outputs": [],
   "source": [
    "df = df.explode(column=\"depends_on\").reset_index(drop=True)\n",
    "df = df.explode(column=\"needed_by\").reset_index(drop=True)"
   ]
  },
  {
   "cell_type": "code",
   "execution_count": 21,
   "metadata": {},
   "outputs": [],
   "source": [
    "df_filter = df_temp.loc[(df_temp[\"depends_on\"].notnull() | df_temp[\"related_bug\"].notnull() | df_temp[\"needed_by\"].notnull())]"
   ]
  },
  {
   "cell_type": "code",
   "execution_count": 9,
   "metadata": {},
   "outputs": [],
   "source": [
    "def flatten_list(array):\n",
    "    response = [item for sublist in array for item in sublist]\n",
    "    return response"
   ]
  },
  {
   "cell_type": "code",
   "execution_count": 10,
   "metadata": {},
   "outputs": [],
   "source": [
    "def build_depends_chain(row):\n",
    "    obj = {}\n",
    "    depends_on = row[\"depends_on\"]\n",
    "    obj[\"Target\"] = row[\"number\"]\n",
    "    obj[\"Target_repo\"] = row[\"project\"]\n",
    "    row_src = None\n",
    "    if depends_on.isnumeric():\n",
    "        row_src = df[df[\"number\"] == int(depends_on)]\n",
    "    else:\n",
    "        row_src = df[df[\"change_id\"] == depends_on]\n",
    "\n",
    "    if len(row_src) != 0:\n",
    "        source_numbers = flatten_list(row_src[[\"number\"]].to_numpy())\n",
    "\n",
    "        source_numbers = list(dict.fromkeys(source_numbers))\n",
    "        obj[\"Source\"] = source_numbers\n",
    "        obj[\"Source_repo\"] = row_src[\"project\"].head(1).tolist()[0]\n",
    "\n",
    "    return obj"
   ]
  },
  {
   "cell_type": "code",
   "execution_count": 11,
   "metadata": {},
   "outputs": [],
   "source": [
    "def build_needed_chain(row):\n",
    "    obj = {}\n",
    "    needed_by = row[\"needed_by\"]\n",
    "    obj[\"Source\"] = row[\"number\"]\n",
    "    obj[\"Source_repo\"] = row[\"project\"]\n",
    "    row_src = None\n",
    "    if needed_by.isnumeric():\n",
    "        row_target = df[df[\"number\"] == int(needed_by)]\n",
    "    else:\n",
    "        row_target = df[df[\"change_id\"] == needed_by]\n",
    "\n",
    "    if len(row_target) != 0:\n",
    "        target_numbers = flatten_list(row_target[[\"number\"]].to_numpy())\n",
    "\n",
    "        target_numbers = list(dict.fromkeys(target_numbers))\n",
    "        obj[\"Target\"] = target_numbers\n",
    "        obj[\"Target_repo\"] = row_target[\"project\"].head(1).tolist()[0]\n",
    "\n",
    "    return obj"
   ]
  },
  {
   "cell_type": "code",
   "execution_count": 12,
   "metadata": {},
   "outputs": [],
   "source": [
    "df_subset_columns = [\"change_id\", \"project\", \"depends_on\", \"number\"]\n",
    "\n",
    "df_subset_dep = df.loc[df[\"depends_on\"].isnull() == False,\n",
    "                       df_subset_columns].copy().reset_index(drop=True)\n",
    "\n",
    "df_depends_on = df_subset_dep.apply(build_depends_chain, axis=1)\n",
    "\n",
    "df_depends_on = pd.json_normalize(data=df_depends_on, errors=\"ignore\")"
   ]
  },
  {
   "cell_type": "code",
   "execution_count": 13,
   "metadata": {},
   "outputs": [],
   "source": [
    "subset_needed_columns = [\"change_id\", \"project\", \"needed_by\", \"number\"]\n",
    "df_subset_needed = df.loc[df[\"needed_by\"].notnull(),\n",
    "                subset_needed_columns].copy().reset_index(drop=True)\n",
    "\n",
    "df_needed_by = df_subset_needed.apply(build_needed_chain, axis=1)\n",
    "\n",
    "df_needed_by = pd.json_normalize(data=df_needed_by, errors=\"ignore\")"
   ]
  },
  {
   "cell_type": "code",
   "execution_count": 27,
   "metadata": {},
   "outputs": [],
   "source": [
    "df_columns_dep = [\"change_id\", \"project\", \"depends_on\", \"number\"]\n",
    "\n",
    "df_subset_dep = df_temp.loc[df_temp[\"depends_on\"].notnull(),\n",
    "                       df_columns_dep].copy().reset_index(drop=True)\n",
    "\n",
    "df_depends_on_temp = df_subset_dep.apply(build_depends_chain, axis=1)\n",
    "\n",
    "df_depends_on_temp = pd.json_normalize(data=df_depends_on_temp, errors=\"ignore\")"
   ]
  },
  {
   "cell_type": "code",
   "execution_count": 29,
   "metadata": {},
   "outputs": [],
   "source": [
    "subset_needed_columns_temp = [\"change_id\", \"project\", \"needed_by\", \"number\"]\n",
    "df_subset_needed_temp = df_temp.loc[df_temp[\"needed_by\"].notnull(),\n",
    "                subset_needed_columns_temp].copy().reset_index(drop=True)\n",
    "\n",
    "df_needed_by_temp = df_subset_needed_temp.apply(build_needed_chain, axis=1)\n",
    "\n",
    "df_needed_by_temp = pd.json_normalize(data=df_needed_by_temp, errors=\"ignore\")"
   ]
  },
  {
   "cell_type": "code",
   "execution_count": 14,
   "metadata": {},
   "outputs": [
    {
     "data": {
      "text/plain": [
       "Target           0\n",
       "Target_repo      0\n",
       "Source         268\n",
       "Source_repo    268\n",
       "dtype: int64"
      ]
     },
     "execution_count": 14,
     "metadata": {},
     "output_type": "execute_result"
    }
   ],
   "source": [
    "df_depends_on.isnull().sum()\n",
    "# df_depends_on_temp.isnull().sum()"
   ]
  },
  {
   "cell_type": "code",
   "execution_count": 15,
   "metadata": {},
   "outputs": [],
   "source": [
    "df_depends_on.dropna(inplace=True)\n",
    "# df_depends_on_temp.dropna(inplace=True)"
   ]
  },
  {
   "cell_type": "code",
   "execution_count": 16,
   "metadata": {},
   "outputs": [
    {
     "data": {
      "text/plain": [
       "Target         0\n",
       "Target_repo    0\n",
       "Source         0\n",
       "Source_repo    0\n",
       "dtype: int64"
      ]
     },
     "execution_count": 16,
     "metadata": {},
     "output_type": "execute_result"
    }
   ],
   "source": [
    "df_depends_on.isnull().sum()\n",
    "# df_depends_on_temp.isnull().sum()"
   ]
  },
  {
   "cell_type": "code",
   "execution_count": 17,
   "metadata": {},
   "outputs": [],
   "source": [
    "df_depends_on = df_depends_on.explode(column=\"Source\").reset_index(drop=True)\n",
    "# df_depends_on_temp = df_depends_on_temp.explode(column=\"Source\").reset_index(drop=True)"
   ]
  },
  {
   "cell_type": "code",
   "execution_count": 18,
   "metadata": {},
   "outputs": [
    {
     "data": {
      "text/plain": [
       "1260"
      ]
     },
     "execution_count": 18,
     "metadata": {},
     "output_type": "execute_result"
    }
   ],
   "source": [
    "len(df_depends_on)\n",
    "# len(df_depends_on_temp)"
   ]
  },
  {
   "cell_type": "code",
   "execution_count": 19,
   "metadata": {},
   "outputs": [
    {
     "data": {
      "text/plain": [
       "Source         0\n",
       "Source_repo    0\n",
       "Target         5\n",
       "Target_repo    5\n",
       "dtype: int64"
      ]
     },
     "execution_count": 19,
     "metadata": {},
     "output_type": "execute_result"
    }
   ],
   "source": [
    "df_needed_by.isnull().sum()\n",
    "# df_needed_by_temp.isnull().sum()"
   ]
  },
  {
   "cell_type": "code",
   "execution_count": 20,
   "metadata": {},
   "outputs": [],
   "source": [
    "df_needed_by.dropna(inplace=True)\n",
    "# df_needed_by_temp.dropna(inplace=True)"
   ]
  },
  {
   "cell_type": "code",
   "execution_count": 21,
   "metadata": {},
   "outputs": [
    {
     "data": {
      "text/plain": [
       "Source         0\n",
       "Source_repo    0\n",
       "Target         0\n",
       "Target_repo    0\n",
       "dtype: int64"
      ]
     },
     "execution_count": 21,
     "metadata": {},
     "output_type": "execute_result"
    }
   ],
   "source": [
    "df_needed_by.isnull().sum()\n",
    "# df_needed_by_temp.isnull().sum()"
   ]
  },
  {
   "cell_type": "code",
   "execution_count": 22,
   "metadata": {},
   "outputs": [
    {
     "data": {
      "text/plain": [
       "50"
      ]
     },
     "execution_count": 22,
     "metadata": {},
     "output_type": "execute_result"
    }
   ],
   "source": [
    "len(df_needed_by)\n",
    "# len(df_needed_by_temp)"
   ]
  },
  {
   "cell_type": "code",
   "execution_count": 23,
   "metadata": {},
   "outputs": [],
   "source": [
    "df_needed_by = df_needed_by.explode(column=\"Target\").reset_index(drop=True)\n",
    "# df_needed_by_temp = df_needed_by_temp.explode(column=\"Target\").reset_index(drop=True)"
   ]
  },
  {
   "cell_type": "code",
   "execution_count": 24,
   "metadata": {},
   "outputs": [
    {
     "data": {
      "text/plain": [
       "50"
      ]
     },
     "execution_count": 24,
     "metadata": {},
     "output_type": "execute_result"
    }
   ],
   "source": [
    "len(df_needed_by)\n",
    "# len(df_needed_by_temp)"
   ]
  },
  {
   "cell_type": "code",
   "execution_count": 25,
   "metadata": {},
   "outputs": [],
   "source": [
    "evolution_columns = [\"Source\", \"Target\", \"Source_repo\", \"Target_repo\"]\n",
    "\n",
    "df_depends_on = df_depends_on.loc[:, evolution_columns]\n",
    "# df_depends_on_temp = df_depends_on_temp.loc[:, evolution_columns]"
   ]
  },
  {
   "cell_type": "code",
   "execution_count": 26,
   "metadata": {},
   "outputs": [],
   "source": [
    "df_needed_by = df_needed_by.loc[:, evolution_columns]\n",
    "# df_needed_by_temp = df_needed_by_temp.loc[:, evolution_columns]"
   ]
  },
  {
   "cell_type": "code",
   "execution_count": 27,
   "metadata": {},
   "outputs": [],
   "source": [
    "df_depends_needed = pd.concat((df_depends_on, df_needed_by)).reset_index(drop=True)\n",
    "# df_depends_needed_temp = pd.concat((df_depends_on_temp, df_needed_by_temp)).reset_index(drop=True)"
   ]
  },
  {
   "cell_type": "code",
   "execution_count": 28,
   "metadata": {},
   "outputs": [
    {
     "data": {
      "text/plain": [
       "28"
      ]
     },
     "execution_count": 28,
     "metadata": {},
     "output_type": "execute_result"
    }
   ],
   "source": [
    "df_depends_needed.duplicated().sum()\n",
    "# df_depends_needed_temp.duplicated().sum()"
   ]
  },
  {
   "cell_type": "code",
   "execution_count": 29,
   "metadata": {},
   "outputs": [],
   "source": [
    "df_depends_needed.drop_duplicates(inplace=True)\n",
    "# df_depends_needed_temp.drop_duplicates(inplace=True)"
   ]
  },
  {
   "cell_type": "code",
   "execution_count": 30,
   "metadata": {},
   "outputs": [
    {
     "data": {
      "text/plain": [
       "0"
      ]
     },
     "execution_count": 30,
     "metadata": {},
     "output_type": "execute_result"
    }
   ],
   "source": [
    "df_depends_needed.duplicated().sum()\n",
    "# df_depends_needed_temp.duplicated().sum()"
   ]
  },
  {
   "cell_type": "code",
   "execution_count": 31,
   "metadata": {},
   "outputs": [
    {
     "data": {
      "text/plain": [
       "1282"
      ]
     },
     "execution_count": 31,
     "metadata": {},
     "output_type": "execute_result"
    }
   ],
   "source": [
    "len(df_depends_needed)\n",
    "# len(df_depends_needed_temp)"
   ]
  },
  {
   "cell_type": "code",
   "execution_count": 32,
   "metadata": {},
   "outputs": [
    {
     "data": {
      "text/plain": [
       "Source         0\n",
       "Target         0\n",
       "Source_repo    0\n",
       "Target_repo    0\n",
       "dtype: int64"
      ]
     },
     "execution_count": 32,
     "metadata": {},
     "output_type": "execute_result"
    }
   ],
   "source": [
    "df_depends_needed[df_depends_needed[\"Source\"] == df_depends_needed[\"Target\"]].count()\n",
    "# df_depends_needed_temp[df_depends_needed_temp[\"Source\"] == df_depends_needed_temp[\"Target\"]].count()"
   ]
  },
  {
   "cell_type": "code",
   "execution_count": 33,
   "metadata": {},
   "outputs": [],
   "source": [
    "df_depends_needed = df_depends_needed[df_depends_needed[\"Source\"] != df_depends_needed[\"Target\"]]\n",
    "# df_depends_needed_temp = df_depends_needed_temp[df_depends_needed_temp[\"Source\"] != df_depends_needed_temp[\"Target\"]]"
   ]
  },
  {
   "cell_type": "code",
   "execution_count": 34,
   "metadata": {},
   "outputs": [
    {
     "data": {
      "text/plain": [
       "Source         0\n",
       "Target         0\n",
       "Source_repo    0\n",
       "Target_repo    0\n",
       "dtype: int64"
      ]
     },
     "execution_count": 34,
     "metadata": {},
     "output_type": "execute_result"
    }
   ],
   "source": [
    "df_depends_needed[df_depends_needed[\"Source\"] == df_depends_needed[\"Target\"]].count()\n",
    "# df_depends_needed_temp[df_depends_needed_temp[\"Source\"] == df_depends_needed_temp[\"Target\"]].count()"
   ]
  },
  {
   "cell_type": "code",
   "execution_count": 35,
   "metadata": {},
   "outputs": [
    {
     "data": {
      "text/plain": [
       "Source         1282\n",
       "Target         1282\n",
       "Source_repo    1282\n",
       "Target_repo    1282\n",
       "dtype: int64"
      ]
     },
     "execution_count": 35,
     "metadata": {},
     "output_type": "execute_result"
    }
   ],
   "source": [
    "df_depends_needed.count()\n",
    "# df_depends_needed_temp.count()"
   ]
  },
  {
   "cell_type": "code",
   "execution_count": 40,
   "metadata": {},
   "outputs": [],
   "source": [
    "df_depends_needed = df_depends_needed.loc[df_depends_needed[\"Source_repo\"]!=df_depends_needed[\"Target_repo\"]].reset_index(drop=True)\n",
    "# df_depends_needed_temp = df_depends_needed_temp.reset_index(drop=True)"
   ]
  },
  {
   "cell_type": "code",
   "execution_count": 41,
   "metadata": {},
   "outputs": [],
   "source": [
    "df_depends_needed[\"Source\"] = df_depends_needed[[\"Source\"]].astype(int)\n",
    "df_depends_needed[\"Target\"] = df_depends_needed[[\"Target\"]].astype(int)\n",
    "\n",
    "# df_depends_needed_temp[\"Source\"] = df_depends_needed_temp[[\"Source\"]].astype(int)\n",
    "# df_depends_needed_temp[\"Target\"] = df_depends_needed_temp[[\"Target\"]].astype(int)"
   ]
  },
  {
   "cell_type": "code",
   "execution_count": 42,
   "metadata": {},
   "outputs": [],
   "source": [
    "df_depends_needed.to_csv(\"./Files/Number/depends_needed.csv\", index=False)\n",
    "# df_depends_needed_temp.to_csv(\"./experiments/depends_needed.csv\", index=False)"
   ]
  },
  {
   "cell_type": "markdown",
   "metadata": {},
   "source": [
    "### Building Data for graph"
   ]
  },
  {
   "cell_type": "code",
   "execution_count": 34,
   "metadata": {},
   "outputs": [],
   "source": [
    "df_depends_needed = pd.read_csv(\"./Files/source_target_evolution.csv\")"
   ]
  },
  {
   "cell_type": "code",
   "execution_count": 40,
   "metadata": {},
   "outputs": [
    {
     "data": {
      "text/plain": [
       "Index(['id', 'project', 'branch', 'topic', 'change_id', 'subject', 'status',\n",
       "       'created', 'updated', 'submitted', 'insertions', 'deletions',\n",
       "       'total_comment_count', 'number', 'current_revision',\n",
       "       'discussion_messages_count', 'reviewers_count', 'revisions_count',\n",
       "       'files_count', 'owner_account_id', 'owner_name', 'owner_username',\n",
       "       'commit_message'],\n",
       "      dtype='object')"
      ]
     },
     "execution_count": 40,
     "metadata": {},
     "output_type": "execute_result"
    }
   ],
   "source": [
    "# df_depends_needed[df_depends_needed[\"Source\"]==865314]\n",
    "df.columns"
   ]
  },
  {
   "cell_type": "code",
   "execution_count": 79,
   "metadata": {},
   "outputs": [],
   "source": [
    "from itertools import chain\n",
    "from itertools import product\n",
    "from itertools import starmap\n",
    "from functools import partial\n",
    "\n",
    "chaini = chain.from_iterable\n",
    "\n",
    "G = nx.DiGraph(df_depends_needed_temp[[\"Source\", \"Target\"]].values.tolist())\n",
    "roots = (v for v, d in G.in_degree() if d == 0)\n",
    "leaves = (v for v, d in G.out_degree() if d == 0)\n",
    "all_paths = partial(nx.all_simple_paths, G)\n",
    "paths = list(chaini(starmap(all_paths, product(roots, leaves))))"
   ]
  },
  {
   "cell_type": "code",
   "execution_count": null,
   "metadata": {},
   "outputs": [],
   "source": [
    "pd.DataFrame(paths).to_csv(\"./experiments/paths.csv\", index=False)"
   ]
  },
  {
   "cell_type": "code",
   "execution_count": 8,
   "metadata": {},
   "outputs": [],
   "source": [
    "from itertools import chain, product, starmap\n",
    "from functools import partial\n",
    "\n",
    "graph = nx.from_pandas_edgelist(df=df_depends_needed_temp, source=\"Source\", target=\"Target\", create_using=nx.DiGraph)\n",
    "\n",
    "roots = (node for node, d in graph.in_degree if d == 0)\n",
    "\n",
    "leaves = (node for node, d in graph.out_degree if d == 0)\n",
    "\n",
    "all_paths = partial(nx.all_simple_paths, graph)\n",
    "\n",
    "paths = list(chain.from_iterable(starmap(all_paths, product(roots, leaves))))"
   ]
  },
  {
   "cell_type": "code",
   "execution_count": 10,
   "metadata": {},
   "outputs": [],
   "source": [
    "pd.DataFrame({\"Path\": paths}).to_csv(\"./Files/Number/depends_on_needed_by.csv\", index=False)"
   ]
  },
  {
   "cell_type": "code",
   "execution_count": 146,
   "metadata": {},
   "outputs": [],
   "source": [
    "os_edges = df_depends_on[[\"Source\", \"Target\"]].copy()\n",
    "os_nodes_1 = df_depends_on[[\"Source\", \"Source_repo\"]].copy()\n",
    "os_nodes_1 = os_nodes_1.rename(columns={\n",
    "    \"Source\": \"id\",\n",
    "    \"Source_repo\": \"label\"\n",
    "})\n",
    "os_nodes_2 = df_depends_on[[\"Target\", \"Target_repo\"]].copy()\n",
    "os_nodes_2 = os_nodes_2.rename(columns={\n",
    "    \"Target\": \"id\",\n",
    "    \"Target_repo\": \"label\"\n",
    "})"
   ]
  },
  {
   "cell_type": "code",
   "execution_count": 147,
   "metadata": {},
   "outputs": [],
   "source": [
    "os_edges = os_edges.reset_index(drop=True)"
   ]
  },
  {
   "cell_type": "code",
   "execution_count": 148,
   "metadata": {},
   "outputs": [],
   "source": [
    "os_nodes = pd.concat((os_nodes_1, os_nodes_2))\n",
    "os_nodes = os_nodes.drop_duplicates()\n",
    "os_nodes = os_nodes.reset_index(drop=True)"
   ]
  },
  {
   "cell_type": "markdown",
   "metadata": {},
   "source": [
    "### Related-Bug"
   ]
  },
  {
   "cell_type": "code",
   "execution_count": 86,
   "metadata": {},
   "outputs": [],
   "source": [
    "def combine_projects(row):\n",
    "    combined_projects = \"\"\n",
    "    projects = list(dict.fromkeys(row[\"project\"]))\n",
    "    for i in range(len(projects)):\n",
    "        combined_projects += projects[i]\n",
    "        if i + 1 < len(projects):\n",
    "            combined_projects += \" \"\n",
    "    return combined_projects"
   ]
  },
  {
   "cell_type": "code",
   "execution_count": 87,
   "metadata": {},
   "outputs": [],
   "source": [
    "def retrieve_project_numbers(x):\n",
    "    return x[\"number\"].values\n",
    "\n",
    "def remove_single_components(arr):\n",
    "    result = []\n",
    "    for item in arr:\n",
    "        if len(dict.fromkeys(item)) > 1:\n",
    "            result.append(list(item))\n",
    "\n",
    "    return result"
   ]
  },
  {
   "cell_type": "code",
   "execution_count": 89,
   "metadata": {},
   "outputs": [],
   "source": [
    "# df_main_related_bug = df[df[\"related_bug\"].isnull() == False].copy()\n",
    "\n",
    "# df_main_related_bug[\"related_bug\"] = df_main_related_bug[[\"related_bug\"]].astype(int).reset_index(drop=True)\n",
    "\n",
    "# df_related_bug_subset = df_main_related_bug.copy()[[\n",
    "#     \"related_bug\", \"number\"\n",
    "# ]].groupby(\"related_bug\").apply(retrieve_project_numbers).reset_index(\n",
    "#     drop=True)\n",
    "\n",
    "# related_bug_number_co_changes = remove_single_components(df_related_bug_subset)\n",
    "\n",
    "df_main_related_bug_temp = df_temp[df_temp[\"related_bug\"].isnull() == False].copy()\n",
    "\n",
    "df_main_related_bug_temp[\"related_bug\"] = df_main_related_bug_temp[[\"related_bug\"]].astype(int).reset_index(drop=True)\n",
    "\n",
    "df_related_bug_subset_temp = df_main_related_bug_temp.copy()[[\n",
    "    \"related_bug\", \"number\"\n",
    "]].groupby(\"related_bug\").apply(retrieve_project_numbers).reset_index(\n",
    "    drop=True)\n",
    "\n",
    "related_bug_number_co_changes_temp = remove_single_components(df_related_bug_subset_temp)"
   ]
  },
  {
   "cell_type": "markdown",
   "metadata": {},
   "source": [
    "### Topic"
   ]
  },
  {
   "cell_type": "code",
   "execution_count": 90,
   "metadata": {},
   "outputs": [],
   "source": [
    "# df_main_topic = df[df[\"topic\"].isnull() == False].copy()\n",
    "\n",
    "# df_topic_subset = df_main_topic.copy()[[\n",
    "#     \"topic\", \"number\"\n",
    "# ]].groupby(\"topic\").apply(retrieve_project_numbers).reset_index(\n",
    "#     drop=True)\n",
    "\n",
    "# topic_number_co_changes = remove_single_components(df_topic_subset)\n",
    "\n",
    "\n",
    "df_main_topic_temp = df_temp[df_temp[\"topic\"].isnull() == False].copy()\n",
    "\n",
    "df_topic_subset_temp = df_main_topic_temp.copy()[[\n",
    "    \"topic\", \"number\"\n",
    "]].groupby(\"topic\").apply(retrieve_project_numbers).reset_index(\n",
    "    drop=True)\n",
    "\n",
    "topic_number_co_changes_temp = remove_single_components(df_topic_subset_temp)"
   ]
  },
  {
   "cell_type": "markdown",
   "metadata": {},
   "source": [
    "### Subject"
   ]
  },
  {
   "cell_type": "code",
   "execution_count": 170,
   "metadata": {},
   "outputs": [],
   "source": [
    "df_main_subject = df[df[\"subject\"].isnull() == False].copy()\n",
    "\n",
    "df_subject_subset = df_main_subject.copy()[[\n",
    "    \"subject\", \"number\"\n",
    "]].groupby(\"subject\").apply(retrieve_project_numbers).reset_index(\n",
    "    drop=True)\n",
    "\n",
    "subject_number_co_changes = remove_single_components(df_subject_subset)"
   ]
  },
  {
   "cell_type": "markdown",
   "metadata": {},
   "source": [
    "### Change-id"
   ]
  },
  {
   "cell_type": "code",
   "execution_count": 91,
   "metadata": {},
   "outputs": [],
   "source": [
    "# df_main_change_id = df[df[\"change_id\"].isnull() == False].copy()\n",
    "\n",
    "# df_change_id_subset = df_main_change_id.copy()[[\n",
    "#     \"change_id\", \"number\"\n",
    "# ]].groupby(\"change_id\").apply(retrieve_project_numbers).reset_index(\n",
    "#     drop=True)\n",
    "\n",
    "# change_id_number_co_changes = remove_single_components(df_change_id_subset)\n",
    "\n",
    "\n",
    "df_main_change_id_temp = df_temp[df_temp[\"change_id\"].isnull() == False].copy()\n",
    "\n",
    "df_change_id_subset_temp = df_main_change_id_temp.copy()[[\n",
    "    \"change_id\", \"number\"\n",
    "]].groupby(\"change_id\").apply(retrieve_project_numbers).reset_index(\n",
    "    drop=True)\n",
    "\n",
    "change_id_number_co_changes_temp = remove_single_components(df_change_id_subset_temp)"
   ]
  },
  {
   "cell_type": "markdown",
   "metadata": {},
   "source": [
    "### All possible paths including depend-on, related-bug, topic, subject and change-id based co-changes"
   ]
  },
  {
   "cell_type": "code",
   "execution_count": 43,
   "metadata": {},
   "outputs": [],
   "source": [
    "def combine_co_changes_number(main_array, second_array):\n",
    "    result = main_array.copy()\n",
    "    \n",
    "    for arr_item in second_array:\n",
    "\n",
    "        added = False\n",
    "        for j in range(len(main_array)):\n",
    "            row_dep = main_array[j]\n",
    "            check_any = any(item in row_dep for item in arr_item)\n",
    "\n",
    "            if check_any:\n",
    "                result[j] = list(dict.fromkeys(result[j] + arr_item))\n",
    "                added = True\n",
    "\n",
    "        if not added:\n",
    "            result.append(arr_item)\n",
    "    return result"
   ]
  },
  {
   "cell_type": "markdown",
   "metadata": {},
   "source": [
    "### Test"
   ]
  },
  {
   "cell_type": "code",
   "execution_count": 44,
   "metadata": {},
   "outputs": [
    {
     "name": "stdout",
     "output_type": "stream",
     "text": [
      "[['A', 'C', 'B', 'F'], ['D', 'C', 'B'], ['F', 'K', 'A', 'L'], ['Z', 'N']]\n"
     ]
    }
   ],
   "source": [
    "depends_on_test = [[\"A\", \"C\"], [\"D\", \"C\"], [\"F\", \"K\"]]\n",
    "other_arrays_test = [[\"B\", \"C\"], [\"A\", \"F\"], [\"L\", \"K\"], [\"Z\", \"N\"]]\n",
    "\n",
    "test = combine_co_changes_number(depends_on_test, other_arrays_test)\n",
    "print(test)"
   ]
  },
  {
   "cell_type": "code",
   "execution_count": 24,
   "metadata": {},
   "outputs": [],
   "source": [
    "# related_bug_number_co_changes = pd.read_csv(\"./Files/Number/related_bug.csv\")\n",
    "# related_bug_number_co_changes = related_bug_number_co_changes[\"Path\"].apply(ast.literal_eval).values.tolist()"
   ]
  },
  {
   "cell_type": "code",
   "execution_count": 98,
   "metadata": {},
   "outputs": [],
   "source": [
    "# result_number_co_changes = combine_co_changes_number(paths, related_bug_number_co_changes)\n",
    "result_number_co_changes = combine_co_changes_number(paths, related_bug_number_co_changes_temp)"
   ]
  },
  {
   "cell_type": "code",
   "execution_count": 29,
   "metadata": {},
   "outputs": [],
   "source": [
    "topic_number_co_changes = pd.read_csv(\"./Files/Number/topic.csv\")\n",
    "topic_number_co_changes = topic_number_co_changes[\"Path\"].apply(ast.literal_eval).values.tolist()"
   ]
  },
  {
   "cell_type": "code",
   "execution_count": 99,
   "metadata": {},
   "outputs": [],
   "source": [
    "# result_number_co_changes = combine_co_changes_number(result_number_co_changes, topic_number_co_changes)\n",
    "result_number_co_changes = combine_co_changes_number(result_number_co_changes, topic_number_co_changes_temp)"
   ]
  },
  {
   "cell_type": "code",
   "execution_count": 32,
   "metadata": {},
   "outputs": [],
   "source": [
    "change_id_number_co_changes = pd.read_csv(\"./Files/Number/change_id.csv\")\n",
    "change_id_number_co_changes = change_id_number_co_changes[\"Path\"].apply(ast.literal_eval).values.tolist()"
   ]
  },
  {
   "cell_type": "code",
   "execution_count": 100,
   "metadata": {},
   "outputs": [],
   "source": [
    "# result_number_co_changes = combine_co_changes_number(result_number_co_changes, change_id_number_co_changes)\n",
    "result_number_co_changes = combine_co_changes_number(result_number_co_changes, change_id_number_co_changes_temp)"
   ]
  },
  {
   "cell_type": "code",
   "execution_count": 102,
   "metadata": {},
   "outputs": [],
   "source": [
    "# pd.DataFrame({\"Path\": paths}).to_csv(\"./experiments/Number/depends_on.csv\", index=False)\n",
    "pd.DataFrame({\"Path\": related_bug_number_co_changes_temp}).to_csv(\"./experiments/related_bug.csv\", index=False)\n",
    "pd.DataFrame({\"Path\": topic_number_co_changes_temp}).to_csv(\"./experiments/topic.csv\", index=False)\n",
    "pd.DataFrame({\"Path\": change_id_number_co_changes_temp}).to_csv(\"./experiments/change_id.csv\", index=False)\n",
    "pd.DataFrame({\"Path\": result_number_co_changes}).to_csv(\"./experiments/all_paths.csv\", index=False)"
   ]
  },
  {
   "cell_type": "code",
   "execution_count": 308,
   "metadata": {},
   "outputs": [],
   "source": [
    "pd.DataFrame({\"Path\": paths}).to_csv(\"./Co-changes/Number/depends_on.csv\", index=False)\n",
    "pd.DataFrame({\"Path\": related_bug_number_co_changes}).to_csv(\"./Co-changes/Number/related_bug.csv\", index=False)\n",
    "pd.DataFrame({\"Path\": topic_number_co_changes}).to_csv(\"./Co-changes/Number/topic.csv\", index=False)\n",
    "pd.DataFrame({\"Path\": subject_number_co_changes}).to_csv(\"./Co-changes/Number/subject.csv\", index=False)\n",
    "pd.DataFrame({\"Path\": change_id_number_co_changes}).to_csv(\"./Co-changes/Number/change_id.csv\", index=False)\n",
    "pd.DataFrame({\"Path\": result_number_co_changes}).to_csv(\"./Co-changes/Number/all_paths.csv\", index=False)"
   ]
  },
  {
   "cell_type": "markdown",
   "metadata": {},
   "source": [
    "### Simple test of the 1st item of the paths"
   ]
  },
  {
   "cell_type": "code",
   "execution_count": 332,
   "metadata": {},
   "outputs": [
    {
     "name": "stdout",
     "output_type": "stream",
     "text": [
      "[865314, 865315, 212127, 599335, 579277, 510663, 485956, 465150, 461122, 360999, 360991, 96492]\n",
      "[865314, 865315, 212127, 599335, 579277, 510663, 485956, 465150, 461122, 360999, 360991, 96492]\n"
     ]
    }
   ],
   "source": [
    "print(result_number_co_changes[0])\n",
    "print(list(dict.fromkeys(paths[0]+result_number_co_changes[0])))"
   ]
  },
  {
   "cell_type": "markdown",
   "metadata": {},
   "source": [
    "### Extending the csv file with single-component related changes that do not appear in other co-changes"
   ]
  },
  {
   "cell_type": "code",
   "execution_count": null,
   "metadata": {},
   "outputs": [],
   "source": [
    "result_number_co_changes = pd.read_csv(\"./Experiments/all_paths.csv\")"
   ]
  },
  {
   "cell_type": "code",
   "execution_count": 104,
   "metadata": {},
   "outputs": [],
   "source": [
    "all_paths_flattend = list(dict.fromkeys(flatten_list(result_number_co_changes)))"
   ]
  },
  {
   "cell_type": "code",
   "execution_count": 105,
   "metadata": {},
   "outputs": [],
   "source": [
    "# single_component_changes = df.loc[~df[\"number\"].isin(all_paths_flattend), [\"number\", \"project\"]].reset_index(drop=True)\n",
    "single_component_changes = df_temp.loc[~df_temp[\"number\"].isin(all_paths_flattend), [\"number\", \"project\"]].reset_index(drop=True)"
   ]
  },
  {
   "cell_type": "code",
   "execution_count": 106,
   "metadata": {},
   "outputs": [],
   "source": [
    "single_component_changes_number = single_component_changes[\"number\"].map(lambda x: [x]).tolist()"
   ]
  },
  {
   "cell_type": "code",
   "execution_count": 107,
   "metadata": {},
   "outputs": [],
   "source": [
    "extended_paths_number = result_number_co_changes + single_component_changes_number"
   ]
  },
  {
   "cell_type": "code",
   "execution_count": 108,
   "metadata": {},
   "outputs": [
    {
     "name": "stdout",
     "output_type": "stream",
     "text": [
      "result_number_co_changes 6200\n",
      "single_component_changes_number 12805\n",
      "extended_paths_number 19005\n"
     ]
    }
   ],
   "source": [
    "print(\"result_number_co_changes %d\"%len(result_number_co_changes))\n",
    "print(\"single_component_changes_number %d\"%len(single_component_changes_number))\n",
    "print(\"extended_paths_number %d\"%len(extended_paths_number))"
   ]
  },
  {
   "cell_type": "code",
   "execution_count": 261,
   "metadata": {},
   "outputs": [],
   "source": [
    "pd.DataFrame({\"Path\": extended_paths_number}).to_csv(\"./experiments/all_paths.csv\", index=False)"
   ]
  },
  {
   "cell_type": "code",
   "execution_count": 463,
   "metadata": {},
   "outputs": [],
   "source": [
    "result_number_co_changes = pd.read_csv(\"./Co-changes/Number/all_paths.csv\", converters={'Path': pd.eval})"
   ]
  },
  {
   "cell_type": "markdown",
   "metadata": {},
   "source": [
    "### Replace numbers with repos in extended_paths_number "
   ]
  },
  {
   "cell_type": "code",
   "execution_count": 70,
   "metadata": {},
   "outputs": [],
   "source": [
    "def number_to_repo(data, df):\n",
    "    '''Replace numbers of data with their corresponding repository names, then removing any duplicates.\n",
    "    '''\n",
    "    df_subset = df[[\"number\", \"project\"]]\n",
    "    result = []\n",
    "    for i in range(len(data)):\n",
    "        row = data[i]\n",
    "        new_row = df_subset.loc[\n",
    "            df_subset[\"number\"].isin(row), [\"project\"]].drop_duplicates(subset=\"project\").values.reshape(-1).tolist()\n",
    "        result.append(new_row)\n",
    "    return result"
   ]
  },
  {
   "cell_type": "code",
   "execution_count": null,
   "metadata": {},
   "outputs": [],
   "source": [
    "extended_paths_repo = number_to_repo(extended_paths_number)\n",
    "# extended_paths_number[1]"
   ]
  },
  {
   "cell_type": "code",
   "execution_count": 45,
   "metadata": {},
   "outputs": [],
   "source": [
    "def merge_numbers(data):\n",
    "    result = []\n",
    "    data_copy = data.copy()\n",
    "    for i in range(len(data)):\n",
    "        new_item = {}\n",
    "        not_to_add_indices = []\n",
    "\n",
    "        if len(data[i]) == 0:\n",
    "            continue\n",
    "\n",
    "        for j in range(len(data_copy)):\n",
    "\n",
    "            check_any = any(item in data[i] for item in data_copy[j])\n",
    "            if check_any:\n",
    "                new_item = {**new_item, **dict.fromkeys(data[i] + data_copy[j])}\n",
    "                data_copy[j] = []\n",
    "                not_to_add_indices.append(j)\n",
    "        if len(new_item) == 0:\n",
    "            print(new_item)\n",
    "            result.append(data[i])\n",
    "        else:\n",
    "            result.append(list(new_item))\n",
    "\n",
    "        for ntai in not_to_add_indices:\n",
    "            data[ntai] = []\n",
    "\n",
    "    return result"
   ]
  },
  {
   "cell_type": "code",
   "execution_count": 46,
   "metadata": {},
   "outputs": [],
   "source": [
    "# test = flatten_list(result_number_co_changes.copy().values)\n",
    "test = [[\"X\", \"K\", \"L\"], [\"A\", \"B\", \"D\"], [\"C\", \"D\"], [\"K\", \"X\"],\n",
    "        [\"M\", \"N\", \"Q\"], [\"F\", \"C\"]]\n",
    "# test = [[\"A\", \"B\", \"F\"], [\"X\", \"K\"], [\"M\", \"O\", \"C\"], [\"F\", \"J\", \"C\"],\n",
    "#         [\"C\", \"M\", \"D\"]]"
   ]
  },
  {
   "cell_type": "code",
   "execution_count": 47,
   "metadata": {},
   "outputs": [
    {
     "data": {
      "text/plain": [
       "[['X', 'K', 'L'], ['A', 'B', 'D', 'C'], ['M', 'N', 'Q'], ['F', 'C']]"
      ]
     },
     "execution_count": 47,
     "metadata": {},
     "output_type": "execute_result"
    }
   ],
   "source": [
    "merge_numbers(test)"
   ]
  },
  {
   "cell_type": "code",
   "execution_count": 262,
   "metadata": {},
   "outputs": [],
   "source": [
    "merged_extended_paths_number_temp = merge_numbers(extended_paths_number)"
   ]
  },
  {
   "cell_type": "code",
   "execution_count": 267,
   "metadata": {},
   "outputs": [],
   "source": [
    "pd.DataFrame({\"Path\": merged_extended_paths_number_temp}).to_csv(\"./experiments/merged_extended_paths.csv\", index=False)"
   ]
  },
  {
   "cell_type": "code",
   "execution_count": 269,
   "metadata": {},
   "outputs": [],
   "source": [
    "possible_path_repo = number_to_repo(merged_extended_paths_number_temp, df)"
   ]
  },
  {
   "cell_type": "code",
   "execution_count": 271,
   "metadata": {},
   "outputs": [],
   "source": [
    "pd.DataFrame({\"Path\": possible_path_repo}).to_csv(\"./experiments/extended_paths.csv\", index=False)"
   ]
  },
  {
   "attachments": {},
   "cell_type": "markdown",
   "metadata": {},
   "source": [
    "## Draft"
   ]
  },
  {
   "cell_type": "code",
   "execution_count": 55,
   "metadata": {},
   "outputs": [],
   "source": [
    "result_number_co_changes = pd.read_csv(\"./Experiments/all_paths.csv\")\n",
    "result_number_co_changes = result_number_co_changes[\"Path\"].apply(ast.literal_eval).values.tolist()"
   ]
  },
  {
   "cell_type": "code",
   "execution_count": null,
   "metadata": {},
   "outputs": [],
   "source": [
    "# result_number_co_changes = [list(item) for item in result_number_co_changes]"
   ]
  },
  {
   "cell_type": "code",
   "execution_count": 58,
   "metadata": {},
   "outputs": [],
   "source": [
    "all_paths_flattend = list(dict.fromkeys(hpr.flatten_list(result_number_co_changes)))"
   ]
  },
  {
   "cell_type": "code",
   "execution_count": 62,
   "metadata": {},
   "outputs": [],
   "source": [
    "single_component_changes_number = df.loc[~df[\"number\"].isin(all_paths_flattend), \"number\"].map(lambda x: [x]).tolist()"
   ]
  },
  {
   "cell_type": "code",
   "execution_count": 64,
   "metadata": {},
   "outputs": [],
   "source": [
    "extended_paths_number = result_number_co_changes + single_component_changes_number"
   ]
  },
  {
   "cell_type": "code",
   "execution_count": 66,
   "metadata": {},
   "outputs": [],
   "source": [
    "merged_number_paths = merge_numbers(extended_paths_number)"
   ]
  },
  {
   "cell_type": "code",
   "execution_count": 68,
   "metadata": {},
   "outputs": [],
   "source": [
    "pd.DataFrame({ \"Path\": merged_number_paths }).to_csv(\"./Files/Number/extended_paths.csv\", index=False)"
   ]
  },
  {
   "cell_type": "code",
   "execution_count": 71,
   "metadata": {},
   "outputs": [],
   "source": [
    "possible_path_repo = number_to_repo(merged_number_paths, df)"
   ]
  },
  {
   "cell_type": "code",
   "execution_count": 72,
   "metadata": {},
   "outputs": [],
   "source": [
    "pd.DataFrame({ \"Path\": possible_path_repo }).to_csv(\"./Files/Repo/extended_paths.csv\", index=False)"
   ]
  }
 ],
 "metadata": {
  "kernelspec": {
   "display_name": "Python 3.9.7 ('base')",
   "language": "python",
   "name": "python3"
  },
  "language_info": {
   "codemirror_mode": {
    "name": "ipython",
    "version": 3
   },
   "file_extension": ".py",
   "mimetype": "text/x-python",
   "name": "python",
   "nbconvert_exporter": "python",
   "pygments_lexer": "ipython3",
   "version": "3.9.7"
  },
  "orig_nbformat": 4,
  "vscode": {
   "interpreter": {
    "hash": "5179d32cf6ec497baf3f8a3ef987cc77c5d2dc691fdde20a56316522f61a7323"
   }
  }
 },
 "nbformat": 4,
 "nbformat_minor": 2
}
