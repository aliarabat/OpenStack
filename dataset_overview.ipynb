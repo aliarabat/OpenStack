{
 "cells": [
  {
   "cell_type": "code",
   "execution_count": 1,
   "metadata": {},
   "outputs": [],
   "source": [
    "import pandas as pd\n",
    "import ast\n",
    "from datetime import datetime\n",
    "import utils.helpers as hpr"
   ]
  },
  {
   "cell_type": "code",
   "execution_count": 2,
   "metadata": {},
   "outputs": [],
   "source": [
    "df = hpr.combine_openstack_data(filter_merged=False, filter_real_dev=False)"
   ]
  },
  {
   "cell_type": "code",
   "execution_count": 29,
   "metadata": {},
   "outputs": [],
   "source": [
    "df[\"reviewers\"] = df[\"reviewers\"].apply(ast.literal_eval)"
   ]
  },
  {
   "cell_type": "code",
   "execution_count": 39,
   "metadata": {},
   "outputs": [],
   "source": [
    "df[\"reviewers\"] = df[\"reviewers\"].map(lambda revs: [\n",
    "    rev[\"_account_id\"] for rev in revs\n",
    "    if \"tags\" not in rev\n",
    "])"
   ]
  },
  {
   "cell_type": "code",
   "execution_count": 25,
   "metadata": {},
   "outputs": [],
   "source": [
    "dataset_desc = []"
   ]
  },
  {
   "cell_type": "code",
   "execution_count": 26,
   "metadata": {},
   "outputs": [],
   "source": [
    "for pro in df.project.unique():\n",
    "    detail = {\n",
    "        'project': pro,\n",
    "        'num_dev': df.loc[df.project==pro, \"owner_account_id\"].nunique(),\n",
    "        'num_rev': None,\n",
    "        'num_mer': len(df.loc[(df.project==pro)&(df.status=='MERGED'), 'number']),\n",
    "        'num_aba': len(df.loc[(df.project==pro)&(df.status=='ABANDONED'), 'number']),\n",
    "        'num_ope': len(df.loc[(df.project==pro)&(df.status=='NEW'), 'number']),\n",
    "        'pro_age': None,\n",
    "        'loc': None,\n",
    "        'num_fil': None,\n",
    "        'num_pro': None,\n",
    "    }\n",
    "    dataset_desc.append(detail)"
   ]
  },
  {
   "cell_type": "code",
   "execution_count": 27,
   "metadata": {},
   "outputs": [],
   "source": [
    "df_dataset_desc = pd.DataFrame(dataset_desc)"
   ]
  },
  {
   "cell_type": "code",
   "execution_count": 23,
   "metadata": {},
   "outputs": [],
   "source": [
    "def count_reviewers(pro):\n",
    "    reviewers = df.loc[(df.project==pro)&(df.status=='NEW'), 'reviewers'].values.ravel()\n",
    "    return len(set(hpr.flatten_list(reviewers)))\n",
    "\n",
    "def retrieve_date_range(pro):\n",
    "    dates = df.loc[(df.project==pro), 'created'].values\n",
    "\n",
    "    return f'{dates[0]}/{dates[-1]}'\n",
    "\n",
    "def retrieve_age(dates):\n",
    "    first = datetime.strptime(dates.split('/')[0], \"%Y-%m-%d %H:%M:%S\")\n",
    "    end = datetime.strptime(dates.split('/')[1], \"%Y-%m-%d %H:%M:%S\")\n",
    "\n",
    "    age = (end - first).days\n",
    "    return age"
   ]
  },
  {
   "cell_type": "code",
   "execution_count": 52,
   "metadata": {},
   "outputs": [],
   "source": [
    "df_dataset_desc['num_rev'] = df_dataset_desc['project'].map(count_reviewers)"
   ]
  },
  {
   "cell_type": "code",
   "execution_count": 17,
   "metadata": {},
   "outputs": [],
   "source": [
    "df_dataset_desc['history_range'] = df_dataset_desc['project'].map(retrieve_date_range)"
   ]
  },
  {
   "cell_type": "code",
   "execution_count": 24,
   "metadata": {},
   "outputs": [],
   "source": [
    "df_dataset_desc['pro_age'] = df_dataset_desc['history_range'].map(retrieve_age)"
   ]
  },
  {
   "cell_type": "code",
   "execution_count": 56,
   "metadata": {},
   "outputs": [],
   "source": [
    "df_dataset_desc.to_csv('./dataset_desc.csv', index=None)"
   ]
  },
  {
   "cell_type": "code",
   "execution_count": 2,
   "metadata": {},
   "outputs": [],
   "source": [
    "df_dataset_desc = pd.read_csv('./dataset_desc.csv')"
   ]
  },
  {
   "cell_type": "code",
   "execution_count": 26,
   "metadata": {},
   "outputs": [],
   "source": [
    "df_dataset_desc.rename(columns={\n",
    "    'num_dev': 'Contributors', \n",
    "    'num_rev': 'Reviewers',\n",
    "    'num_mer': 'Merged',\n",
    "    'num_aba': 'Abandoned',\n",
    "    'num_ope': 'Open',\n",
    "    'pro_age': 'Age'\n",
    "}, inplace=True)"
   ]
  },
  {
   "cell_type": "code",
   "execution_count": 3,
   "metadata": {},
   "outputs": [],
   "source": [
    "df_dataset_desc['Changes'] = df_dataset_desc['Merged'] + df_dataset_desc['Abandoned'] + df_dataset_desc['Open'] "
   ]
  },
  {
   "cell_type": "code",
   "execution_count": 4,
   "metadata": {},
   "outputs": [],
   "source": [
    "df_dataset_desc.to_csv(\"./dataset_desc.csv\", index=None)"
   ]
  },
  {
   "cell_type": "code",
   "execution_count": 8,
   "metadata": {},
   "outputs": [
    {
     "data": {
      "text/plain": [
       "63.5"
      ]
     },
     "execution_count": 8,
     "metadata": {},
     "output_type": "execute_result"
    }
   ],
   "source": [
    "df_dataset_desc.Changes.median()"
   ]
  },
  {
   "cell_type": "code",
   "execution_count": 45,
   "metadata": {},
   "outputs": [
    {
     "data": {
      "text/plain": [
       "1518.5"
      ]
     },
     "execution_count": 45,
     "metadata": {},
     "output_type": "execute_result"
    }
   ],
   "source": [
    "# len(\n",
    "df_dataset_desc.Age.median()\n",
    "    # )/len(df_dataset_desc)"
   ]
  }
 ],
 "metadata": {
  "kernelspec": {
   "display_name": "base",
   "language": "python",
   "name": "python3"
  },
  "language_info": {
   "codemirror_mode": {
    "name": "ipython",
    "version": 3
   },
   "file_extension": ".py",
   "mimetype": "text/x-python",
   "name": "python",
   "nbconvert_exporter": "python",
   "pygments_lexer": "ipython3",
   "version": "3.11.1"
  },
  "orig_nbformat": 4,
  "vscode": {
   "interpreter": {
    "hash": "4c3f98dc7a618963d8c453529bd2f978a19750ea04392a0abd6ac6b1e473063f"
   }
  }
 },
 "nbformat": 4,
 "nbformat_minor": 2
}
