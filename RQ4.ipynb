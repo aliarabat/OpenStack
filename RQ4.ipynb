{
 "cells": [
  {
   "cell_type": "code",
   "execution_count": 15,
   "metadata": {},
   "outputs": [],
   "source": [
    "import pandas as pd\n",
    "import numpy as np\n",
    "import os.path as osp\n",
    "import ast\n",
    "import utils.helpers as hpr"
   ]
  },
  {
   "cell_type": "code",
   "execution_count": 11,
   "metadata": {},
   "outputs": [],
   "source": [
    "df = hpr.combine_openstack_data(filter_merged=False)"
   ]
  },
  {
   "cell_type": "code",
   "execution_count": 43,
   "metadata": {},
   "outputs": [
    {
     "data": {
      "text/plain": [
       "0.7905754033547976"
      ]
     },
     "execution_count": 43,
     "metadata": {},
     "output_type": "execute_result"
    }
   ],
   "source": [
    "len(df[df['status']=='MERGED'])/len(df)"
   ]
  },
  {
   "cell_type": "code",
   "execution_count": 33,
   "metadata": {},
   "outputs": [],
   "source": [
    "df_all_dependencies = pd.read_csv(\"./Files/all_dependencies.csv\")\n",
    "df_all_dependencies = df_all_dependencies[(\n",
    "    df_all_dependencies.is_source_bot==0)&\n",
    "    (df_all_dependencies.is_target_bot==0)\n",
    "]"
   ]
  },
  {
   "cell_type": "markdown",
   "metadata": {},
   "source": [
    "### Cross/within-project abandoned changes"
   ]
  },
  {
   "cell_type": "code",
   "execution_count": 39,
   "metadata": {},
   "outputs": [],
   "source": [
    "# ALL MERGED CHANGES\n",
    "all_merged_changes = df.loc[df.status=='MERGED', 'number'].tolist()\n",
    "\n",
    "# ALL ABANDONED CHANGES\n",
    "all_abandoned_changes = df.loc[df.status=='ABANDONED', 'number'].tolist()\n",
    "\n",
    "# ALL DEPENDENT CHANGES\n",
    "all_depedent_changes = set(hpr.flatten_list(df_all_dependencies[['Source', 'Target']].values))\n",
    "\n",
    "# ALL NON-DEPENDENT CHANGES\n",
    "all_non_depedent_changes = df.loc[~df['number'].isin(all_depedent_changes), 'number'].tolist()\n",
    "\n",
    "# ABANDONED NON-DEPENDENT CHANGES\n",
    "abandoned_non_depedent_changes = df.loc[(df['status']=='ABANDONED')&df['number'].isin(all_non_depedent_changes), 'number'].tolist()\n",
    "\n",
    "# ALL CROSS-PROJECT CHANGES\n",
    "all_cro_pro_cha = set(hpr.flatten_list(df_all_dependencies.loc[df_all_dependencies.is_cross=='Cross', ['Source', 'Target']].values))\n",
    "\n",
    "# ALL WITHIN-PROJECT CHANGES\n",
    "all_wit_pro_cha = [id for id in all_depedent_changes if id not in all_cro_pro_cha]\n",
    "\n",
    "# MERGED CROSS-PROJECT CHANGES\n",
    "mer_cros_pro_cha = df.loc[\n",
    "    (df['status']=='MERGED')&\n",
    "    df['number'].isin(all_cro_pro_cha), \n",
    "'number'].tolist()\n",
    "\n",
    "# ABAMDONED CROSS-PROJECT CHANGES\n",
    "aba_cros_pro_cha = df.loc[\n",
    "    (df['status']=='ABANDONED')&\n",
    "    df['number'].isin(all_cro_pro_cha), \n",
    "'number'].tolist()\n",
    "\n",
    "# MERGED WIHTIN-PROJECT CHANGES\n",
    "mer_wit_pro_cha = df.loc[\n",
    "    (df['status']=='MERGED')&\n",
    "    df['number'].isin(all_wit_pro_cha), \n",
    "'number'].tolist()\n",
    "\n",
    "# ABAMDONED CROSS-PROJECT CHANGES\n",
    "aba_wit_pro_cha = df.loc[\n",
    "    (df['status']=='ABANDONED')&\n",
    "    df['number'].isin(all_wit_pro_cha), \n",
    "'number'].tolist()"
   ]
  },
  {
   "cell_type": "code",
   "execution_count": 41,
   "metadata": {},
   "outputs": [
    {
     "data": {
      "text/plain": [
       "0.07908998181737549"
      ]
     },
     "execution_count": 41,
     "metadata": {},
     "output_type": "execute_result"
    }
   ],
   "source": [
    "len(aba_wit_pro_cha)/len(all_wit_pro_cha)"
   ]
  },
  {
   "cell_type": "markdown",
   "metadata": {},
   "source": [
    "### Cross/within-team abandoned changes"
   ]
  },
  {
   "cell_type": "code",
   "execution_count": 42,
   "metadata": {},
   "outputs": [],
   "source": [
    "# ALL CROSS-PROJECT CHANGES\n",
    "all_cro_team_cha = set(hpr.flatten_list(df_all_dependencies.loc[df_all_dependencies.is_cross_team=='Cross', ['Source', 'Target']].values))\n",
    "\n",
    "# ALL WITHIN-PROJECT CHANGES\n",
    "all_wit_team_cha = set(hpr.flatten_list(df_all_dependencies.loc[df_all_dependencies['is_cross_team']=='Within', ['Source', 'Target']].values))\n",
    "all_wit_team_cha = [id for id in all_wit_team_cha if id not in all_cro_team_cha]\n",
    "\n",
    "# MERGED CROSS-PROJECT CHANGES\n",
    "mer_cros_team_cha = df.loc[\n",
    "    (df['status']=='MERGED')&\n",
    "    df['number'].isin(all_cro_team_cha), \n",
    "'number'].tolist()\n",
    "\n",
    "# ABAMDONED CROSS-PROJECT CHANGES\n",
    "aba_cros_team_cha = df.loc[\n",
    "    (df['status']=='ABANDONED')&\n",
    "    df['number'].isin(all_cro_team_cha), \n",
    "'number'].tolist()\n",
    "\n",
    "# MERGED WIHTIN-PROJECT CHANGES\n",
    "mer_wit_team_cha = df.loc[\n",
    "    (df['status']=='MERGED')&\n",
    "    df['number'].isin(all_wit_team_cha), \n",
    "'number'].tolist()\n",
    "\n",
    "# ABAMDONED CROSS-PROJECT CHANGES\n",
    "aba_wit_team_cha = df.loc[\n",
    "    (df['status']=='ABANDONED')&\n",
    "    df['number'].isin(all_wit_team_cha), \n",
    "'number'].tolist()"
   ]
  },
  {
   "cell_type": "code",
   "execution_count": 44,
   "metadata": {},
   "outputs": [
    {
     "data": {
      "text/plain": [
       "0.09710039098967528"
      ]
     },
     "execution_count": 44,
     "metadata": {},
     "output_type": "execute_result"
    }
   ],
   "source": [
    "len(aba_wit_team_cha)/len(all_wit_team_cha)"
   ]
  },
  {
   "cell_type": "markdown",
   "metadata": {},
   "source": [
    "### Cross/within-team abandoned chains of dependent changes"
   ]
  },
  {
   "cell_type": "code",
   "execution_count": null,
   "metadata": {},
   "outputs": [],
   "source": [
    "df_os_teams = pd.read_csv(osp.join('.', 'RQs', 'PQ', 'Files', 'inv_pro_team.csv'))"
   ]
  },
  {
   "cell_type": "code",
   "execution_count": 25,
   "metadata": {},
   "outputs": [],
   "source": [
    "def identify_projects(path):\n",
    "    return df.loc[df['number'].isin(path), 'project'].tolist()\n",
    "\n",
    "def identify_teams(projects):\n",
    "    teams = df_os_teams.loc[df_os_teams['project'].isin(projects), 'team'].tolist()\n",
    "    return teams\n",
    "\n",
    "def is_cross_team(row):\n",
    "    team_size = len(row['teams'])\n",
    "    project_size = len(row['projects'])\n",
    "    team_size_red = len(set(row['teams']))\n",
    "    project_size_red = len(set(row['projects']))\n",
    "    if team_size_red > 1:\n",
    "        return 'Cross'\n",
    "    elif team_size_red == 1 and ((project_size_red == team_size_red) | (team_size == project_size)):\n",
    "        return 'Within'\n",
    "    else:\n",
    "        return 'None'"
   ]
  },
  {
   "cell_type": "code",
   "execution_count": null,
   "metadata": {},
   "outputs": [],
   "source": [
    "df_chains = pd.read_csv(osp.join('.', 'Files', 'Number', 'extended_merged.csv'))\n",
    "df_chains['Path'] = df_chains['Path'].map(ast.literal_eval)"
   ]
  },
  {
   "cell_type": "code",
   "execution_count": null,
   "metadata": {},
   "outputs": [],
   "source": [
    "df_chains['projects'] = df_chains['Path'].map(identify_projects)"
   ]
  },
  {
   "cell_type": "code",
   "execution_count": 22,
   "metadata": {},
   "outputs": [],
   "source": [
    "df_chains['teams'] = df_chains['projects'].map(identify_teams)"
   ]
  },
  {
   "cell_type": "code",
   "execution_count": 50,
   "metadata": {},
   "outputs": [],
   "source": [
    "df_chains['team_size'] = df_chains['teams'].map(lambda x: len(set(x)))\n",
    "df_chains['proj_size'] = df_chains['projects'].map(lambda x: len(set(x)))"
   ]
  },
  {
   "cell_type": "code",
   "execution_count": 27,
   "metadata": {},
   "outputs": [],
   "source": [
    "df_chains['is_cross_team'] = df_chains.apply(is_cross_team, axis=1)"
   ]
  },
  {
   "cell_type": "code",
   "execution_count": 44,
   "metadata": {},
   "outputs": [
    {
     "data": {
      "text/plain": [
       "0.10741602926504822"
      ]
     },
     "execution_count": 44,
     "metadata": {},
     "output_type": "execute_result"
    }
   ],
   "source": [
    "len(df_chains[\n",
    "    (df_chains['all_abandoned']==1)&\n",
    "    (df_chains['is_cross_team']=='Cross')\n",
    "])/len(df_chains[(df_chains['is_cross_team']=='Cross')])"
   ]
  },
  {
   "cell_type": "code",
   "execution_count": 58,
   "metadata": {},
   "outputs": [],
   "source": [
    "df_chains.to_csv(osp.join('.', 'Files', 'Number', 'extended_merged.csv'), index=None)"
   ]
  },
  {
   "cell_type": "markdown",
   "metadata": {},
   "source": [
    "### Choosing a representative sample for manual analysis (i.e., abandoned changes)"
   ]
  },
  {
   "cell_type": "code",
   "execution_count": null,
   "metadata": {},
   "outputs": [],
   "source": [
    "repr_samp = df_all_dependencies[\n",
    "    (df_all_dependencies.cross_project==1)&\n",
    "    (df_all_dependencies.is_owner_bot_source==0)&\n",
    "    (df_all_dependencies.is_owner_bot_target==0)&\n",
    "    (((df_all_dependencies.status_source=='ABANDONED')&(df_all_dependencies.status_target=='MERGED'))|\n",
    "    ((df_all_dependencies.status_source=='MERGED')&(df_all_dependencies.status_target=='ABANDONED')))\n",
    "]\n",
    "repr_samp[\"abandoned_number\"] = repr_samp.apply(lambda row: row['Source'] if row['status_source']=='ABANDONED' else row['Target'], axis=1)\n",
    "repr_samp = repr_samp.abandoned_number.unique()\n",
    "repr_samp = repr_samp[np.random.choice(len(repr_samp), size=364, replace=False)]"
   ]
  },
  {
   "cell_type": "code",
   "execution_count": 241,
   "metadata": {},
   "outputs": [],
   "source": [
    "pd.DataFrame({'Change': repr_samp}).to_csv(osp.join('.', 'Files', 'aba_cha_rep_sam.csv'), index=None)"
   ]
  }
 ],
 "metadata": {
  "kernelspec": {
   "display_name": "Python 3",
   "language": "python",
   "name": "python3"
  },
  "language_info": {
   "codemirror_mode": {
    "name": "ipython",
    "version": 3
   },
   "file_extension": ".py",
   "mimetype": "text/x-python",
   "name": "python",
   "nbconvert_exporter": "python",
   "pygments_lexer": "ipython3",
   "version": "3.11.1"
  },
  "orig_nbformat": 4,
  "vscode": {
   "interpreter": {
    "hash": "aee8b7b246df8f9039afb4144a1f6fd8d2ca17a180786b69acc140d282b71a49"
   }
  }
 },
 "nbformat": 4,
 "nbformat_minor": 2
}
