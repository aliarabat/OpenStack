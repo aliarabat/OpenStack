{
 "cells": [
  {
   "cell_type": "code",
   "execution_count": 3,
   "metadata": {},
   "outputs": [],
   "source": [
    "import pandas as pd\n",
    "import numpy as np\n",
    "import ast"
   ]
  },
  {
   "cell_type": "code",
   "execution_count": 4,
   "metadata": {},
   "outputs": [],
   "source": [
    "df = pd.read_csv(\"./experiments/os_datasets.csv\")"
   ]
  },
  {
   "cell_type": "code",
   "execution_count": 102,
   "metadata": {},
   "outputs": [
    {
     "data": {
      "text/plain": [
       "85"
      ]
     },
     "execution_count": 102,
     "metadata": {},
     "output_type": "execute_result"
    }
   ],
   "source": [
    "(df[[\"number\"]].value_counts() == 2).sum()"
   ]
  },
  {
   "cell_type": "code",
   "execution_count": 5,
   "metadata": {},
   "outputs": [],
   "source": [
    "df = df.drop_duplicates(subset=[\"number\"])"
   ]
  },
  {
   "cell_type": "code",
   "execution_count": 104,
   "metadata": {},
   "outputs": [
    {
     "data": {
      "text/plain": [
       "0"
      ]
     },
     "execution_count": 104,
     "metadata": {},
     "output_type": "execute_result"
    }
   ],
   "source": [
    "(df[[\"number\"]].value_counts() == 2).sum()"
   ]
  },
  {
   "cell_type": "code",
   "execution_count": 6,
   "metadata": {},
   "outputs": [],
   "source": [
    "def flatten_list(array):\n",
    "    response = [item for sublist in array for item in sublist]\n",
    "    return response"
   ]
  },
  {
   "cell_type": "markdown",
   "metadata": {},
   "source": [
    "### Extending the csv file with single-component related changes that do not appear in other co-changes"
   ]
  },
  {
   "cell_type": "code",
   "execution_count": 7,
   "metadata": {},
   "outputs": [],
   "source": [
    "result_number_changes = pd.read_csv(\"./experiments/all_paths.csv\")"
   ]
  },
  {
   "cell_type": "code",
   "execution_count": 8,
   "metadata": {},
   "outputs": [],
   "source": [
    "result_number_changes = result_number_changes[\"Path\"].apply(ast.literal_eval).values.tolist()"
   ]
  },
  {
   "cell_type": "code",
   "execution_count": 129,
   "metadata": {},
   "outputs": [],
   "source": [
    "result_number_co_changes = result_number_changes[\"Path\"].copy().to_list()"
   ]
  },
  {
   "cell_type": "code",
   "execution_count": 133,
   "metadata": {},
   "outputs": [],
   "source": [
    "result_number_co_changes = [item.tolist() for item in result_number_co_changes]"
   ]
  },
  {
   "cell_type": "code",
   "execution_count": null,
   "metadata": {},
   "outputs": [],
   "source": [
    "result_number_co_changes"
   ]
  },
  {
   "cell_type": "code",
   "execution_count": 135,
   "metadata": {},
   "outputs": [],
   "source": [
    "all_paths_flattend = list(dict.fromkeys(flatten_list(result_number_co_changes)))"
   ]
  },
  {
   "cell_type": "code",
   "execution_count": 145,
   "metadata": {},
   "outputs": [],
   "source": [
    "single_component_changes_number = df.loc[~df[\"number\"].isin(all_paths_flattend), [\"number\"]].values.tolist()"
   ]
  },
  {
   "cell_type": "code",
   "execution_count": 146,
   "metadata": {},
   "outputs": [],
   "source": [
    "extended_paths_number = result_number_co_changes + single_component_changes_number"
   ]
  },
  {
   "cell_type": "code",
   "execution_count": 147,
   "metadata": {},
   "outputs": [
    {
     "name": "stdout",
     "output_type": "stream",
     "text": [
      "result_number_co_changes 215309\n",
      "single_component_changes_number 214328\n",
      "extended_paths_number 429637\n"
     ]
    }
   ],
   "source": [
    "print(\"result_number_co_changes %d\"%len(result_number_co_changes))\n",
    "print(\"single_component_changes_number %d\"%len(single_component_changes_number))\n",
    "print(\"extended_paths_number %d\"%len(extended_paths_number))"
   ]
  },
  {
   "cell_type": "markdown",
   "metadata": {},
   "source": [
    "### Replace numbers with repos in extended_paths_number "
   ]
  },
  {
   "cell_type": "code",
   "execution_count": 159,
   "metadata": {},
   "outputs": [],
   "source": [
    "def number_to_repo(data, df):\n",
    "    df_subset = df[[\"number\", \"project\"]]\n",
    "    result = []\n",
    "    for i in range(len(data)):\n",
    "        row = data[i]\n",
    "        new_row = df_subset.loc[\n",
    "            df_subset[\"number\"].isin(row), [\"project\"]].drop_duplicates(\n",
    "                subset=\"project\").values.reshape(-1).tolist()\n",
    "        result.append(new_row)\n",
    "    return result"
   ]
  },
  {
   "cell_type": "code",
   "execution_count": 149,
   "metadata": {},
   "outputs": [],
   "source": [
    "def combine_numbers(data):\n",
    "    result = []\n",
    "    data = data.copy()\n",
    "    for i in range(len(data)):\n",
    "        new_item = {}\n",
    "\n",
    "        if len(data[i]) == 0:\n",
    "            continue\n",
    "\n",
    "        for j in range(1, len(data)):\n",
    "            if len(data[j]) == 0 or (data[i] == data[j]):\n",
    "                continue\n",
    "\n",
    "            check_any = any(item in data[i] for item in data[j])\n",
    "            if check_any == True:\n",
    "                new_item = new_item | dict.fromkeys(data[i] + data[j])\n",
    "                data[j] = []\n",
    "        \n",
    "        if len(new_item) == 0:\n",
    "            result.append(data[i])\n",
    "        else:\n",
    "            result.append(list(new_item))\n",
    "        data[i] = []\n",
    "\n",
    "    return result"
   ]
  },
  {
   "cell_type": "code",
   "execution_count": 152,
   "metadata": {},
   "outputs": [],
   "source": [
    "test = extended_paths_number[:2000].copy()\n",
    "test_combined_number = combine_numbers(test)"
   ]
  },
  {
   "cell_type": "code",
   "execution_count": 155,
   "metadata": {},
   "outputs": [],
   "source": [
    "pd.DataFrame({\"Path\": test_combined_number}).to_csv(\"test_number.csv\", index=False)"
   ]
  },
  {
   "cell_type": "code",
   "execution_count": 160,
   "metadata": {},
   "outputs": [],
   "source": [
    "test_exteded_repo = number_to_repo(test_combined_number, df)"
   ]
  },
  {
   "cell_type": "code",
   "execution_count": 162,
   "metadata": {},
   "outputs": [],
   "source": [
    "pd.DataFrame({\"Path\": test_exteded_repo}).to_csv(\"test_repo.csv\", index=False)"
   ]
  },
  {
   "cell_type": "code",
   "execution_count": 164,
   "metadata": {},
   "outputs": [],
   "source": [
    "numbers = [865314, 865315, 212127, 599335, 579277, 510663, 485956, 465150, 461122, 360999, 360991, 96492, 688546, 688548, 722173, 722174, 722175, 722177, 722176, 689588, 687978, 269262, 362709, 182056, 109582, 109639, 99726, 711275]"
   ]
  },
  {
   "cell_type": "code",
   "execution_count": 165,
   "metadata": {},
   "outputs": [
    {
     "data": {
      "text/plain": [
       "28"
      ]
     },
     "execution_count": 165,
     "metadata": {},
     "output_type": "execute_result"
    }
   ],
   "source": [
    "len(numbers)"
   ]
  },
  {
   "cell_type": "code",
   "execution_count": 172,
   "metadata": {},
   "outputs": [],
   "source": [
    "repos = df.loc[df[\"number\"].isin(numbers), [\"project\"]].drop_duplicates(subset=\"project\").values.reshape(-1).tolist()"
   ]
  },
  {
   "cell_type": "code",
   "execution_count": null,
   "metadata": {},
   "outputs": [],
   "source": [
    "test = extended_paths_number[:10]"
   ]
  },
  {
   "cell_type": "code",
   "execution_count": 23,
   "metadata": {},
   "outputs": [],
   "source": [
    "def remove_duplicates(data):\n",
    "    for i in range(len(data)):\n",
    "        data[i] = list(dict.fromkeys(data[i]))\n",
    "    return data"
   ]
  },
  {
   "cell_type": "code",
   "execution_count": 24,
   "metadata": {},
   "outputs": [],
   "source": [
    "df_extended_paths_repo = pd.read_csv(\"./Files/extended_paths.csv\")"
   ]
  },
  {
   "cell_type": "code",
   "execution_count": 25,
   "metadata": {},
   "outputs": [],
   "source": [
    "df_extended_paths_repo = df_extended_paths_repo[\"Path\"].apply(ast.literal_eval).values.tolist()"
   ]
  },
  {
   "cell_type": "code",
   "execution_count": 26,
   "metadata": {},
   "outputs": [],
   "source": [
    "df_extended_paths_repo = remove_duplicates(df_extended_paths_repo)"
   ]
  },
  {
   "cell_type": "code",
   "execution_count": 27,
   "metadata": {},
   "outputs": [],
   "source": [
    "pd.DataFrame({\"Path\": df_extended_paths_repo}).to_csv(\"./Files/Openstack_Evolution_Clean_Paths.csv\", index=False)"
   ]
  }
 ],
 "metadata": {
  "kernelspec": {
   "display_name": "Python 3.9.7 ('base')",
   "language": "python",
   "name": "python3"
  },
  "language_info": {
   "codemirror_mode": {
    "name": "ipython",
    "version": 3
   },
   "file_extension": ".py",
   "mimetype": "text/x-python",
   "name": "python",
   "nbconvert_exporter": "python",
   "pygments_lexer": "ipython3",
   "version": "3.9.7 (default, Sep 16 2021, 16:59:28) [MSC v.1916 64 bit (AMD64)]"
  },
  "orig_nbformat": 4,
  "vscode": {
   "interpreter": {
    "hash": "5179d32cf6ec497baf3f8a3ef987cc77c5d2dc691fdde20a56316522f61a7323"
   }
  }
 },
 "nbformat": 4,
 "nbformat_minor": 2
}
