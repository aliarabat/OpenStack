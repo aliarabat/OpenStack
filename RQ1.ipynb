{
 "cells": [
  {
   "cell_type": "code",
   "execution_count": 1,
   "metadata": {},
   "outputs": [],
   "source": [
    "import pandas as pd\n",
    "import numpy as np\n",
    "import collections\n",
    "from datetime import datetime\n",
    "from bs4 import BeautifulSoup\n",
    "import requests as rq\n",
    "from collections import OrderedDict\n",
    "import ast\n",
    "import utils.helpers as hpr\n",
    "import re"
   ]
  },
  {
   "cell_type": "code",
   "execution_count": 30,
   "metadata": {},
   "outputs": [],
   "source": [
    "def combine_openstack_data():\n",
    "    '''Combine generated csv files into a single DataFrame object\n",
    "    '''\n",
    "    df = pd.DataFrame([])\n",
    "    data_path = \"%sChanges/\" % hpr.DIR\n",
    "    changes_file_names = hpr.list_file(data_path)\n",
    "    for f in changes_file_names:\n",
    "        df_per_file = pd.read_csv(\"%s%s\" % (data_path, f))\n",
    "        df = pd.concat((df, df_per_file))\n",
    "\n",
    "    df = df.drop_duplicates(subset=[\"number\"])\n",
    "\n",
    "    df = df.sort_values(by=\"updated\", ascending=False).reset_index(drop=True)\n",
    "\n",
    "    return df"
   ]
  },
  {
   "cell_type": "code",
   "execution_count": 31,
   "metadata": {},
   "outputs": [],
   "source": [
    "df = combine_openstack_data()"
   ]
  },
  {
   "cell_type": "code",
   "execution_count": 5,
   "metadata": {},
   "outputs": [],
   "source": [
    "df[\"messages\"] = df[\"messages\"].map(ast.literal_eval)"
   ]
  },
  {
   "cell_type": "code",
   "execution_count": 79,
   "metadata": {},
   "outputs": [],
   "source": [
    "df[\"reviewers\"] = df[\"reviewers\"].apply(ast.literal_eval)"
   ]
  },
  {
   "cell_type": "code",
   "execution_count": 260,
   "metadata": {},
   "outputs": [],
   "source": [
    "df[\"revisions\"] = df[\"revisions\"].apply(ast.literal_eval)"
   ]
  },
  {
   "cell_type": "code",
   "execution_count": 80,
   "metadata": {},
   "outputs": [],
   "source": [
    "df[\"reviewers_ids\"] = df[\"reviewers\"].map(lambda revs: [rev[\"_account_id\"] for rev in revs if \"tags\" not in rev.keys()])"
   ]
  },
  {
   "attachments": {},
   "cell_type": "markdown",
   "metadata": {},
   "source": [
    "### Functions"
   ]
  },
  {
   "cell_type": "code",
   "execution_count": 80,
   "metadata": {},
   "outputs": [],
   "source": [
    "def is_cross_service(row):\n",
    "    if (row[\"Source_service\"] == \"None\") or (row[\"Target_service\"] == \"None\"):\n",
    "        return None\n",
    "    if row[\"Source_service\"] != row[\"Target_service\"]:\n",
    "        return \"Cross\"\n",
    "    return \"Within\"\n",
    "\n",
    "def retrieve_reviewers(number):\n",
    "    return df.loc[df[\"number\"]==number, \"reviewers_ids\"].values[0]\n",
    "\n",
    "def is_same_developer(row):\n",
    "    return \"Same\" if row[\"Source_developer\"] == row[\"Target_developer\"] else \"Different\"\n",
    "\n",
    "def count_changes(row):\n",
    "    return len(df[(df[\"owner_account_id\"] == row[0])\n",
    "       & (df[\"project\"] == row[2]) &\n",
    "       (df[\"created\"] < row[1])])\n",
    "\n",
    "def identify_change_size(row):\n",
    "    if row[\"Source_exp\"] > row[\"Target_exp\"]:\n",
    "        return row[\"Source_churn\"] / row[\"Target_churn\"] if row[\"Target_churn\"] != 0 else row[\"Source_churn\"]\n",
    "    return row[\"Target_churn\"] / row[\"Source_churn\"] if row[\"Source_churn\"] != 0 else row[\"Target_churn\"]\n",
    "\n",
    "def identify_merge_duration(row):\n",
    "    if row[\"Source_exp\"] > row[\"Target_exp\"]:\n",
    "        return row[\"Source_duration\"] / row[\"Target_duration\"] if row[\"Target_duration\"] != 0 else row[\"Source_duration\"]\n",
    "    return row[\"Target_duration\"] / row[\"Source_duration\"] if row[\"Source_duration\"] != 0 else row[\"Target_duration\"]\n",
    "\n",
    "def time_diff(start, end):\n",
    "    if start > end:\n",
    "        start, end = end, start\n",
    "    current_date =  datetime.strptime(end, \"%Y-%m-%d %H:%M:%S\") \n",
    "    previous_date = datetime.strptime(start, \"%Y-%m-%d %H:%M:%S\") \n",
    "    diff = current_date - previous_date\n",
    "    diff = float(\"{:.2f}\".format(diff.total_seconds() / 3600))\n",
    "    return diff\n",
    "\n",
    "def compute_review_duration(nbr):\n",
    "    messages = df.loc[df.number==nbr, \"messages\"].values[0]\n",
    "    messages.sort(key=lambda x: x[\"date\"])\n",
    "    if len(messages) >1:\n",
    "        return time_diff(messages[0][\"date\"][:-10], messages[-1][\"date\"][:-10])\n",
    "    return 0\n",
    "\n",
    "def compute_time_diff(revisions):\n",
    "    if len(revisions) == 1:\n",
    "        return 0\n",
    "    dates = [rev[\"created\"][:-10] for rev in revisions]\n",
    "    dates.sort()\n",
    "    return time_diff(dates[0], dates[-1])\n",
    "\n",
    "def compute_intersection(row):\n",
    "    all_devs = len(set(row[\"Source_reviewers\"]).union(row[\"Target_reviewers\"]))\n",
    "    return 0 if all_devs == 0 else len(set(row[\"Source_reviewers\"]).intersection(row[\"Target_reviewers\"])) * 100 / all_devs\n",
    "\n",
    "def identify_review_kind(row, review_type):\n",
    "    messages = df.loc[df[\"number\"]==row[1], \"messages\"].values[0]\n",
    "    if review_type == \"UPLOAD\":\n",
    "        for msg in messages:\n",
    "            if msg[\"account_id\"] == row[0] and msg[\"content\"].startswith(\"Upload patch set\"):\n",
    "                return True\n",
    "    elif review_type == \"COMMENT\":\n",
    "        for msg in messages:\n",
    "            if msg[\"account_id\"] == row[0] and msg[\"content\"].startswith(\"Patch Set\") and msg[\"content\"].endswith(\"comment)\"):\n",
    "                return True\n",
    "    elif review_type == \"RATE\":\n",
    "        rating_labels = [\"Workflow-\", \"Code-Review-\", \"Verified-\", \"Review-Priority\"]\n",
    "        for msg in messages:\n",
    "            if msg[\"account_id\"] == row[0] and re.search(r\"Patch Set [\\d+]: Code\\-Review|Verified|Workflow|Review\\-Priority[\\-|\\+]*\", msg[\"content\"]):\n",
    "                return True\n",
    "    return False\n",
    "\n",
    "def identify_less_more_exp_metrics(row, metric_type):\n",
    "    if row[\"Source_exp\"] == row[\"Target_exp\"]:\n",
    "        return None\n",
    "    \n",
    "    if metric_type == \"LESS\":\n",
    "        if row[\"Source_exp\"] < row[\"Target_exp\"]:\n",
    "            return row[2]\n",
    "        return row[3]\n",
    "    \n",
    "    if row[\"Source_exp\"] > row[\"Target_exp\"]:\n",
    "            return row[2]\n",
    "    return row[3]"
   ]
  },
  {
   "cell_type": "code",
   "execution_count": 261,
   "metadata": {},
   "outputs": [],
   "source": [
    "df[\"merge_duration\"] = df[\"revisions\"].map(compute_time_diff)"
   ]
  },
  {
   "attachments": {},
   "cell_type": "markdown",
   "metadata": {},
   "source": [
    "### Count the number of cross ans single component dependecies ?"
   ]
  },
  {
   "cell_type": "code",
   "execution_count": 4,
   "metadata": {},
   "outputs": [],
   "source": [
    "df_depends_needed = pd.read_csv(\"./Files/source_target_evolution.csv\")\n",
    "df_related_bug = pd.read_csv(\"./Files/Number/related_bug.csv\")\n",
    "df_related_bug[\"Path\"] = df_related_bug[\"Path\"].map(ast.literal_eval)\n",
    "df_change_id = pd.read_csv(\"./Files/Number/change_id.csv\")\n",
    "df_change_id[\"Path\"] = df_change_id[\"Path\"].map(ast.literal_eval)"
   ]
  },
  {
   "attachments": {},
   "cell_type": "markdown",
   "metadata": {},
   "source": [
    "#### Cross and single-component dependencies"
   ]
  },
  {
   "cell_type": "code",
   "execution_count": 12,
   "metadata": {},
   "outputs": [],
   "source": [
    "def build_source_target(chains):\n",
    "    result = []\n",
    "    for chain in chains:\n",
    "        for path in chain:\n",
    "            treated_items = []\n",
    "            path.sort()\n",
    "            for i in range(len(path)):\n",
    "                numberA = path[i]\n",
    "                for j in range(len(path)):\n",
    "                    numberB = path[j]\n",
    "                    if (numberA != numberB) and (numberB not in treated_items):\n",
    "                        itemA = df.loc[df[\"number\"] == numberA, [\"project\", \"created\"]].values[0]\n",
    "                        itemB = df.loc[df[\"number\"] == numberB, [\"project\", \"created\"]].values[0]\n",
    "                        if itemA[1] > itemB[1]:\n",
    "                            itemA, itemB = itemB, itemA\n",
    "                        source_repo = itemA[0]\n",
    "                        target_repo = itemB[0]\n",
    "                        result.append({\"Source\": numberA, \"Target\": numberB, \"Source_repo\": source_repo, \"Target_repo\": target_repo})\n",
    "                treated_items.append(numberA)\n",
    "    return result"
   ]
  },
  {
   "cell_type": "code",
   "execution_count": 19,
   "metadata": {},
   "outputs": [],
   "source": [
    "source_target_related_bug = build_source_target([df_related_bug[\"Path\"].values])\n",
    "source_target_change_id = build_source_target([df_change_id[\"Path\"].values])"
   ]
  },
  {
   "cell_type": "code",
   "execution_count": 34,
   "metadata": {},
   "outputs": [],
   "source": [
    "df_depends_needed[\"Label\"] = \"D-O/N-B\"\n",
    "df_source_target_related_bug = pd.DataFrame(source_target_related_bug)\n",
    "df_source_target_related_bug[\"Label\"] = \"R-B\"\n",
    "df_source_target_related_bug.drop_duplicates(inplace=True)\n",
    "df_source_target_change_id = pd.DataFrame(source_target_change_id)\n",
    "df_source_target_change_id[\"Label\"] = \"C-I\""
   ]
  },
  {
   "cell_type": "code",
   "execution_count": 2,
   "metadata": {},
   "outputs": [],
   "source": [
    "df_all_dependencies = pd.concat((df_depends_needed, df_source_target_related_bug, df_source_target_change_id))"
   ]
  },
  {
   "cell_type": "code",
   "execution_count": 3,
   "metadata": {},
   "outputs": [
    {
     "data": {
      "text/plain": [
       "197754"
      ]
     },
     "execution_count": 3,
     "metadata": {},
     "output_type": "execute_result"
    }
   ],
   "source": [
    "len(df_all_dependencies)"
   ]
  },
  {
   "cell_type": "code",
   "execution_count": 41,
   "metadata": {},
   "outputs": [],
   "source": [
    "df_all_dependencies.drop_duplicates(subset=[\"Source\", \"Target\"], inplace=True, keep=\"first\")\n",
    "df_all_dependencies.reset_index(drop=True, inplace=True)"
   ]
  },
  {
   "cell_type": "code",
   "execution_count": 42,
   "metadata": {},
   "outputs": [],
   "source": [
    "df_all_dependencies[\"is_cross\"] = df_all_dependencies.apply(lambda row: True if row[\"Source_repo\"]!=row[\"Target_repo\"] else False, axis=1)"
   ]
  },
  {
   "cell_type": "code",
   "execution_count": 70,
   "metadata": {},
   "outputs": [],
   "source": [
    "request = rq.get(\"https://releases.openstack.org/\")\n",
    "soup = BeautifulSoup(request.text, 'html.parser')\n",
    "\n",
    "tbody = soup.find(\"tbody\")\n",
    "openstack_releases = {}\n",
    "\n",
    "tr_list = tbody.find_all(\"tr\")\n",
    "for i in range(len(tr_list)):\n",
    "    tr = tr_list[i]\n",
    "    td_list = tr.find_all(\"td\")\n",
    "    initial_release = td_list[2].text[:10]\n",
    "    release_name = td_list[0].select_one('span', {\"class\": \"doc\"}).text.lower()\n",
    "    openstack_releases.update({initial_release: release_name})\n",
    "\n",
    "openstack_releases_keys = list(openstack_releases.keys())\n",
    "openstack_releases_keys.sort()\n",
    "openstack_releases = {i: openstack_releases[i] for i in openstack_releases_keys}\n",
    "\n",
    "online_repositories = pd.read_csv(\"./all_os_components.csv\")\n",
    "online_repositories[\"related_projects\"] = online_repositories[\"related_projects\"].apply(ast.literal_eval)\n",
    "online_repositories = dict(zip(online_repositories[\"main_project\"].values.reshape(-1), online_repositories[\"related_projects\"].values))\n",
    "\n",
    "def invert_projects_services():\n",
    "    return {\"openstack/%s\" % p:service for service, projects in online_repositories.items() for p in projects}\n",
    "\n",
    "def retrieve_release(nbr):\n",
    "    change = df.loc[df[\"number\"]==nbr, [\"created\", \"branch\"]]\n",
    "    branch = change[\"branch\"].values[0]\n",
    "    if branch.startswith(\"stable/\") and branch.split(\"/\")[1] in openstack_releases.values():\n",
    "        return branch.split(\"/\")[1]\n",
    "    \n",
    "    date = change[\"created\"].values[0][:-19]\n",
    "    keys = openstack_releases.keys()\n",
    "    for k in keys:\n",
    "        if date <= k:\n",
    "            return openstack_releases.get(k)\n",
    "    return None"
   ]
  },
  {
   "cell_type": "code",
   "execution_count": 71,
   "metadata": {},
   "outputs": [],
   "source": [
    "project_services_inv = invert_projects_services()"
   ]
  },
  {
   "cell_type": "code",
   "execution_count": 72,
   "metadata": {},
   "outputs": [],
   "source": [
    "df_all_dependencies[\"Source_service\"] = df_all_dependencies[\"Source_repo\"].map(lambda src_repo: project_services_inv.get(src_repo))\n",
    "df_all_dependencies[\"Target_service\"] = df_all_dependencies[\"Target_repo\"].map(lambda trgt_repo: project_services_inv.get(trgt_repo))"
   ]
  },
  {
   "cell_type": "code",
   "execution_count": 79,
   "metadata": {},
   "outputs": [],
   "source": [
    "df_all_dependencies.loc[df_all_dependencies[\"Source_service\"].isnull(), \"Source_service\"] = \"None\"\n",
    "df_all_dependencies.loc[df_all_dependencies[\"Target_service\"].isnull(), \"Target_service\"] = \"None\""
   ]
  },
  {
   "cell_type": "code",
   "execution_count": 52,
   "metadata": {},
   "outputs": [],
   "source": [
    "df_all_dependencies[\"Source_status\"] = df_all_dependencies[\"Source\"].map(lambda x: df.loc[df[\"number\"]==x, \"status\"].values[0])\n",
    "df_all_dependencies[\"Target_status\"] = df_all_dependencies[\"Target\"].map(lambda x: df.loc[df[\"number\"]==x, \"status\"].values[0])"
   ]
  },
  {
   "cell_type": "code",
   "execution_count": 53,
   "metadata": {},
   "outputs": [],
   "source": [
    "df_all_dependencies[\"Source_datetime\"] = df_all_dependencies[\"Source\"].map(lambda id: df.loc[df[\"number\"]==id, \"created\"].values[0])\n",
    "df_all_dependencies[\"Target_datetime\"] = df_all_dependencies[\"Target\"].map(lambda id: df.loc[df[\"number\"]==id, \"created\"].values[0])"
   ]
  },
  {
   "cell_type": "code",
   "execution_count": 81,
   "metadata": {},
   "outputs": [],
   "source": [
    "df_all_dependencies[\"is_cross_service\"] = df_all_dependencies[[\"Source_service\", \"Target_service\"]].apply(is_cross_service, axis=1)"
   ]
  },
  {
   "cell_type": "code",
   "execution_count": 74,
   "metadata": {},
   "outputs": [],
   "source": [
    "df_all_dependencies[\"lag\"] = df_all_dependencies[[\"Source_datetime\", \"Target_datetime\"]].apply(lambda row: time_diff(row[0][0:-10], row[1][0:-10]), axis=1)"
   ]
  },
  {
   "cell_type": "code",
   "execution_count": 75,
   "metadata": {},
   "outputs": [],
   "source": [
    "df_all_dependencies[\"Source_release\"] = df_all_dependencies[\"Source\"].map(retrieve_release)\n",
    "df_all_dependencies[\"Target_release\"] = df_all_dependencies[\"Target\"].map(retrieve_release)"
   ]
  },
  {
   "cell_type": "code",
   "execution_count": 76,
   "metadata": {},
   "outputs": [],
   "source": [
    "df_all_dependencies[\"is_source_bot\"] = df_all_dependencies[\"Source\"].map(lambda x: df.loc[df[\"number\"]==x,\"is_owner_bot\"].values[0])\n",
    "df_all_dependencies[\"is_target_bot\"] = df_all_dependencies[\"Target\"].map(lambda x: df.loc[df[\"number\"]==x,\"is_owner_bot\"].values[0])"
   ]
  },
  {
   "cell_type": "code",
   "execution_count": 77,
   "metadata": {},
   "outputs": [],
   "source": [
    "df_all_dependencies[\"Source_developer\"] = df_all_dependencies[\"Source\"].map(lambda x: df.loc[df[\"number\"]==x,\"owner_account_id\"].values[0])\n",
    "df_all_dependencies[\"Target_developer\"] = df_all_dependencies[\"Target\"].map(lambda x: df.loc[df[\"number\"]==x,\"owner_account_id\"].values[0])"
   ]
  },
  {
   "cell_type": "code",
   "execution_count": 81,
   "metadata": {},
   "outputs": [],
   "source": [
    "df_all_dependencies[\"Source_reviewers\"] = df_all_dependencies[\"Source\"].map(retrieve_reviewers)\n",
    "df_all_dependencies[\"Target_reviewers\"] = df_all_dependencies[\"Target\"].map(retrieve_reviewers)"
   ]
  },
  {
   "cell_type": "code",
   "execution_count": 82,
   "metadata": {},
   "outputs": [],
   "source": [
    "df_all_dependencies[\"Source_rev_target\"] = df_all_dependencies[[\"Source_developer\", \"Target_reviewers\"]].apply(lambda row: True if row[\"Source_developer\"] in row[\"Target_reviewers\"] else False, axis=1)\n",
    "df_all_dependencies[\"Target_rev_source\"] = df_all_dependencies[[\"Target_developer\", \"Source_reviewers\"]].apply(lambda row: True if row[\"Target_developer\"] in row[\"Source_reviewers\"] else False, axis=1)"
   ]
  },
  {
   "cell_type": "code",
   "execution_count": 85,
   "metadata": {},
   "outputs": [],
   "source": [
    "df_all_dependencies[\"is_same_dev\"] = df_all_dependencies.apply(is_same_developer, axis=1)"
   ]
  },
  {
   "cell_type": "code",
   "execution_count": 301,
   "metadata": {},
   "outputs": [],
   "source": [
    "df_all_dependencies[\"Source_churn\"] = df_all_dependencies[\"Source\"].map(lambda nbr: df.loc[df.number == nbr, [\"insertions\", \"deletions\"]].values[0].sum())\n",
    "df_all_dependencies[\"Target_churn\"] = df_all_dependencies[\"Target\"].map(lambda nbr: df.loc[df.number == nbr, [\"insertions\", \"deletions\"]].values[0].sum())"
   ]
  },
  {
   "cell_type": "code",
   "execution_count": 90,
   "metadata": {},
   "outputs": [],
   "source": [
    "df_all_dependencies[\"Source_exp\"] = df_all_dependencies.loc[(df_all_dependencies[\"is_cross\"]==True)&(df_all_dependencies[\"is_same_dev\"]==\"Same\"), [\"Source_developer\", \"Source_datetime\", \"Source_repo\"]].apply(count_changes, axis=1)\n",
    "df_all_dependencies[\"Target_exp\"] = df_all_dependencies.loc[(df_all_dependencies[\"is_cross\"]==True)&(df_all_dependencies[\"is_same_dev\"]==\"Same\"), [\"Target_developer\", \"Target_datetime\", \"Target_repo\"]].apply(count_changes, axis=1)"
   ]
  },
  {
   "cell_type": "code",
   "execution_count": 322,
   "metadata": {},
   "outputs": [
    {
     "data": {
      "text/html": [
       "<div>\n",
       "<style scoped>\n",
       "    .dataframe tbody tr th:only-of-type {\n",
       "        vertical-align: middle;\n",
       "    }\n",
       "\n",
       "    .dataframe tbody tr th {\n",
       "        vertical-align: top;\n",
       "    }\n",
       "\n",
       "    .dataframe thead th {\n",
       "        text-align: right;\n",
       "    }\n",
       "</style>\n",
       "<table border=\"1\" class=\"dataframe\">\n",
       "  <thead>\n",
       "    <tr style=\"text-align: right;\">\n",
       "      <th></th>\n",
       "      <th>Source_exp</th>\n",
       "    </tr>\n",
       "  </thead>\n",
       "  <tbody>\n",
       "    <tr>\n",
       "      <th>5</th>\n",
       "      <td>0.0</td>\n",
       "    </tr>\n",
       "    <tr>\n",
       "      <th>9</th>\n",
       "      <td>26.0</td>\n",
       "    </tr>\n",
       "    <tr>\n",
       "      <th>10</th>\n",
       "      <td>60.0</td>\n",
       "    </tr>\n",
       "    <tr>\n",
       "      <th>11</th>\n",
       "      <td>29.0</td>\n",
       "    </tr>\n",
       "    <tr>\n",
       "      <th>12</th>\n",
       "      <td>2.0</td>\n",
       "    </tr>\n",
       "    <tr>\n",
       "      <th>...</th>\n",
       "      <td>...</td>\n",
       "    </tr>\n",
       "    <tr>\n",
       "      <th>197389</th>\n",
       "      <td>28.0</td>\n",
       "    </tr>\n",
       "    <tr>\n",
       "      <th>197635</th>\n",
       "      <td>114.0</td>\n",
       "    </tr>\n",
       "    <tr>\n",
       "      <th>197638</th>\n",
       "      <td>115.0</td>\n",
       "    </tr>\n",
       "    <tr>\n",
       "      <th>197640</th>\n",
       "      <td>116.0</td>\n",
       "    </tr>\n",
       "    <tr>\n",
       "      <th>197641</th>\n",
       "      <td>117.0</td>\n",
       "    </tr>\n",
       "  </tbody>\n",
       "</table>\n",
       "<p>53835 rows × 1 columns</p>\n",
       "</div>"
      ],
      "text/plain": [
       "        Source_exp\n",
       "5              0.0\n",
       "9             26.0\n",
       "10            60.0\n",
       "11            29.0\n",
       "12             2.0\n",
       "...            ...\n",
       "197389        28.0\n",
       "197635       114.0\n",
       "197638       115.0\n",
       "197640       116.0\n",
       "197641       117.0\n",
       "\n",
       "[53835 rows x 1 columns]"
      ]
     },
     "execution_count": 322,
     "metadata": {},
     "output_type": "execute_result"
    }
   ],
   "source": [
    "df_all_dependencies.loc[(df_all_dependencies[\"is_cross\"]==True)&(df_all_dependencies[\"is_same_dev\"]==\"Same\"), [\"Source_exp\"]]"
   ]
  },
  {
   "cell_type": "code",
   "execution_count": 92,
   "metadata": {},
   "outputs": [],
   "source": [
    "df_all_dependencies[\"max\"] = df_all_dependencies[[\"Source_exp\", \"Target_exp\"]].apply(lambda row: max(row.values), axis=1)\n",
    "df_all_dependencies[\"min\"] = df_all_dependencies[[\"Source_exp\", \"Target_exp\"]].apply(lambda row: min(row.values), axis=1)\n",
    "df_all_dependencies[\"max_min\"] = df_all_dependencies.loc[(df_all_dependencies[\"is_cross\"]==True)&(df_all_dependencies[\"is_same_dev\"]==True), [\"min\", \"max\"]].apply(lambda row: row[\"max\"]/row[\"min\"] if row[\"min\"] != 0 else 0, axis=1)"
   ]
  },
  {
   "cell_type": "code",
   "execution_count": 93,
   "metadata": {},
   "outputs": [],
   "source": [
    "df_all_dependencies[\"change_size\"] = df_all_dependencies.loc[(df_all_dependencies[\"is_cross\"]==True)&(df_all_dependencies[\"is_same_dev\"]==\"Same\"),[\"Source_exp\", \"Target_exp\", \"Source_churn\", \"Target_churn\"]].apply(identify_change_size, axis=1)"
   ]
  },
  {
   "cell_type": "code",
   "execution_count": 9,
   "metadata": {},
   "outputs": [],
   "source": [
    "df_all_dependencies[\"Source_duration\"] = df_all_dependencies.loc[(df_all_dependencies[\"is_cross\"]==True), \"Source\"].map(compute_review_duration)\n",
    "df_all_dependencies[\"Target_duration\"] = df_all_dependencies.loc[(df_all_dependencies[\"is_cross\"]==True), \"Target\"].map(compute_review_duration)"
   ]
  },
  {
   "cell_type": "code",
   "execution_count": 265,
   "metadata": {},
   "outputs": [],
   "source": [
    "df_all_dependencies[\"merge_duration_diff\"] = df_all_dependencies.loc[(df_all_dependencies[\"is_cross\"]==True)&(df_all_dependencies[\"is_same_dev\"]==\"Different\"),[\"Source_exp\", \"Target_exp\", \"Source_duration\", \"Target_duration\"]].apply(identify_merge_duration, axis=1)"
   ]
  },
  {
   "cell_type": "code",
   "execution_count": 285,
   "metadata": {},
   "outputs": [],
   "source": [
    "df_all_dependencies[\"Source_revisions\"] = df_all_dependencies.loc[(df_all_dependencies[\"is_cross\"]==True), \"Source\"].map(lambda nbr: df.loc[df[\"number\"]==nbr,\"revisions_count\"].values[0])\n",
    "df_all_dependencies[\"Target_revisions\"] = df_all_dependencies.loc[(df_all_dependencies[\"is_cross\"]==True), \"Target\"].map(lambda nbr: df.loc[df[\"number\"]==nbr,\"revisions_count\"].values[0])"
   ]
  },
  {
   "cell_type": "code",
   "execution_count": 108,
   "metadata": {},
   "outputs": [],
   "source": [
    "df_all_dependencies[\"intersect_rev\"] = df_all_dependencies[[\"Source_reviewers\", \"Target_reviewers\"]].apply(compute_intersection, axis=1)"
   ]
  },
  {
   "cell_type": "code",
   "execution_count": 171,
   "metadata": {},
   "outputs": [],
   "source": [
    "df_all_dependencies[\"is_source_upload\"] = df_all_dependencies[[\"Source_developer\", \"Target\"]].apply(identify_review_kind, axis=1, args=(\"UPLOAD\",))\n",
    "df_all_dependencies[\"is_source_comment\"] = df_all_dependencies[[\"Source_developer\", \"Target\"]].apply(identify_review_kind, axis=1, args=(\"COMMENT\",))\n",
    "df_all_dependencies[\"is_source_rate\"] = df_all_dependencies[[\"Source_developer\", \"Target\"]].apply(identify_review_kind, axis=1, args=(\"RATE\",))\n",
    "\n",
    "df_all_dependencies[\"is_target_upload\"] = df_all_dependencies[[\"Target_developer\", \"Source\"]].apply(identify_review_kind, axis=1, args=(\"UPLOAD\",))\n",
    "df_all_dependencies[\"is_target_comment\"] = df_all_dependencies[[\"Target_developer\", \"Source\"]].apply(identify_review_kind, axis=1, args=(\"COMMENT\",))\n",
    "df_all_dependencies[\"is_target_rate\"] = df_all_dependencies[[\"Target_developer\", \"Source\"]].apply(identify_review_kind, axis=1, args=(\"RATE\",))"
   ]
  },
  {
   "cell_type": "code",
   "execution_count": 337,
   "metadata": {},
   "outputs": [],
   "source": [
    "df_all_dependencies[\"Churn_less\"] = df_all_dependencies[[\"Source_exp\", \"Target_exp\", \"Source_churn\", \"Target_churn\"]].apply(identify_less_more_exp_metrics, axis=1, args=(\"LESS\",))\n",
    "df_all_dependencies[\"Churn_more\"] = df_all_dependencies[[\"Source_exp\", \"Target_exp\", \"Source_churn\", \"Target_churn\"]].apply(identify_less_more_exp_metrics, axis=1, args=(\"MORE\",))\n",
    "df_all_dependencies[\"Duration_less\"] = df_all_dependencies[[\"Source_exp\", \"Target_exp\", \"Source_duration\", \"Target_duration\"]].apply(identify_less_more_exp_metrics, axis=1, args=(\"LESS\",))\n",
    "df_all_dependencies[\"Duration_more\"] = df_all_dependencies[[\"Source_exp\", \"Target_exp\", \"Source_duration\", \"Target_duration\"]].apply(identify_less_more_exp_metrics, axis=1, args=(\"MORE\",))\n",
    "df_all_dependencies[\"Revisions_less\"] = df_all_dependencies[[\"Source_exp\", \"Target_exp\", \"Source_revisions\", \"Target_revisions\"]].apply(identify_less_more_exp_metrics, axis=1, args=(\"LESS\",))\n",
    "df_all_dependencies[\"Revisions_more\"] = df_all_dependencies[[\"Source_exp\", \"Target_exp\", \"Source_revisions\", \"Target_revisions\"]].apply(identify_less_more_exp_metrics, axis=1, args=(\"MORE\",))"
   ]
  },
  {
   "cell_type": "code",
   "execution_count": 7,
   "metadata": {},
   "outputs": [],
   "source": [
    "df_all_dependencies[\"lag\"] = df_all_dependencies[[\"Source_datetime\", \"Target_datetime\"]].apply(lambda row: time_diff(row[0][0:-10], row[1][0:-10]), axis=1)"
   ]
  },
  {
   "cell_type": "code",
   "execution_count": 11,
   "metadata": {},
   "outputs": [
    {
     "data": {
      "text/html": [
       "<div>\n",
       "<style scoped>\n",
       "    .dataframe tbody tr th:only-of-type {\n",
       "        vertical-align: middle;\n",
       "    }\n",
       "\n",
       "    .dataframe tbody tr th {\n",
       "        vertical-align: top;\n",
       "    }\n",
       "\n",
       "    .dataframe thead th {\n",
       "        text-align: right;\n",
       "    }\n",
       "</style>\n",
       "<table border=\"1\" class=\"dataframe\">\n",
       "  <thead>\n",
       "    <tr style=\"text-align: right;\">\n",
       "      <th></th>\n",
       "      <th>Source</th>\n",
       "      <th>Target</th>\n",
       "      <th>Source_developer</th>\n",
       "      <th>Target_developer</th>\n",
       "      <th>Source_rev_target</th>\n",
       "      <th>Target_rev_source</th>\n",
       "      <th>is_source_rate</th>\n",
       "      <th>is_target_rate</th>\n",
       "      <th>is_source_comment</th>\n",
       "      <th>is_target_comment</th>\n",
       "    </tr>\n",
       "  </thead>\n",
       "  <tbody>\n",
       "    <tr>\n",
       "      <th>1103</th>\n",
       "      <td>831935</td>\n",
       "      <td>844680</td>\n",
       "      <td>9708</td>\n",
       "      <td>29870</td>\n",
       "      <td>True</td>\n",
       "      <td>False</td>\n",
       "      <td>False</td>\n",
       "      <td>False</td>\n",
       "      <td>False</td>\n",
       "      <td>False</td>\n",
       "    </tr>\n",
       "    <tr>\n",
       "      <th>1415</th>\n",
       "      <td>835073</td>\n",
       "      <td>834176</td>\n",
       "      <td>16515</td>\n",
       "      <td>34647</td>\n",
       "      <td>True</td>\n",
       "      <td>False</td>\n",
       "      <td>False</td>\n",
       "      <td>False</td>\n",
       "      <td>False</td>\n",
       "      <td>False</td>\n",
       "    </tr>\n",
       "    <tr>\n",
       "      <th>1446</th>\n",
       "      <td>803761</td>\n",
       "      <td>823645</td>\n",
       "      <td>32926</td>\n",
       "      <td>16515</td>\n",
       "      <td>True</td>\n",
       "      <td>True</td>\n",
       "      <td>False</td>\n",
       "      <td>False</td>\n",
       "      <td>False</td>\n",
       "      <td>False</td>\n",
       "    </tr>\n",
       "    <tr>\n",
       "      <th>1683</th>\n",
       "      <td>835425</td>\n",
       "      <td>835249</td>\n",
       "      <td>29775</td>\n",
       "      <td>32926</td>\n",
       "      <td>True</td>\n",
       "      <td>False</td>\n",
       "      <td>False</td>\n",
       "      <td>False</td>\n",
       "      <td>False</td>\n",
       "      <td>False</td>\n",
       "    </tr>\n",
       "    <tr>\n",
       "      <th>1735</th>\n",
       "      <td>835475</td>\n",
       "      <td>835974</td>\n",
       "      <td>8367</td>\n",
       "      <td>14611</td>\n",
       "      <td>True</td>\n",
       "      <td>False</td>\n",
       "      <td>False</td>\n",
       "      <td>False</td>\n",
       "      <td>False</td>\n",
       "      <td>False</td>\n",
       "    </tr>\n",
       "    <tr>\n",
       "      <th>...</th>\n",
       "      <td>...</td>\n",
       "      <td>...</td>\n",
       "      <td>...</td>\n",
       "      <td>...</td>\n",
       "      <td>...</td>\n",
       "      <td>...</td>\n",
       "      <td>...</td>\n",
       "      <td>...</td>\n",
       "      <td>...</td>\n",
       "      <td>...</td>\n",
       "    </tr>\n",
       "    <tr>\n",
       "      <th>193684</th>\n",
       "      <td>98882</td>\n",
       "      <td>99345</td>\n",
       "      <td>1561</td>\n",
       "      <td>9656</td>\n",
       "      <td>True</td>\n",
       "      <td>False</td>\n",
       "      <td>False</td>\n",
       "      <td>False</td>\n",
       "      <td>False</td>\n",
       "      <td>False</td>\n",
       "    </tr>\n",
       "    <tr>\n",
       "      <th>193686</th>\n",
       "      <td>98882</td>\n",
       "      <td>99348</td>\n",
       "      <td>1561</td>\n",
       "      <td>9656</td>\n",
       "      <td>True</td>\n",
       "      <td>False</td>\n",
       "      <td>False</td>\n",
       "      <td>False</td>\n",
       "      <td>False</td>\n",
       "      <td>False</td>\n",
       "    </tr>\n",
       "    <tr>\n",
       "      <th>194883</th>\n",
       "      <td>415607</td>\n",
       "      <td>450203</td>\n",
       "      <td>9414</td>\n",
       "      <td>1004</td>\n",
       "      <td>True</td>\n",
       "      <td>False</td>\n",
       "      <td>False</td>\n",
       "      <td>False</td>\n",
       "      <td>False</td>\n",
       "      <td>False</td>\n",
       "    </tr>\n",
       "    <tr>\n",
       "      <th>194972</th>\n",
       "      <td>7889</td>\n",
       "      <td>9906</td>\n",
       "      <td>1561</td>\n",
       "      <td>1247</td>\n",
       "      <td>True</td>\n",
       "      <td>True</td>\n",
       "      <td>False</td>\n",
       "      <td>False</td>\n",
       "      <td>False</td>\n",
       "      <td>False</td>\n",
       "    </tr>\n",
       "    <tr>\n",
       "      <th>196105</th>\n",
       "      <td>190472</td>\n",
       "      <td>209791</td>\n",
       "      <td>12898</td>\n",
       "      <td>9303</td>\n",
       "      <td>True</td>\n",
       "      <td>True</td>\n",
       "      <td>False</td>\n",
       "      <td>False</td>\n",
       "      <td>False</td>\n",
       "      <td>False</td>\n",
       "    </tr>\n",
       "  </tbody>\n",
       "</table>\n",
       "<p>1669 rows × 10 columns</p>\n",
       "</div>"
      ],
      "text/plain": [
       "        Source  Target  Source_developer  Target_developer  Source_rev_target  \\\n",
       "1103    831935  844680              9708             29870               True   \n",
       "1415    835073  834176             16515             34647               True   \n",
       "1446    803761  823645             32926             16515               True   \n",
       "1683    835425  835249             29775             32926               True   \n",
       "1735    835475  835974              8367             14611               True   \n",
       "...        ...     ...               ...               ...                ...   \n",
       "193684   98882   99345              1561              9656               True   \n",
       "193686   98882   99348              1561              9656               True   \n",
       "194883  415607  450203              9414              1004               True   \n",
       "194972    7889    9906              1561              1247               True   \n",
       "196105  190472  209791             12898              9303               True   \n",
       "\n",
       "        Target_rev_source  is_source_rate  is_target_rate  is_source_comment  \\\n",
       "1103                False           False           False              False   \n",
       "1415                False           False           False              False   \n",
       "1446                 True           False           False              False   \n",
       "1683                False           False           False              False   \n",
       "1735                False           False           False              False   \n",
       "...                   ...             ...             ...                ...   \n",
       "193684              False           False           False              False   \n",
       "193686              False           False           False              False   \n",
       "194883              False           False           False              False   \n",
       "194972               True           False           False              False   \n",
       "196105               True           False           False              False   \n",
       "\n",
       "        is_target_comment  \n",
       "1103                False  \n",
       "1415                False  \n",
       "1446                False  \n",
       "1683                False  \n",
       "1735                False  \n",
       "...                   ...  \n",
       "193684              False  \n",
       "193686              False  \n",
       "194883              False  \n",
       "194972              False  \n",
       "196105              False  \n",
       "\n",
       "[1669 rows x 10 columns]"
      ]
     },
     "execution_count": 11,
     "metadata": {},
     "output_type": "execute_result"
    }
   ],
   "source": [
    "df_all_dependencies.loc[(df_all_dependencies[\"is_cross\"] == True) &\n",
    "                    (df_all_dependencies[\"is_same_dev\"] == \"Different\") &\n",
    "                    (df_all_dependencies[\"Source_status\"] == \"MERGED\") &\n",
    "                    (df_all_dependencies[\"Target_status\"] == \"MERGED\") &\n",
    "                    (df_all_dependencies[\"is_source_bot\"] == False) &\n",
    "                    (df_all_dependencies[\"is_target_bot\"] == False) &\n",
    "                    (df_all_dependencies[\"is_source_rate\"] == False) &\n",
    "                    (df_all_dependencies[\"is_target_rate\"] == False) &\n",
    "                    (df_all_dependencies[\"is_source_comment\"] == False) &\n",
    "                    (df_all_dependencies[\"is_target_comment\"] == False) &\n",
    "                    ((df_all_dependencies[\"Source_rev_target\"] == True)| \n",
    "                     (df_all_dependencies[\"Target_rev_source\"] == True)), [\"Source\", \"Target\", \"Source_developer\", \"Target_developer\", \"Source_rev_target\", \"Target_rev_source\", \"is_source_rate\", \"is_target_rate\", \"is_source_comment\", \"is_target_comment\"]]"
   ]
  },
  {
   "cell_type": "code",
   "execution_count": 9,
   "metadata": {},
   "outputs": [],
   "source": [
    "df_all_dependencies[\"is_same_dev\"] = df_all_dependencies[\"is_same_dev\"].map(lambda x: \"Same\" if x == True else \"Different\")\n",
    "df_all_dependencies[\"is_cross\"] = df_all_dependencies[\"is_cross\"].map(lambda x: \"Cross\" if x == True else \"Within\")\n",
    "df_all_dependencies[\"is_cross_service\"] = df_all_dependencies[\"is_cross_service\"].map(lambda x: \"Cross\" if x == True else \"Within\")"
   ]
  },
  {
   "cell_type": "code",
   "execution_count": 10,
   "metadata": {},
   "outputs": [],
   "source": [
    "df_all_dependencies_source = df_all_dependencies.loc[\n",
    "    (df_all_dependencies[\"is_cross\"] == True) &\n",
    "    (df_all_dependencies[\"Source_status\"] == \"MERGED\") &\n",
    "    (df_all_dependencies[\"Target_status\"] == \"MERGED\") &\n",
    "    (df_all_dependencies[\"is_source_bot\"] == False) &\n",
    "    (df_all_dependencies[\"is_target_bot\"] == False), [\"Source\", \"is_same_dev\", \"Source_churn\", \"Source_revisions\", \"Source_duration\", \"Label\"]]\n",
    "df_all_dependencies_source[\"Project_type\"] = \"Source\"\n",
    "df_all_dependencies_source.rename(columns={\"Source\": \"Number\", \"Source_churn\": \"Churn\", \"Source_revisions\": \"Revisions\", \"Source_duration\": \"Duration\"}, inplace=True)\n",
    "\n",
    "df_all_dependencies_target = df_all_dependencies.loc[\n",
    "    (df_all_dependencies[\"is_cross\"] == True) &\n",
    "    (df_all_dependencies[\"Source_status\"] == \"MERGED\") &\n",
    "    (df_all_dependencies[\"Target_status\"] == \"MERGED\") &\n",
    "    (df_all_dependencies[\"is_source_bot\"] == False) &\n",
    "    (df_all_dependencies[\"is_target_bot\"] == False) , [\"Target\", \"is_same_dev\", \"Target_churn\", \"Target_revisions\", \"Target_duration\", \"Label\"]]\n",
    "df_all_dependencies_target[\"Project_type\"] = \"Target\"\n",
    "df_all_dependencies_target.rename(columns={\"Target\": \"Number\", \"Target_churn\": \"Churn\", \"Target_revisions\": \"Revisions\", \"Target_duration\": \"Duration\"}, inplace=True)"
   ]
  },
  {
   "cell_type": "code",
   "execution_count": 11,
   "metadata": {},
   "outputs": [],
   "source": [
    "df_all_dependencies.to_csv(\"./Files/all_dependencies.csv\", index=False)"
   ]
  },
  {
   "cell_type": "code",
   "execution_count": 12,
   "metadata": {},
   "outputs": [],
   "source": [
    "df_all_dependencies_summarized = pd.concat((df_all_dependencies_source, df_all_dependencies_target))"
   ]
  },
  {
   "cell_type": "code",
   "execution_count": 13,
   "metadata": {},
   "outputs": [],
   "source": [
    "df_all_dependencies_summarized.to_csv(\"./Files/all_dependencies_summarized.csv\", index=False)"
   ]
  },
  {
   "cell_type": "code",
   "execution_count": 318,
   "metadata": {},
   "outputs": [
    {
     "data": {
      "text/plain": [
       "Churn        10.00\n",
       "Duration      2.12\n",
       "Revisions     2.00\n",
       "dtype: float64"
      ]
     },
     "execution_count": 318,
     "metadata": {},
     "output_type": "execute_result"
    }
   ],
   "source": [
    "df_all_dependencies_summarized.loc[(df_all_dependencies_summarized[\"Project_type\"]==\"Target\")&(df_all_dependencies_summarized[\"is_same_dev\"]!=\"Same\"), [\"Churn\", \"Duration\", \"Revisions\"]].median()"
   ]
  },
  {
   "cell_type": "code",
   "execution_count": 5,
   "metadata": {},
   "outputs": [],
   "source": [
    "extended_paths_number = pd.read_csv(\"./Files/Number/extended_merged.csv\")\n",
    "extended_paths_number[\"Path\"] = extended_paths_number.Path.map(ast.literal_eval)"
   ]
  },
  {
   "cell_type": "code",
   "execution_count": 6,
   "metadata": {},
   "outputs": [],
   "source": [
    "depended_changes = set(hpr.flatten_list(extended_paths_number.Path.values))\n",
    "# all_dependencies = pd.read_csv(\"./Files/all_dependencies.csv\")"
   ]
  },
  {
   "attachments": {},
   "cell_type": "markdown",
   "metadata": {},
   "source": [
    "#### Number of cross/within-project changes"
   ]
  },
  {
   "cell_type": "code",
   "execution_count": 36,
   "metadata": {},
   "outputs": [],
   "source": [
    "cross_project_changes = list(set(hpr.flatten_list(df_all_dependencies.loc[df_all_dependencies[\"is_cross\"]==\"Cross\", [\"Source\", \"Target\"]].values)))# *100/ 165033\n",
    "single_project_changes = list(depended_changes.difference(cross_project_changes))"
   ]
  },
  {
   "attachments": {},
   "cell_type": "markdown",
   "metadata": {},
   "source": [
    "#### Number of cross/within-service changes"
   ]
  },
  {
   "cell_type": "code",
   "execution_count": 105,
   "metadata": {},
   "outputs": [],
   "source": [
    "cross_service_changes = list(set(hpr.flatten_list(df_all_dependencies.loc[df_all_dependencies[\"is_cross_service\"]==\"Cross\", [\"Source\", \"Target\"]].values)))# *100/ 165033\n",
    "single_service_changes = list(set(hpr.flatten_list(df_all_dependencies.loc[df_all_dependencies[\"is_cross_service\"]==\"Within\", [\"Source\", \"Target\"]].values)).difference(cross_project_changes))"
   ]
  },
  {
   "cell_type": "code",
   "execution_count": 107,
   "metadata": {},
   "outputs": [
    {
     "data": {
      "text/plain": [
       "15628"
      ]
     },
     "execution_count": 107,
     "metadata": {},
     "output_type": "execute_result"
    }
   ],
   "source": [
    "len(cross_service_changes)"
   ]
  },
  {
   "cell_type": "code",
   "execution_count": 101,
   "metadata": {},
   "outputs": [],
   "source": [
    "cross_project_change_abandoned = 0\n",
    "for change in cross_project_changes:\n",
    "    status = df.loc[df[\"number\"]==change, \"status\"].values[0]\n",
    "    if status == \"ABANDONED\":\n",
    "        cross_project_change_abandoned += 1\n",
    "\n",
    "single_project_change_abandoned = 0\n",
    "for change in single_project_changes:\n",
    "    status = df.loc[df[\"number\"]==change, \"status\"].values[0]\n",
    "    if status == \"ABANDONED\":\n",
    "        single_project_change_abandoned += 1"
   ]
  },
  {
   "cell_type": "code",
   "execution_count": 108,
   "metadata": {},
   "outputs": [],
   "source": [
    "cross_service_change_abandoned = 0\n",
    "for change in cross_service_changes:\n",
    "    status = df.loc[df[\"number\"]==change, \"status\"].values[0]\n",
    "    if status == \"ABANDONED\":\n",
    "        cross_service_change_abandoned += 1\n",
    "\n",
    "single_service_change_abandoned = 0\n",
    "for change in single_service_changes:\n",
    "    status = df.loc[df[\"number\"]==change, \"status\"].values[0]\n",
    "    if status == \"ABANDONED\":\n",
    "        single_service_change_abandoned += 1"
   ]
  },
  {
   "attachments": {},
   "cell_type": "markdown",
   "metadata": {},
   "source": [
    "### % of abndoned cross-project/service dependent changes"
   ]
  },
  {
   "attachments": {},
   "cell_type": "markdown",
   "metadata": {},
   "source": [
    "##### Within/cross-project"
   ]
  },
  {
   "cell_type": "code",
   "execution_count": 110,
   "metadata": {},
   "outputs": [
    {
     "data": {
      "text/plain": [
       "0.2079356238836928"
      ]
     },
     "execution_count": 110,
     "metadata": {},
     "output_type": "execute_result"
    }
   ],
   "source": [
    "cross_project_change_abandoned/len(cross_project_changes)"
   ]
  },
  {
   "cell_type": "code",
   "execution_count": null,
   "metadata": {},
   "outputs": [],
   "source": [
    "single_project_change_abandoned/len(single_project_changes)"
   ]
  },
  {
   "attachments": {},
   "cell_type": "markdown",
   "metadata": {},
   "source": [
    "##### Within/cross-service"
   ]
  },
  {
   "cell_type": "code",
   "execution_count": 109,
   "metadata": {},
   "outputs": [
    {
     "data": {
      "text/plain": [
       "0.2595341694394676"
      ]
     },
     "execution_count": 109,
     "metadata": {},
     "output_type": "execute_result"
    }
   ],
   "source": [
    "cross_service_change_abandoned/len(cross_service_changes)"
   ]
  },
  {
   "cell_type": "code",
   "execution_count": 112,
   "metadata": {},
   "outputs": [
    {
     "data": {
      "text/plain": [
       "0.07796035739960974"
      ]
     },
     "execution_count": 112,
     "metadata": {},
     "output_type": "execute_result"
    }
   ],
   "source": [
    "single_service_change_abandoned/len(single_service_changes)"
   ]
  },
  {
   "attachments": {},
   "cell_type": "markdown",
   "metadata": {},
   "source": [
    "##### Ordinary changes"
   ]
  },
  {
   "cell_type": "code",
   "execution_count": null,
   "metadata": {},
   "outputs": [],
   "source": [
    "abandoned_ordinary_change_numbers = df.loc[(~df[\"number\"].isin(depended_changes))&(df[\"status\"]==\"ABANDONED\"), \"number\"].values\n",
    "ordinary_change_numbers = df.loc[(~df[\"number\"].isin(depended_changes)), \"number\"].values\n",
    "\n",
    "len(abandoned_ordinary_change_numbers)/len(ordinary_change_numbers)"
   ]
  },
  {
   "attachments": {},
   "cell_type": "markdown",
   "metadata": {},
   "source": [
    "#### the # of cross and single-service dependent changes"
   ]
  },
  {
   "cell_type": "code",
   "execution_count": 12,
   "metadata": {},
   "outputs": [],
   "source": [
    "cross_single_service_changes_count = {\"cross\":0, \"single\": 0}"
   ]
  },
  {
   "cell_type": "code",
   "execution_count": null,
   "metadata": {},
   "outputs": [],
   "source": [
    "for dc in depended_changes:\n",
    "    services = set(\n",
    "        hpr.flatten_list(\n",
    "            df_all_dependencies.loc[(df_all_dependencies[\"is_cross_service\"].notnull()) &\n",
    "                                 ((df_all_dependencies[\"Source\"] == dc) |\n",
    "                                  (df_all_dependencies[\"Target\"] == dc)),\n",
    "                                 [\"Source_service\", \"Target_service\"]].values))\n",
    "    if len(services) == 1:\n",
    "        cross_single_service_changes_count[\"single\"] += 1\n",
    "    elif len(services) > 1:\n",
    "        cross_single_service_changes_count[\"cross\"] += 1"
   ]
  },
  {
   "cell_type": "code",
   "execution_count": 27,
   "metadata": {},
   "outputs": [
    {
     "data": {
      "text/plain": [
       "52069"
      ]
     },
     "execution_count": 27,
     "metadata": {},
     "output_type": "execute_result"
    }
   ],
   "source": [
    "len(set(hpr.flatten_list(\n",
    "            df_all_dependencies.loc[df_all_dependencies[\"is_cross\"]==\"Cross\",\n",
    "                                 [\"Source\", \"Target\"]].values)))"
   ]
  },
  {
   "cell_type": "code",
   "execution_count": 420,
   "metadata": {},
   "outputs": [
    {
     "data": {
      "text/plain": [
       "{'cross': 15617, 'single': 123849}"
      ]
     },
     "execution_count": 420,
     "metadata": {},
     "output_type": "execute_result"
    }
   ],
   "source": [
    "cross_single_service_changes_count"
   ]
  },
  {
   "cell_type": "code",
   "execution_count": 4,
   "metadata": {},
   "outputs": [
    {
     "data": {
      "text/plain": [
       "0.11197711270130355"
      ]
     },
     "execution_count": 4,
     "metadata": {},
     "output_type": "execute_result"
    }
   ],
   "source": [
    "15617/(15617+123849)"
   ]
  },
  {
   "cell_type": "code",
   "execution_count": 429,
   "metadata": {},
   "outputs": [
    {
     "data": {
      "text/plain": [
       "28092"
      ]
     },
     "execution_count": 429,
     "metadata": {},
     "output_type": "execute_result"
    }
   ],
   "source": [
    "len(all_dependencies[all_dependencies[\"Service_source\"].notnull()&all_dependencies[\"Service_target\"].notnull()&(all_dependencies[\"Service_source\"]!=all_dependencies[\"Service_target\"])])"
   ]
  },
  {
   "attachments": {},
   "cell_type": "markdown",
   "metadata": {},
   "source": [
    "#### Cross and single-service dependencies"
   ]
  },
  {
   "cell_type": "code",
   "execution_count": 63,
   "metadata": {},
   "outputs": [
    {
     "data": {
      "text/plain": [
       "7.8160025984122"
      ]
     },
     "execution_count": 63,
     "metadata": {},
     "output_type": "execute_result"
    }
   ],
   "source": [
    "len(null_services_dependencies)*100/(len(services_dependencies)+len(null_services_dependencies))"
   ]
  },
  {
   "cell_type": "code",
   "execution_count": 64,
   "metadata": {},
   "outputs": [
    {
     "name": "stderr",
     "output_type": "stream",
     "text": [
      "/var/folders/p4/wn9d12jj6g78td0tl7gx7xlw0000gp/T/ipykernel_1161/1314941556.py:1: SettingWithCopyWarning: \n",
      "A value is trying to be set on a copy of a slice from a DataFrame.\n",
      "Try using .loc[row_indexer,col_indexer] = value instead\n",
      "\n",
      "See the caveats in the documentation: https://pandas.pydata.org/pandas-docs/stable/user_guide/indexing.html#returning-a-view-versus-a-copy\n",
      "  services_dependencies[\"is_cross\"] = services_dependencies.apply(lambda row: True if row[\"Service_source\"]!=row[\"Service_target\"] else False, axis=1)\n"
     ]
    }
   ],
   "source": [
    "services_dependencies[\"is_cross\"] = services_dependencies.apply(lambda row: True if row[\"Service_source\"]!=row[\"Service_target\"] else False, axis=1)"
   ]
  },
  {
   "cell_type": "code",
   "execution_count": 67,
   "metadata": {},
   "outputs": [],
   "source": [
    "services_dependencies_count = {\"cross\": 0, \"single\": 0}\n",
    "services_dependencies_count[\"cross\"] = len(services_dependencies[services_dependencies[\"is_cross\"]==True])\n",
    "services_dependencies_count[\"single\"] = len(services_dependencies[services_dependencies[\"is_cross\"]==False])"
   ]
  },
  {
   "cell_type": "code",
   "execution_count": 68,
   "metadata": {},
   "outputs": [
    {
     "name": "stdout",
     "output_type": "stream",
     "text": [
      "Cross-service dependencies: 16.23 \n",
      "Single-service dependencies: 83.77 \n"
     ]
    }
   ],
   "source": [
    "print(\"Cross-service dependencies: %.2f \" %(services_dependencies_count[\"cross\"]*100/(services_dependencies_count[\"cross\"]+services_dependencies_count[\"single\"])))\n",
    "print(\"Single-service dependencies: %.2f \" %(services_dependencies_count[\"single\"]*100/(services_dependencies_count[\"cross\"]+services_dependencies_count[\"single\"])))"
   ]
  },
  {
   "cell_type": "code",
   "execution_count": 71,
   "metadata": {},
   "outputs": [
    {
     "data": {
      "text/plain": [
       "56184"
      ]
     },
     "execution_count": 71,
     "metadata": {},
     "output_type": "execute_result"
    }
   ],
   "source": [
    "services_dependencies_count[\"cross\"]*2"
   ]
  },
  {
   "attachments": {},
   "cell_type": "markdown",
   "metadata": {
    "tags": []
   },
   "source": [
    "### How many changes are related to co-changing components ?"
   ]
  },
  {
   "cell_type": "code",
   "execution_count": 26,
   "metadata": {},
   "outputs": [],
   "source": [
    "online_repositories = pd.read_csv(\"./all_os_components.csv\")\n",
    "\n",
    "online_repositories[\"related_projects\"] = online_repositories[\"related_projects\"].apply(ast.literal_eval)\n",
    "\n",
    "online_repositories = dict(zip(online_repositories[\"main_project\"].values.reshape(-1), online_repositories[\"related_projects\"].values))\n",
    "\n",
    "def invert_projects_services():\n",
    "    return {\"openstack/%s\" % p:service for service, projects in online_repositories.items() for p in projects}\n",
    "\n",
    "project_services_inv = invert_projects_services()"
   ]
  },
  {
   "cell_type": "code",
   "execution_count": 30,
   "metadata": {},
   "outputs": [],
   "source": [
    "def compute_array_length(row):\n",
    "    return len(set(row[\"Path\"]))\n",
    "\n",
    "def compute_array_length_services(row):\n",
    "    projects = df.loc[df[\"number\"].isin(row[\"Path\"]), \"project\"].unique()\n",
    "    services = [project_services_inv.get(p) for p in projects]\n",
    "    return len(set(services))"
   ]
  },
  {
   "cell_type": "code",
   "execution_count": 441,
   "metadata": {},
   "outputs": [],
   "source": [
    "extended_paths_number = pd.read_csv(\"./Files/Number/extended_merged.csv\")\n",
    "\n",
    "extended_paths_number[\"Path\"] = extended_paths_number[\"Path\"].apply(ast.literal_eval)\n",
    "\n",
    "extended_paths_number[\"length\"] = extended_paths_number.apply(compute_array_length, axis=1)\n",
    "# co_changing_components_changes = list(dict.fromkeys(hpr.flatten_list(co_changing_components_changes)))"
   ]
  },
  {
   "cell_type": "code",
   "execution_count": 31,
   "metadata": {},
   "outputs": [],
   "source": [
    "extended_paths_number[\"length_service\"] = extended_paths_number.apply(compute_array_length_services, axis=1)"
   ]
  },
  {
   "cell_type": "code",
   "execution_count": 442,
   "metadata": {},
   "outputs": [],
   "source": [
    "extended_paths_repo = extended_paths_number.copy()"
   ]
  },
  {
   "cell_type": "code",
   "execution_count": 443,
   "metadata": {},
   "outputs": [],
   "source": [
    "extended_paths_repo[\"Path\"] = extended_paths_repo.Path.map(lambda path: df.loc[df[\"number\"].isin(path), \"project\"].unique())"
   ]
  },
  {
   "cell_type": "code",
   "execution_count": 458,
   "metadata": {},
   "outputs": [],
   "source": [
    "extended_paths_repo[\"length\"] = extended_paths_repo.apply(compute_array_length, axis=1)\n",
    "extended_paths_repo[\"length_service\"] = extended_paths_repo.apply(compute_array_length_services, axis=1)\n",
    "# co_changing_components_changes = extended_paths_number.loc[extended_paths_number[\"length\"] > 1]\n",
    "# co_changing_components_changes = list(dict.fromkeys(hpr.flatten_list(co_changing_components_changes[\"Path\"].values)))"
   ]
  },
  {
   "cell_type": "code",
   "execution_count": 449,
   "metadata": {},
   "outputs": [],
   "source": [
    "# len(\n",
    "cross_project_deps = extended_paths_repo[extended_paths_repo[\"length\"]>1]\n",
    "# /len(extended_paths_repo)"
   ]
  },
  {
   "cell_type": "code",
   "execution_count": 450,
   "metadata": {},
   "outputs": [
    {
     "name": "stderr",
     "output_type": "stream",
     "text": [
      "/var/folders/p4/wn9d12jj6g78td0tl7gx7xlw0000gp/T/ipykernel_1161/2205677214.py:1: SettingWithCopyWarning: \n",
      "A value is trying to be set on a copy of a slice from a DataFrame.\n",
      "Try using .loc[row_indexer,col_indexer] = value instead\n",
      "\n",
      "See the caveats in the documentation: https://pandas.pydata.org/pandas-docs/stable/user_guide/indexing.html#returning-a-view-versus-a-copy\n",
      "  cross_project_deps[\"service_length\"] = cross_project_deps.apply(compute_array_length_services, axis=1)\n"
     ]
    }
   ],
   "source": [
    "cross_project_deps[\"service_length\"] = cross_project_deps.apply(compute_array_length_services, axis=1)"
   ]
  },
  {
   "cell_type": "code",
   "execution_count": 456,
   "metadata": {},
   "outputs": [
    {
     "data": {
      "text/plain": [
       "(15467, 59375)"
      ]
     },
     "execution_count": 456,
     "metadata": {},
     "output_type": "execute_result"
    }
   ],
   "source": [
    "len(extended_paths_repo[extended_paths_repo[\"length\"]>1]),len(extended_paths_repo)"
   ]
  },
  {
   "cell_type": "code",
   "execution_count": 465,
   "metadata": {},
   "outputs": [
    {
     "data": {
      "text/plain": [
       "(7377, 59375)"
      ]
     },
     "execution_count": 465,
     "metadata": {},
     "output_type": "execute_result"
    }
   ],
   "source": [
    "len(extended_paths_repo[extended_paths_repo[\"length_service\"]>1]),len(extended_paths_repo)"
   ]
  },
  {
   "cell_type": "code",
   "execution_count": 472,
   "metadata": {},
   "outputs": [
    {
     "data": {
      "text/plain": [
       "0.41449537725480057"
      ]
     },
     "execution_count": 472,
     "metadata": {},
     "output_type": "execute_result"
    }
   ],
   "source": [
    "len(cross_project_deps[cross_project_deps[\"service_length\"]==2])/len(cross_project_deps)"
   ]
  },
  {
   "cell_type": "code",
   "execution_count": 201,
   "metadata": {},
   "outputs": [],
   "source": [
    "cross_project_deps[[\"length\"]].to_csv(\"./RQs/RQ1/Files/component_chains.csv\", index=False)"
   ]
  },
  {
   "cell_type": "code",
   "execution_count": 464,
   "metadata": {},
   "outputs": [
    {
     "data": {
      "text/html": [
       "<div>\n",
       "<style scoped>\n",
       "    .dataframe tbody tr th:only-of-type {\n",
       "        vertical-align: middle;\n",
       "    }\n",
       "\n",
       "    .dataframe tbody tr th {\n",
       "        vertical-align: top;\n",
       "    }\n",
       "\n",
       "    .dataframe thead th {\n",
       "        text-align: right;\n",
       "    }\n",
       "</style>\n",
       "<table border=\"1\" class=\"dataframe\">\n",
       "  <thead>\n",
       "    <tr style=\"text-align: right;\">\n",
       "      <th></th>\n",
       "      <th>Path</th>\n",
       "      <th>length</th>\n",
       "      <th>service_length</th>\n",
       "    </tr>\n",
       "  </thead>\n",
       "  <tbody>\n",
       "    <tr>\n",
       "      <th>59345</th>\n",
       "      <td>[openstack/networking-ovn, openstack/neutron]</td>\n",
       "      <td>2</td>\n",
       "      <td>1</td>\n",
       "    </tr>\n",
       "    <tr>\n",
       "      <th>13820</th>\n",
       "      <td>[openstack/api-site, openstack/openstack-manuals]</td>\n",
       "      <td>2</td>\n",
       "      <td>1</td>\n",
       "    </tr>\n",
       "    <tr>\n",
       "      <th>6926</th>\n",
       "      <td>[openstack/project-config, openstack/openstack...</td>\n",
       "      <td>2</td>\n",
       "      <td>1</td>\n",
       "    </tr>\n",
       "    <tr>\n",
       "      <th>13821</th>\n",
       "      <td>[openstack/puppet-cinder, openstack/puppet-ope...</td>\n",
       "      <td>2</td>\n",
       "      <td>1</td>\n",
       "    </tr>\n",
       "    <tr>\n",
       "      <th>13824</th>\n",
       "      <td>[openstack/fuel-main, openstack/fuel-library, ...</td>\n",
       "      <td>3</td>\n",
       "      <td>1</td>\n",
       "    </tr>\n",
       "    <tr>\n",
       "      <th>...</th>\n",
       "      <td>...</td>\n",
       "      <td>...</td>\n",
       "      <td>...</td>\n",
       "    </tr>\n",
       "    <tr>\n",
       "      <th>15079</th>\n",
       "      <td>[openstack/tacker-specs, openstack/cinder-spec...</td>\n",
       "      <td>55</td>\n",
       "      <td>28</td>\n",
       "    </tr>\n",
       "    <tr>\n",
       "      <th>14723</th>\n",
       "      <td>[openstack/masakari-monitors, openstack/tap-as...</td>\n",
       "      <td>80</td>\n",
       "      <td>31</td>\n",
       "    </tr>\n",
       "    <tr>\n",
       "      <th>16101</th>\n",
       "      <td>[openstack/searchlight, openstack/congress, op...</td>\n",
       "      <td>118</td>\n",
       "      <td>37</td>\n",
       "    </tr>\n",
       "    <tr>\n",
       "      <th>2185</th>\n",
       "      <td>[openstack/nova, openstack/manila-test-image, ...</td>\n",
       "      <td>155</td>\n",
       "      <td>40</td>\n",
       "    </tr>\n",
       "    <tr>\n",
       "      <th>5052</th>\n",
       "      <td>[openstack/tripleo-common, openstack/syntribos...</td>\n",
       "      <td>225</td>\n",
       "      <td>42</td>\n",
       "    </tr>\n",
       "  </tbody>\n",
       "</table>\n",
       "<p>15467 rows × 3 columns</p>\n",
       "</div>"
      ],
      "text/plain": [
       "                                                    Path  length  \\\n",
       "59345      [openstack/networking-ovn, openstack/neutron]       2   \n",
       "13820  [openstack/api-site, openstack/openstack-manuals]       2   \n",
       "6926   [openstack/project-config, openstack/openstack...       2   \n",
       "13821  [openstack/puppet-cinder, openstack/puppet-ope...       2   \n",
       "13824  [openstack/fuel-main, openstack/fuel-library, ...       3   \n",
       "...                                                  ...     ...   \n",
       "15079  [openstack/tacker-specs, openstack/cinder-spec...      55   \n",
       "14723  [openstack/masakari-monitors, openstack/tap-as...      80   \n",
       "16101  [openstack/searchlight, openstack/congress, op...     118   \n",
       "2185   [openstack/nova, openstack/manila-test-image, ...     155   \n",
       "5052   [openstack/tripleo-common, openstack/syntribos...     225   \n",
       "\n",
       "       service_length  \n",
       "59345               1  \n",
       "13820               1  \n",
       "6926                1  \n",
       "13821               1  \n",
       "13824               1  \n",
       "...               ...  \n",
       "15079              28  \n",
       "14723              31  \n",
       "16101              37  \n",
       "2185               40  \n",
       "5052               42  \n",
       "\n",
       "[15467 rows x 3 columns]"
      ]
     },
     "execution_count": 464,
     "metadata": {},
     "output_type": "execute_result"
    }
   ],
   "source": [
    "cross_project_deps.sort_values(\"service_length\")"
   ]
  },
  {
   "cell_type": "code",
   "execution_count": 202,
   "metadata": {},
   "outputs": [],
   "source": [
    "cross_project_deps[cross_project_deps[\"service_length\"]>1].to_csv(\"./RQs/RQ1/Files/service_chains.csv\", index=False)"
   ]
  },
  {
   "cell_type": "code",
   "execution_count": 212,
   "metadata": {},
   "outputs": [],
   "source": [
    "longest_chain = extended_paths_number.sort_values(\"length\").tail(1)[\"Path\"].values[0]"
   ]
  },
  {
   "cell_type": "code",
   "execution_count": 217,
   "metadata": {},
   "outputs": [
    {
     "data": {
      "text/plain": [
       "(199, 231)"
      ]
     },
     "execution_count": 217,
     "metadata": {},
     "output_type": "execute_result"
    }
   ],
   "source": [
    "# len(df.loc[df.number.isin(chain_224)&(df.status == \"MERGED\")]),len(df.loc[df.number.isin(chain_224)])"
   ]
  },
  {
   "attachments": {},
   "cell_type": "markdown",
   "metadata": {},
   "source": [
    "### How many cochnages ended up being abandoned ?"
   ]
  },
  {
   "attachments": {},
   "cell_type": "markdown",
   "metadata": {},
   "source": [
    "#### How many abandoned changes not depending on other changes"
   ]
  },
  {
   "cell_type": "code",
   "execution_count": 10,
   "metadata": {},
   "outputs": [],
   "source": [
    "def is_all_abandoned(row):\n",
    "    result = df.loc[df[\"number\"].isin(row[\"Path\"]), \"status\"].unique()\n",
    "\n",
    "    if len(result) == 1 and result[0] == \"ABANDONED\":\n",
    "        return True\n",
    "    return False\n",
    "\n",
    "def is_cross_project(row):\n",
    "    result = df.loc[df[\"number\"].isin(row[\"Path\"]), \"project\"].unique()\n",
    "\n",
    "    if len(result) > 1:\n",
    "        return True\n",
    "    return False"
   ]
  },
  {
   "cell_type": "code",
   "execution_count": 594,
   "metadata": {},
   "outputs": [],
   "source": [
    "extended_paths_number[\"all_abandoned\"] = extended_paths_number.apply(is_all_abandoned, axis=1)"
   ]
  },
  {
   "cell_type": "code",
   "execution_count": 12,
   "metadata": {},
   "outputs": [],
   "source": [
    "extended_paths_number = pd.read_csv(\"./Files/Number/extended_merged.csv\")\n",
    "extended_paths_number[\"Path\"] = extended_paths_number[\"Path\"].map(ast.literal_eval)"
   ]
  },
  {
   "cell_type": "code",
   "execution_count": 13,
   "metadata": {},
   "outputs": [],
   "source": [
    "extended_paths_number[\"is_cross_project\"] = extended_paths_number.apply(is_cross_project, axis=1)"
   ]
  },
  {
   "cell_type": "code",
   "execution_count": 23,
   "metadata": {},
   "outputs": [
    {
     "data": {
      "text/plain": [
       "(1584, 15467)"
      ]
     },
     "execution_count": 23,
     "metadata": {},
     "output_type": "execute_result"
    }
   ],
   "source": [
    "len(extended_paths_number[(extended_paths_number[\"all_abandoned\"]==True)&(extended_paths_number[\"is_cross_project\"]==True)]),len(extended_paths_number[(extended_paths_number[\"is_cross_project\"]==True)])"
   ]
  },
  {
   "cell_type": "code",
   "execution_count": 8,
   "metadata": {},
   "outputs": [
    {
     "data": {
      "text/plain": [
       "0.04205473684210526"
      ]
     },
     "execution_count": 8,
     "metadata": {},
     "output_type": "execute_result"
    }
   ],
   "source": [
    "len(extended_paths_number[extended_paths_number.all_abandoned==True])/len(extended_paths_number)"
   ]
  },
  {
   "cell_type": "code",
   "execution_count": null,
   "metadata": {},
   "outputs": [],
   "source": [
    "# len(\n",
    "numbers = extended_paths_number[extended_paths_number.all_abandoned==True].sort_values(\"length\").tail(1)[\"Path\"].values[0]\n",
    "    # )/len(extended_paths_number)"
   ]
  },
  {
   "cell_type": "code",
   "execution_count": 44,
   "metadata": {},
   "outputs": [
    {
     "data": {
      "text/plain": [
       "0.020793477270656828"
      ]
     },
     "execution_count": 44,
     "metadata": {},
     "output_type": "execute_result"
    }
   ],
   "source": [
    "len(extended_paths_number[(extended_paths_number[\"all_abandoned\"]==True)&(extended_paths_number[\"is_cross_project\"]==False)])/len(extended_paths_number[extended_paths_number[\"is_cross_project\"]==False])"
   ]
  },
  {
   "cell_type": "code",
   "execution_count": 45,
   "metadata": {},
   "outputs": [
    {
     "data": {
      "text/plain": [
       "0.034847494134389784"
      ]
     },
     "execution_count": 45,
     "metadata": {},
     "output_type": "execute_result"
    }
   ],
   "source": [
    "len(extended_paths_number[(extended_paths_number[\"all_abandoned\"]==True)&(extended_paths_number[\"length_service\"]==1)])/len(extended_paths_number[extended_paths_number[\"length_service\"]==1])\n",
    "# len(extended_paths_number[extended_paths_number[\"length_service\"]>1])/len(extended_paths_number)"
   ]
  },
  {
   "cell_type": "code",
   "execution_count": null,
   "metadata": {},
   "outputs": [],
   "source": [
    "len(extended_paths_number[(extended_paths_number[\"all_abandoned\"]==True)&(extended_paths_number[\"length_service\"]==1)])/len(extended_paths_number[extended_paths_number[\"length_service\"]>1])"
   ]
  },
  {
   "attachments": {},
   "cell_type": "markdown",
   "metadata": {},
   "source": [
    "### How many abandoned changes that are for not to be merged with DNM(Do Not Merge) or including keywords test"
   ]
  },
  {
   "cell_type": "code",
   "execution_count": 113,
   "metadata": {},
   "outputs": [],
   "source": [
    "depended_abandoned_changes = []"
   ]
  },
  {
   "cell_type": "code",
   "execution_count": 115,
   "metadata": {},
   "outputs": [],
   "source": [
    "treated_items = []\n",
    "for idx,row in df_all_dependencies.iterrows():\n",
    "    if row[\"Source_status\"] == \"ABANDONED\":\n",
    "        depended_abandoned_changes.append(row[\"Source\"])\n",
    "    if row[\"Target_status\"] == \"ABANDONED\":\n",
    "        depended_abandoned_changes.append(row[\"Target\"])"
   ]
  },
  {
   "cell_type": "code",
   "execution_count": 116,
   "metadata": {},
   "outputs": [],
   "source": [
    "depended_abandoned_changes = list(set(depended_abandoned_changes))"
   ]
  },
  {
   "cell_type": "code",
   "execution_count": 117,
   "metadata": {},
   "outputs": [],
   "source": [
    "df_depended_abandoned_changes = pd.DataFrame({\"change\": depended_abandoned_changes})"
   ]
  },
  {
   "cell_type": "code",
   "execution_count": 118,
   "metadata": {},
   "outputs": [],
   "source": [
    "df_depended_abandoned_changes[\"commit_message\"] = df_depended_abandoned_changes[\"change\"].map(lambda change: df.loc[df[\"number\"]==change, \"commit_message\"].values[0])"
   ]
  },
  {
   "cell_type": "code",
   "execution_count": 119,
   "metadata": {},
   "outputs": [],
   "source": [
    "df_depended_abandoned_changes[\"DNM\"] = df_depended_abandoned_changes[\"commit_message\"].map(lambda message: True if \"DNM\" in message else False)\n",
    "df_depended_abandoned_changes[\"test\"] = df_depended_abandoned_changes[\"commit_message\"].map(lambda message: True if \"test\" in message else False)"
   ]
  },
  {
   "cell_type": "code",
   "execution_count": 120,
   "metadata": {},
   "outputs": [
    {
     "data": {
      "text/plain": [
       "0.35716812370508866"
      ]
     },
     "execution_count": 120,
     "metadata": {},
     "output_type": "execute_result"
    }
   ],
   "source": [
    "len(df_depended_abandoned_changes[df_depended_abandoned_changes[\"DNM\"]|df_depended_abandoned_changes[\"test\"]])/len(df_depended_abandoned_changes)"
   ]
  },
  {
   "cell_type": "code",
   "execution_count": 121,
   "metadata": {},
   "outputs": [],
   "source": [
    "df[\"DNM\"] = df[\"commit_message\"].map(lambda message: True if \"DNM\" in message else False)\n",
    "df[\"test\"] = df[\"commit_message\"].map(lambda message: True if \"test\" in message else False)"
   ]
  },
  {
   "cell_type": "code",
   "execution_count": 35,
   "metadata": {},
   "outputs": [
    {
     "data": {
      "text/plain": [
       "0.23219455703532135"
      ]
     },
     "execution_count": 35,
     "metadata": {},
     "output_type": "execute_result"
    }
   ],
   "source": [
    "len(df[(df[\"status\"]==\"ABANDONED\")&(~df[\"number\"].isin(depended_abandoned_changes))&(df[\"DNM\"]|df[\"test\"])])/len(df[(df[\"status\"]==\"ABANDONED\")&(~df[\"number\"].isin(depended_abandoned_changes))])"
   ]
  }
 ],
 "metadata": {
  "kernelspec": {
   "display_name": "Python 3",
   "language": "python",
   "name": "python3"
  },
  "language_info": {
   "codemirror_mode": {
    "name": "ipython",
    "version": 3
   },
   "file_extension": ".py",
   "mimetype": "text/x-python",
   "name": "python",
   "nbconvert_exporter": "python",
   "pygments_lexer": "ipython3",
   "version": "3.9.13"
  },
  "orig_nbformat": 4,
  "vscode": {
   "interpreter": {
    "hash": "aee8b7b246df8f9039afb4144a1f6fd8d2ca17a180786b69acc140d282b71a49"
   }
  }
 },
 "nbformat": 4,
 "nbformat_minor": 2
}
