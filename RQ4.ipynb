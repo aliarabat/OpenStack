{
 "cells": [
  {
   "cell_type": "code",
   "execution_count": 2,
   "metadata": {},
   "outputs": [],
   "source": [
    "import seaborn as sns\n",
    "import matplotlib.pyplot as plt\n",
    "from matplotlib.backends.backend_pdf import PdfPages\n",
    "import pandas as pd\n",
    "import numpy as np\n",
    "from datetime import datetime\n",
    "import ast\n",
    "import utils.helpers as hpr"
   ]
  },
  {
   "attachments": {},
   "cell_type": "markdown",
   "metadata": {},
   "source": [
    "### Functions"
   ]
  },
  {
   "cell_type": "code",
   "execution_count": 153,
   "metadata": {},
   "outputs": [],
   "source": [
    "def time_diff(start, end):\n",
    "    if start > end:\n",
    "        start, end = end, start\n",
    "    current_date =  datetime.strptime(end[:-11], \"%Y-%m-%d %H:%M:%S\") \n",
    "    previous_date = datetime.strptime(start[:-11], \"%Y-%m-%d %H:%M:%S\") \n",
    "    diff = current_date - previous_date\n",
    "    diff = float(\"{:.2f}\".format(diff.total_seconds() / 3600))\n",
    "    return diff\n",
    "\n",
    "def compute_time_diff(revisions):\n",
    "    if len(revisions) == 1:\n",
    "        return 0\n",
    "    dates = [rev[\"created\"] for rev in revisions]\n",
    "    dates.sort()\n",
    "    return time_diff(dates[0], dates[-1])"
   ]
  },
  {
   "attachments": {},
   "cell_type": "markdown",
   "metadata": {},
   "source": [
    "### Main dataframe"
   ]
  },
  {
   "cell_type": "code",
   "execution_count": 2,
   "metadata": {},
   "outputs": [],
   "source": [
    "def combine_openstack_data():\n",
    "    '''Combine generated csv files into a single DataFrame object\n",
    "    '''\n",
    "    df = pd.DataFrame([])\n",
    "    data_path = \"%sChanges/\" % hpr.DIR\n",
    "    changes_file_names = hpr.list_file(data_path)\n",
    "    for f in changes_file_names:\n",
    "        df_per_file = pd.read_csv(\"%s%s\" % (data_path, f))\n",
    "        df = pd.concat((df, df_per_file))\n",
    "\n",
    "    df = df.drop_duplicates(subset=[\"number\"])\n",
    "\n",
    "    df = df.sort_values(by=\"updated\", ascending=False).reset_index(drop=True)\n",
    "\n",
    "    return df"
   ]
  },
  {
   "cell_type": "code",
   "execution_count": 3,
   "metadata": {},
   "outputs": [],
   "source": [
    "df = combine_openstack_data()"
   ]
  },
  {
   "cell_type": "code",
   "execution_count": null,
   "metadata": {},
   "outputs": [],
   "source": [
    "df[\"reviewers\"] = df[\"reviewers\"].apply(ast.literal_eval)"
   ]
  },
  {
   "cell_type": "code",
   "execution_count": 9,
   "metadata": {},
   "outputs": [],
   "source": [
    "df[\"reviewers_ids\"] = df[\"reviewers\"].map(lambda revs: [rev[\"_account_id\"] for rev in revs if \"tags\" not in rev.keys()])"
   ]
  },
  {
   "cell_type": "code",
   "execution_count": 160,
   "metadata": {},
   "outputs": [],
   "source": [
    "df[\"revisions\"] = df[\"revisions\"].apply(ast.literal_eval)"
   ]
  },
  {
   "cell_type": "code",
   "execution_count": 161,
   "metadata": {},
   "outputs": [],
   "source": [
    "df[\"merge_duration\"] = df[\"revisions\"].map(compute_time_diff)"
   ]
  },
  {
   "cell_type": "code",
   "execution_count": 3,
   "metadata": {},
   "outputs": [],
   "source": [
    "df_all_dependencies = pd.read_csv(\"./Files/all_dependencies.csv\")"
   ]
  },
  {
   "cell_type": "code",
   "execution_count": 167,
   "metadata": {},
   "outputs": [
    {
     "data": {
      "text/plain": [
       "4182"
      ]
     },
     "execution_count": 167,
     "metadata": {},
     "output_type": "execute_result"
    }
   ],
   "source": [
    "len(df_all_dependencies.loc[(df_all_dependencies.is_cross_service==True)\n",
    "& (df_all_dependencies.Source_status == \"MERGED\") &\n",
    "(df_all_dependencies.Target_status == \"MERGED\") &\n",
    "(df_all_dependencies.is_source_bot == False) &\n",
    "(df_all_dependencies.is_target_bot == False) &\n",
    "(df_all_dependencies.is_same_dev != \"Same\")])"
   ]
  },
  {
   "cell_type": "code",
   "execution_count": 174,
   "metadata": {},
   "outputs": [
    {
     "data": {
      "text/plain": [
       "0.2744555824403733"
      ]
     },
     "execution_count": 174,
     "metadata": {},
     "output_type": "execute_result"
    }
   ],
   "source": [
    "len(df_all_dependencies[(df_all_dependencies.is_cross)\n",
    "                    & (df_all_dependencies.Source_status == \"MERGED\") &\n",
    "                    (df_all_dependencies.Target_status == \"MERGED\") &\n",
    "                    (df_all_dependencies.is_source_bot == False) &\n",
    "                    (df_all_dependencies.is_target_bot == False) &\n",
    "                    (df_all_dependencies.is_same_dev == \"Different\") &\n",
    "                    ((df_all_dependencies.Source_rev_target == True) &\n",
    "                     (df_all_dependencies.Target_rev_source == True))\n",
    "                     ])/len(df_all_dependencies[(df_all_dependencies.is_cross)& \n",
    "                                                (df_all_dependencies.Source_status == \"MERGED\") &\n",
    "                                                (df_all_dependencies.Target_status == \"MERGED\") &\n",
    "                                                (df_all_dependencies.is_source_bot == False) &\n",
    "                                                (df_all_dependencies.is_target_bot == False) &\n",
    "                                                (df_all_dependencies.is_same_dev == \"Different\")])\n"
   ]
  },
  {
   "attachments": {},
   "cell_type": "markdown",
   "metadata": {},
   "source": [
    "### The co-changes reviewed by how many shared reviewers ?"
   ]
  },
  {
   "cell_type": "code",
   "execution_count": 337,
   "metadata": {},
   "outputs": [],
   "source": [
    "df_all_dependencies.loc[(df_all_dependencies[\"status_source\"]==\"MERGED\")&(df_all_dependencies[\"status_target\"]==\"MERGED\")&(df_all_dependencies[\"is_cross\"]==True), [\"intersect_rev\"]].to_csv(\"./RQs/RQ4/Files/cross_project_changes_reviewers_intersect.csv\",index=False)"
   ]
  },
  {
   "cell_type": "code",
   "execution_count": 338,
   "metadata": {},
   "outputs": [],
   "source": [
    "df_all_dependencies.loc[(df_all_dependencies[\"status_source\"]==\"MERGED\")&(df_all_dependencies[\"status_target\"]==\"MERGED\")&(df_all_dependencies[\"is_cross_service\"]==True), [\"intersect_rev\"]].to_csv(\"./RQs/RQ4/Files/cross_service_changes_reviewers_intersect.csv\",index=False)"
   ]
  },
  {
   "cell_type": "code",
   "execution_count": 78,
   "metadata": {},
   "outputs": [
    {
     "data": {
      "text/plain": [
       "20.0"
      ]
     },
     "execution_count": 78,
     "metadata": {},
     "output_type": "execute_result"
    }
   ],
   "source": [
    "df_all_dependencies.loc[\n",
    "    # (df_all_dependencies[\"intersect_rev\"]) &\n",
    "                            (df_all_dependencies[\"is_source_bot\"] == False) &\n",
    "                            (df_all_dependencies[\"is_target_bot\"] == False) &\n",
    "                            (df_all_dependencies[\"Source_status\"] == \"MERGED\") &\n",
    "                            (df_all_dependencies[\"Target_status\"] == \"MERGED\") &\n",
    "                            (df_all_dependencies[\"is_cross_service\"] == True),\n",
    "                            \"intersect_rev\"].median()"
   ]
  },
  {
   "cell_type": "code",
   "execution_count": 74,
   "metadata": {},
   "outputs": [
    {
     "data": {
      "text/plain": [
       "0.08659395688338142"
      ]
     },
     "execution_count": 74,
     "metadata": {},
     "output_type": "execute_result"
    }
   ],
   "source": [
    "len(df_all_dependencies.loc[(df_all_dependencies[\"intersect_rev\"] == 0) &\n",
    "                            (df_all_dependencies[\"is_source_bot\"] == False) &\n",
    "                            (df_all_dependencies[\"is_target_bot\"] == False) &\n",
    "                            (df_all_dependencies[\"Source_status\"] == \"MERGED\") &\n",
    "                            (df_all_dependencies[\"Target_status\"] == \"MERGED\") &\n",
    "                            (df_all_dependencies[\"is_cross\"] == True),\n",
    "                            \"intersect_rev\"]) / len(df_all_dependencies[\n",
    "                                (df_all_dependencies[\"is_source_bot\"] == False) &\n",
    "                            (df_all_dependencies[\"is_target_bot\"] == False) &\n",
    "                            (df_all_dependencies[\"Source_status\"] == \"MERGED\") &\n",
    "                            (df_all_dependencies[\"Target_status\"] == \"MERGED\") &\n",
    "                            (df_all_dependencies[\"is_cross\"] == True)])\n"
   ]
  },
  {
   "cell_type": "code",
   "execution_count": 16,
   "metadata": {},
   "outputs": [
    {
     "data": {
      "text/plain": [
       "22.22222222222222"
      ]
     },
     "execution_count": 16,
     "metadata": {},
     "output_type": "execute_result"
    }
   ],
   "source": [
    "df_all_dependencies.loc[(df_all_dependencies[\"intersect_rev\"] > 0) &\n",
    "                            (df_all_dependencies[\"is_source_bot\"] == False) &\n",
    "                            (df_all_dependencies[\"is_target_bot\"] == False) &\n",
    "                            (df_all_dependencies[\"status_source\"] == \"MERGED\") &\n",
    "                            (df_all_dependencies[\"status_target\"] == \"MERGED\") &\n",
    "                            (df_all_dependencies[\"is_cross_service\"] == True),\n",
    "                            \"intersect_rev\"].median()"
   ]
  },
  {
   "cell_type": "code",
   "execution_count": 64,
   "metadata": {},
   "outputs": [
    {
     "data": {
      "text/html": [
       "<div>\n",
       "<style scoped>\n",
       "    .dataframe tbody tr th:only-of-type {\n",
       "        vertical-align: middle;\n",
       "    }\n",
       "\n",
       "    .dataframe tbody tr th {\n",
       "        vertical-align: top;\n",
       "    }\n",
       "\n",
       "    .dataframe thead th {\n",
       "        text-align: right;\n",
       "    }\n",
       "</style>\n",
       "<table border=\"1\" class=\"dataframe\">\n",
       "  <thead>\n",
       "    <tr style=\"text-align: right;\">\n",
       "      <th></th>\n",
       "      <th>Source</th>\n",
       "      <th>Target</th>\n",
       "      <th>Source_repo</th>\n",
       "      <th>Target_repo</th>\n",
       "      <th>is_cross</th>\n",
       "      <th>Service_source</th>\n",
       "      <th>Service_target</th>\n",
       "      <th>status_source</th>\n",
       "      <th>status_target</th>\n",
       "      <th>is_cross_service</th>\n",
       "      <th>...</th>\n",
       "      <th>min_exp_revision</th>\n",
       "      <th>max_exp_revision</th>\n",
       "      <th>max_min_exp_revision</th>\n",
       "      <th>revision_weak_exp</th>\n",
       "      <th>revision_strong_exp</th>\n",
       "      <th>Source_datetime</th>\n",
       "      <th>Target_datetime</th>\n",
       "      <th>time_diff</th>\n",
       "      <th>max_min_time</th>\n",
       "      <th>time_weak_exp</th>\n",
       "    </tr>\n",
       "  </thead>\n",
       "  <tbody>\n",
       "    <tr>\n",
       "      <th>106</th>\n",
       "      <td>863158</td>\n",
       "      <td>863161</td>\n",
       "      <td>openstack/project-config</td>\n",
       "      <td>openstack/governance</td>\n",
       "      <td>True</td>\n",
       "      <td>NaN</td>\n",
       "      <td>technicalcommittee</td>\n",
       "      <td>MERGED</td>\n",
       "      <td>MERGED</td>\n",
       "      <td>False</td>\n",
       "      <td>...</td>\n",
       "      <td>1.0</td>\n",
       "      <td>3.0</td>\n",
       "      <td>3.0</td>\n",
       "      <td>1.0</td>\n",
       "      <td>3.0</td>\n",
       "      <td>141.85</td>\n",
       "      <td>0.0</td>\n",
       "      <td>0.27</td>\n",
       "      <td>0.0</td>\n",
       "      <td>0.0</td>\n",
       "    </tr>\n",
       "    <tr>\n",
       "      <th>156</th>\n",
       "      <td>740601</td>\n",
       "      <td>863783</td>\n",
       "      <td>openstack/puppet-openstack_spec_helper</td>\n",
       "      <td>openstack/puppet-openstack-cookiecutter</td>\n",
       "      <td>True</td>\n",
       "      <td>puppetopenstack</td>\n",
       "      <td>puppetopenstack</td>\n",
       "      <td>MERGED</td>\n",
       "      <td>MERGED</td>\n",
       "      <td>False</td>\n",
       "      <td>...</td>\n",
       "      <td>NaN</td>\n",
       "      <td>NaN</td>\n",
       "      <td>NaN</td>\n",
       "      <td>NaN</td>\n",
       "      <td>NaN</td>\n",
       "      <td>NaN</td>\n",
       "      <td>NaN</td>\n",
       "      <td>NaN</td>\n",
       "      <td>NaN</td>\n",
       "      <td>NaN</td>\n",
       "    </tr>\n",
       "    <tr>\n",
       "      <th>158</th>\n",
       "      <td>863584</td>\n",
       "      <td>863585</td>\n",
       "      <td>openstack/charm-ops-sunbeam</td>\n",
       "      <td>openstack/charm-nova-k8s</td>\n",
       "      <td>True</td>\n",
       "      <td>openstackcharms</td>\n",
       "      <td>nova</td>\n",
       "      <td>MERGED</td>\n",
       "      <td>MERGED</td>\n",
       "      <td>True</td>\n",
       "      <td>...</td>\n",
       "      <td>1.0</td>\n",
       "      <td>1.0</td>\n",
       "      <td>1.0</td>\n",
       "      <td>1.0</td>\n",
       "      <td>1.0</td>\n",
       "      <td>0.00</td>\n",
       "      <td>0.0</td>\n",
       "      <td>0.15</td>\n",
       "      <td>0.0</td>\n",
       "      <td>0.0</td>\n",
       "    </tr>\n",
       "    <tr>\n",
       "      <th>182</th>\n",
       "      <td>863076</td>\n",
       "      <td>863077</td>\n",
       "      <td>openstack/governance</td>\n",
       "      <td>openstack/requirements</td>\n",
       "      <td>True</td>\n",
       "      <td>technicalcommittee</td>\n",
       "      <td>requirements</td>\n",
       "      <td>MERGED</td>\n",
       "      <td>MERGED</td>\n",
       "      <td>True</td>\n",
       "      <td>...</td>\n",
       "      <td>1.0</td>\n",
       "      <td>1.0</td>\n",
       "      <td>1.0</td>\n",
       "      <td>1.0</td>\n",
       "      <td>1.0</td>\n",
       "      <td>0.00</td>\n",
       "      <td>0.0</td>\n",
       "      <td>0.05</td>\n",
       "      <td>0.0</td>\n",
       "      <td>0.0</td>\n",
       "    </tr>\n",
       "    <tr>\n",
       "      <th>183</th>\n",
       "      <td>861886</td>\n",
       "      <td>863076</td>\n",
       "      <td>openstack/openstack-ansible</td>\n",
       "      <td>openstack/governance</td>\n",
       "      <td>True</td>\n",
       "      <td>openstackansible</td>\n",
       "      <td>technicalcommittee</td>\n",
       "      <td>MERGED</td>\n",
       "      <td>MERGED</td>\n",
       "      <td>True</td>\n",
       "      <td>...</td>\n",
       "      <td>1.0</td>\n",
       "      <td>1.0</td>\n",
       "      <td>1.0</td>\n",
       "      <td>1.0</td>\n",
       "      <td>1.0</td>\n",
       "      <td>0.00</td>\n",
       "      <td>0.0</td>\n",
       "      <td>290.23</td>\n",
       "      <td>0.0</td>\n",
       "      <td>0.0</td>\n",
       "    </tr>\n",
       "    <tr>\n",
       "      <th>...</th>\n",
       "      <td>...</td>\n",
       "      <td>...</td>\n",
       "      <td>...</td>\n",
       "      <td>...</td>\n",
       "      <td>...</td>\n",
       "      <td>...</td>\n",
       "      <td>...</td>\n",
       "      <td>...</td>\n",
       "      <td>...</td>\n",
       "      <td>...</td>\n",
       "      <td>...</td>\n",
       "      <td>...</td>\n",
       "      <td>...</td>\n",
       "      <td>...</td>\n",
       "      <td>...</td>\n",
       "      <td>...</td>\n",
       "      <td>...</td>\n",
       "      <td>...</td>\n",
       "      <td>...</td>\n",
       "      <td>...</td>\n",
       "      <td>...</td>\n",
       "    </tr>\n",
       "    <tr>\n",
       "      <th>187833</th>\n",
       "      <td>826986</td>\n",
       "      <td>826989</td>\n",
       "      <td>openstack/octavia-dashboard</td>\n",
       "      <td>openstack/ironic-ui</td>\n",
       "      <td>True</td>\n",
       "      <td>octavia</td>\n",
       "      <td>ironic</td>\n",
       "      <td>MERGED</td>\n",
       "      <td>MERGED</td>\n",
       "      <td>True</td>\n",
       "      <td>...</td>\n",
       "      <td>1.0</td>\n",
       "      <td>1.0</td>\n",
       "      <td>1.0</td>\n",
       "      <td>1.0</td>\n",
       "      <td>1.0</td>\n",
       "      <td>0.00</td>\n",
       "      <td>0.0</td>\n",
       "      <td>0.00</td>\n",
       "      <td>0.0</td>\n",
       "      <td>0.0</td>\n",
       "    </tr>\n",
       "    <tr>\n",
       "      <th>187834</th>\n",
       "      <td>826987</td>\n",
       "      <td>826988</td>\n",
       "      <td>openstack/monasca-ui</td>\n",
       "      <td>openstack/magnum-ui</td>\n",
       "      <td>True</td>\n",
       "      <td>monasca</td>\n",
       "      <td>magnum</td>\n",
       "      <td>MERGED</td>\n",
       "      <td>MERGED</td>\n",
       "      <td>True</td>\n",
       "      <td>...</td>\n",
       "      <td>1.0</td>\n",
       "      <td>1.0</td>\n",
       "      <td>1.0</td>\n",
       "      <td>1.0</td>\n",
       "      <td>1.0</td>\n",
       "      <td>0.00</td>\n",
       "      <td>0.0</td>\n",
       "      <td>0.00</td>\n",
       "      <td>0.0</td>\n",
       "      <td>0.0</td>\n",
       "    </tr>\n",
       "    <tr>\n",
       "      <th>187835</th>\n",
       "      <td>826987</td>\n",
       "      <td>826989</td>\n",
       "      <td>openstack/monasca-ui</td>\n",
       "      <td>openstack/ironic-ui</td>\n",
       "      <td>True</td>\n",
       "      <td>monasca</td>\n",
       "      <td>ironic</td>\n",
       "      <td>MERGED</td>\n",
       "      <td>MERGED</td>\n",
       "      <td>True</td>\n",
       "      <td>...</td>\n",
       "      <td>1.0</td>\n",
       "      <td>1.0</td>\n",
       "      <td>1.0</td>\n",
       "      <td>1.0</td>\n",
       "      <td>1.0</td>\n",
       "      <td>0.00</td>\n",
       "      <td>0.0</td>\n",
       "      <td>0.00</td>\n",
       "      <td>0.0</td>\n",
       "      <td>0.0</td>\n",
       "    </tr>\n",
       "    <tr>\n",
       "      <th>187836</th>\n",
       "      <td>826988</td>\n",
       "      <td>826989</td>\n",
       "      <td>openstack/magnum-ui</td>\n",
       "      <td>openstack/ironic-ui</td>\n",
       "      <td>True</td>\n",
       "      <td>magnum</td>\n",
       "      <td>ironic</td>\n",
       "      <td>MERGED</td>\n",
       "      <td>MERGED</td>\n",
       "      <td>True</td>\n",
       "      <td>...</td>\n",
       "      <td>1.0</td>\n",
       "      <td>1.0</td>\n",
       "      <td>1.0</td>\n",
       "      <td>1.0</td>\n",
       "      <td>1.0</td>\n",
       "      <td>0.00</td>\n",
       "      <td>0.0</td>\n",
       "      <td>0.00</td>\n",
       "      <td>0.0</td>\n",
       "      <td>0.0</td>\n",
       "    </tr>\n",
       "    <tr>\n",
       "      <th>192909</th>\n",
       "      <td>617836</td>\n",
       "      <td>852006</td>\n",
       "      <td>openstack/neutron</td>\n",
       "      <td>openstack/manila</td>\n",
       "      <td>True</td>\n",
       "      <td>neutron</td>\n",
       "      <td>manila</td>\n",
       "      <td>MERGED</td>\n",
       "      <td>MERGED</td>\n",
       "      <td>True</td>\n",
       "      <td>...</td>\n",
       "      <td>NaN</td>\n",
       "      <td>NaN</td>\n",
       "      <td>NaN</td>\n",
       "      <td>NaN</td>\n",
       "      <td>NaN</td>\n",
       "      <td>NaN</td>\n",
       "      <td>NaN</td>\n",
       "      <td>NaN</td>\n",
       "      <td>NaN</td>\n",
       "      <td>NaN</td>\n",
       "    </tr>\n",
       "  </tbody>\n",
       "</table>\n",
       "<p>4088 rows × 43 columns</p>\n",
       "</div>"
      ],
      "text/plain": [
       "        Source  Target                             Source_repo  \\\n",
       "106     863158  863161                openstack/project-config   \n",
       "156     740601  863783  openstack/puppet-openstack_spec_helper   \n",
       "158     863584  863585             openstack/charm-ops-sunbeam   \n",
       "182     863076  863077                    openstack/governance   \n",
       "183     861886  863076             openstack/openstack-ansible   \n",
       "...        ...     ...                                     ...   \n",
       "187833  826986  826989             openstack/octavia-dashboard   \n",
       "187834  826987  826988                    openstack/monasca-ui   \n",
       "187835  826987  826989                    openstack/monasca-ui   \n",
       "187836  826988  826989                     openstack/magnum-ui   \n",
       "192909  617836  852006                       openstack/neutron   \n",
       "\n",
       "                                    Target_repo  is_cross      Service_source  \\\n",
       "106                        openstack/governance      True                 NaN   \n",
       "156     openstack/puppet-openstack-cookiecutter      True     puppetopenstack   \n",
       "158                    openstack/charm-nova-k8s      True     openstackcharms   \n",
       "182                      openstack/requirements      True  technicalcommittee   \n",
       "183                        openstack/governance      True    openstackansible   \n",
       "...                                         ...       ...                 ...   \n",
       "187833                      openstack/ironic-ui      True             octavia   \n",
       "187834                      openstack/magnum-ui      True             monasca   \n",
       "187835                      openstack/ironic-ui      True             monasca   \n",
       "187836                      openstack/ironic-ui      True              magnum   \n",
       "192909                         openstack/manila      True             neutron   \n",
       "\n",
       "            Service_target status_source status_target  is_cross_service  ...  \\\n",
       "106     technicalcommittee        MERGED        MERGED             False  ...   \n",
       "156        puppetopenstack        MERGED        MERGED             False  ...   \n",
       "158                   nova        MERGED        MERGED              True  ...   \n",
       "182           requirements        MERGED        MERGED              True  ...   \n",
       "183     technicalcommittee        MERGED        MERGED              True  ...   \n",
       "...                    ...           ...           ...               ...  ...   \n",
       "187833              ironic        MERGED        MERGED              True  ...   \n",
       "187834              magnum        MERGED        MERGED              True  ...   \n",
       "187835              ironic        MERGED        MERGED              True  ...   \n",
       "187836              ironic        MERGED        MERGED              True  ...   \n",
       "192909              manila        MERGED        MERGED              True  ...   \n",
       "\n",
       "       min_exp_revision max_exp_revision  max_min_exp_revision  \\\n",
       "106                 1.0              3.0                   3.0   \n",
       "156                 NaN              NaN                   NaN   \n",
       "158                 1.0              1.0                   1.0   \n",
       "182                 1.0              1.0                   1.0   \n",
       "183                 1.0              1.0                   1.0   \n",
       "...                 ...              ...                   ...   \n",
       "187833              1.0              1.0                   1.0   \n",
       "187834              1.0              1.0                   1.0   \n",
       "187835              1.0              1.0                   1.0   \n",
       "187836              1.0              1.0                   1.0   \n",
       "192909              NaN              NaN                   NaN   \n",
       "\n",
       "        revision_weak_exp  revision_strong_exp  Source_datetime  \\\n",
       "106                   1.0                  3.0           141.85   \n",
       "156                   NaN                  NaN              NaN   \n",
       "158                   1.0                  1.0             0.00   \n",
       "182                   1.0                  1.0             0.00   \n",
       "183                   1.0                  1.0             0.00   \n",
       "...                   ...                  ...              ...   \n",
       "187833                1.0                  1.0             0.00   \n",
       "187834                1.0                  1.0             0.00   \n",
       "187835                1.0                  1.0             0.00   \n",
       "187836                1.0                  1.0             0.00   \n",
       "192909                NaN                  NaN              NaN   \n",
       "\n",
       "       Target_datetime time_diff  max_min_time  time_weak_exp  \n",
       "106                0.0      0.27           0.0            0.0  \n",
       "156                NaN       NaN           NaN            NaN  \n",
       "158                0.0      0.15           0.0            0.0  \n",
       "182                0.0      0.05           0.0            0.0  \n",
       "183                0.0    290.23           0.0            0.0  \n",
       "...                ...       ...           ...            ...  \n",
       "187833             0.0      0.00           0.0            0.0  \n",
       "187834             0.0      0.00           0.0            0.0  \n",
       "187835             0.0      0.00           0.0            0.0  \n",
       "187836             0.0      0.00           0.0            0.0  \n",
       "192909             NaN       NaN           NaN            NaN  \n",
       "\n",
       "[4088 rows x 43 columns]"
      ]
     },
     "execution_count": 64,
     "metadata": {},
     "output_type": "execute_result"
    }
   ],
   "source": [
    "df_all_dependencies.loc[(df_all_dependencies[\"intersect_rev\"] == 0) &\n",
    "                            (df_all_dependencies[\"is_source_bot\"] == False) &\n",
    "                            (df_all_dependencies[\"is_target_bot\"] == False) &\n",
    "                            (df_all_dependencies[\"status_source\"] == \"MERGED\") &\n",
    "                            (df_all_dependencies[\"status_target\"] == \"MERGED\") &\n",
    "                            (df_all_dependencies[\"is_cross\"] == True)]"
   ]
  },
  {
   "cell_type": "code",
   "execution_count": 112,
   "metadata": {},
   "outputs": [],
   "source": [
    "df_all_dependencies.to_csv(\"./Files/all_dependencies.csv\", index=False)"
   ]
  },
  {
   "attachments": {},
   "cell_type": "markdown",
   "metadata": {},
   "source": [
    "### How much experience a developer has cross-project changes ? "
   ]
  },
  {
   "cell_type": "code",
   "execution_count": 33,
   "metadata": {},
   "outputs": [
    {
     "data": {
      "text/plain": [
       "0.20179435257059286"
      ]
     },
     "execution_count": 33,
     "metadata": {},
     "output_type": "execute_result"
    }
   ],
   "source": [
    "len(df_all_dependencies.loc[\n",
    "    (df_all_dependencies[\"is_cross\"] == True) &\n",
    "    (df_all_dependencies[\"Source_status\"] == \"MERGED\") &\n",
    "    (df_all_dependencies[\"Target_status\"] == \"MERGED\") &\n",
    "    (df_all_dependencies[\"is_source_bot\"] == False) &\n",
    "    (df_all_dependencies[\"is_target_bot\"] == False) &\n",
    "    (df_all_dependencies[\"min\"] == 0) &\n",
    "    (df_all_dependencies[\"is_same_dev\"] == \"Same\")])/len(df_all_dependencies.loc[\n",
    "    (df_all_dependencies[\"is_cross\"] == True) &\n",
    "    (df_all_dependencies[\"Source_status\"] == \"MERGED\") &\n",
    "    (df_all_dependencies[\"Target_status\"] == \"MERGED\") &\n",
    "    (df_all_dependencies[\"is_source_bot\"] == False) &\n",
    "    (df_all_dependencies[\"is_target_bot\"] == False) &\n",
    "    (df_all_dependencies[\"is_same_dev\"] == \"Same\")])"
   ]
  },
  {
   "cell_type": "code",
   "execution_count": 180,
   "metadata": {},
   "outputs": [
    {
     "data": {
      "text/plain": [
       "0.2112183353437877"
      ]
     },
     "execution_count": 180,
     "metadata": {},
     "output_type": "execute_result"
    }
   ],
   "source": [
    "len(df_all_dependencies[\n",
    "    (df_all_dependencies[\"is_cross\"] == True) &\n",
    "    (df_all_dependencies[\"is_same_dev\"] == \"Different\") &\n",
    "    (df_all_dependencies[\"Source_status\"] == \"MERGED\") &\n",
    "    (df_all_dependencies[\"Target_status\"] == \"MERGED\") &\n",
    "    (df_all_dependencies[\"is_source_bot\"] == False) &\n",
    "    (df_all_dependencies[\"is_target_bot\"] == False) &\n",
    "    ((df_all_dependencies[\"is_source_comment\"] == True)| \n",
    "        (df_all_dependencies[\"is_target_comment\"] == True))])/len(df_all_dependencies[\n",
    "    (df_all_dependencies[\"is_cross\"] == True) &\n",
    "    (df_all_dependencies[\"is_same_dev\"] == \"Different\") &\n",
    "    (df_all_dependencies[\"Source_status\"] == \"MERGED\") &\n",
    "    (df_all_dependencies[\"Target_status\"] == \"MERGED\") &\n",
    "    (df_all_dependencies[\"is_source_bot\"] == False) &\n",
    "    (df_all_dependencies[\"is_target_bot\"] == False) &\n",
    "    ((df_all_dependencies[\"Source_rev_target\"] == True)| \n",
    "        (df_all_dependencies[\"Target_rev_source\"] == True))])"
   ]
  },
  {
   "cell_type": "code",
   "execution_count": null,
   "metadata": {},
   "outputs": [],
   "source": [
    "df_all_dependencies_summarized = pd.read_csv(\"./Files/all_dependencies_summarized.csv\")"
   ]
  },
  {
   "cell_type": "code",
   "execution_count": null,
   "metadata": {},
   "outputs": [],
   "source": [
    "df_all_dependencies_summarized[\n",
    "    (df_all_dependencies_summarized[\"Duration\"] >= 125) &\n",
    "    (df_all_dependencies_summarized[\"Project_type\"] == \"Target\")\n",
    "    & (df_all_dependencies_summarized[\"is_same_dev\"] == \"Same\")].sort_values(\"Duration\")"
   ]
  },
  {
   "attachments": {},
   "cell_type": "markdown",
   "metadata": {},
   "source": [
    "#### 2nd finding"
   ]
  },
  {
   "attachments": {},
   "cell_type": "markdown",
   "metadata": {},
   "source": [
    "##### Churn"
   ]
  },
  {
   "cell_type": "code",
   "execution_count": 58,
   "metadata": {},
   "outputs": [],
   "source": [
    "df_all_dependencies_churn_less = df_all_dependencies.loc[\n",
    "    (df_all_dependencies[\"is_cross\"] == True) &\n",
    "    (df_all_dependencies[\"Source_status\"] == \"MERGED\") &\n",
    "    (df_all_dependencies[\"Target_status\"] == \"MERGED\") &\n",
    "    (df_all_dependencies[\"is_source_bot\"] == False) &\n",
    "    (df_all_dependencies[\"is_target_bot\"] == False) &\n",
    "    (df_all_dependencies[\"is_same_dev\"] == \"Same\"), [\"Churn_less\"]]\n",
    "df_all_dependencies_churn_less[\"Label\"] = \"Less familiar\"\n",
    "df_all_dependencies_churn_less.rename(columns={\"Churn_less\": \"Churn\"}, inplace=True)\n",
    "\n",
    "df_all_dependencies_churn_more = df_all_dependencies.loc[\n",
    "    (df_all_dependencies[\"is_cross\"] == True) &\n",
    "    (df_all_dependencies[\"Source_status\"] == \"MERGED\") &\n",
    "    (df_all_dependencies[\"Target_status\"] == \"MERGED\") &\n",
    "    (df_all_dependencies[\"is_source_bot\"] == False) &\n",
    "    (df_all_dependencies[\"is_target_bot\"] == False) &\n",
    "    (df_all_dependencies[\"is_same_dev\"] == \"Same\"), [\"Churn_more\"]]\n",
    "df_all_dependencies_churn_more[\"Label\"] = \"More familiar\"\n",
    "df_all_dependencies_churn_more.rename(columns={\"Churn_more\": \"Churn\"}, inplace=True)\n",
    "\n",
    "df_all_dependencies_churn = pd.concat((df_all_dependencies_churn_less, df_all_dependencies_churn_more))\n",
    "df_all_dependencies_churn[df_all_dependencies_churn.Churn.notnull()].to_csv(\"./RQs/RQ4/Files/Same_dev_churn.csv\", index=False)"
   ]
  },
  {
   "cell_type": "code",
   "execution_count": 53,
   "metadata": {},
   "outputs": [
    {
     "name": "stderr",
     "output_type": "stream",
     "text": [
      "/var/folders/p4/wn9d12jj6g78td0tl7gx7xlw0000gp/T/ipykernel_1753/1272737896.py:1: FutureWarning: Dropping of nuisance columns in DataFrame reductions (with 'numeric_only=None') is deprecated; in a future version this will raise TypeError.  Select only valid columns before calling the reduction.\n",
      "  df_all_dependencies_churn_more.median()\n"
     ]
    },
    {
     "data": {
      "text/plain": [
       "Churn    11.0\n",
       "dtype: float64"
      ]
     },
     "execution_count": 53,
     "metadata": {},
     "output_type": "execute_result"
    }
   ],
   "source": [
    "df_all_dependencies_churn_more.median()"
   ]
  },
  {
   "attachments": {},
   "cell_type": "markdown",
   "metadata": {},
   "source": [
    "#### Duration"
   ]
  },
  {
   "cell_type": "code",
   "execution_count": 97,
   "metadata": {},
   "outputs": [],
   "source": [
    "df_all_dependencies_duration_less = df_all_dependencies.loc[\n",
    "    (df_all_dependencies[\"is_cross\"] == True) &\n",
    "    (df_all_dependencies[\"Source_status\"] == \"MERGED\") &\n",
    "    (df_all_dependencies[\"Target_status\"] == \"MERGED\") &\n",
    "    (df_all_dependencies[\"is_source_bot\"] == False) &\n",
    "    (df_all_dependencies[\"is_target_bot\"] == False) &\n",
    "    (df_all_dependencies[\"is_same_dev\"] == \"Same\"), [\"Duration_less\"]]\n",
    "df_all_dependencies_duration_less[\"Label\"] = \"Less familiar\"\n",
    "df_all_dependencies_duration_less.rename(columns={\"Duration_less\": \"Duration\"}, inplace=True)\n",
    "\n",
    "df_all_dependencies_duration_more = df_all_dependencies.loc[\n",
    "    (df_all_dependencies[\"is_cross\"] == True) &\n",
    "    (df_all_dependencies[\"Source_status\"] == \"MERGED\") &\n",
    "    (df_all_dependencies[\"Target_status\"] == \"MERGED\") &\n",
    "    (df_all_dependencies[\"is_source_bot\"] == False) &\n",
    "    (df_all_dependencies[\"is_target_bot\"] == False) &\n",
    "    (df_all_dependencies[\"is_same_dev\"] == \"Same\"), [\"Duration_more\"]]\n",
    "df_all_dependencies_duration_more[\"Label\"] = \"More familiar\"\n",
    "df_all_dependencies_duration_more.rename(columns={\"Duration_more\": \"Duration\"}, inplace=True)\n",
    "df_all_dependencies_duration = pd.concat((df_all_dependencies_duration_less, df_all_dependencies_duration_more))\n",
    "df_all_dependencies_duration[df_all_dependencies_duration.Duration.notnull()].to_csv(\"./RQs/RQ4/Files/Same_dev_duration.csv\", index=False)"
   ]
  },
  {
   "cell_type": "code",
   "execution_count": 101,
   "metadata": {},
   "outputs": [
    {
     "name": "stderr",
     "output_type": "stream",
     "text": [
      "/var/folders/p4/wn9d12jj6g78td0tl7gx7xlw0000gp/T/ipykernel_1753/238608310.py:1: FutureWarning: Dropping of nuisance columns in DataFrame reductions (with 'numeric_only=None') is deprecated; in a future version this will raise TypeError.  Select only valid columns before calling the reduction.\n",
      "  df_all_dependencies_duration[df_all_dependencies_duration.Label==\"More familiar\"].median()\n"
     ]
    },
    {
     "data": {
      "text/plain": [
       "Duration    106.42\n",
       "dtype: float64"
      ]
     },
     "execution_count": 101,
     "metadata": {},
     "output_type": "execute_result"
    }
   ],
   "source": [
    "df_all_dependencies_duration[df_all_dependencies_duration.Label==\"More familiar\"].median()"
   ]
  },
  {
   "attachments": {},
   "cell_type": "markdown",
   "metadata": {},
   "source": [
    "#### Number of revisions"
   ]
  },
  {
   "cell_type": "code",
   "execution_count": 60,
   "metadata": {},
   "outputs": [],
   "source": [
    "df_all_dependencies_revisions_less = df_all_dependencies.loc[\n",
    "    (df_all_dependencies[\"is_cross\"] == True) &\n",
    "    (df_all_dependencies[\"Source_status\"] == \"MERGED\") &\n",
    "    (df_all_dependencies[\"Target_status\"] == \"MERGED\") &\n",
    "    (df_all_dependencies[\"is_source_bot\"] == False) &\n",
    "    (df_all_dependencies[\"is_target_bot\"] == False) &\n",
    "    (df_all_dependencies[\"is_same_dev\"] == \"Same\") &\n",
    "    (df_all_dependencies[\"Revisions_less\"] > 0), [\"Revisions_less\"]]\n",
    "df_all_dependencies_revisions_less[\"Label\"] = \"Less familiar\"\n",
    "df_all_dependencies_revisions_less.rename(columns={\"Revisions_less\": \"Revisions\"}, inplace=True)\n",
    "\n",
    "df_all_dependencies_revisions_more = df_all_dependencies.loc[\n",
    "    (df_all_dependencies[\"is_cross\"] == True) &\n",
    "    (df_all_dependencies[\"Source_status\"] == \"MERGED\") &\n",
    "    (df_all_dependencies[\"Target_status\"] == \"MERGED\") &\n",
    "    (df_all_dependencies[\"is_source_bot\"] == False) &\n",
    "    (df_all_dependencies[\"is_target_bot\"] == False) &\n",
    "    (df_all_dependencies[\"is_same_dev\"] == \"Same\") &\n",
    "    (df_all_dependencies[\"Revisions_less\"] > 0), [\"Revisions_more\"]]\n",
    "df_all_dependencies_revisions_more[\"Label\"] = \"More familiar\"\n",
    "df_all_dependencies_revisions_more.rename(columns={\"Revisions_more\": \"Revisions\"}, inplace=True)\n",
    "df_all_dependencies_revisions = pd.concat((df_all_dependencies_revisions_less, df_all_dependencies_revisions_more))\n",
    "df_all_dependencies_revisions[df_all_dependencies_revisions.Revisions.notnull()].to_csv(\"./RQs/RQ4/Files/Same_dev_revisions.csv\", index=False)"
   ]
  },
  {
   "cell_type": "code",
   "execution_count": 71,
   "metadata": {},
   "outputs": [
    {
     "name": "stderr",
     "output_type": "stream",
     "text": [
      "/var/folders/p4/wn9d12jj6g78td0tl7gx7xlw0000gp/T/ipykernel_1753/1670072075.py:1: FutureWarning: Dropping of nuisance columns in DataFrame reductions (with 'numeric_only=None') is deprecated; in a future version this will raise TypeError.  Select only valid columns before calling the reduction.\n",
      "  df_all_dependencies_revisions[(df_all_dependencies_revisions.Revisions.notnull())&(df_all_dependencies_revisions.Label==\"More familiar\")].median()\n"
     ]
    },
    {
     "data": {
      "text/plain": [
       "Revisions    2.0\n",
       "dtype: float64"
      ]
     },
     "execution_count": 71,
     "metadata": {},
     "output_type": "execute_result"
    }
   ],
   "source": [
    "df_all_dependencies_revisions[(df_all_dependencies_revisions.Revisions.notnull())&(df_all_dependencies_revisions.Label==\"More familiar\")].median()"
   ]
  },
  {
   "attachments": {},
   "cell_type": "markdown",
   "metadata": {},
   "source": [
    "#### Does it take much time to merge changes in projects with less experience vs. changes in projects with familiar with"
   ]
  },
  {
   "cell_type": "code",
   "execution_count": null,
   "metadata": {},
   "outputs": [],
   "source": [
    "df_all_dependencies[\"Source_duration\"] = df_all_dependencies.loc[(df_all_dependencies[\"is_cross\"]==True)&(df_all_dependencies[\"same_dev\"]==True), \"Source\"].map(lambda nbr: df.loc[df.number==nbr,\"merge_duration\"].values[0])\n",
    "df_all_dependencies[\"Target_duration\"] = df_all_dependencies.loc[(df_all_dependencies[\"is_cross\"]==True)&(df_all_dependencies[\"same_dev\"]==True), \"Target\"].map(lambda nbr: df.loc[df.number==nbr,\"merge_duration\"].values[0])\n",
    "df_all_dependencies[\"merge_duration_diff\"] = df_all_dependencies.loc[(df_all_dependencies[\"is_cross\"]==True)&(df_all_dependencies[\"same_dev\"]==True),[\"Source_exp\", \"Target_exp\", \"Source_duration\", \"Target_duration\"]].apply(identify_merge_duration, axis=1)"
   ]
  },
  {
   "cell_type": "code",
   "execution_count": 211,
   "metadata": {},
   "outputs": [
    {
     "data": {
      "text/plain": [
       "0.4403501703234314"
      ]
     },
     "execution_count": 211,
     "metadata": {},
     "output_type": "execute_result"
    }
   ],
   "source": [
    "len(df_all_dependencies.loc[\n",
    "    (df_all_dependencies[\"is_cross\"] == True) &\n",
    "    (df_all_dependencies[\"status_source\"] == \"MERGED\") &\n",
    "    (df_all_dependencies[\"status_target\"] == \"MERGED\") &\n",
    "    (df_all_dependencies[\"is_source_bot\"] == False) &\n",
    "    ((df_all_dependencies[\"Source_exp\"] != 0) |\n",
    "     (df_all_dependencies[\"Target_exp\"] != 0)) &\n",
    "    (df_all_dependencies[\"same_dev\"] == True) &\n",
    "    (df_all_dependencies[\"merge_duration_diff\"] > 1), [\"min\"]]) / len(\n",
    "        df_all_dependencies.loc[\n",
    "            (df_all_dependencies[\"is_cross\"] == True) &\n",
    "            ((df_all_dependencies[\"Source_exp\"] != 0) & \n",
    "            (df_all_dependencies[\"Target_exp\"] != 0)) &\n",
    "            (df_all_dependencies[\"status_source\"] == \"MERGED\") &\n",
    "            (df_all_dependencies[\"status_target\"] == \"MERGED\") &\n",
    "            (df_all_dependencies[\"is_source_bot\"] == False) &\n",
    "            (df_all_dependencies[\"is_target_bot\"] == False) &\n",
    "            (df_all_dependencies[\"same_dev\"] == True)])\n"
   ]
  },
  {
   "cell_type": "code",
   "execution_count": null,
   "metadata": {},
   "outputs": [],
   "source": [
    "df_all_dependencies.loc[\n",
    "    (df_all_dependencies[\"is_cross\"] == True) &\n",
    "    (df_all_dependencies[\"status_source\"] == \"MERGED\") &\n",
    "    (df_all_dependencies[\"status_target\"] == \"MERGED\") &\n",
    "    (df_all_dependencies[\"is_source_bot\"] == False) &\n",
    "    ((df_all_dependencies[\"Source_exp\"] != 0) |\n",
    "     (df_all_dependencies[\"Target_exp\"] != 0)) &\n",
    "    (df_all_dependencies[\"same_dev\"] == True) &\n",
    "    (df_all_dependencies[\"merge_duration_diff\"] < 1), [\"min\"]]"
   ]
  },
  {
   "cell_type": "code",
   "execution_count": 136,
   "metadata": {},
   "outputs": [],
   "source": [
    "df_all_dependencies.loc[(df_all_dependencies[\"status_source\"]==\"MERGED\")&(df_all_dependencies[\"status_target\"]==\"MERGED\")&(df_all_dependencies[\"is_cross\"]==True)&(df_all_dependencies[\"same_dev\"]==True), [\"min\", \"max\", \"max_min\"]].to_csv(\"./RQs/RQ4/Files/same_dev_experience.csv\", index=False)"
   ]
  },
  {
   "attachments": {},
   "cell_type": "markdown",
   "metadata": {},
   "source": [
    "### Analysis"
   ]
  },
  {
   "cell_type": "code",
   "execution_count": null,
   "metadata": {},
   "outputs": [],
   "source": [
    "df_all_dependencies[\"Source_revisions\"] = df_all_dependencies.loc[(df_all_dependencies[\"is_cross\"]==True)&(df_all_dependencies[\"same_dev\"]==True), \"Source\"].map(lambda nbr: df.loc[df[\"number\"]==nbr,\"revisions_count\"].values[0])\n",
    "df_all_dependencies[\"Target_revisions\"] = df_all_dependencies.loc[(df_all_dependencies[\"is_cross\"]==True)&(df_all_dependencies[\"same_dev\"]==True), \"Target\"].map(lambda nbr: df.loc[df[\"number\"]==nbr,\"revisions_count\"].values[0])"
   ]
  },
  {
   "cell_type": "code",
   "execution_count": 8,
   "metadata": {},
   "outputs": [],
   "source": [
    "df_all_dependencies = pd.read_csv(\"./Files/all_dependencies.csv\")"
   ]
  },
  {
   "cell_type": "code",
   "execution_count": 215,
   "metadata": {},
   "outputs": [
    {
     "data": {
      "text/plain": [
       "0.08718834644997547"
      ]
     },
     "execution_count": 215,
     "metadata": {},
     "output_type": "execute_result"
    }
   ],
   "source": [
    "len(df_all_dependencies.loc[\n",
    "    (df_all_dependencies[\"is_cross\"]==True) &\n",
    "    (df_all_dependencies[\"intersect_rev\"]==0) &\n",
    "    (df_all_dependencies[\"Source_status\"]==\"MERGED\") &\n",
    "    (df_all_dependencies[\"Target_status\"]==\"MERGED\") &\n",
    "    (df_all_dependencies[\"is_source_bot\"] == False) &\n",
    "    (df_all_dependencies[\"is_target_bot\"] == False)])/len(df_all_dependencies.loc[\n",
    "    (df_all_dependencies[\"is_cross\"]==True) &\n",
    "    (df_all_dependencies[\"status_source\"]==\"MERGED\") &\n",
    "    (df_all_dependencies[\"status_target\"]==\"MERGED\") &\n",
    "    (df_all_dependencies[\"is_source_bot\"] == False) &\n",
    "    (df_all_dependencies[\"is_target_bot\"] == False)])"
   ]
  },
  {
   "cell_type": "code",
   "execution_count": 79,
   "metadata": {},
   "outputs": [
    {
     "data": {
      "text/plain": [
       "0.5094339622641509"
      ]
     },
     "execution_count": 79,
     "metadata": {},
     "output_type": "execute_result"
    }
   ],
   "source": [
    "len(df_all_dependencies.loc[\n",
    "    (df_all_dependencies[\"is_cross\"]==True) &\n",
    "    (df_all_dependencies[\"intersect_rev\"]==0) &\n",
    "    (df_all_dependencies[\"Source_release\"]!=df_all_dependencies[\"Target_release\"]) &\n",
    "    (df_all_dependencies[\"Source_status\"]==\"MERGED\") &\n",
    "    (df_all_dependencies[\"Target_status\"]==\"MERGED\") &\n",
    "    (df_all_dependencies[\"is_source_bot\"] == False) &\n",
    "    (df_all_dependencies[\"is_target_bot\"] == False), [\"Source_release\", \"Target_release\"]])/len(df_all_dependencies.loc[\n",
    "    (df_all_dependencies[\"is_cross\"]==True) &\n",
    "    (df_all_dependencies[\"intersect_rev\"]==0) &\n",
    "    # (df_all_dependencies[\"Source_release\"]!=df_all_dependencies[\"Target_release\"]) &\n",
    "    (df_all_dependencies[\"Source_status\"]==\"MERGED\") &\n",
    "    (df_all_dependencies[\"Target_status\"]==\"MERGED\") &\n",
    "    (df_all_dependencies[\"is_source_bot\"] == False) &\n",
    "    (df_all_dependencies[\"is_target_bot\"] == False), [\"Source_release\", \"Target_release\"]])"
   ]
  },
  {
   "attachments": {},
   "cell_type": "markdown",
   "metadata": {},
   "source": [
    "#### Does it get quickly reviewed ?"
   ]
  },
  {
   "cell_type": "code",
   "execution_count": 305,
   "metadata": {},
   "outputs": [],
   "source": [
    "def compute_review_duration(nbr):\n",
    "    messages = df.loc[df.number==nbr, \"messages\"].values[0]\n",
    "    messages.sort(key=lambda x: x[\"date\"])\n",
    "    if len(messages) >1:\n",
    "        return time_diff(messages[0][\"date\"], messages[-1][\"date\"])\n",
    "    return 0"
   ]
  },
  {
   "cell_type": "code",
   "execution_count": 5,
   "metadata": {},
   "outputs": [],
   "source": [
    "df_all_dependencies_duration_source_reviewers = df_all_dependencies.loc[\n",
    "    (df_all_dependencies[\"is_cross\"]==True) &\n",
    "    (df_all_dependencies[\"Source_status\"]==\"MERGED\") &\n",
    "    (df_all_dependencies[\"Target_status\"]==\"MERGED\") &\n",
    "    (df_all_dependencies[\"is_source_bot\"] == False) &\n",
    "    (df_all_dependencies[\"is_target_bot\"] == False) &\n",
    "    # (df_all_dependencies[\"Duration_source\"].notnull()) &\n",
    "    (df_all_dependencies[\"intersect_rev\"]>0), [\"Source_duration\"]]\n",
    "df_all_dependencies_duration_source_reviewers.rename(columns={\"Source_duration\": \"Duration\"}, inplace=True)\n",
    "df_all_dependencies_duration_source_reviewers[\"Reviewer_sharing\"] = \"At least one\"\n",
    "df_all_dependencies_duration_source_reviewers[\"Project_type\"] = \"Source\"\n",
    "\n",
    "df_all_dependencies_duration_target_reviewers = df_all_dependencies.loc[\n",
    "    (df_all_dependencies[\"is_cross\"]==True) &\n",
    "    (df_all_dependencies[\"Source_status\"]==\"MERGED\") &\n",
    "    (df_all_dependencies[\"Target_status\"]==\"MERGED\") &\n",
    "    (df_all_dependencies[\"is_source_bot\"] == False) &\n",
    "    (df_all_dependencies[\"is_target_bot\"] == False) &\n",
    "    # (df_all_dependencies[\"Duration_target\"].notnull())&\n",
    "    (df_all_dependencies[\"intersect_rev\"]>0), [\"Target_duration\"]]\n",
    "df_all_dependencies_duration_target_reviewers.rename(columns={\"Target_duration\": \"Duration\"}, inplace=True)\n",
    "df_all_dependencies_duration_target_reviewers[\"Reviewer_sharing\"] = \"At least one\"\n",
    "df_all_dependencies_duration_target_reviewers[\"Project_type\"] = \"Target\"\n",
    "\n",
    "df_all_dependencies_duration_source_no_reviewers = df_all_dependencies.loc[\n",
    "    (df_all_dependencies[\"is_cross\"]==True) &\n",
    "    (df_all_dependencies[\"Source_status\"]==\"MERGED\") &\n",
    "    (df_all_dependencies[\"Target_status\"]==\"MERGED\") &\n",
    "    (df_all_dependencies[\"is_source_bot\"] == False) &\n",
    "    (df_all_dependencies[\"is_target_bot\"] == False) &\n",
    "    # (df_all_dependencies[\"Duration_source\"].notnull()) &\n",
    "    (df_all_dependencies[\"intersect_rev\"]==0), [\"Source_duration\"]]\n",
    "df_all_dependencies_duration_source_no_reviewers.rename(columns={\"Source_duration\": \"Duration\"}, inplace=True)\n",
    "df_all_dependencies_duration_source_no_reviewers[\"Reviewer_sharing\"] = \"Different\"\n",
    "df_all_dependencies_duration_source_no_reviewers[\"Project_type\"] = \"Source\"\n",
    "\n",
    "df_all_dependencies_duration_target_no_reviewers = df_all_dependencies.loc[\n",
    "    (df_all_dependencies[\"is_cross\"]==True) &\n",
    "    (df_all_dependencies[\"Source_status\"]==\"MERGED\") &\n",
    "    (df_all_dependencies[\"Target_status\"]==\"MERGED\") &\n",
    "    (df_all_dependencies[\"is_source_bot\"] == False) &\n",
    "    (df_all_dependencies[\"is_target_bot\"] == False) &\n",
    "    # (df_all_dependencies[\"Duration_target\"].notnull()) &\n",
    "    (df_all_dependencies[\"intersect_rev\"]==0), [\"Target_duration\"]]\n",
    "df_all_dependencies_duration_target_no_reviewers.rename(columns={\"Target_duration\": \"Duration\"}, inplace=True)\n",
    "df_all_dependencies_duration_target_no_reviewers[\"Reviewer_sharing\"] = \"Different\"\n",
    "df_all_dependencies_duration_target_no_reviewers[\"Project_type\"] = \"Target\"\n"
   ]
  },
  {
   "cell_type": "code",
   "execution_count": 6,
   "metadata": {},
   "outputs": [
    {
     "name": "stderr",
     "output_type": "stream",
     "text": [
      "/var/folders/p4/wn9d12jj6g78td0tl7gx7xlw0000gp/T/ipykernel_2190/1359031094.py:1: FutureWarning: Dropping of nuisance columns in DataFrame reductions (with 'numeric_only=None') is deprecated; in a future version this will raise TypeError.  Select only valid columns before calling the reduction.\n",
      "  df_all_dependencies_duration_source_no_reviewers.median()\n"
     ]
    },
    {
     "data": {
      "text/plain": [
       "Duration    70.81\n",
       "dtype: float64"
      ]
     },
     "execution_count": 6,
     "metadata": {},
     "output_type": "execute_result"
    }
   ],
   "source": [
    "df_all_dependencies_duration_source_no_reviewers.median()"
   ]
  },
  {
   "cell_type": "code",
   "execution_count": 7,
   "metadata": {},
   "outputs": [],
   "source": [
    "df_all_dependencies_duration_reviewers = pd.concat((df_all_dependencies_duration_source_reviewers,df_all_dependencies_duration_target_reviewers,df_all_dependencies_duration_source_no_reviewers,df_all_dependencies_duration_target_no_reviewers))"
   ]
  },
  {
   "cell_type": "code",
   "execution_count": 130,
   "metadata": {},
   "outputs": [
    {
     "data": {
      "text/plain": [
       "Duration_less    71.72\n",
       "dtype: float64"
      ]
     },
     "execution_count": 130,
     "metadata": {},
     "output_type": "execute_result"
    }
   ],
   "source": [
    "df_all_dependencies.loc[\n",
    "    (df_all_dependencies[\"is_cross\"]==True) &\n",
    "    (df_all_dependencies[\"Source_status\"]==\"MERGED\") &\n",
    "    (df_all_dependencies[\"Target_status\"]==\"MERGED\") &\n",
    "    (df_all_dependencies[\"is_source_bot\"] == False) &\n",
    "    (df_all_dependencies[\"is_target_bot\"] == False) &\n",
    "    # (df_all_dependencies[\"Duration_more\"].notnull())&\n",
    "    (df_all_dependencies[\"intersect_rev\"]==0), [\"Duration_less\"]].median()"
   ]
  },
  {
   "cell_type": "code",
   "execution_count": 140,
   "metadata": {},
   "outputs": [
    {
     "name": "stderr",
     "output_type": "stream",
     "text": [
      "/var/folders/p4/wn9d12jj6g78td0tl7gx7xlw0000gp/T/ipykernel_1753/768293591.py:1: FutureWarning: Dropping of nuisance columns in DataFrame reductions (with 'numeric_only=None') is deprecated; in a future version this will raise TypeError.  Select only valid columns before calling the reduction.\n",
      "  df_all_dependencies_duration_reviewers[\n"
     ]
    },
    {
     "data": {
      "text/plain": [
       "Source_duration     92.81\n",
       "Target_duration    123.83\n",
       "Duration           202.09\n",
       "dtype: float64"
      ]
     },
     "execution_count": 140,
     "metadata": {},
     "output_type": "execute_result"
    }
   ],
   "source": [
    "df_all_dependencies_duration_reviewers[\n",
    "    (df_all_dependencies_duration_reviewers[\"Reviewer_sharing\"]==\"(+) reviewer\") &\n",
    "    (df_all_dependencies_duration_reviewers[\"Label\"]==\"Max duration\")].median()"
   ]
  },
  {
   "cell_type": "code",
   "execution_count": 8,
   "metadata": {},
   "outputs": [],
   "source": [
    "df_all_dependencies_duration_reviewers.to_csv(\"./RQs/RQ4/Files/Duration_reviewers.csv\", index=False)"
   ]
  },
  {
   "cell_type": "code",
   "execution_count": 18,
   "metadata": {},
   "outputs": [],
   "source": [
    "df_all_dependencies.to_csv(\"./Files/all_dependencies.csv\", index=False)"
   ]
  }
 ],
 "metadata": {
  "kernelspec": {
   "display_name": "base",
   "language": "python",
   "name": "python3"
  },
  "language_info": {
   "codemirror_mode": {
    "name": "ipython",
    "version": 3
   },
   "file_extension": ".py",
   "mimetype": "text/x-python",
   "name": "python",
   "nbconvert_exporter": "python",
   "pygments_lexer": "ipython3",
   "version": "3.9.13"
  },
  "orig_nbformat": 4,
  "vscode": {
   "interpreter": {
    "hash": "4c3f98dc7a618963d8c453529bd2f978a19750ea04392a0abd6ac6b1e473063f"
   }
  }
 },
 "nbformat": 4,
 "nbformat_minor": 2
}
