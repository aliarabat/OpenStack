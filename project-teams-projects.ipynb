{
 "cells": [
  {
   "cell_type": "code",
   "execution_count": 1,
   "metadata": {},
   "outputs": [],
   "source": [
    "import pandas as pd\n",
    "import numpy as np\n",
    "import re\n",
    "import networkx as nx\n",
    "import utils.helpers as hpr\n",
    "import ast\n",
    "import collections\n",
    "import requests as rq\n",
    "from bs4 import BeautifulSoup\n",
    "import re"
   ]
  },
  {
   "attachments": {},
   "cell_type": "markdown",
   "metadata": {},
   "source": [
    "### Get project team deliverables"
   ]
  },
  {
   "cell_type": "code",
   "execution_count": 66,
   "metadata": {},
   "outputs": [],
   "source": [
    "request_teams = rq.get(\"https://governance.openstack.org/tc/reference/projects/index.html\")\n",
    "soup_teams = BeautifulSoup(request_teams.text, 'html.parser')\n",
    "\n",
    "teams_deliverables = {}\n",
    "href_links_teams = soup_teams.find_all(\"a\", \"reference internal\")\n",
    "\n",
    "for i in range(1, len(href_links_teams)-2):\n",
    "    link = href_links_teams[i]\n",
    "    link_suffix = link[\"href\"]\n",
    "\n",
    "    request_projects = rq.get(\"https://governance.openstack.org/tc/reference/projects/%s\" % (link_suffix))\n",
    "    soup_projects = BeautifulSoup(request_projects.text, 'html.parser')\n",
    "    href_links_projects = soup_projects.find_all(\"a\", \"reference internal\")\n",
    "\n",
    "    projects = [href_links_projects[j].text for j in range(3, len(href_links_projects))]\n",
    "    teams_deliverables[link_suffix[:-5].replace(\"-\", \"\")] = projects"
   ]
  },
  {
   "cell_type": "code",
   "execution_count": 35,
   "metadata": {},
   "outputs": [],
   "source": [
    "pd.DataFrame({\"team\": teams_deliverables.keys(), \"projects\": teams_deliverables.values()}).to_csv(\"./RQs/PQ/Files/teams_deleverables.csv\", index=False)"
   ]
  },
  {
   "attachments": {},
   "cell_type": "markdown",
   "metadata": {},
   "source": [
    "### Associate projects belongng to more than 2 services"
   ]
  },
  {
   "cell_type": "code",
   "execution_count": 3,
   "metadata": {},
   "outputs": [],
   "source": [
    "mapped_projects = pd.read_csv(\"./all_os_components.csv\")\n",
    "mapped_projects[\"related_projects\"] = mapped_projects[\"related_projects\"].map(ast.literal_eval)"
   ]
  },
  {
   "cell_type": "code",
   "execution_count": 68,
   "metadata": {},
   "outputs": [],
   "source": [
    "projects = hpr.flatten_list(mapped_projects[\"related_projects\"].values)\n",
    "projects_count = collections.Counter(projects)\n",
    "df_projects = pd.DataFrame({\"k\": projects_count.keys(), \"v\": projects_count.values()})\n",
    "common_projects = df_projects.loc[df_projects[\"v\"] >= 2, \"k\"].values"
   ]
  },
  {
   "cell_type": "code",
   "execution_count": 69,
   "metadata": {},
   "outputs": [
    {
     "data": {
      "text/plain": [
       "93"
      ]
     },
     "execution_count": 69,
     "metadata": {},
     "output_type": "execute_result"
    }
   ],
   "source": [
    "len(projects_count)-len(df_projects.loc[df_projects[\"v\"] == 1, \"k\"].values)"
   ]
  },
  {
   "cell_type": "code",
   "execution_count": 70,
   "metadata": {},
   "outputs": [],
   "source": [
    "def get_affiliated_services(p):\n",
    "    result = []\n",
    "    for idx, row in mapped_projects.iterrows():\n",
    "        if p in row[\"related_projects\"]:\n",
    "            result.append(row[\"main_project\"])\n",
    "    return result"
   ]
  },
  {
   "cell_type": "code",
   "execution_count": 71,
   "metadata": {},
   "outputs": [],
   "source": [
    "result = {}\n",
    "for p in common_projects:\n",
    "    result[p] = get_affiliated_services(p)"
   ]
  },
  {
   "cell_type": "code",
   "execution_count": 72,
   "metadata": {},
   "outputs": [],
   "source": [
    "df_projects_mapping = pd.DataFrame({\"project\": result.keys(), \"teams\": result.values()})\n",
    "df_projects_mapping[\"count\"] = df_projects_mapping[\"teams\"].map(lambda x: len(x))\n",
    "df_projects_mapping.sort_values(by=\"count\", ascending=0).to_csv(\"./projects_mapping.csv\", index=False)"
   ]
  },
  {
   "cell_type": "code",
   "execution_count": 73,
   "metadata": {},
   "outputs": [],
   "source": [
    "inv_team_deliverables = {v2: k for k, v in teams_deliverables.items() for v2 in v }"
   ]
  },
  {
   "cell_type": "code",
   "execution_count": 74,
   "metadata": {},
   "outputs": [],
   "source": [
    "def remove_from_service(df, project, services):\n",
    "    for s in services:\n",
    "        for idx,row in df.iterrows():\n",
    "            if row[\"main_project\"] == s:\n",
    "                old_list = row[\"related_projects\"]\n",
    "                old_list.remove(project)\n",
    "                df._set_value(idx,'related_projects', old_list)\n",
    "\n",
    "def add_to_service(df, project, service):\n",
    "    for idx,row in df.iterrows():\n",
    "        if row[\"main_project\"] == service:\n",
    "            old_list = row[\"related_projects\"]\n",
    "            old_list.append(project)\n",
    "            df._set_value(idx,'related_projects',old_list)\n",
    "            break"
   ]
  },
  {
   "cell_type": "code",
   "execution_count": 75,
   "metadata": {},
   "outputs": [
    {
     "data": {
      "text/plain": [
       "93"
      ]
     },
     "execution_count": 75,
     "metadata": {},
     "output_type": "execute_result"
    }
   ],
   "source": [
    "len(result)"
   ]
  },
  {
   "cell_type": "code",
   "execution_count": 76,
   "metadata": {},
   "outputs": [],
   "source": [
    "found_projects_services = []\n",
    "keys = inv_team_deliverables.keys()\n",
    "for p,services in result.items():\n",
    "    if p in keys:\n",
    "        # Remove k from all associated services\n",
    "        remove_from_service(mapped_projects, p, services)\n",
    "        # Add k to inv_team_deliverables.get(k)\n",
    "        add_to_service(mapped_projects, p, inv_team_deliverables.get(p))\n",
    "        found_projects_services.append(p)"
   ]
  },
  {
   "cell_type": "code",
   "execution_count": 77,
   "metadata": {},
   "outputs": [],
   "source": [
    "def remove_remaining_projects(df, projects):\n",
    "    for idx,row in df.iterrows():\n",
    "        for item in projects:\n",
    "            if item in row[\"related_projects\"]:\n",
    "                old_list = row[\"related_projects\"]\n",
    "                old_list.remove(item)\n",
    "                df._set_value(idx,'related_projects', old_list)"
   ]
  },
  {
   "cell_type": "code",
   "execution_count": 78,
   "metadata": {},
   "outputs": [],
   "source": [
    "left_projects = collections.Counter(hpr.flatten_list(mapped_projects[\"related_projects\"].values))\n",
    "left_projects = pd.DataFrame({\"k\": left_projects.keys(), \"v\": left_projects.values()})"
   ]
  },
  {
   "cell_type": "code",
   "execution_count": 79,
   "metadata": {},
   "outputs": [
    {
     "name": "stdout",
     "output_type": "stream",
     "text": [
      "Before Association 82\n"
     ]
    }
   ],
   "source": [
    "projects_to_remove = left_projects.loc[left_projects[\"v\"] > 1, \"k\"].values\n",
    "print(\"Before Association\", len(projects_to_remove))"
   ]
  },
  {
   "cell_type": "code",
   "execution_count": 80,
   "metadata": {},
   "outputs": [
    {
     "data": {
      "text/plain": [
       "array(['loci-nova', 'novajoin-tempest-plugin',\n",
       "       'ansible-role-tripleo-nova', 'openstack-ansible-os_zun',\n",
       "       'loci-ironic', 'ansible-role-tripleo-ironic',\n",
       "       'ironic-inspector-tempest-plugin',\n",
       "       'openstack-ansible-os_swift_sync', 'loci-swift',\n",
       "       'ansible-role-tripleo-swift', 'loci-cinder',\n",
       "       'ansible-role-tripleo-cinder', 'ansible-role-k8s-cinder',\n",
       "       'openstack-ansible-os_manila', 'ansible-role-tripleo-manila',\n",
       "       'ansible-role-tripleo-neutron', 'loci-neutron', 'neutron-lbaas',\n",
       "       'ansible-role-tripleo-octavia', 'ansible-role-tripleo-designate',\n",
       "       'loci-designate', 'ansible-role-k8s-keystone',\n",
       "       'ansible-role-tripleo-keystone', 'loci-keystone',\n",
       "       'openstack-ansible-os_placement', 'loci-glance',\n",
       "       'ansible-role-k8s-glance', 'ansible-role-tripleo-glance',\n",
       "       'ansible-role-tripleo-barbican', 'ansible-role-tripleo-heat',\n",
       "       'loci-heat', 'openstack-ansible-os_senlin',\n",
       "       'openstack-ansible-os_mistral', 'ansible-role-tripleo-mistral',\n",
       "       'openstack-ansible-os_zaqar', 'ansible-role-tripleo-zaqar',\n",
       "       'openstack-ansible-os_blazar', 'ansible-role-tripleo-aodh',\n",
       "       'ansible-role-tripleo-sahara', 'loci-trove',\n",
       "       'openstack-ansible-os_masakari', 'loci-murano',\n",
       "       'openstack-ansible-os_murano', 'openstack-ansible-os_freezer',\n",
       "       'loci-horizon', 'ansible-role-tripleo-horizon',\n",
       "       'openstack-ansible-os_skyline', 'ansible-role-tripleo-ceilometer',\n",
       "       'openstack-ansible-os_monasca-agent',\n",
       "       'openstack-ansible-os_monasca', 'openstack-ansible-os_monasca-ui',\n",
       "       'openstack-ansible-os_watcher', 'openstack-ansible-os_adjutant',\n",
       "       'openstack-ansible-os_cloudkitty', 'tempest-tripleo-ui',\n",
       "       'tripleo-common-tempest-plugin', 'ansible-role-tripleo-tempest',\n",
       "       'ansible-role-tripleo-tacker', 'ansible-role-openstacksdk',\n",
       "       'ansible-role-tripleo-rabbitmq',\n",
       "       'ansible-role-tripleo-cookiecutter',\n",
       "       'ansible-role-tripleo-keepalived', 'ansible-role-tripleo-ui',\n",
       "       'ansible-role-tripleo-congress',\n",
       "       'ansible-role-tripleo-opendaylight',\n",
       "       'ansible-role-tripleo-qdrouterd', 'ansible-role-tripleo-sensu',\n",
       "       'ansible-role-tripleo-panko', 'ansible-role-tripleo-haproxy',\n",
       "       'ansible-role-tripleo-memcached', 'ansible-role-k8s-tripleo',\n",
       "       'ansible-role-tripleo-ovn', 'ansible-role-tripleo-rsyslog-sidecar',\n",
       "       'ansible-role-tripleo-gnocchi', 'openstack-ansible-ops',\n",
       "       'openstack-ansible-tests',\n",
       "       'openstack-ansible-nspawn_container_create',\n",
       "       'openstack-ansible-nspawn_hosts', 'openstack-ansible-py_from_git',\n",
       "       'openstack-ansible-pip_lock_down', 'openstack-ansible-os_almanach',\n",
       "       'openstack-ansible-os_searchlight'], dtype=object)"
      ]
     },
     "execution_count": 80,
     "metadata": {},
     "output_type": "execute_result"
    }
   ],
   "source": [
    "projects_to_remove"
   ]
  },
  {
   "cell_type": "code",
   "execution_count": 81,
   "metadata": {},
   "outputs": [],
   "source": [
    "remove_remaining_projects(mapped_projects, projects_to_remove)"
   ]
  },
  {
   "cell_type": "code",
   "execution_count": 82,
   "metadata": {},
   "outputs": [],
   "source": [
    "left_projects2 = collections.Counter(hpr.flatten_list(mapped_projects[\"related_projects\"].values))\n",
    "left_projects2 = pd.DataFrame({\"k\": left_projects2.keys(), \"v\": left_projects2.values()})"
   ]
  },
  {
   "cell_type": "code",
   "execution_count": 83,
   "metadata": {},
   "outputs": [
    {
     "name": "stdout",
     "output_type": "stream",
     "text": [
      "After Association 0\n"
     ]
    }
   ],
   "source": [
    "print(\"After Association\", len(left_projects2.loc[left_projects2[\"v\"] > 1, \"k\"].values))"
   ]
  },
  {
   "cell_type": "code",
   "execution_count": 84,
   "metadata": {},
   "outputs": [
    {
     "data": {
      "text/plain": [
       "849"
      ]
     },
     "execution_count": 84,
     "metadata": {},
     "output_type": "execute_result"
    }
   ],
   "source": [
    "len(hpr.flatten_list(mapped_projects[\"related_projects\"].values))"
   ]
  },
  {
   "cell_type": "code",
   "execution_count": 85,
   "metadata": {},
   "outputs": [],
   "source": [
    "mapped_projects[\"length\"] = mapped_projects[\"related_projects\"].map(lambda x: len(x)) "
   ]
  },
  {
   "cell_type": "code",
   "execution_count": 86,
   "metadata": {},
   "outputs": [
    {
     "data": {
      "text/plain": [
       "0"
      ]
     },
     "execution_count": 86,
     "metadata": {},
     "output_type": "execute_result"
    }
   ],
   "source": [
    "len(mapped_projects[mapped_projects[\"length\"]==0])"
   ]
  },
  {
   "cell_type": "code",
   "execution_count": 87,
   "metadata": {},
   "outputs": [],
   "source": [
    "non_associated_projects = pd.read_csv(\"./non_associated_projects.csv\")\n",
    "non_associated_projects = non_associated_projects[\"project\"].values.tolist()"
   ]
  },
  {
   "cell_type": "code",
   "execution_count": 88,
   "metadata": {},
   "outputs": [],
   "source": [
    "already_associated_projects = hpr.flatten_list(mapped_projects[\"related_projects\"].values)\n",
    "associated_github_projects = []\n",
    "for p in non_associated_projects:\n",
    "    if (p in keys) and (p not in already_associated_projects):\n",
    "        add_to_service(mapped_projects, p, inv_team_deliverables.get(p))\n",
    "        associated_github_projects.append(p)\n",
    "        # print(p, inv_team_deliverables.get(p))"
   ]
  },
  {
   "cell_type": "code",
   "execution_count": 89,
   "metadata": {},
   "outputs": [],
   "source": [
    "mapped_projects = mapped_projects.loc[mapped_projects[\"length\"] != 0]"
   ]
  },
  {
   "cell_type": "code",
   "execution_count": 90,
   "metadata": {},
   "outputs": [],
   "source": [
    "result = []\n",
    "mapped_projects_list = hpr.flatten_list(mapped_projects[\"related_projects\"].values)\n",
    "for p in associated_github_projects:\n",
    "    if p not in mapped_projects_list:\n",
    "        result.append(p)"
   ]
  },
  {
   "cell_type": "code",
   "execution_count": 91,
   "metadata": {},
   "outputs": [
    {
     "data": {
      "text/plain": [
       "114"
      ]
     },
     "execution_count": 91,
     "metadata": {},
     "output_type": "execute_result"
    }
   ],
   "source": [
    "len(associated_github_projects)"
   ]
  },
  {
   "cell_type": "code",
   "execution_count": 92,
   "metadata": {},
   "outputs": [
    {
     "data": {
      "text/plain": [
       "963"
      ]
     },
     "execution_count": 92,
     "metadata": {},
     "output_type": "execute_result"
    }
   ],
   "source": [
    "len(hpr.flatten_list(mapped_projects[\"related_projects\"].values))"
   ]
  },
  {
   "cell_type": "code",
   "execution_count": 93,
   "metadata": {},
   "outputs": [],
   "source": [
    "def remove_projects_are_services(df):\n",
    "    services = df[\"main_project\"].values.tolist()\n",
    "    projects_services = []\n",
    "    for idx,row in df.iterrows():\n",
    "        projects_services.append(list(set(row[\"related_projects\"]).intersection(services)))\n",
    "        new_projects = list(set(row[\"related_projects\"]).difference(services))\n",
    "        df._set_value(idx,'related_projects', new_projects)\n",
    "    projects_services = hpr.flatten_list(projects_services)\n",
    "    for idx,row in df.iterrows():\n",
    "        if row[\"main_project\"] in projects_services:\n",
    "            new_list = list(dict.fromkeys(row[\"related_projects\"] + [row[\"main_project\"]]))\n",
    "            df._set_value(idx,'related_projects', new_list)"
   ]
  },
  {
   "cell_type": "code",
   "execution_count": 94,
   "metadata": {},
   "outputs": [],
   "source": [
    "remove_projects_are_services(mapped_projects)"
   ]
  },
  {
   "cell_type": "code",
   "execution_count": 122,
   "metadata": {},
   "outputs": [],
   "source": [
    "mapped_projects[[\"main_project\", \"related_projects\"]].to_csv(\"./all_os_components.csv\", index=False)"
   ]
  },
  {
   "attachments": {},
   "cell_type": "markdown",
   "metadata": {},
   "source": [
    "### New appraoch for linking projects to their respetive services"
   ]
  },
  {
   "cell_type": "code",
   "execution_count": null,
   "metadata": {},
   "outputs": [],
   "source": [
    "request_teams = rq.get(\"https://governance.openstack.org/tc/reference/projects/index.html\")\n",
    "soup_teams = BeautifulSoup(request_teams.text, 'html.parser')\n",
    "\n",
    "teams_deliverables = {}\n",
    "href_links_teams = soup_teams.find_all(\"a\", \"reference internal\")\n",
    "\n",
    "for i in range(1, len(href_links_teams)-2):\n",
    "    link = href_links_teams[i]\n",
    "    link_suffix = link[\"href\"]\n",
    "\n",
    "    request_projects = rq.get(\"https://governance.openstack.org/tc/reference/projects/%s\" % (link_suffix))\n",
    "    soup_projects = BeautifulSoup(request_projects.text, 'html.parser')\n",
    "    href_links_projects = soup_projects.find_all(\"a\", \"reference internal\")\n",
    "\n",
    "    projects = [href_links_projects[j].text for j in range(3, len(href_links_projects))]\n",
    "    teams_deliverables[link_suffix[:-5].replace(\"-\", \"\")] = projects"
   ]
  }
 ],
 "metadata": {
  "kernelspec": {
   "display_name": "Python 3.9.7 ('base')",
   "language": "python",
   "name": "python3"
  },
  "language_info": {
   "codemirror_mode": {
    "name": "ipython",
    "version": 3
   },
   "file_extension": ".py",
   "mimetype": "text/x-python",
   "name": "python",
   "nbconvert_exporter": "python",
   "pygments_lexer": "ipython3",
   "version": "3.9.13"
  },
  "orig_nbformat": 4,
  "vscode": {
   "interpreter": {
    "hash": "5179d32cf6ec497baf3f8a3ef987cc77c5d2dc691fdde20a56316522f61a7323"
   }
  }
 },
 "nbformat": 4,
 "nbformat_minor": 2
}
