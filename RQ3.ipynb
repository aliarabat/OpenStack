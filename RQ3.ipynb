{
 "cells": [
  {
   "cell_type": "code",
   "execution_count": 2,
   "metadata": {},
   "outputs": [],
   "source": [
    "import os.path as osp\n",
    "import pandas as pd\n",
    "from scipy.stats import wilcoxon\n",
    "from datetime import datetime\n",
    "import ast\n",
    "import utils.helpers as hpr"
   ]
  },
  {
   "cell_type": "code",
   "execution_count": 3,
   "metadata": {},
   "outputs": [],
   "source": [
    "path = osp.join('.', 'RQs', 'RQ4', 'Files')"
   ]
  },
  {
   "attachments": {},
   "cell_type": "markdown",
   "metadata": {},
   "source": [
    "### Functions"
   ]
  },
  {
   "cell_type": "code",
   "execution_count": 153,
   "metadata": {},
   "outputs": [],
   "source": [
    "def time_diff(start, end):\n",
    "    if start > end:\n",
    "        start, end = end, start\n",
    "    current_date =  datetime.strptime(end[:-11], \"%Y-%m-%d %H:%M:%S\") \n",
    "    previous_date = datetime.strptime(start[:-11], \"%Y-%m-%d %H:%M:%S\") \n",
    "    diff = current_date - previous_date\n",
    "    diff = float(\"{:.2f}\".format(diff.total_seconds() / 3600))\n",
    "    return diff\n",
    "\n",
    "def compute_time_diff(revisions):\n",
    "    if len(revisions) == 1:\n",
    "        return 0\n",
    "    dates = [rev[\"created\"] for rev in revisions]\n",
    "    dates.sort()\n",
    "    return time_diff(dates[0], dates[-1])"
   ]
  },
  {
   "attachments": {},
   "cell_type": "markdown",
   "metadata": {},
   "source": [
    "### Main dataframe"
   ]
  },
  {
   "cell_type": "code",
   "execution_count": 5,
   "metadata": {},
   "outputs": [],
   "source": [
    "df = hpr.combine_openstack_data()"
   ]
  },
  {
   "cell_type": "code",
   "execution_count": 6,
   "metadata": {},
   "outputs": [
    {
     "data": {
      "text/plain": [
       "516509"
      ]
     },
     "execution_count": 6,
     "metadata": {},
     "output_type": "execute_result"
    }
   ],
   "source": [
    "len(df)"
   ]
  },
  {
   "cell_type": "code",
   "execution_count": 3,
   "metadata": {},
   "outputs": [],
   "source": [
    "df[\"reviewers\"] = df[\"reviewers\"].apply(ast.literal_eval)"
   ]
  },
  {
   "cell_type": "code",
   "execution_count": 4,
   "metadata": {},
   "outputs": [],
   "source": [
    "df[\"reviewers_ids\"] = df[\"reviewers\"].map(lambda revs: [rev[\"_account_id\"] for rev in revs if \"tags\" not in rev.keys()])"
   ]
  },
  {
   "cell_type": "code",
   "execution_count": 160,
   "metadata": {},
   "outputs": [],
   "source": [
    "df[\"revisions\"] = df[\"revisions\"].apply(ast.literal_eval)"
   ]
  },
  {
   "cell_type": "code",
   "execution_count": 161,
   "metadata": {},
   "outputs": [],
   "source": [
    "df[\"merge_duration\"] = df[\"revisions\"].map(compute_time_diff)"
   ]
  },
  {
   "cell_type": "code",
   "execution_count": 4,
   "metadata": {},
   "outputs": [],
   "source": [
    "df_all_dependencies = pd.read_csv(\"./Files/all_dependencies.csv\")"
   ]
  },
  {
   "cell_type": "code",
   "execution_count": 83,
   "metadata": {},
   "outputs": [],
   "source": [
    "df_all_dependencies = df_all_dependencies[\n",
    "    (df_all_dependencies.is_cross=='Cross') &\n",
    "    (df_all_dependencies.Source_status == 'MERGED') &\n",
    "    (df_all_dependencies.Target_status == 'MERGED') &\n",
    "    (df_all_dependencies.is_source_bot == 0) &\n",
    "    (df_all_dependencies.is_target_bot == 0)\n",
    "]"
   ]
  },
  {
   "cell_type": "markdown",
   "metadata": {},
   "source": [
    "#### \\# of cross-project dependencies made by the same developer"
   ]
  },
  {
   "cell_type": "code",
   "execution_count": 19,
   "metadata": {},
   "outputs": [
    {
     "data": {
      "text/plain": [
       "35556"
      ]
     },
     "execution_count": 19,
     "metadata": {},
     "output_type": "execute_result"
    }
   ],
   "source": [
    "# Same\n",
    "len(df_all_dependencies.loc[df_all_dependencies.is_same_dev == \"Same\"])"
   ]
  },
  {
   "cell_type": "code",
   "execution_count": 20,
   "metadata": {},
   "outputs": [
    {
     "data": {
      "text/plain": [
       "11572"
      ]
     },
     "execution_count": 20,
     "metadata": {},
     "output_type": "execute_result"
    }
   ],
   "source": [
    "# Different\n",
    "len(df_all_dependencies.loc[df_all_dependencies.is_same_dev == \"Different\"])"
   ]
  },
  {
   "cell_type": "markdown",
   "metadata": {},
   "source": [
    "#### \\# of cross-team dependencies made by the same developer"
   ]
  },
  {
   "cell_type": "code",
   "execution_count": 26,
   "metadata": {},
   "outputs": [
    {
     "data": {
      "text/plain": [
       "2944"
      ]
     },
     "execution_count": 26,
     "metadata": {},
     "output_type": "execute_result"
    }
   ],
   "source": [
    "len(df_all_dependencies.loc[\n",
    "    (df_all_dependencies.is_cross_team == \"Cross\")&\n",
    "    (df_all_dependencies.is_same_dev == \"Different\")\n",
    "])"
   ]
  },
  {
   "cell_type": "markdown",
   "metadata": {},
   "source": [
    "#### % of cross-project deps made by different developers"
   ]
  },
  {
   "cell_type": "code",
   "execution_count": 27,
   "metadata": {},
   "outputs": [
    {
     "data": {
      "text/plain": [
       "0.24554405024613818"
      ]
     },
     "execution_count": 27,
     "metadata": {},
     "output_type": "execute_result"
    }
   ],
   "source": [
    "len(df_all_dependencies.loc[df_all_dependencies.is_same_dev == \"Different\"])/len(df_all_dependencies)"
   ]
  },
  {
   "cell_type": "markdown",
   "metadata": {},
   "source": [
    "#### % of cross-team deps made by different developers"
   ]
  },
  {
   "cell_type": "code",
   "execution_count": 28,
   "metadata": {},
   "outputs": [
    {
     "data": {
      "text/plain": [
       "0.33246753246753247"
      ]
     },
     "execution_count": 28,
     "metadata": {},
     "output_type": "execute_result"
    }
   ],
   "source": [
    "len(df_all_dependencies.loc[\n",
    "    (df_all_dependencies.is_cross_team == \"Cross\")&\n",
    "    (df_all_dependencies.is_same_dev == \"Different\")])/len(df_all_dependencies.loc[df_all_dependencies.is_cross_team == \"Cross\"])"
   ]
  },
  {
   "cell_type": "code",
   "execution_count": 29,
   "metadata": {},
   "outputs": [
    {
     "data": {
      "text/plain": [
       "0.2744555824403733"
      ]
     },
     "execution_count": 29,
     "metadata": {},
     "output_type": "execute_result"
    }
   ],
   "source": [
    "len(df_all_dependencies[(df_all_dependencies.is_same_dev == \"Different\") &\n",
    "                    ((df_all_dependencies.Source_rev_target == True) &\n",
    "                     (df_all_dependencies.Target_rev_source == True))\n",
    "                     ])/len(df_all_dependencies[(df_all_dependencies.is_same_dev == \"Different\")])\n"
   ]
  },
  {
   "cell_type": "markdown",
   "metadata": {},
   "source": [
    "#### The analysis concerning developer working on project they inexperienced with"
   ]
  },
  {
   "cell_type": "markdown",
   "metadata": {},
   "source": [
    "##### Cross-project"
   ]
  },
  {
   "cell_type": "code",
   "execution_count": 5,
   "metadata": {},
   "outputs": [
    {
     "data": {
      "text/plain": [
       "0.6065184179256493"
      ]
     },
     "execution_count": 5,
     "metadata": {},
     "output_type": "execute_result"
    }
   ],
   "source": [
    "len(df_all_dependencies.loc[\n",
    "    (df_all_dependencies.is_same_dev == 'Same') &\n",
    "    (df_all_dependencies['Source_exp'] < 5)|\n",
    "    (df_all_dependencies['Target_exp'] < 5), \n",
    "    ['Source_exp', 'Target_exp']\n",
    "])/len(df_all_dependencies)"
   ]
  },
  {
   "cell_type": "code",
   "execution_count": 27,
   "metadata": {},
   "outputs": [
    {
     "data": {
      "text/plain": [
       "0.41457307757596334"
      ]
     },
     "execution_count": 27,
     "metadata": {},
     "output_type": "execute_result"
    }
   ],
   "source": [
    "len(df_all_dependencies.loc[\n",
    "    (df_all_dependencies.is_same_dev == 'Same') &\n",
    "    (df_all_dependencies['Source_exp'] < 5)&\n",
    "    (df_all_dependencies['Target_exp'] < 5), \n",
    "    ['Source_exp', 'Target_exp']\n",
    "])/len(df_all_dependencies)"
   ]
  },
  {
   "cell_type": "code",
   "execution_count": 58,
   "metadata": {},
   "outputs": [],
   "source": [
    "df_all_dependencies.to_csv('./Files/all_dependencies.csv', index=False)"
   ]
  },
  {
   "cell_type": "code",
   "execution_count": 35,
   "metadata": {},
   "outputs": [],
   "source": [
    "df_all_dependencies.loc[\n",
    "     (df_all_dependencies.is_cross == 'Cross') &\n",
    "    (df_all_dependencies.is_same_dev == 'Same'), ['min', 'max', 'max_min']].to_csv(f'{path}/same_dev_data.csv', index=None)"
   ]
  },
  {
   "cell_type": "code",
   "execution_count": 93,
   "metadata": {},
   "outputs": [
    {
     "data": {
      "text/plain": [
       "3.5860333438188112"
      ]
     },
     "execution_count": 93,
     "metadata": {},
     "output_type": "execute_result"
    }
   ],
   "source": [
    "df_all_dependencies.loc[\n",
    "    # (df_all_dependencies.is_cross_team == 'Cross')&\n",
    "    (df_all_dependencies.is_same_dev == 'Same'),\n",
    "    'max'\n",
    "].median()"
   ]
  },
  {
   "cell_type": "markdown",
   "metadata": {},
   "source": [
    "#### Wilcoxon test"
   ]
  },
  {
   "cell_type": "code",
   "execution_count": 57,
   "metadata": {},
   "outputs": [
    {
     "data": {
      "text/plain": [
       "WilcoxonResult(statistic=0.0, pvalue=0.0)"
      ]
     },
     "execution_count": 57,
     "metadata": {},
     "output_type": "execute_result"
    }
   ],
   "source": [
    "wilcoxon(df_all_dependencies.loc[df_all_dependencies['is_same_dev']=='Same', 'min'].tolist(), df_all_dependencies.loc[df_all_dependencies['is_same_dev']=='Same', 'max'].tolist())"
   ]
  },
  {
   "cell_type": "markdown",
   "metadata": {},
   "source": [
    "#### Churn"
   ]
  },
  {
   "cell_type": "code",
   "execution_count": 59,
   "metadata": {},
   "outputs": [],
   "source": [
    "df_all_dependencies_churn_less = df_all_dependencies.loc[\n",
    "    (df_all_dependencies[\"is_same_dev\"] == \"Same\"), [\"Churn_less\"]]\n",
    "df_all_dependencies_churn_less[\"Label\"] = \"Less familiar\"\n",
    "df_all_dependencies_churn_less.rename(columns={\"Churn_less\": \"Churn\"}, inplace=True)\n",
    "\n",
    "df_all_dependencies_churn_more = df_all_dependencies.loc[\n",
    "    (df_all_dependencies[\"is_same_dev\"] == \"Same\"), [\"Churn_more\"]]\n",
    "df_all_dependencies_churn_more[\"Label\"] = \"More familiar\"\n",
    "df_all_dependencies_churn_more.rename(columns={\"Churn_more\": \"Churn\"}, inplace=True)\n",
    "\n",
    "df_all_dependencies_churn = pd.concat((df_all_dependencies_churn_less, df_all_dependencies_churn_more))\n",
    "df_all_dependencies_churn[df_all_dependencies_churn.Churn.notnull()].to_csv(f\"{path}/same_dev_churn.csv\", index=False)"
   ]
  },
  {
   "cell_type": "code",
   "execution_count": 80,
   "metadata": {},
   "outputs": [
    {
     "data": {
      "text/plain": [
       "2.0"
      ]
     },
     "execution_count": 80,
     "metadata": {},
     "output_type": "execute_result"
    }
   ],
   "source": [
    "# df_all_dependencies_churn_less.Churn.median()\n",
    "# df_all_dependencies_duration_less.Duration.median()\n",
    "df_all_dependencies_revisions_more.Revisions.median()"
   ]
  },
  {
   "cell_type": "markdown",
   "metadata": {},
   "source": [
    "#### Duration"
   ]
  },
  {
   "cell_type": "code",
   "execution_count": 64,
   "metadata": {},
   "outputs": [],
   "source": [
    "df_all_dependencies_duration_less = df_all_dependencies.loc[\n",
    "    (df_all_dependencies[\"is_same_dev\"] == \"Same\"), [\"Duration_less\"]]\n",
    "df_all_dependencies_duration_less[\"Label\"] = \"Less familiar\"\n",
    "df_all_dependencies_duration_less.rename(columns={\"Duration_less\": \"Duration\"}, inplace=True)\n",
    "\n",
    "df_all_dependencies_duration_more = df_all_dependencies.loc[\n",
    "    (df_all_dependencies[\"is_same_dev\"] == \"Same\"), [\"Duration_more\"]]\n",
    "df_all_dependencies_duration_more[\"Label\"] = \"More familiar\"\n",
    "df_all_dependencies_duration_more.rename(columns={\"Duration_more\": \"Duration\"}, inplace=True)\n",
    "\n",
    "df_all_dependencies_duration = pd.concat((df_all_dependencies_duration_less, df_all_dependencies_duration_more))\n",
    "df_all_dependencies_duration[df_all_dependencies_duration.Duration.notnull()].to_csv(f\"{path}/same_dev_duration.csv\", index=False)"
   ]
  },
  {
   "cell_type": "markdown",
   "metadata": {},
   "source": [
    "#### Revisions"
   ]
  },
  {
   "cell_type": "code",
   "execution_count": 66,
   "metadata": {},
   "outputs": [],
   "source": [
    "df_all_dependencies_revisions_less = df_all_dependencies.loc[\n",
    "    (df_all_dependencies[\"is_same_dev\"] == \"Same\"), [\"Revisions_less\"]]\n",
    "df_all_dependencies_revisions_less[\"Label\"] = \"Less familiar\"\n",
    "df_all_dependencies_revisions_less.rename(columns={\"Revisions_less\": \"Revisions\"}, inplace=True)\n",
    "\n",
    "df_all_dependencies_revisions_more = df_all_dependencies.loc[\n",
    "    (df_all_dependencies[\"is_same_dev\"] == \"Same\"), [\"Revisions_more\"]]\n",
    "df_all_dependencies_revisions_more[\"Label\"] = \"More familiar\"\n",
    "df_all_dependencies_revisions_more.rename(columns={\"Revisions_more\": \"Revisions\"}, inplace=True)\n",
    "\n",
    "df_all_dependencies_revisions = pd.concat((df_all_dependencies_revisions_less, df_all_dependencies_revisions_more))\n",
    "df_all_dependencies_revisions[df_all_dependencies_revisions.Revisions.notnull()].to_csv(f\"{path}/same_dev_revisions.csv\", index=False)"
   ]
  },
  {
   "cell_type": "markdown",
   "metadata": {},
   "source": [
    "##### Cross-team"
   ]
  },
  {
   "cell_type": "code",
   "execution_count": 30,
   "metadata": {},
   "outputs": [
    {
     "data": {
      "text/plain": [
       "0.6428006775832863"
      ]
     },
     "execution_count": 30,
     "metadata": {},
     "output_type": "execute_result"
    }
   ],
   "source": [
    "len(df_all_dependencies.loc[\n",
    "    (df_all_dependencies.is_same_dev == 'Same') &\n",
    "    (df_all_dependencies['is_cross_team']=='Cross')&\n",
    "    ((df_all_dependencies['Source_exp'] < 5)|\n",
    "    (df_all_dependencies['Target_exp'] < 5)), \n",
    "    ['Source_exp', 'Target_exp']\n",
    "])/len(df_all_dependencies[(df_all_dependencies['is_cross_team']=='Cross')])"
   ]
  },
  {
   "cell_type": "markdown",
   "metadata": {},
   "source": [
    "##### Code-churn"
   ]
  },
  {
   "cell_type": "code",
   "execution_count": 73,
   "metadata": {},
   "outputs": [],
   "source": [
    "df_deps_same_dev = df_all_dependencies.loc[\n",
    "    (df_all_dependencies.is_same_dev == 'Same') &\n",
    "    (df_all_dependencies['Source_exp'] < 5)|\n",
    "    (df_all_dependencies['Target_exp'] < 5), \n",
    "    ['Source', 'Target', 'Source_exp', 'Target_exp', 'Source_churn', 'Target_churn', 'Source_revisions', 'Target_revisions', 'Source_duration', 'Target_duration']\n",
    "]"
   ]
  },
  {
   "cell_type": "code",
   "execution_count": 74,
   "metadata": {},
   "outputs": [],
   "source": [
    "def identify_min_value(row, attribute):\n",
    "    if row['Source_exp'] < row['Target_exp']:\n",
    "        return row[f'Source_{attribute}']\n",
    "    return row[f'Target_{attribute}']"
   ]
  },
  {
   "cell_type": "code",
   "execution_count": 75,
   "metadata": {},
   "outputs": [],
   "source": [
    "for attr in ['churn', 'revisions', 'duration']:\n",
    "    df_deps_same_dev[f'{attr.capitalize()}'] = df_deps_same_dev.apply(identify_min_value, args=(attr,), axis=1)\n",
    "df_deps_same_dev['id'] = list(range(1, len(df_deps_same_dev) + 1))"
   ]
  },
  {
   "cell_type": "code",
   "execution_count": 69,
   "metadata": {},
   "outputs": [],
   "source": [
    "df_deps_same_dev[['id', 'Churn', 'Revisions', 'Duration']].to_csv(f'{path}/deps_same_dev.csv', index=None)"
   ]
  },
  {
   "attachments": {},
   "cell_type": "markdown",
   "metadata": {},
   "source": [
    "### The cross-project/team reviewed by how many shared reviewers ?"
   ]
  },
  {
   "cell_type": "markdown",
   "metadata": {},
   "source": [
    "##### Cross-project"
   ]
  },
  {
   "cell_type": "code",
   "execution_count": 78,
   "metadata": {},
   "outputs": [],
   "source": [
    "df_all_dependencies[[\"intersect_rev\"]].to_csv(f\"{path}/cross_project_changes_reviewers_intersect.csv\",index=False)"
   ]
  },
  {
   "cell_type": "code",
   "execution_count": 84,
   "metadata": {},
   "outputs": [
    {
     "data": {
      "text/plain": [
       "0.08659395688338142"
      ]
     },
     "execution_count": 84,
     "metadata": {},
     "output_type": "execute_result"
    }
   ],
   "source": [
    "# No reviewer\n",
    "len(df_all_dependencies[df_all_dependencies.intersect_rev==0])/len(df_all_dependencies)"
   ]
  },
  {
   "cell_type": "code",
   "execution_count": 88,
   "metadata": {},
   "outputs": [
    {
     "data": {
      "text/plain": [
       "33.333333333333336"
      ]
     },
     "execution_count": 88,
     "metadata": {},
     "output_type": "execute_result"
    }
   ],
   "source": [
    "df_all_dependencies['intersect_rev'].median()"
   ]
  },
  {
   "cell_type": "code",
   "execution_count": 93,
   "metadata": {},
   "outputs": [
    {
     "data": {
      "text/plain": [
       "0.49056603773584906"
      ]
     },
     "execution_count": 93,
     "metadata": {},
     "output_type": "execute_result"
    }
   ],
   "source": [
    "len(df_all_dependencies[\n",
    "    (df_all_dependencies.intersect_rev==0)&\n",
    "    (df_all_dependencies['Source_release']==df_all_dependencies['Target_release'])\n",
    "    ])/len(df_all_dependencies[\n",
    "        (df_all_dependencies.intersect_rev==0)\n",
    "        ])"
   ]
  },
  {
   "cell_type": "markdown",
   "metadata": {},
   "source": [
    "##### Cross-team"
   ]
  },
  {
   "cell_type": "code",
   "execution_count": 79,
   "metadata": {},
   "outputs": [],
   "source": [
    "df_all_dependencies.loc[(df_all_dependencies[\"is_cross_team\"]=='Cross'), [\"intersect_rev\"]].to_csv(f\"{path}/cross_service_changes_reviewers_intersect.csv\",index=False)"
   ]
  },
  {
   "cell_type": "code",
   "execution_count": 87,
   "metadata": {},
   "outputs": [
    {
     "data": {
      "text/plain": [
       "0.12038396386222473"
      ]
     },
     "execution_count": 87,
     "metadata": {},
     "output_type": "execute_result"
    }
   ],
   "source": [
    "# No reviewer\n",
    "len(df_all_dependencies[\n",
    "    (df_all_dependencies.is_cross_team=='Cross')&\n",
    "    (df_all_dependencies.intersect_rev==0)])/len(df_all_dependencies[df_all_dependencies.is_cross_team=='Cross'])"
   ]
  },
  {
   "cell_type": "code",
   "execution_count": 90,
   "metadata": {},
   "outputs": [
    {
     "data": {
      "text/plain": [
       "16.666666666666668"
      ]
     },
     "execution_count": 90,
     "metadata": {},
     "output_type": "execute_result"
    }
   ],
   "source": [
    "# Median\n",
    "df_all_dependencies.loc[(df_all_dependencies.is_cross_team=='Cross'), 'intersect_rev'].median()"
   ]
  },
  {
   "cell_type": "code",
   "execution_count": 78,
   "metadata": {},
   "outputs": [
    {
     "data": {
      "text/plain": [
       "20.0"
      ]
     },
     "execution_count": 78,
     "metadata": {},
     "output_type": "execute_result"
    }
   ],
   "source": [
    "df_all_dependencies.loc[\n",
    "    # (df_all_dependencies[\"intersect_rev\"]) &\n",
    "                            (df_all_dependencies[\"is_cross_service\"] == True),\n",
    "                            \"intersect_rev\"].median()"
   ]
  },
  {
   "cell_type": "code",
   "execution_count": 74,
   "metadata": {},
   "outputs": [
    {
     "data": {
      "text/plain": [
       "0.08659395688338142"
      ]
     },
     "execution_count": 74,
     "metadata": {},
     "output_type": "execute_result"
    }
   ],
   "source": [
    "len(df_all_dependencies.loc[(df_all_dependencies[\"intersect_rev\"] == 0),\"intersect_rev\"]) / len(df_all_dependencies)\n"
   ]
  },
  {
   "cell_type": "code",
   "execution_count": 16,
   "metadata": {},
   "outputs": [
    {
     "data": {
      "text/plain": [
       "22.22222222222222"
      ]
     },
     "execution_count": 16,
     "metadata": {},
     "output_type": "execute_result"
    }
   ],
   "source": [
    "df_all_dependencies.loc[(df_all_dependencies[\"intersect_rev\"] > 0) &\n",
    "                        (df_all_dependencies[\"is_cross_team\"] == 'Cross'),\n",
    "\"intersect_rev\"].median()"
   ]
  },
  {
   "attachments": {},
   "cell_type": "markdown",
   "metadata": {},
   "source": [
    "#### Does it take much time to merge changes in projects with less experience vs. changes in projects with familiar with"
   ]
  },
  {
   "cell_type": "code",
   "execution_count": null,
   "metadata": {},
   "outputs": [],
   "source": [
    "df_all_dependencies[\"Source_duration\"] = df_all_dependencies.loc[(df_all_dependencies[\"is_cross\"]==True)&(df_all_dependencies[\"same_dev\"]==True), \"Source\"].map(lambda nbr: df.loc[df.number==nbr,\"merge_duration\"].values[0])\n",
    "df_all_dependencies[\"Target_duration\"] = df_all_dependencies.loc[(df_all_dependencies[\"is_cross\"]==True)&(df_all_dependencies[\"same_dev\"]==True), \"Target\"].map(lambda nbr: df.loc[df.number==nbr,\"merge_duration\"].values[0])\n",
    "df_all_dependencies[\"merge_duration_diff\"] = df_all_dependencies.loc[(df_all_dependencies[\"is_cross\"]==True)&(df_all_dependencies[\"same_dev\"]==True),[\"Source_exp\", \"Target_exp\", \"Source_duration\", \"Target_duration\"]].apply(identify_merge_duration, axis=1)"
   ]
  },
  {
   "cell_type": "code",
   "execution_count": 211,
   "metadata": {},
   "outputs": [
    {
     "data": {
      "text/plain": [
       "0.4403501703234314"
      ]
     },
     "execution_count": 211,
     "metadata": {},
     "output_type": "execute_result"
    }
   ],
   "source": [
    "len(df_all_dependencies.loc[\n",
    "    (df_all_dependencies[\"is_cross\"] == True) &\n",
    "    (df_all_dependencies[\"status_source\"] == \"MERGED\") &\n",
    "    (df_all_dependencies[\"status_target\"] == \"MERGED\") &\n",
    "    (df_all_dependencies[\"is_source_bot\"] == False) &\n",
    "    ((df_all_dependencies[\"Source_exp\"] != 0) |\n",
    "     (df_all_dependencies[\"Target_exp\"] != 0)) &\n",
    "    (df_all_dependencies[\"same_dev\"] == True) &\n",
    "    (df_all_dependencies[\"merge_duration_diff\"] > 1), [\"min\"]]) / len(\n",
    "        df_all_dependencies.loc[\n",
    "            (df_all_dependencies[\"is_cross\"] == True) &\n",
    "            ((df_all_dependencies[\"Source_exp\"] != 0) & \n",
    "            (df_all_dependencies[\"Target_exp\"] != 0)) &\n",
    "            (df_all_dependencies[\"status_source\"] == \"MERGED\") &\n",
    "            (df_all_dependencies[\"status_target\"] == \"MERGED\") &\n",
    "            (df_all_dependencies[\"is_source_bot\"] == False) &\n",
    "            (df_all_dependencies[\"is_target_bot\"] == False) &\n",
    "            (df_all_dependencies[\"same_dev\"] == True)])\n"
   ]
  },
  {
   "cell_type": "code",
   "execution_count": null,
   "metadata": {},
   "outputs": [],
   "source": [
    "df_all_dependencies.loc[\n",
    "    (df_all_dependencies[\"is_cross\"] == True) &\n",
    "    (df_all_dependencies[\"status_source\"] == \"MERGED\") &\n",
    "    (df_all_dependencies[\"status_target\"] == \"MERGED\") &\n",
    "    (df_all_dependencies[\"is_source_bot\"] == False) &\n",
    "    ((df_all_dependencies[\"Source_exp\"] != 0) |\n",
    "     (df_all_dependencies[\"Target_exp\"] != 0)) &\n",
    "    (df_all_dependencies[\"same_dev\"] == True) &\n",
    "    (df_all_dependencies[\"merge_duration_diff\"] < 1), [\"min\"]]"
   ]
  },
  {
   "cell_type": "code",
   "execution_count": 136,
   "metadata": {},
   "outputs": [],
   "source": [
    "df_all_dependencies.loc[(df_all_dependencies[\"status_source\"]==\"MERGED\")&(df_all_dependencies[\"status_target\"]==\"MERGED\")&(df_all_dependencies[\"is_cross\"]==True)&(df_all_dependencies[\"same_dev\"]==True), [\"min\", \"max\", \"max_min\"]].to_csv(\"./RQs/RQ4/Files/same_dev_experience.csv\", index=False)"
   ]
  },
  {
   "attachments": {},
   "cell_type": "markdown",
   "metadata": {},
   "source": [
    "### Analysis"
   ]
  },
  {
   "cell_type": "code",
   "execution_count": null,
   "metadata": {},
   "outputs": [],
   "source": [
    "df_all_dependencies[\"Source_revisions\"] = df_all_dependencies.loc[(df_all_dependencies[\"is_cross\"]==True)&(df_all_dependencies[\"same_dev\"]==True), \"Source\"].map(lambda nbr: df.loc[df[\"number\"]==nbr,\"revisions_count\"].values[0])\n",
    "df_all_dependencies[\"Target_revisions\"] = df_all_dependencies.loc[(df_all_dependencies[\"is_cross\"]==True)&(df_all_dependencies[\"same_dev\"]==True), \"Target\"].map(lambda nbr: df.loc[df[\"number\"]==nbr,\"revisions_count\"].values[0])"
   ]
  },
  {
   "cell_type": "code",
   "execution_count": 215,
   "metadata": {},
   "outputs": [
    {
     "data": {
      "text/plain": [
       "0.08718834644997547"
      ]
     },
     "execution_count": 215,
     "metadata": {},
     "output_type": "execute_result"
    }
   ],
   "source": [
    "len(df_all_dependencies.loc[(df_all_dependencies[\"intersect_rev\"]==0)])/len(df_all_dependencies)"
   ]
  },
  {
   "attachments": {},
   "cell_type": "markdown",
   "metadata": {},
   "source": [
    "#### Does it get quickly reviewed ?"
   ]
  },
  {
   "cell_type": "code",
   "execution_count": 305,
   "metadata": {},
   "outputs": [],
   "source": [
    "def compute_review_duration(nbr):\n",
    "    messages = df.loc[df.number==nbr, \"messages\"].values[0]\n",
    "    messages.sort(key=lambda x: x[\"date\"])\n",
    "    if len(messages) >1:\n",
    "        return time_diff(messages[0][\"date\"], messages[-1][\"date\"])\n",
    "    return 0"
   ]
  },
  {
   "cell_type": "code",
   "execution_count": 5,
   "metadata": {},
   "outputs": [],
   "source": [
    "df_all_dependencies_duration_source_reviewers = df_all_dependencies.loc[\n",
    "    # (df_all_dependencies[\"Duration_source\"].notnull()) &\n",
    "    (df_all_dependencies[\"intersect_rev\"]>0), [\"Source_duration\"]]\n",
    "df_all_dependencies_duration_source_reviewers.rename(columns={\"Source_duration\": \"Duration\"}, inplace=True)\n",
    "df_all_dependencies_duration_source_reviewers[\"Reviewer_sharing\"] = \"At least one\"\n",
    "df_all_dependencies_duration_source_reviewers[\"Project_type\"] = \"Source\"\n",
    "\n",
    "df_all_dependencies_duration_target_reviewers = df_all_dependencies.loc[\n",
    "    # (df_all_dependencies[\"Duration_target\"].notnull())&\n",
    "    (df_all_dependencies[\"intersect_rev\"]>0), [\"Target_duration\"]]\n",
    "df_all_dependencies_duration_target_reviewers.rename(columns={\"Target_duration\": \"Duration\"}, inplace=True)\n",
    "df_all_dependencies_duration_target_reviewers[\"Reviewer_sharing\"] = \"At least one\"\n",
    "df_all_dependencies_duration_target_reviewers[\"Project_type\"] = \"Target\"\n",
    "\n",
    "df_all_dependencies_duration_source_no_reviewers = df_all_dependencies.loc[\n",
    "    # (df_all_dependencies[\"Duration_source\"].notnull()) &\n",
    "    (df_all_dependencies[\"intersect_rev\"]==0), [\"Source_duration\"]]\n",
    "df_all_dependencies_duration_source_no_reviewers.rename(columns={\"Source_duration\": \"Duration\"}, inplace=True)\n",
    "df_all_dependencies_duration_source_no_reviewers[\"Reviewer_sharing\"] = \"Different\"\n",
    "df_all_dependencies_duration_source_no_reviewers[\"Project_type\"] = \"Source\"\n",
    "\n",
    "df_all_dependencies_duration_target_no_reviewers = df_all_dependencies.loc[\n",
    "    # (df_all_dependencies[\"Duration_target\"].notnull()) &\n",
    "    (df_all_dependencies[\"intersect_rev\"]==0), [\"Target_duration\"]]\n",
    "df_all_dependencies_duration_target_no_reviewers.rename(columns={\"Target_duration\": \"Duration\"}, inplace=True)\n",
    "df_all_dependencies_duration_target_no_reviewers[\"Reviewer_sharing\"] = \"Different\"\n",
    "df_all_dependencies_duration_target_no_reviewers[\"Project_type\"] = \"Target\"\n"
   ]
  },
  {
   "cell_type": "code",
   "execution_count": 7,
   "metadata": {},
   "outputs": [],
   "source": [
    "df_all_dependencies_duration_reviewers = pd.concat((df_all_dependencies_duration_source_reviewers,df_all_dependencies_duration_target_reviewers,df_all_dependencies_duration_source_no_reviewers,df_all_dependencies_duration_target_no_reviewers))"
   ]
  },
  {
   "cell_type": "code",
   "execution_count": 8,
   "metadata": {},
   "outputs": [],
   "source": [
    "df_all_dependencies_duration_reviewers.to_csv(\"./RQs/RQ4/Files/Duration_reviewers.csv\", index=False)"
   ]
  }
 ],
 "metadata": {
  "kernelspec": {
   "display_name": "base",
   "language": "python",
   "name": "python3"
  },
  "language_info": {
   "codemirror_mode": {
    "name": "ipython",
    "version": 3
   },
   "file_extension": ".py",
   "mimetype": "text/x-python",
   "name": "python",
   "nbconvert_exporter": "python",
   "pygments_lexer": "ipython3",
   "version": "3.11.1"
  },
  "orig_nbformat": 4,
  "vscode": {
   "interpreter": {
    "hash": "4c3f98dc7a618963d8c453529bd2f978a19750ea04392a0abd6ac6b1e473063f"
   }
  }
 },
 "nbformat": 4,
 "nbformat_minor": 2
}
