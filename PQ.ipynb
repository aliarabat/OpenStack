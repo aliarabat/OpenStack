{
 "cells": [
  {
   "cell_type": "code",
   "execution_count": 1,
   "metadata": {},
   "outputs": [],
   "source": [
    "import pandas as pd\n",
    "import ast\n",
    "import utils.helpers as hpr"
   ]
  },
  {
   "cell_type": "code",
   "execution_count": 3,
   "metadata": {},
   "outputs": [],
   "source": [
    "df = hpr.combine_openstack_data()"
   ]
  },
  {
   "cell_type": "code",
   "execution_count": null,
   "metadata": {},
   "outputs": [],
   "source": [
    "df[\"reviewers\"] = df[\"reviewers\"].apply(ast.literal_eval)"
   ]
  },
  {
   "cell_type": "code",
   "execution_count": null,
   "metadata": {},
   "outputs": [],
   "source": [
    "os_projects = df[\"project\"].unique()"
   ]
  },
  {
   "attachments": {},
   "cell_type": "markdown",
   "metadata": {},
   "source": [
    "### Casual contributors"
   ]
  },
  {
   "cell_type": "code",
   "execution_count": null,
   "metadata": {},
   "outputs": [],
   "source": [
    "developers = pd.read_csv(\"./RQs/Files/casual_constributors.csv\", index=False)"
   ]
  },
  {
   "attachments": {},
   "cell_type": "markdown",
   "metadata": {},
   "source": [
    "### How many changes made by core and non. core developers ?"
   ]
  },
  {
   "attachments": {},
   "cell_type": "markdown",
   "metadata": {},
   "source": [
    "#### Developers"
   ]
  },
  {
   "cell_type": "code",
   "execution_count": 65,
   "metadata": {},
   "outputs": [],
   "source": [
    "developers.loc[developers[\"nbr_changes\"] == 1, \"dev\"].to_csv(\"./RQs/Files/casual_constributors.csv\", index=False)"
   ]
  },
  {
   "cell_type": "code",
   "execution_count": 66,
   "metadata": {},
   "outputs": [
    {
     "data": {
      "text/plain": [
       "2322"
      ]
     },
     "execution_count": 66,
     "metadata": {},
     "output_type": "execute_result"
    }
   ],
   "source": [
    "# number of casual developers who performed at most one commit to a swoftware project\n",
    "len(developers.loc[developers[\"nbr_changes\"] == 1])"
   ]
  },
  {
   "cell_type": "code",
   "execution_count": 261,
   "metadata": {},
   "outputs": [],
   "source": [
    "os_core_team_devs = pd.read_csv(\"./RQs/Files/os_core_team.csv\")\n",
    "os_core_team_devs[\"developers\"] = os_core_team_devs[\"developers\"].map(ast.literal_eval)\n",
    "os_core_team_devs = list(dict.fromkeys(hpr.flatten_list(os_core_team_devs[\"developers\"].values)))"
   ]
  },
  {
   "cell_type": "code",
   "execution_count": null,
   "metadata": {},
   "outputs": [],
   "source": [
    "casual_contributors = developers.loc[developers[\"nbr_changes\"] == 1, \"dev\"].values"
   ]
  },
  {
   "cell_type": "code",
   "execution_count": 61,
   "metadata": {},
   "outputs": [
    {
     "data": {
      "text/plain": [
       "Series([], Name: dev, dtype: int64)"
      ]
     },
     "execution_count": 61,
     "metadata": {},
     "output_type": "execute_result"
    }
   ],
   "source": [
    "developers.loc[developers[\"nbr_changes\"] == 1, \"dev\"]"
   ]
  },
  {
   "cell_type": "code",
   "execution_count": 31,
   "metadata": {},
   "outputs": [],
   "source": [
    "developers = developers.loc[developers[\"nbr_changes\"] != 1]"
   ]
  },
  {
   "cell_type": "code",
   "execution_count": 32,
   "metadata": {},
   "outputs": [],
   "source": [
    "developers[\"dev_status\"] = developers[\"dev\"].map(lambda x: \"Core\" if x in os_core_team_devs else \"Not core\")"
   ]
  },
  {
   "cell_type": "code",
   "execution_count": 111,
   "metadata": {},
   "outputs": [],
   "source": [
    "developers[[\"dev_status\", \"nbr_changes\"]].to_csv(\"./RQs/PQ/Files/core_non_core_changes.csv\", index=False)"
   ]
  },
  {
   "cell_type": "code",
   "execution_count": 2,
   "metadata": {},
   "outputs": [],
   "source": [
    "owners = pd.read_csv(\"./RQs/PQ/Files/core_non_core_changes.csv\")"
   ]
  },
  {
   "cell_type": "code",
   "execution_count": null,
   "metadata": {},
   "outputs": [],
   "source": [
    "owners.loc[(owners[\"dev_status\"] == \"Not core\")&(owners[\"nbr_changes\"] == 25)]#sum()/owners[\"nbr_changes\"].sum()"
   ]
  },
  {
   "cell_type": "code",
   "execution_count": 52,
   "metadata": {},
   "outputs": [
    {
     "data": {
      "text/plain": [
       "1287"
      ]
     },
     "execution_count": 52,
     "metadata": {},
     "output_type": "execute_result"
    }
   ],
   "source": [
    "len(dict.fromkeys(df.loc[df[\"owner_account_id\"].isin(developers.loc[developers[\"dev_status\"] == \"Not core\", \"dev\"].values), \"project\"]))"
   ]
  },
  {
   "attachments": {},
   "cell_type": "markdown",
   "metadata": {},
   "source": []
  },
  {
   "attachments": {},
   "cell_type": "markdown",
   "metadata": {},
   "source": [
    "#### Reviewers"
   ]
  },
  {
   "cell_type": "code",
   "execution_count": 71,
   "metadata": {},
   "outputs": [
    {
     "name": "stderr",
     "output_type": "stream",
     "text": [
      "C:\\Users\\Ali\\AppData\\Local\\Temp/ipykernel_10844/4092083601.py:3: SettingWithCopyWarning: \n",
      "A value is trying to be set on a copy of a slice from a DataFrame.\n",
      "Try using .loc[row_indexer,col_indexer] = value instead\n",
      "\n",
      "See the caveats in the documentation: https://pandas.pydata.org/pandas-docs/stable/user_guide/indexing.html#returning-a-view-versus-a-copy\n",
      "  reviewers[\"reviewers\"] = reviewers[\"reviewers\"].apply(ast.literal_eval)\n"
     ]
    }
   ],
   "source": [
    "# Filter non abandoned changes\n",
    "reviewers = df[df[\"status\"] != \"ABANDONED\"]\n",
    "reviewers[\"reviewers\"] = reviewers[\"reviewers\"].apply(ast.literal_eval)"
   ]
  },
  {
   "cell_type": "code",
   "execution_count": 72,
   "metadata": {},
   "outputs": [
    {
     "data": {
      "text/plain": [
       "array([34310, 35458, 34911, ...,   751,  2005,  1657], dtype=int64)"
      ]
     },
     "execution_count": 72,
     "metadata": {},
     "output_type": "execute_result"
    }
   ],
   "source": [
    "casual_contributors"
   ]
  },
  {
   "cell_type": "code",
   "execution_count": 73,
   "metadata": {},
   "outputs": [
    {
     "name": "stderr",
     "output_type": "stream",
     "text": [
      "C:\\Users\\Ali\\AppData\\Local\\Temp/ipykernel_10844/792228773.py:1: SettingWithCopyWarning: \n",
      "A value is trying to be set on a copy of a slice from a DataFrame.\n",
      "Try using .loc[row_indexer,col_indexer] = value instead\n",
      "\n",
      "See the caveats in the documentation: https://pandas.pydata.org/pandas-docs/stable/user_guide/indexing.html#returning-a-view-versus-a-copy\n",
      "  reviewers[\"reviewers_ids\"] = reviewers[\"reviewers\"].map(lambda revs: [\n"
     ]
    }
   ],
   "source": [
    "reviewers[\"reviewers_ids\"] = reviewers[\"reviewers\"].map(lambda revs: [\n",
    "    rev[\"_account_id\"] for rev in revs\n",
    "    if (\"tags\" not in rev) and (rev[\"_account_id\"] not in casual_contributors)\n",
    "])"
   ]
  },
  {
   "cell_type": "code",
   "execution_count": 74,
   "metadata": {},
   "outputs": [],
   "source": [
    "reviewers = reviewers[[\"number\", \"status\", \"project\", \"reviewers_ids\"]]"
   ]
  },
  {
   "cell_type": "code",
   "execution_count": 75,
   "metadata": {},
   "outputs": [],
   "source": [
    "reviewers[\"revs_length\"] = reviewers[\"reviewers_ids\"].map(lambda x: len(x))"
   ]
  },
  {
   "cell_type": "code",
   "execution_count": 76,
   "metadata": {},
   "outputs": [],
   "source": [
    "reviewers = reviewers[reviewers[\"revs_length\"] != 0]\n",
    "reviewers = reviewers.explode(column=\"reviewers_ids\")\n",
    "reviewers.rename(columns={\"reviewers_ids\": \"rev_id\"}, inplace=True)\n",
    "reviewers[\"count\"] = 0\n",
    "reviewers = reviewers.groupby(by=\"rev_id\").count().reset_index(level=0)[[\"rev_id\", \"count\"]]\n",
    "reviewers[\"rev_status\"] = reviewers[\"rev_id\"].map(lambda rev_id: \"Core\" if rev_id in os_core_team_devs else \"Not core\")\n",
    "reviewers.reset_index(drop=True, inplace=True)"
   ]
  },
  {
   "cell_type": "code",
   "execution_count": 97,
   "metadata": {},
   "outputs": [
    {
     "data": {
      "text/html": [
       "<div>\n",
       "<style scoped>\n",
       "    .dataframe tbody tr th:only-of-type {\n",
       "        vertical-align: middle;\n",
       "    }\n",
       "\n",
       "    .dataframe tbody tr th {\n",
       "        vertical-align: top;\n",
       "    }\n",
       "\n",
       "    .dataframe thead th {\n",
       "        text-align: right;\n",
       "    }\n",
       "</style>\n",
       "<table border=\"1\" class=\"dataframe\">\n",
       "  <thead>\n",
       "    <tr style=\"text-align: right;\">\n",
       "      <th></th>\n",
       "      <th>rev_id</th>\n",
       "      <th>count</th>\n",
       "      <th>rev_status</th>\n",
       "    </tr>\n",
       "  </thead>\n",
       "  <tbody>\n",
       "    <tr>\n",
       "      <th>490</th>\n",
       "      <td>3153</td>\n",
       "      <td>32961</td>\n",
       "      <td>Core</td>\n",
       "    </tr>\n",
       "  </tbody>\n",
       "</table>\n",
       "</div>"
      ],
      "text/plain": [
       "     rev_id  count rev_status\n",
       "490    3153  32961       Core"
      ]
     },
     "execution_count": 97,
     "metadata": {},
     "output_type": "execute_result"
    }
   ],
   "source": [
    "reviewers[(reviewers[\"rev_status\"] == \"Core\")&(reviewers[\"rev_id\"]==3153)]#.sort_values(by=\"count\", ascending=0)"
   ]
  },
  {
   "cell_type": "code",
   "execution_count": 48,
   "metadata": {},
   "outputs": [],
   "source": [
    "reviewers[[\"rev_status\", \"count\"]].to_csv(\"./RQs/PQ/Files/core_non_core_reviewers_changes.csv\", index=False)"
   ]
  },
  {
   "attachments": {},
   "cell_type": "markdown",
   "metadata": {},
   "source": [
    "### Analysis of OS teams release notes' projects overlap"
   ]
  },
  {
   "cell_type": "code",
   "execution_count": 58,
   "metadata": {},
   "outputs": [],
   "source": [
    "request_teams = rq.get(\"https://releases.openstack.org/index.html#teams\")\n",
    "soup_teams = BeautifulSoup(request_teams.text, 'html.parser')\n",
    "\n",
    "teams_projects = {}\n",
    "section_teams = soup_teams.find(\"section\", attrs={\"id\": \"teams\"})\n",
    "li_teams = section_teams.find_all(\"li\", \"toctree-l1\")\n",
    "\n",
    "for i in range(0, len(li_teams)):\n",
    "    li_segment = li_teams[i].find(\"a\")\n",
    "    link = li_teams[i].find(\"a\")\n",
    "    link_suffix = link[\"href\"]\n",
    "\n",
    "    request_projects = rq.get(\"https://releases.openstack.org/%s\" % (link_suffix))\n",
    "    soup_projects = BeautifulSoup(request_projects.text, 'html.parser')\n",
    "    table_of_contents = soup_projects.find(\"div\", attrs={\"id\": \"table-of-contents\"})\n",
    "    ul_projects = table_of_contents.find(\"ul\")\n",
    "    ul_projects = ul_projects.find(\"ul\")\n",
    "    ul_projects = ul_projects.find_all(\"ul\")\n",
    "    projects = []\n",
    "    for ul_item in ul_projects:\n",
    "\n",
    "        href_projects = ul_item.find_all(\"a\")\n",
    "\n",
    "        for href_project in href_projects:\n",
    "            projects.append(href_project.text.replace(\" (EOL)\", \"\"))\n",
    "    #         href_links_projects = soup_projects.find_all(\"a\", \"reference internal\")\n",
    "    teams_projects[link_suffix[6:-5]] = list(dict.fromkeys(projects))\n",
    "    # projects = [href_links_projects[j].text for j in range(3, len(href_links_projects))]\n",
    "    # teams_deliverables[link_suffix[:-5].replace(\"-\", \"\")] = projects"
   ]
  },
  {
   "cell_type": "code",
   "execution_count": 59,
   "metadata": {},
   "outputs": [],
   "source": [
    "df_teams_projects = pd.DataFrame({\"team\": teams_projects.keys(), \"projects\": teams_projects.values()})"
   ]
  },
  {
   "cell_type": "code",
   "execution_count": 60,
   "metadata": {},
   "outputs": [],
   "source": [
    "def get_intersection_percentage(df, team_a, team_b):\n",
    "    projects_a = df.loc[df[\"team\"] == team_a, \"projects\"].values.tolist()[0]\n",
    "    projects_b = df.loc[df[\"team\"] == team_b, \"projects\"].values.tolist()[0]\n",
    "    intersect_team = list(set(projects_a).intersection(projects_b))\n",
    "    union_team = list(set(projects_a).union(projects_b))\n",
    "    return (len(intersect_team) / len(union_team)) * 100\n",
    "\n",
    "def get_teams_metrics(df, teams):\n",
    "    result = []\n",
    "    treated_items = []\n",
    "    for i in range(len(teams)):\n",
    "        team_a = teams[i]\n",
    "        for j in range(len(teams)):\n",
    "            team_b = teams[j]\n",
    "            if (team_a != team_b) and (team_b not in treated_items):\n",
    "                \n",
    "                new_item = {\n",
    "                    \"teamA\": team_a,\n",
    "                    \"teamB\": team_b,\n",
    "                    \"intersection_percentage\": get_intersection_percentage(df, team_a, team_b)\n",
    "                }\n",
    "                result.append(new_item)\n",
    "            \n",
    "        treated_items.append(team_a)\n",
    "\n",
    "    return result"
   ]
  },
  {
   "cell_type": "code",
   "execution_count": 61,
   "metadata": {},
   "outputs": [],
   "source": [
    "teams = df_teams_projects[\"team\"].values.tolist()\n",
    "teams_metrics = get_teams_metrics(df_teams_projects, teams)\n",
    "df_teams_metrics = pd.DataFrame(teams_metrics)"
   ]
  },
  {
   "cell_type": "code",
   "execution_count": 62,
   "metadata": {},
   "outputs": [],
   "source": [
    "def get_nbr_common_projects(row):\n",
    "    projects_a = df_teams_projects.loc[df_teams_projects[\"team\"] == row[\"teamA\"], \"projects\"].values.tolist()[0]\n",
    "    projects_b = df_teams_projects.loc[df_teams_projects[\"team\"] == row[\"teamB\"], \"projects\"].values.tolist()[0]\n",
    "\n",
    "    return len(set(projects_a).intersection(projects_b))\n",
    "\n",
    "def get_common_projects(row):\n",
    "    projects_a = df_teams_projects.loc[df_teams_projects[\"team\"] == row[\"teamA\"], \"projects\"].values.tolist()[0]\n",
    "    projects_b = df_teams_projects.loc[df_teams_projects[\"team\"] == row[\"teamB\"], \"projects\"].values.tolist()[0]\n",
    "\n",
    "    return list(set(projects_a).intersection(projects_b))"
   ]
  },
  {
   "cell_type": "code",
   "execution_count": 63,
   "metadata": {},
   "outputs": [],
   "source": [
    "df_teams_metrics[\"projects_count\"] = df_teams_metrics[[\"teamA\", \"teamB\"]].apply(get_nbr_common_projects, axis=1)\n",
    "df_teams_metrics[\"projects_common\"] = df_teams_metrics[[\"teamA\", \"teamB\"]].apply(get_common_projects, axis=1)\n",
    "# df_teams_metrics.to_csv(\"./RQs/PQ/Files/teams_metrics.csv\", index=False)"
   ]
  },
  {
   "cell_type": "code",
   "execution_count": 64,
   "metadata": {},
   "outputs": [],
   "source": [
    "df_teams_metrics.sort_values(by=\"projects_count\", ascending=0, inplace=True)\n",
    "df_teams_metrics.to_csv(\"./RQs/PQ/Files/teams_metrics.csv\", index=False)"
   ]
  },
  {
   "cell_type": "code",
   "execution_count": 66,
   "metadata": {},
   "outputs": [],
   "source": [
    "df_teams_metrics = pd.read_csv(\"./RQs/PQ/Files/teams_metrics.csv\")"
   ]
  },
  {
   "cell_type": "code",
   "execution_count": 73,
   "metadata": {},
   "outputs": [
    {
     "data": {
      "text/plain": [
       "(1272, 1275)"
      ]
     },
     "execution_count": 73,
     "metadata": {},
     "output_type": "execute_result"
    }
   ],
   "source": [
    "len(df_teams_metrics[df_teams_metrics[\"intersection_percentage\"] == 0]), len(df_teams_metrics)"
   ]
  },
  {
   "cell_type": "code",
   "execution_count": 14,
   "metadata": {},
   "outputs": [],
   "source": [
    "# df_teams_metrics.groupby(by=\"projects_count\").count().reset_index(level=0)[[\"projects_count\", \"intersection_percentage\"]].to_csv(\"./RQs/PQ/Files/teams_projects_count.csv\", index=False)#sort_values(by=\"intersection_percentage\", ascending=0)\n",
    "df_teams_metrics.groupby(by=\"intersection_percentage\").count().reset_index(level=0)[[\"projects_count\", \"intersection_percentage\"]].to_csv(\"./RQs/PQ/Files/teams_projects_percentage.csv\", index=False)#sort_values(by=\"intersection_percentage\", ascending=0)"
   ]
  },
  {
   "attachments": {},
   "cell_type": "markdown",
   "metadata": {},
   "source": [
    "### Analysis for OS projects pairs"
   ]
  },
  {
   "cell_type": "code",
   "execution_count": 67,
   "metadata": {},
   "outputs": [],
   "source": [
    "def combine_projects_pairs_metrics():\n",
    "    '''Combine generated csv files into a single DataFrame object\n",
    "    '''\n",
    "    df = pd.DataFrame([])\n",
    "    data_path = \"%sRQs/PQ/Files/projects_metrics/\" % hpr.DIR\n",
    "    changes_file_names = hpr.list_file(data_path)\n",
    "    for f in changes_file_names:\n",
    "        df_per_file = pd.read_csv(\"%s%s\" % (data_path, f))\n",
    "        df = pd.concat((df, df_per_file))\n",
    "\n",
    "    return df"
   ]
  },
  {
   "cell_type": "code",
   "execution_count": 87,
   "metadata": {},
   "outputs": [],
   "source": [
    "df_projects_pairs = combine_projects_pairs_metrics()"
   ]
  },
  {
   "cell_type": "code",
   "execution_count": 217,
   "metadata": {},
   "outputs": [],
   "source": [
    "df_projects_metrics = df_projects_pairs[df_projects_pairs[\"projectA\"].str.startswith(\"openstack/\") & df_projects_pairs[\"projectB\"].str.startswith(\"openstack/\")]"
   ]
  },
  {
   "attachments": {},
   "cell_type": "markdown",
   "metadata": {},
   "source": [
    "#### all intersection"
   ]
  },
  {
   "cell_type": "code",
   "execution_count": 219,
   "metadata": {},
   "outputs": [],
   "source": [
    "df_projects_metrics = df_projects_metrics.groupby(by=[\"projectA\", \"projectB\"]).sum().reset_index(level=[0,1])#[[\"intersect_dev\", \"intersect_rev\"]].to_csv(\"./RQs/PQ/Files/projects_metrics.csv\", index=False)"
   ]
  },
  {
   "cell_type": "code",
   "execution_count": 231,
   "metadata": {},
   "outputs": [
    {
     "name": "stderr",
     "output_type": "stream",
     "text": [
      "/var/folders/p4/wn9d12jj6g78td0tl7gx7xlw0000gp/T/ipykernel_1469/2755803569.py:3: FutureWarning: Dropping of nuisance columns in DataFrame reductions (with 'numeric_only=None') is deprecated; in a future version this will raise TypeError.  Select only valid columns before calling the reduction.\n",
      "  df_projects_pairs[(df_projects_pairs[\"developer\"]==\"Non core\")&(df_projects_pairs[\"intersect_rev\"]>0)].median()\n"
     ]
    },
    {
     "data": {
      "text/plain": [
       "intersect_dev    0.124069\n",
       "intersect_rev    2.222222\n",
       "devAB_count      2.000000\n",
       "revAB_count      2.000000\n",
       "dtype: float64"
      ]
     },
     "execution_count": 231,
     "metadata": {},
     "output_type": "execute_result"
    }
   ],
   "source": [
    "# len(\n",
    "# df_projects_metrics[df_projects_metrics[\"revAB_count\"]>0].median()\n",
    "df_projects_pairs[(df_projects_pairs[\"developer\"]==\"Non core\")&(df_projects_pairs[\"intersect_rev\"]>0)].median()\n",
    "    # )/len(df_projects_metrics)#.median()"
   ]
  },
  {
   "cell_type": "code",
   "execution_count": 118,
   "metadata": {},
   "outputs": [
    {
     "data": {
      "text/html": [
       "<div>\n",
       "<style scoped>\n",
       "    .dataframe tbody tr th:only-of-type {\n",
       "        vertical-align: middle;\n",
       "    }\n",
       "\n",
       "    .dataframe tbody tr th {\n",
       "        vertical-align: top;\n",
       "    }\n",
       "\n",
       "    .dataframe thead th {\n",
       "        text-align: right;\n",
       "    }\n",
       "</style>\n",
       "<table border=\"1\" class=\"dataframe\">\n",
       "  <thead>\n",
       "    <tr style=\"text-align: right;\">\n",
       "      <th></th>\n",
       "      <th>pair</th>\n",
       "      <th>intersect_dev</th>\n",
       "      <th>intersect_rev</th>\n",
       "      <th>devAB_count</th>\n",
       "      <th>revAB_count</th>\n",
       "    </tr>\n",
       "  </thead>\n",
       "  <tbody>\n",
       "    <tr>\n",
       "      <th>0</th>\n",
       "      <td>openstack/activity-board openstack/activity-board</td>\n",
       "      <td>83.636841</td>\n",
       "      <td>639.157645</td>\n",
       "      <td>50</td>\n",
       "      <td>684</td>\n",
       "    </tr>\n",
       "    <tr>\n",
       "      <th>1</th>\n",
       "      <td>openstack/adjutant openstack/adjutant</td>\n",
       "      <td>5103.680455</td>\n",
       "      <td>5560.576934</td>\n",
       "      <td>4974</td>\n",
       "      <td>6894</td>\n",
       "    </tr>\n",
       "    <tr>\n",
       "      <th>2</th>\n",
       "      <td>openstack/adjutant-ui openstack/adjutant-ui</td>\n",
       "      <td>3053.979734</td>\n",
       "      <td>4744.503546</td>\n",
       "      <td>1844</td>\n",
       "      <td>3844</td>\n",
       "    </tr>\n",
       "    <tr>\n",
       "      <th>3</th>\n",
       "      <td>openstack/anchor openstack/anchor</td>\n",
       "      <td>53.541343</td>\n",
       "      <td>753.531980</td>\n",
       "      <td>48</td>\n",
       "      <td>742</td>\n",
       "    </tr>\n",
       "    <tr>\n",
       "      <th>4</th>\n",
       "      <td>openstack/ansible-collection-kolla openstack/a...</td>\n",
       "      <td>286.019433</td>\n",
       "      <td>633.366376</td>\n",
       "      <td>288</td>\n",
       "      <td>1044</td>\n",
       "    </tr>\n",
       "    <tr>\n",
       "      <th>...</th>\n",
       "      <td>...</td>\n",
       "      <td>...</td>\n",
       "      <td>...</td>\n",
       "      <td>...</td>\n",
       "      <td>...</td>\n",
       "    </tr>\n",
       "    <tr>\n",
       "      <th>1284</th>\n",
       "      <td>openstack/zaqar-ui openstack/zaqar-ui</td>\n",
       "      <td>6545.926096</td>\n",
       "      <td>5486.051081</td>\n",
       "      <td>8736</td>\n",
       "      <td>10802</td>\n",
       "    </tr>\n",
       "    <tr>\n",
       "      <th>1285</th>\n",
       "      <td>openstack/zun openstack/zun</td>\n",
       "      <td>1950.881696</td>\n",
       "      <td>2032.129931</td>\n",
       "      <td>6578</td>\n",
       "      <td>9782</td>\n",
       "    </tr>\n",
       "    <tr>\n",
       "      <th>1286</th>\n",
       "      <td>openstack/zun-tempest-plugin openstack/zun-tem...</td>\n",
       "      <td>3725.999793</td>\n",
       "      <td>4297.643599</td>\n",
       "      <td>3640</td>\n",
       "      <td>5520</td>\n",
       "    </tr>\n",
       "    <tr>\n",
       "      <th>1287</th>\n",
       "      <td>openstack/zun-ui openstack/zun-ui</td>\n",
       "      <td>4509.265039</td>\n",
       "      <td>3470.311347</td>\n",
       "      <td>5854</td>\n",
       "      <td>8092</td>\n",
       "    </tr>\n",
       "    <tr>\n",
       "      <th>1288</th>\n",
       "      <td>openstack/zuul-packaging openstack/zuul-packaging</td>\n",
       "      <td>1433.182608</td>\n",
       "      <td>3489.386106</td>\n",
       "      <td>362</td>\n",
       "      <td>1386</td>\n",
       "    </tr>\n",
       "  </tbody>\n",
       "</table>\n",
       "<p>1289 rows × 5 columns</p>\n",
       "</div>"
      ],
      "text/plain": [
       "                                                   pair  intersect_dev  \\\n",
       "0     openstack/activity-board openstack/activity-board      83.636841   \n",
       "1                 openstack/adjutant openstack/adjutant    5103.680455   \n",
       "2           openstack/adjutant-ui openstack/adjutant-ui    3053.979734   \n",
       "3                     openstack/anchor openstack/anchor      53.541343   \n",
       "4     openstack/ansible-collection-kolla openstack/a...     286.019433   \n",
       "...                                                 ...            ...   \n",
       "1284              openstack/zaqar-ui openstack/zaqar-ui    6545.926096   \n",
       "1285                        openstack/zun openstack/zun    1950.881696   \n",
       "1286  openstack/zun-tempest-plugin openstack/zun-tem...    3725.999793   \n",
       "1287                  openstack/zun-ui openstack/zun-ui    4509.265039   \n",
       "1288  openstack/zuul-packaging openstack/zuul-packaging    1433.182608   \n",
       "\n",
       "      intersect_rev  devAB_count  revAB_count  \n",
       "0        639.157645           50          684  \n",
       "1       5560.576934         4974         6894  \n",
       "2       4744.503546         1844         3844  \n",
       "3        753.531980           48          742  \n",
       "4        633.366376          288         1044  \n",
       "...             ...          ...          ...  \n",
       "1284    5486.051081         8736        10802  \n",
       "1285    2032.129931         6578         9782  \n",
       "1286    4297.643599         3640         5520  \n",
       "1287    3470.311347         5854         8092  \n",
       "1288    3489.386106          362         1386  \n",
       "\n",
       "[1289 rows x 5 columns]"
      ]
     },
     "execution_count": 118,
     "metadata": {},
     "output_type": "execute_result"
    }
   ],
   "source": [
    "df_projects_pair_labels = df_projects_metrics.groupby(by=[\"pair\"]).sum().reset_index(level=[0])\n",
    "# df_projects_pair_labels = df_projects_pair_labels.loc[df_projects_metrics[\"intersect_rev\"] > 0, \"pair\"]\n",
    "df_projects_pair_labels"
   ]
  },
  {
   "cell_type": "code",
   "execution_count": 113,
   "metadata": {},
   "outputs": [
    {
     "data": {
      "text/html": [
       "<div>\n",
       "<style scoped>\n",
       "    .dataframe tbody tr th:only-of-type {\n",
       "        vertical-align: middle;\n",
       "    }\n",
       "\n",
       "    .dataframe tbody tr th {\n",
       "        vertical-align: top;\n",
       "    }\n",
       "\n",
       "    .dataframe thead th {\n",
       "        text-align: right;\n",
       "    }\n",
       "</style>\n",
       "<table border=\"1\" class=\"dataframe\">\n",
       "  <thead>\n",
       "    <tr style=\"text-align: right;\">\n",
       "      <th></th>\n",
       "      <th>projectA</th>\n",
       "      <th>projectB</th>\n",
       "      <th>developer</th>\n",
       "      <th>intersect_dev</th>\n",
       "      <th>intersect_rev</th>\n",
       "      <th>devAB_count</th>\n",
       "      <th>revAB_count</th>\n",
       "      <th>pair</th>\n",
       "    </tr>\n",
       "  </thead>\n",
       "  <tbody>\n",
       "    <tr>\n",
       "      <th>0</th>\n",
       "      <td>openstack/deb-python-dogpile.cache</td>\n",
       "      <td>openstack/deb-python-futurist</td>\n",
       "      <td>Core</td>\n",
       "      <td>33.333333</td>\n",
       "      <td>0.000000</td>\n",
       "      <td>3</td>\n",
       "      <td>4</td>\n",
       "      <td>openstack/deb-python-dogpile.cache openstack/d...</td>\n",
       "    </tr>\n",
       "    <tr>\n",
       "      <th>1</th>\n",
       "      <td>openstack/deb-python-dogpile.cache</td>\n",
       "      <td>openstack/deb-python-futurist</td>\n",
       "      <td>Non core</td>\n",
       "      <td>66.666667</td>\n",
       "      <td>100.000000</td>\n",
       "      <td>3</td>\n",
       "      <td>4</td>\n",
       "      <td>openstack/deb-python-dogpile.cache openstack/d...</td>\n",
       "    </tr>\n",
       "    <tr>\n",
       "      <th>2</th>\n",
       "      <td>openstack/deb-python-dogpile.cache</td>\n",
       "      <td>openstack/deb-python-glanceclient</td>\n",
       "      <td>Core</td>\n",
       "      <td>33.333333</td>\n",
       "      <td>0.000000</td>\n",
       "      <td>3</td>\n",
       "      <td>4</td>\n",
       "      <td>openstack/deb-python-dogpile.cache openstack/d...</td>\n",
       "    </tr>\n",
       "    <tr>\n",
       "      <th>3</th>\n",
       "      <td>openstack/deb-python-dogpile.cache</td>\n",
       "      <td>openstack/deb-python-glanceclient</td>\n",
       "      <td>Non core</td>\n",
       "      <td>66.666667</td>\n",
       "      <td>80.000000</td>\n",
       "      <td>3</td>\n",
       "      <td>4</td>\n",
       "      <td>openstack/deb-python-dogpile.cache openstack/d...</td>\n",
       "    </tr>\n",
       "    <tr>\n",
       "      <th>4</th>\n",
       "      <td>openstack/deb-python-dogpile.cache</td>\n",
       "      <td>openstack/deb-python-glance-store</td>\n",
       "      <td>Core</td>\n",
       "      <td>33.333333</td>\n",
       "      <td>0.000000</td>\n",
       "      <td>3</td>\n",
       "      <td>4</td>\n",
       "      <td>openstack/deb-python-dogpile.cache openstack/d...</td>\n",
       "    </tr>\n",
       "    <tr>\n",
       "      <th>...</th>\n",
       "      <td>...</td>\n",
       "      <td>...</td>\n",
       "      <td>...</td>\n",
       "      <td>...</td>\n",
       "      <td>...</td>\n",
       "      <td>...</td>\n",
       "      <td>...</td>\n",
       "      <td>...</td>\n",
       "    </tr>\n",
       "    <tr>\n",
       "      <th>1185</th>\n",
       "      <td>openstack/mistral-specs</td>\n",
       "      <td>openstack/magnetodb-specs</td>\n",
       "      <td>Non core</td>\n",
       "      <td>0.000000</td>\n",
       "      <td>3.508772</td>\n",
       "      <td>1</td>\n",
       "      <td>2</td>\n",
       "      <td>openstack/mistral-specs openstack/mistral-specs</td>\n",
       "    </tr>\n",
       "    <tr>\n",
       "      <th>1196</th>\n",
       "      <td>openstack/mistral-specs</td>\n",
       "      <td>openstack/magnetodb</td>\n",
       "      <td>Core</td>\n",
       "      <td>1.960784</td>\n",
       "      <td>0.000000</td>\n",
       "      <td>1</td>\n",
       "      <td>2</td>\n",
       "      <td>openstack/mistral-specs openstack/mistral-specs</td>\n",
       "    </tr>\n",
       "    <tr>\n",
       "      <th>1197</th>\n",
       "      <td>openstack/mistral-specs</td>\n",
       "      <td>openstack/magnetodb</td>\n",
       "      <td>Non core</td>\n",
       "      <td>0.000000</td>\n",
       "      <td>2.631579</td>\n",
       "      <td>1</td>\n",
       "      <td>2</td>\n",
       "      <td>openstack/mistral-specs openstack/mistral-specs</td>\n",
       "    </tr>\n",
       "    <tr>\n",
       "      <th>1198</th>\n",
       "      <td>openstack/mistral-specs</td>\n",
       "      <td>openstack/openstack-nose</td>\n",
       "      <td>Core</td>\n",
       "      <td>0.000000</td>\n",
       "      <td>0.000000</td>\n",
       "      <td>0</td>\n",
       "      <td>1</td>\n",
       "      <td>openstack/mistral-specs openstack/mistral-specs</td>\n",
       "    </tr>\n",
       "    <tr>\n",
       "      <th>1199</th>\n",
       "      <td>openstack/mistral-specs</td>\n",
       "      <td>openstack/openstack-nose</td>\n",
       "      <td>Non core</td>\n",
       "      <td>0.000000</td>\n",
       "      <td>2.083333</td>\n",
       "      <td>0</td>\n",
       "      <td>1</td>\n",
       "      <td>openstack/mistral-specs openstack/mistral-specs</td>\n",
       "    </tr>\n",
       "  </tbody>\n",
       "</table>\n",
       "<p>1662810 rows × 8 columns</p>\n",
       "</div>"
      ],
      "text/plain": [
       "                                projectA                           projectB  \\\n",
       "0     openstack/deb-python-dogpile.cache      openstack/deb-python-futurist   \n",
       "1     openstack/deb-python-dogpile.cache      openstack/deb-python-futurist   \n",
       "2     openstack/deb-python-dogpile.cache  openstack/deb-python-glanceclient   \n",
       "3     openstack/deb-python-dogpile.cache  openstack/deb-python-glanceclient   \n",
       "4     openstack/deb-python-dogpile.cache  openstack/deb-python-glance-store   \n",
       "...                                  ...                                ...   \n",
       "1185             openstack/mistral-specs          openstack/magnetodb-specs   \n",
       "1196             openstack/mistral-specs                openstack/magnetodb   \n",
       "1197             openstack/mistral-specs                openstack/magnetodb   \n",
       "1198             openstack/mistral-specs           openstack/openstack-nose   \n",
       "1199             openstack/mistral-specs           openstack/openstack-nose   \n",
       "\n",
       "     developer  intersect_dev  intersect_rev  devAB_count  revAB_count  \\\n",
       "0         Core      33.333333       0.000000            3            4   \n",
       "1     Non core      66.666667     100.000000            3            4   \n",
       "2         Core      33.333333       0.000000            3            4   \n",
       "3     Non core      66.666667      80.000000            3            4   \n",
       "4         Core      33.333333       0.000000            3            4   \n",
       "...        ...            ...            ...          ...          ...   \n",
       "1185  Non core       0.000000       3.508772            1            2   \n",
       "1196      Core       1.960784       0.000000            1            2   \n",
       "1197  Non core       0.000000       2.631579            1            2   \n",
       "1198      Core       0.000000       0.000000            0            1   \n",
       "1199  Non core       0.000000       2.083333            0            1   \n",
       "\n",
       "                                                   pair  \n",
       "0     openstack/deb-python-dogpile.cache openstack/d...  \n",
       "1     openstack/deb-python-dogpile.cache openstack/d...  \n",
       "2     openstack/deb-python-dogpile.cache openstack/d...  \n",
       "3     openstack/deb-python-dogpile.cache openstack/d...  \n",
       "4     openstack/deb-python-dogpile.cache openstack/d...  \n",
       "...                                                 ...  \n",
       "1185    openstack/mistral-specs openstack/mistral-specs  \n",
       "1196    openstack/mistral-specs openstack/mistral-specs  \n",
       "1197    openstack/mistral-specs openstack/mistral-specs  \n",
       "1198    openstack/mistral-specs openstack/mistral-specs  \n",
       "1199    openstack/mistral-specs openstack/mistral-specs  \n",
       "\n",
       "[1662810 rows x 8 columns]"
      ]
     },
     "execution_count": 113,
     "metadata": {},
     "output_type": "execute_result"
    }
   ],
   "source": [
    "# df_projects_pair_labels[\"pair\"] = df_projects_pair_labels.\n",
    "df_projects_metrics\n",
    "# df_projects_pairs[(df_projects_pairs[\"developer\"]==\"Non core\")&(df_projects_pairs[\"intersect_rev\"]>0)].median()"
   ]
  },
  {
   "cell_type": "code",
   "execution_count": 92,
   "metadata": {},
   "outputs": [],
   "source": [
    "project_pairs = [\"%s %s\" % (p[0], p[1]) for p in project_pairs]"
   ]
  },
  {
   "cell_type": "code",
   "execution_count": 96,
   "metadata": {},
   "outputs": [
    {
     "name": "stderr",
     "output_type": "stream",
     "text": [
      "/var/folders/p4/wn9d12jj6g78td0tl7gx7xlw0000gp/T/ipykernel_1469/3025848089.py:1: SettingWithCopyWarning: \n",
      "A value is trying to be set on a copy of a slice from a DataFrame.\n",
      "Try using .loc[row_indexer,col_indexer] = value instead\n",
      "\n",
      "See the caveats in the documentation: https://pandas.pydata.org/pandas-docs/stable/user_guide/indexing.html#returning-a-view-versus-a-copy\n",
      "  df_projects_metrics[\"pair\"] = df_projects_metrics[[\"projectA\", \"projectB\"]].apply(lambda pair: \"%s %s\" % (pair[\"projectA\"], pair[\"projectA\"]), axis=1)\n"
     ]
    }
   ],
   "source": [
    "df_projects_metrics[\"pair\"] = df_projects_metrics[[\"projectA\", \"projectB\"]].apply(lambda pair: \"%s %s\" % (pair[\"projectA\"], pair[\"projectA\"]), axis=1)"
   ]
  },
  {
   "cell_type": "code",
   "execution_count": 102,
   "metadata": {},
   "outputs": [
    {
     "data": {
      "text/html": [
       "<div>\n",
       "<style scoped>\n",
       "    .dataframe tbody tr th:only-of-type {\n",
       "        vertical-align: middle;\n",
       "    }\n",
       "\n",
       "    .dataframe tbody tr th {\n",
       "        vertical-align: top;\n",
       "    }\n",
       "\n",
       "    .dataframe thead th {\n",
       "        text-align: right;\n",
       "    }\n",
       "</style>\n",
       "<table border=\"1\" class=\"dataframe\">\n",
       "  <thead>\n",
       "    <tr style=\"text-align: right;\">\n",
       "      <th></th>\n",
       "      <th>projectA</th>\n",
       "      <th>projectB</th>\n",
       "      <th>developer</th>\n",
       "      <th>intersect_dev</th>\n",
       "      <th>intersect_rev</th>\n",
       "      <th>devAB_count</th>\n",
       "      <th>revAB_count</th>\n",
       "      <th>pair</th>\n",
       "    </tr>\n",
       "  </thead>\n",
       "  <tbody>\n",
       "  </tbody>\n",
       "</table>\n",
       "</div>"
      ],
      "text/plain": [
       "Empty DataFrame\n",
       "Columns: [projectA, projectB, developer, intersect_dev, intersect_rev, devAB_count, revAB_count, pair]\n",
       "Index: []"
      ]
     },
     "execution_count": 102,
     "metadata": {},
     "output_type": "execute_result"
    }
   ],
   "source": [
    "df_projects_metrics[(df_projects_metrics[\"developer\"]==\"Non core\")&(df_projects_metrics[\"pair\"].isin(project_pairs))]#.median()"
   ]
  },
  {
   "cell_type": "code",
   "execution_count": 20,
   "metadata": {},
   "outputs": [],
   "source": [
    "df_projects_metrics = pd.read_csv(\"./RQs/PQ/Files/projects_metrics.csv\")"
   ]
  },
  {
   "cell_type": "code",
   "execution_count": 74,
   "metadata": {},
   "outputs": [
    {
     "name": "stderr",
     "output_type": "stream",
     "text": [
      "/var/folders/p4/wn9d12jj6g78td0tl7gx7xlw0000gp/T/ipykernel_20657/511374646.py:5: FutureWarning: Dropping of nuisance columns in DataFrame reductions (with 'numeric_only=None') is deprecated; in a future version this will raise TypeError.  Select only valid columns before calling the reduction.\n",
      "  df_projects_pairs.loc[(df_projects_pairs[\"developer\"]==\"Non core\")&(df_projects_pairs[\"intersect_rev\"]>0)].median()\n"
     ]
    },
    {
     "data": {
      "text/plain": [
       "intersect_dev    0.124069\n",
       "intersect_rev    2.222222\n",
       "devAB_count      2.000000\n",
       "revAB_count      2.000000\n",
       "dtype: float64"
      ]
     },
     "execution_count": 74,
     "metadata": {},
     "output_type": "execute_result"
    }
   ],
   "source": [
    "# df_projects_pairs[(df_projects_pairs[\"developer\"]==\"Non core\")&(df_projects_pairs[\"intersect_dev\"]>0)].median()\n",
    "# len(\n",
    "# df_projects_metrics.loc[df_projects_metrics[\"intersect_rev\"]>0]#.median()\n",
    "# )/len(df_projects_metrics)\n",
    "df_projects_pairs.loc[(df_projects_pairs[\"developer\"]==\"Non core\")&(df_projects_pairs[\"intersect_rev\"]>0)].median()"
   ]
  },
  {
   "attachments": {},
   "cell_type": "markdown",
   "metadata": {},
   "source": [
    "### Developer intersection"
   ]
  },
  {
   "cell_type": "code",
   "execution_count": 15,
   "metadata": {},
   "outputs": [],
   "source": [
    "df_developers_projects_pairs = df_projects_metrics[[\"projectA\", \"projectB\", \"developer\", \"intersect_dev\"]].copy()"
   ]
  },
  {
   "cell_type": "code",
   "execution_count": 16,
   "metadata": {},
   "outputs": [],
   "source": [
    "df_developers_projects_pairs[[\"developer\", \"intersect_dev\"]].copy().to_csv(\"./RQs/PQ/Files/developers_projects_intersection.csv\", index=False)"
   ]
  },
  {
   "cell_type": "code",
   "execution_count": 18,
   "metadata": {},
   "outputs": [],
   "source": [
    "df_projects_metrics = pd.read_csv(\"./RQs/PQ/Files/developers_projects_intersection.csv\")"
   ]
  },
  {
   "cell_type": "code",
   "execution_count": 31,
   "metadata": {},
   "outputs": [
    {
     "name": "stderr",
     "output_type": "stream",
     "text": [
      "/var/folders/p4/wn9d12jj6g78td0tl7gx7xlw0000gp/T/ipykernel_20657/2822367421.py:2: FutureWarning: Dropping of nuisance columns in DataFrame reductions (with 'numeric_only=None') is deprecated; in a future version this will raise TypeError.  Select only valid columns before calling the reduction.\n",
      "  df_projects_metrics.median()\n"
     ]
    },
    {
     "data": {
      "text/plain": [
       "intersect_dev    1.515152\n",
       "intersect_rev    2.108963\n",
       "devAB_count      2.000000\n",
       "revAB_count      2.000000\n",
       "dtype: float64"
      ]
     },
     "execution_count": 31,
     "metadata": {},
     "output_type": "execute_result"
    }
   ],
   "source": [
    "# len(df_projects_metrics.loc[df_projects_metrics[\"intersect_dev\"]>0])/len(df_projects_metrics)\n",
    "df_projects_metrics.median()"
   ]
  },
  {
   "attachments": {},
   "cell_type": "markdown",
   "metadata": {},
   "source": [
    "### Reviewers intersection"
   ]
  },
  {
   "cell_type": "code",
   "execution_count": 17,
   "metadata": {},
   "outputs": [],
   "source": [
    "df_reviewers_projects_pairs = df_projects_metrics[[\"developer\", \"intersect_rev\"]].copy()\n",
    "df_reviewers_projects_pairs[[\"intersect_rev\", \"developer\"]].to_csv(\"./RQs/PQ/Files/reviewers_project_intersection.csv\", index=False)"
   ]
  },
  {
   "cell_type": "code",
   "execution_count": 59,
   "metadata": {},
   "outputs": [],
   "source": [
    "dev = pd.read_csv(\"./RQs/PQ/Files/reviewers_project_intersection.csv\")"
   ]
  },
  {
   "cell_type": "code",
   "execution_count": 61,
   "metadata": {},
   "outputs": [
    {
     "name": "stderr",
     "output_type": "stream",
     "text": [
      "/var/folders/p4/wn9d12jj6g78td0tl7gx7xlw0000gp/T/ipykernel_9560/1052162431.py:1: FutureWarning: Dropping of nuisance columns in DataFrame reductions (with 'numeric_only=None') is deprecated; in a future version this will raise TypeError.  Select only valid columns before calling the reduction.\n",
      "  dev.loc[dev[\"developer\"]==\"Core\"].median()\n"
     ]
    },
    {
     "data": {
      "text/plain": [
       "intersect_rev    0.0\n",
       "dtype: float64"
      ]
     },
     "execution_count": 61,
     "metadata": {},
     "output_type": "execute_result"
    }
   ],
   "source": [
    "dev.loc[dev[\"developer\"]==\"Core\"].median()"
   ]
  },
  {
   "attachments": {},
   "cell_type": "markdown",
   "metadata": {},
   "source": [
    "### Analysis for services"
   ]
  },
  {
   "cell_type": "code",
   "execution_count": 252,
   "metadata": {},
   "outputs": [],
   "source": [
    "df_services_metrics = pd.read_csv(\"./RQs/PQ/Files/pq_services_metrics.csv\")"
   ]
  },
  {
   "cell_type": "code",
   "execution_count": 233,
   "metadata": {},
   "outputs": [],
   "source": [
    "df_services_metrics.groupby(by=[\"serviceA\", \"serviceB\"]).sum().reset_index(level=[0,0])[[\"intersect_dev\", \"intersect_rev\"]].to_csv(\"./RQs/PQ/Files/services_metrics.csv\", index=False)"
   ]
  },
  {
   "cell_type": "code",
   "execution_count": 245,
   "metadata": {},
   "outputs": [],
   "source": [
    "df_services_metrics = df_services_metrics.groupby(by=[\"serviceA\", \"serviceB\"]).sum().reset_index(level=[0,1])\n",
    "# df_services_metrics[\"devAB_intersect\"] = df_services_metrics[\"devAB_intersect\"].apply(ast.literal_eval)"
   ]
  },
  {
   "cell_type": "code",
   "execution_count": 251,
   "metadata": {},
   "outputs": [
    {
     "name": "stderr",
     "output_type": "stream",
     "text": [
      "/var/folders/p4/wn9d12jj6g78td0tl7gx7xlw0000gp/T/ipykernel_1469/1934662545.py:1: FutureWarning: Dropping of nuisance columns in DataFrame reductions (with 'numeric_only=None') is deprecated; in a future version this will raise TypeError.  Select only valid columns before calling the reduction.\n",
      "  df_services_metrics[df_services_metrics[\"intersect_rev\"]>0].median()\n"
     ]
    },
    {
     "data": {
      "text/plain": [
       "intersect_dev    10.117155\n",
       "intersect_rev    10.846687\n",
       "dtype: float64"
      ]
     },
     "execution_count": 251,
     "metadata": {},
     "output_type": "execute_result"
    }
   ],
   "source": [
    "df_services_metrics[df_services_metrics[\"intersect_rev\"]>0].median()"
   ]
  },
  {
   "cell_type": "code",
   "execution_count": 46,
   "metadata": {},
   "outputs": [],
   "source": [
    "df_services_metrics[\"revAB_intersect_count\"] = df_services_metrics[\"revAB_intersect\"].apply(ast.literal_eval)\n",
    "# df_services_metrics = df_services_metrics[df_services_metrics[\"developer\"]==\"Core\"]"
   ]
  },
  {
   "cell_type": "code",
   "execution_count": 13,
   "metadata": {},
   "outputs": [
    {
     "name": "stderr",
     "output_type": "stream",
     "text": [
      "/var/folders/p4/wn9d12jj6g78td0tl7gx7xlw0000gp/T/ipykernel_1469/1054539711.py:1: SettingWithCopyWarning: \n",
      "A value is trying to be set on a copy of a slice from a DataFrame.\n",
      "Try using .loc[row_indexer,col_indexer] = value instead\n",
      "\n",
      "See the caveats in the documentation: https://pandas.pydata.org/pandas-docs/stable/user_guide/indexing.html#returning-a-view-versus-a-copy\n",
      "  df_services_metrics[\"devAB_count\"] = df_services_metrics[\"devAB_intersect\"].map(lambda x: len(x))\n"
     ]
    }
   ],
   "source": [
    "df_services_metrics[\"devAB_count\"] = df_services_metrics[\"devAB_intersect\"].map(lambda x: len(x))"
   ]
  },
  {
   "cell_type": "code",
   "execution_count": 47,
   "metadata": {},
   "outputs": [],
   "source": [
    "df_services_metrics[\"revAB_intersect_count\"] = df_services_metrics[\"revAB_intersect\"].map(lambda x: len(x))"
   ]
  },
  {
   "cell_type": "code",
   "execution_count": 259,
   "metadata": {},
   "outputs": [
    {
     "name": "stderr",
     "output_type": "stream",
     "text": [
      "/var/folders/p4/wn9d12jj6g78td0tl7gx7xlw0000gp/T/ipykernel_1469/293948316.py:1: FutureWarning: Dropping of nuisance columns in DataFrame reductions (with 'numeric_only=None') is deprecated; in a future version this will raise TypeError.  Select only valid columns before calling the reduction.\n",
      "  df_services_metrics[(df_services_metrics[\"developer\"]==\"Non core\")&(df_services_metrics[\"intersect_rev\"]>0)].median()\n"
     ]
    },
    {
     "data": {
      "text/plain": [
       "intersect_dev    5.456801\n",
       "intersect_rev    6.548570\n",
       "dtype: float64"
      ]
     },
     "execution_count": 259,
     "metadata": {},
     "output_type": "execute_result"
    }
   ],
   "source": [
    "df_services_metrics[(df_services_metrics[\"developer\"]==\"Non core\")&(df_services_metrics[\"intersect_rev\"]>0)].median()"
   ]
  },
  {
   "cell_type": "code",
   "execution_count": 22,
   "metadata": {},
   "outputs": [
    {
     "data": {
      "text/html": [
       "<div>\n",
       "<style scoped>\n",
       "    .dataframe tbody tr th:only-of-type {\n",
       "        vertical-align: middle;\n",
       "    }\n",
       "\n",
       "    .dataframe tbody tr th {\n",
       "        vertical-align: top;\n",
       "    }\n",
       "\n",
       "    .dataframe thead th {\n",
       "        text-align: right;\n",
       "    }\n",
       "</style>\n",
       "<table border=\"1\" class=\"dataframe\">\n",
       "  <thead>\n",
       "    <tr style=\"text-align: right;\">\n",
       "      <th></th>\n",
       "      <th>serviceA</th>\n",
       "      <th>serviceB</th>\n",
       "      <th>devA</th>\n",
       "      <th>devB</th>\n",
       "      <th>devAB_intersect</th>\n",
       "      <th>devAB_union</th>\n",
       "      <th>revA</th>\n",
       "      <th>revB</th>\n",
       "      <th>revAB_intersect</th>\n",
       "      <th>revAB_union</th>\n",
       "      <th>developer</th>\n",
       "      <th>intersect_dev</th>\n",
       "      <th>intersect_rev</th>\n",
       "    </tr>\n",
       "  </thead>\n",
       "  <tbody>\n",
       "    <tr>\n",
       "      <th>0</th>\n",
       "      <td>nova</td>\n",
       "      <td>zun</td>\n",
       "      <td>[7634, 4690, 20733, 935, 10366, 11090, 34860, ...</td>\n",
       "      <td>[34329, 8556, 11536, 17685, 29313, 30491, 2066...</td>\n",
       "      <td>[1, 2, 15888, 27153, 24, 29721, 11805, 27678, ...</td>\n",
       "      <td>[1, 2, 3, 4, 5, 6, 7, 12297, 12299, 8205, 8213...</td>\n",
       "      <td>[7166, 8556, 15334, 19234, 20733, 32029, 32238...</td>\n",
       "      <td>[11536, 8556, 16352, 17685, 20663, 29313, 1190...</td>\n",
       "      <td>[1, 2, 3, 19457, 27654, 5638, 21513, 21515, 26...</td>\n",
       "      <td>[1, 2, 3, 4, 16389, 6, 7, 5, 8205, 8213, 24598...</td>\n",
       "      <td>Core</td>\n",
       "      <td>2.605092</td>\n",
       "      <td>2.626050</td>\n",
       "    </tr>\n",
       "    <tr>\n",
       "      <th>1</th>\n",
       "      <td>nova</td>\n",
       "      <td>zun</td>\n",
       "      <td>[7634, 4690, 20733, 935, 10366, 11090, 34860, ...</td>\n",
       "      <td>[34329, 8556, 11536, 17685, 29313, 30491, 2066...</td>\n",
       "      <td>[1, 2, 15888, 27153, 24, 29721, 11805, 27678, ...</td>\n",
       "      <td>[1, 2, 3, 4, 5, 6, 7, 12297, 12299, 8205, 8213...</td>\n",
       "      <td>[7166, 8556, 15334, 19234, 20733, 32029, 32238...</td>\n",
       "      <td>[11536, 8556, 16352, 17685, 20663, 29313, 1190...</td>\n",
       "      <td>[1, 2, 3, 19457, 27654, 5638, 21513, 21515, 26...</td>\n",
       "      <td>[1, 2, 3, 4, 16389, 6, 7, 5, 8205, 8213, 24598...</td>\n",
       "      <td>Non core</td>\n",
       "      <td>3.552398</td>\n",
       "      <td>3.711485</td>\n",
       "    </tr>\n",
       "    <tr>\n",
       "      <th>2</th>\n",
       "      <td>nova</td>\n",
       "      <td>ironic</td>\n",
       "      <td>[7634, 4690, 20733, 935, 10366, 11090, 34860, ...</td>\n",
       "      <td>[10342, 32553, 15519, 23851, 28806, 27909, 102...</td>\n",
       "      <td>[1, 2, 3, 6159, 14352, 8213, 6167, 24, 4146, 1...</td>\n",
       "      <td>[1, 2, 3, 4, 5, 6, 7, 20481, 12299, 8205, 8213...</td>\n",
       "      <td>[7166, 8556, 15334, 19234, 20733, 32029, 32238...</td>\n",
       "      <td>[6618, 10342, 11655, 23851, 10239, 27909, 2880...</td>\n",
       "      <td>[1, 2, 3, 4, 7, 6159, 8213, 6167, 24, 10263, 1...</td>\n",
       "      <td>[1, 2, 3, 4, 16389, 6, 7, 5, 8205, 8213, 24598...</td>\n",
       "      <td>Core</td>\n",
       "      <td>7.258065</td>\n",
       "      <td>6.968750</td>\n",
       "    </tr>\n",
       "    <tr>\n",
       "      <th>3</th>\n",
       "      <td>nova</td>\n",
       "      <td>ironic</td>\n",
       "      <td>[7634, 4690, 20733, 935, 10366, 11090, 34860, ...</td>\n",
       "      <td>[10342, 32553, 15519, 23851, 28806, 27909, 102...</td>\n",
       "      <td>[1, 2, 3, 6159, 14352, 8213, 6167, 24, 4146, 1...</td>\n",
       "      <td>[1, 2, 3, 4, 5, 6, 7, 20481, 12299, 8205, 8213...</td>\n",
       "      <td>[7166, 8556, 15334, 19234, 20733, 32029, 32238...</td>\n",
       "      <td>[6618, 10342, 11655, 23851, 10239, 27909, 2880...</td>\n",
       "      <td>[1, 2, 3, 4, 7, 6159, 8213, 6167, 24, 10263, 1...</td>\n",
       "      <td>[1, 2, 3, 4, 16389, 6, 7, 5, 8205, 8213, 24598...</td>\n",
       "      <td>Non core</td>\n",
       "      <td>12.903226</td>\n",
       "      <td>16.406250</td>\n",
       "    </tr>\n",
       "    <tr>\n",
       "      <th>4</th>\n",
       "      <td>nova</td>\n",
       "      <td>cyborg</td>\n",
       "      <td>[7634, 4690, 20733, 935, 10366, 11090, 34860, ...</td>\n",
       "      <td>[8556, 26458, 35058, 17685, 31412, 31827, 2395...</td>\n",
       "      <td>[11904, 1, 2, 27781, 25738, 30092, 23950, 2331...</td>\n",
       "      <td>[1, 2, 3, 4, 5, 6, 7, 12299, 8205, 8213, 24598...</td>\n",
       "      <td>[7166, 8556, 15334, 19234, 20733, 32029, 32238...</td>\n",
       "      <td>[26458, 31412, 23950, 8556, 17685, 30396, 3202...</td>\n",
       "      <td>[2, 3, 7, 18955, 11278, 26126, 27153, 28182, 1...</td>\n",
       "      <td>[1, 2, 3, 4, 16389, 6, 7, 5, 8205, 8213, 24598...</td>\n",
       "      <td>Core</td>\n",
       "      <td>1.631420</td>\n",
       "      <td>2.163888</td>\n",
       "    </tr>\n",
       "    <tr>\n",
       "      <th>...</th>\n",
       "      <td>...</td>\n",
       "      <td>...</td>\n",
       "      <td>...</td>\n",
       "      <td>...</td>\n",
       "      <td>...</td>\n",
       "      <td>...</td>\n",
       "      <td>...</td>\n",
       "      <td>...</td>\n",
       "      <td>...</td>\n",
       "      <td>...</td>\n",
       "      <td>...</td>\n",
       "      <td>...</td>\n",
       "      <td>...</td>\n",
       "    </tr>\n",
       "    <tr>\n",
       "      <th>3655</th>\n",
       "      <td>telemetry</td>\n",
       "      <td>venus</td>\n",
       "      <td>[32240, 35067, 9816, 13177, 34120, 17685, 3505...</td>\n",
       "      <td>[34375, 22629, 31412, 30562, 35058, 33436, 264...</td>\n",
       "      <td>[28522, 8556, 27565, 30092, 30384, 35058, 2645...</td>\n",
       "      <td>[1, 2, 19457, 3, 21515, 14347, 8205, 6159, 821...</td>\n",
       "      <td>[4264, 30396, 7294, 28543, 32029, 32238, 8556,...</td>\n",
       "      <td>[26458, 31412, 27565, 34375, 24061, 32238, 176...</td>\n",
       "      <td>[13252, 14151, 28743, 8556, 27565, 32238, 2628...</td>\n",
       "      <td>[1, 2, 3, 4, 19457, 9218, 11268, 21513, 14347,...</td>\n",
       "      <td>Non core</td>\n",
       "      <td>1.246106</td>\n",
       "      <td>1.242236</td>\n",
       "    </tr>\n",
       "    <tr>\n",
       "      <th>3656</th>\n",
       "      <td>telemetry</td>\n",
       "      <td>winstackers</td>\n",
       "      <td>[32240, 35067, 9816, 13177, 34120, 17685, 3505...</td>\n",
       "      <td>[8543, 7634, 35067, 35058, 17685, 33881, 33436...</td>\n",
       "      <td>[11904, 1, 16896, 2, 27781, 28935, 21387, 6159...</td>\n",
       "      <td>[1, 2, 19457, 3, 10241, 21515, 14347, 8205, 61...</td>\n",
       "      <td>[4264, 30396, 7294, 28543, 32029, 32238, 8556,...</td>\n",
       "      <td>[8543, 8556, 17685, 7634, 11805, 8213, 3185, 2...</td>\n",
       "      <td>[11904, 20993, 3, 27781, 28935, 19339, 19853, ...</td>\n",
       "      <td>[1, 2, 3, 4, 19457, 9218, 11268, 21513, 14347,...</td>\n",
       "      <td>Core</td>\n",
       "      <td>6.162465</td>\n",
       "      <td>3.082852</td>\n",
       "    </tr>\n",
       "    <tr>\n",
       "      <th>3657</th>\n",
       "      <td>telemetry</td>\n",
       "      <td>winstackers</td>\n",
       "      <td>[32240, 35067, 9816, 13177, 34120, 17685, 3505...</td>\n",
       "      <td>[8543, 7634, 35067, 35058, 17685, 33881, 33436...</td>\n",
       "      <td>[11904, 1, 16896, 2, 27781, 28935, 21387, 6159...</td>\n",
       "      <td>[1, 2, 19457, 3, 10241, 21515, 14347, 8205, 61...</td>\n",
       "      <td>[4264, 30396, 7294, 28543, 32029, 32238, 8556,...</td>\n",
       "      <td>[8543, 8556, 17685, 7634, 11805, 8213, 3185, 2...</td>\n",
       "      <td>[11904, 20993, 3, 27781, 28935, 19339, 19853, ...</td>\n",
       "      <td>[1, 2, 3, 4, 19457, 9218, 11268, 21513, 14347,...</td>\n",
       "      <td>Non core</td>\n",
       "      <td>6.722689</td>\n",
       "      <td>6.358382</td>\n",
       "    </tr>\n",
       "    <tr>\n",
       "      <th>3658</th>\n",
       "      <td>venus</td>\n",
       "      <td>winstackers</td>\n",
       "      <td>[34375, 22629, 31412, 30562, 35058, 33436, 264...</td>\n",
       "      <td>[8543, 7634, 35067, 35058, 17685, 33881, 33436...</td>\n",
       "      <td>[32326, 28522, 8556, 27565, 30384, 35058, 3292...</td>\n",
       "      <td>[12800, 1, 16896, 2, 10241, 28935, 23303, 1076...</td>\n",
       "      <td>[26458, 31412, 27565, 34375, 24061, 32238, 176...</td>\n",
       "      <td>[8543, 8556, 17685, 7634, 11805, 8213, 3185, 2...</td>\n",
       "      <td>[26458, 8556, 17685, 26285]</td>\n",
       "      <td>[20992, 20993, 3, 28935, 10760, 15882, 31245, ...</td>\n",
       "      <td>Core</td>\n",
       "      <td>2.479339</td>\n",
       "      <td>2.564103</td>\n",
       "    </tr>\n",
       "    <tr>\n",
       "      <th>3659</th>\n",
       "      <td>venus</td>\n",
       "      <td>winstackers</td>\n",
       "      <td>[34375, 22629, 31412, 30562, 35058, 33436, 264...</td>\n",
       "      <td>[8543, 7634, 35067, 35058, 17685, 33881, 33436...</td>\n",
       "      <td>[32326, 28522, 8556, 27565, 30384, 35058, 3292...</td>\n",
       "      <td>[12800, 1, 16896, 2, 10241, 28935, 23303, 1076...</td>\n",
       "      <td>[26458, 31412, 27565, 34375, 24061, 32238, 176...</td>\n",
       "      <td>[8543, 8556, 17685, 7634, 11805, 8213, 3185, 2...</td>\n",
       "      <td>[26458, 8556, 17685, 26285]</td>\n",
       "      <td>[20992, 20993, 3, 28935, 10760, 15882, 31245, ...</td>\n",
       "      <td>Non core</td>\n",
       "      <td>4.958678</td>\n",
       "      <td>0.854701</td>\n",
       "    </tr>\n",
       "  </tbody>\n",
       "</table>\n",
       "<p>3660 rows × 13 columns</p>\n",
       "</div>"
      ],
      "text/plain": [
       "       serviceA     serviceB  \\\n",
       "0          nova          zun   \n",
       "1          nova          zun   \n",
       "2          nova       ironic   \n",
       "3          nova       ironic   \n",
       "4          nova       cyborg   \n",
       "...         ...          ...   \n",
       "3655  telemetry        venus   \n",
       "3656  telemetry  winstackers   \n",
       "3657  telemetry  winstackers   \n",
       "3658      venus  winstackers   \n",
       "3659      venus  winstackers   \n",
       "\n",
       "                                                   devA  \\\n",
       "0     [7634, 4690, 20733, 935, 10366, 11090, 34860, ...   \n",
       "1     [7634, 4690, 20733, 935, 10366, 11090, 34860, ...   \n",
       "2     [7634, 4690, 20733, 935, 10366, 11090, 34860, ...   \n",
       "3     [7634, 4690, 20733, 935, 10366, 11090, 34860, ...   \n",
       "4     [7634, 4690, 20733, 935, 10366, 11090, 34860, ...   \n",
       "...                                                 ...   \n",
       "3655  [32240, 35067, 9816, 13177, 34120, 17685, 3505...   \n",
       "3656  [32240, 35067, 9816, 13177, 34120, 17685, 3505...   \n",
       "3657  [32240, 35067, 9816, 13177, 34120, 17685, 3505...   \n",
       "3658  [34375, 22629, 31412, 30562, 35058, 33436, 264...   \n",
       "3659  [34375, 22629, 31412, 30562, 35058, 33436, 264...   \n",
       "\n",
       "                                                   devB  \\\n",
       "0     [34329, 8556, 11536, 17685, 29313, 30491, 2066...   \n",
       "1     [34329, 8556, 11536, 17685, 29313, 30491, 2066...   \n",
       "2     [10342, 32553, 15519, 23851, 28806, 27909, 102...   \n",
       "3     [10342, 32553, 15519, 23851, 28806, 27909, 102...   \n",
       "4     [8556, 26458, 35058, 17685, 31412, 31827, 2395...   \n",
       "...                                                 ...   \n",
       "3655  [34375, 22629, 31412, 30562, 35058, 33436, 264...   \n",
       "3656  [8543, 7634, 35067, 35058, 17685, 33881, 33436...   \n",
       "3657  [8543, 7634, 35067, 35058, 17685, 33881, 33436...   \n",
       "3658  [8543, 7634, 35067, 35058, 17685, 33881, 33436...   \n",
       "3659  [8543, 7634, 35067, 35058, 17685, 33881, 33436...   \n",
       "\n",
       "                                        devAB_intersect  \\\n",
       "0     [1, 2, 15888, 27153, 24, 29721, 11805, 27678, ...   \n",
       "1     [1, 2, 15888, 27153, 24, 29721, 11805, 27678, ...   \n",
       "2     [1, 2, 3, 6159, 14352, 8213, 6167, 24, 4146, 1...   \n",
       "3     [1, 2, 3, 6159, 14352, 8213, 6167, 24, 4146, 1...   \n",
       "4     [11904, 1, 2, 27781, 25738, 30092, 23950, 2331...   \n",
       "...                                                 ...   \n",
       "3655  [28522, 8556, 27565, 30092, 30384, 35058, 2645...   \n",
       "3656  [11904, 1, 16896, 2, 27781, 28935, 21387, 6159...   \n",
       "3657  [11904, 1, 16896, 2, 27781, 28935, 21387, 6159...   \n",
       "3658  [32326, 28522, 8556, 27565, 30384, 35058, 3292...   \n",
       "3659  [32326, 28522, 8556, 27565, 30384, 35058, 3292...   \n",
       "\n",
       "                                            devAB_union  \\\n",
       "0     [1, 2, 3, 4, 5, 6, 7, 12297, 12299, 8205, 8213...   \n",
       "1     [1, 2, 3, 4, 5, 6, 7, 12297, 12299, 8205, 8213...   \n",
       "2     [1, 2, 3, 4, 5, 6, 7, 20481, 12299, 8205, 8213...   \n",
       "3     [1, 2, 3, 4, 5, 6, 7, 20481, 12299, 8205, 8213...   \n",
       "4     [1, 2, 3, 4, 5, 6, 7, 12299, 8205, 8213, 24598...   \n",
       "...                                                 ...   \n",
       "3655  [1, 2, 19457, 3, 21515, 14347, 8205, 6159, 821...   \n",
       "3656  [1, 2, 19457, 3, 10241, 21515, 14347, 8205, 61...   \n",
       "3657  [1, 2, 19457, 3, 10241, 21515, 14347, 8205, 61...   \n",
       "3658  [12800, 1, 16896, 2, 10241, 28935, 23303, 1076...   \n",
       "3659  [12800, 1, 16896, 2, 10241, 28935, 23303, 1076...   \n",
       "\n",
       "                                                   revA  \\\n",
       "0     [7166, 8556, 15334, 19234, 20733, 32029, 32238...   \n",
       "1     [7166, 8556, 15334, 19234, 20733, 32029, 32238...   \n",
       "2     [7166, 8556, 15334, 19234, 20733, 32029, 32238...   \n",
       "3     [7166, 8556, 15334, 19234, 20733, 32029, 32238...   \n",
       "4     [7166, 8556, 15334, 19234, 20733, 32029, 32238...   \n",
       "...                                                 ...   \n",
       "3655  [4264, 30396, 7294, 28543, 32029, 32238, 8556,...   \n",
       "3656  [4264, 30396, 7294, 28543, 32029, 32238, 8556,...   \n",
       "3657  [4264, 30396, 7294, 28543, 32029, 32238, 8556,...   \n",
       "3658  [26458, 31412, 27565, 34375, 24061, 32238, 176...   \n",
       "3659  [26458, 31412, 27565, 34375, 24061, 32238, 176...   \n",
       "\n",
       "                                                   revB  \\\n",
       "0     [11536, 8556, 16352, 17685, 20663, 29313, 1190...   \n",
       "1     [11536, 8556, 16352, 17685, 20663, 29313, 1190...   \n",
       "2     [6618, 10342, 11655, 23851, 10239, 27909, 2880...   \n",
       "3     [6618, 10342, 11655, 23851, 10239, 27909, 2880...   \n",
       "4     [26458, 31412, 23950, 8556, 17685, 30396, 3202...   \n",
       "...                                                 ...   \n",
       "3655  [26458, 31412, 27565, 34375, 24061, 32238, 176...   \n",
       "3656  [8543, 8556, 17685, 7634, 11805, 8213, 3185, 2...   \n",
       "3657  [8543, 8556, 17685, 7634, 11805, 8213, 3185, 2...   \n",
       "3658  [8543, 8556, 17685, 7634, 11805, 8213, 3185, 2...   \n",
       "3659  [8543, 8556, 17685, 7634, 11805, 8213, 3185, 2...   \n",
       "\n",
       "                                        revAB_intersect  \\\n",
       "0     [1, 2, 3, 19457, 27654, 5638, 21513, 21515, 26...   \n",
       "1     [1, 2, 3, 19457, 27654, 5638, 21513, 21515, 26...   \n",
       "2     [1, 2, 3, 4, 7, 6159, 8213, 6167, 24, 10263, 1...   \n",
       "3     [1, 2, 3, 4, 7, 6159, 8213, 6167, 24, 10263, 1...   \n",
       "4     [2, 3, 7, 18955, 11278, 26126, 27153, 28182, 1...   \n",
       "...                                                 ...   \n",
       "3655  [13252, 14151, 28743, 8556, 27565, 32238, 2628...   \n",
       "3656  [11904, 20993, 3, 27781, 28935, 19339, 19853, ...   \n",
       "3657  [11904, 20993, 3, 27781, 28935, 19339, 19853, ...   \n",
       "3658                        [26458, 8556, 17685, 26285]   \n",
       "3659                        [26458, 8556, 17685, 26285]   \n",
       "\n",
       "                                            revAB_union developer  \\\n",
       "0     [1, 2, 3, 4, 16389, 6, 7, 5, 8205, 8213, 24598...      Core   \n",
       "1     [1, 2, 3, 4, 16389, 6, 7, 5, 8205, 8213, 24598...  Non core   \n",
       "2     [1, 2, 3, 4, 16389, 6, 7, 5, 8205, 8213, 24598...      Core   \n",
       "3     [1, 2, 3, 4, 16389, 6, 7, 5, 8205, 8213, 24598...  Non core   \n",
       "4     [1, 2, 3, 4, 16389, 6, 7, 5, 8205, 8213, 24598...      Core   \n",
       "...                                                 ...       ...   \n",
       "3655  [1, 2, 3, 4, 19457, 9218, 11268, 21513, 14347,...  Non core   \n",
       "3656  [1, 2, 3, 4, 19457, 9218, 11268, 21513, 14347,...      Core   \n",
       "3657  [1, 2, 3, 4, 19457, 9218, 11268, 21513, 14347,...  Non core   \n",
       "3658  [20992, 20993, 3, 28935, 10760, 15882, 31245, ...      Core   \n",
       "3659  [20992, 20993, 3, 28935, 10760, 15882, 31245, ...  Non core   \n",
       "\n",
       "      intersect_dev  intersect_rev  \n",
       "0          2.605092       2.626050  \n",
       "1          3.552398       3.711485  \n",
       "2          7.258065       6.968750  \n",
       "3         12.903226      16.406250  \n",
       "4          1.631420       2.163888  \n",
       "...             ...            ...  \n",
       "3655       1.246106       1.242236  \n",
       "3656       6.162465       3.082852  \n",
       "3657       6.722689       6.358382  \n",
       "3658       2.479339       2.564103  \n",
       "3659       4.958678       0.854701  \n",
       "\n",
       "[3660 rows x 13 columns]"
      ]
     },
     "execution_count": 22,
     "metadata": {},
     "output_type": "execute_result"
    }
   ],
   "source": [
    "# df_services_metrics[df_services_metrics[\"devAB_count\"]>0].median()\n",
    "df_services_metrics"
   ]
  },
  {
   "cell_type": "code",
   "execution_count": 32,
   "metadata": {},
   "outputs": [],
   "source": [
    "df_services_metrics = pd.read_csv(\"./RQs/PQ/Files/services_metrics.csv\")"
   ]
  },
  {
   "cell_type": "code",
   "execution_count": null,
   "metadata": {},
   "outputs": [],
   "source": [
    "# len(\n",
    "df_services_metrics[(df_services_metrics[\"intersect_dev\"]>0)&(df_services_metrics[\"developer\"]==\"Non core\")].median()\n",
    "    # )/len(df_services_metrics)"
   ]
  },
  {
   "cell_type": "code",
   "execution_count": 64,
   "metadata": {},
   "outputs": [
    {
     "data": {
      "text/html": [
       "<div>\n",
       "<style scoped>\n",
       "    .dataframe tbody tr th:only-of-type {\n",
       "        vertical-align: middle;\n",
       "    }\n",
       "\n",
       "    .dataframe tbody tr th {\n",
       "        vertical-align: top;\n",
       "    }\n",
       "\n",
       "    .dataframe thead th {\n",
       "        text-align: right;\n",
       "    }\n",
       "</style>\n",
       "<table border=\"1\" class=\"dataframe\">\n",
       "  <thead>\n",
       "    <tr style=\"text-align: right;\">\n",
       "      <th></th>\n",
       "      <th>intersect_dev</th>\n",
       "      <th>intersect_rev</th>\n",
       "    </tr>\n",
       "  </thead>\n",
       "  <tbody>\n",
       "    <tr>\n",
       "      <th>1443</th>\n",
       "      <td>0.000000</td>\n",
       "      <td>0.341297</td>\n",
       "    </tr>\n",
       "    <tr>\n",
       "      <th>1436</th>\n",
       "      <td>0.000000</td>\n",
       "      <td>0.393701</td>\n",
       "    </tr>\n",
       "    <tr>\n",
       "      <th>1076</th>\n",
       "      <td>0.306373</td>\n",
       "      <td>0.569801</td>\n",
       "    </tr>\n",
       "    <tr>\n",
       "      <th>1086</th>\n",
       "      <td>0.796081</td>\n",
       "      <td>0.608665</td>\n",
       "    </tr>\n",
       "    <tr>\n",
       "      <th>1442</th>\n",
       "      <td>0.299103</td>\n",
       "      <td>0.615764</td>\n",
       "    </tr>\n",
       "    <tr>\n",
       "      <th>...</th>\n",
       "      <td>...</td>\n",
       "      <td>...</td>\n",
       "    </tr>\n",
       "    <tr>\n",
       "      <th>1607</th>\n",
       "      <td>30.444126</td>\n",
       "      <td>38.058341</td>\n",
       "    </tr>\n",
       "    <tr>\n",
       "      <th>1332</th>\n",
       "      <td>33.890215</td>\n",
       "      <td>38.151042</td>\n",
       "    </tr>\n",
       "    <tr>\n",
       "      <th>1303</th>\n",
       "      <td>27.919567</td>\n",
       "      <td>38.220919</td>\n",
       "    </tr>\n",
       "    <tr>\n",
       "      <th>1337</th>\n",
       "      <td>30.281690</td>\n",
       "      <td>38.672351</td>\n",
       "    </tr>\n",
       "    <tr>\n",
       "      <th>1333</th>\n",
       "      <td>37.099237</td>\n",
       "      <td>41.137856</td>\n",
       "    </tr>\n",
       "  </tbody>\n",
       "</table>\n",
       "<p>1830 rows × 2 columns</p>\n",
       "</div>"
      ],
      "text/plain": [
       "      intersect_dev  intersect_rev\n",
       "1443       0.000000       0.341297\n",
       "1436       0.000000       0.393701\n",
       "1076       0.306373       0.569801\n",
       "1086       0.796081       0.608665\n",
       "1442       0.299103       0.615764\n",
       "...             ...            ...\n",
       "1607      30.444126      38.058341\n",
       "1332      33.890215      38.151042\n",
       "1303      27.919567      38.220919\n",
       "1337      30.281690      38.672351\n",
       "1333      37.099237      41.137856\n",
       "\n",
       "[1830 rows x 2 columns]"
      ]
     },
     "execution_count": 64,
     "metadata": {},
     "output_type": "execute_result"
    }
   ],
   "source": [
    "df_services_metrics.sort_values(by=\"intersect_rev\", ascending=1)"
   ]
  },
  {
   "cell_type": "code",
   "execution_count": 79,
   "metadata": {},
   "outputs": [
    {
     "name": "stderr",
     "output_type": "stream",
     "text": [
      "/var/folders/p4/wn9d12jj6g78td0tl7gx7xlw0000gp/T/ipykernel_20657/1775384484.py:2: FutureWarning: Dropping of nuisance columns in DataFrame reductions (with 'numeric_only=None') is deprecated; in a future version this will raise TypeError.  Select only valid columns before calling the reduction.\n",
      "  df_services_metrics.loc[(df_services_metrics[\"developer\"]==\"Core\")&(df_services_metrics[\"intersect_rev\"]>0)].median()\n"
     ]
    },
    {
     "data": {
      "text/plain": [
       "intersect_dev    4.421250\n",
       "intersect_rev    4.356785\n",
       "dtype: float64"
      ]
     },
     "execution_count": 79,
     "metadata": {},
     "output_type": "execute_result"
    }
   ],
   "source": [
    "# len(df_services_metrics.loc[df_services_metrics.intersect_rev > 0])/len(df_services_metrics)\n",
    "df_services_metrics.loc[(df_services_metrics[\"developer\"]==\"Core\")&(df_services_metrics[\"intersect_rev\"]>0)].median()\n",
    "# df_services_metrics.loc[df_services_metrics.intersect_rev > 0].median()"
   ]
  },
  {
   "attachments": {},
   "cell_type": "markdown",
   "metadata": {},
   "source": [
    "#### Developer"
   ]
  },
  {
   "cell_type": "code",
   "execution_count": 43,
   "metadata": {},
   "outputs": [],
   "source": [
    "df_owners_services_pairs = df_services_metrics[[\"serviceA\", \"serviceB\", \"developer\", \"intersect_dev\"]].copy()"
   ]
  },
  {
   "cell_type": "code",
   "execution_count": 131,
   "metadata": {},
   "outputs": [],
   "source": [
    "df_owners_services_pairs[[\"developer\", \"intersect_dev\"]].copy().to_csv(\"./RQs/PQ/Files/owners_service_intersection.csv\", index=False)"
   ]
  },
  {
   "cell_type": "code",
   "execution_count": 58,
   "metadata": {},
   "outputs": [],
   "source": [
    "df_owners_services_pairs = pd.read_csv(\"./RQs/PQ/Files/owners_service_intersection.csv\")"
   ]
  },
  {
   "attachments": {},
   "cell_type": "markdown",
   "metadata": {},
   "source": [
    "#### Reviewers"
   ]
  },
  {
   "cell_type": "code",
   "execution_count": 22,
   "metadata": {},
   "outputs": [],
   "source": [
    "df_reviewers_services_pairs = df_services_metrics[[\"developer\", \"intersect_rev\"]].copy()"
   ]
  },
  {
   "cell_type": "code",
   "execution_count": 136,
   "metadata": {},
   "outputs": [],
   "source": [
    "df_reviewers_services_pairs[[\"intersect_rev\", \"developer\"]].to_csv(\"./RQs/PQ/Files/reviewers_service_intersection.csv\", index=False)"
   ]
  },
  {
   "cell_type": "code",
   "execution_count": 56,
   "metadata": {},
   "outputs": [],
   "source": [
    "df_reviewers_services_pairs = pd.read_csv(\"./RQs/PQ/Files/reviewers_service_intersection.csv\")"
   ]
  },
  {
   "attachments": {},
   "cell_type": "markdown",
   "metadata": {},
   "source": [
    "### # of developers per # of projects"
   ]
  },
  {
   "cell_type": "code",
   "execution_count": 6,
   "metadata": {},
   "outputs": [],
   "source": [
    "casual_contributors = pd.read_csv(\"./RQs/Files/casual_contributors.csv\")[\"dev\"].values"
   ]
  },
  {
   "cell_type": "code",
   "execution_count": 263,
   "metadata": {},
   "outputs": [],
   "source": [
    "df_dev_per_projects = df.loc[(df[\"is_owner_bot\"] == 0)&(df[\"status\"] == \"MERGED\")&(~df[\"owner_account_id\"].isin(casual_contributors))].groupby(by=[\"owner_account_id\"]).agg({\"project\": pd.Series.nunique}).reset_index(level=0)#.groupby(\"project\").count().reset_index(level=0)\n",
    "df_dev_per_projects.rename(columns={\"project\": \"projects_nbr\", \"owner_account_id\": \"devs_nbr\"}, inplace=True)\n",
    "df_dev_per_projects[\"dev_status\"] = df_dev_per_projects[\"devs_nbr\"].map(lambda rev_id: \"Core\" if rev_id in os_core_team_devs else \"Non core\")\n",
    "df_dev_per_projects.to_csv(\"./RQs/PQ/Files/devs_per_nbr_project.csv\", index=False)"
   ]
  },
  {
   "cell_type": "code",
   "execution_count": 272,
   "metadata": {},
   "outputs": [
    {
     "name": "stderr",
     "output_type": "stream",
     "text": [
      "/var/folders/p4/wn9d12jj6g78td0tl7gx7xlw0000gp/T/ipykernel_1469/1785655894.py:2: FutureWarning: Dropping of nuisance columns in DataFrame reductions (with 'numeric_only=None') is deprecated; in a future version this will raise TypeError.  Select only valid columns before calling the reduction.\n",
      "  df_dev_per_projects[df_dev_per_projects[\"dev_status\"]==\"Non core\"].median()\n"
     ]
    },
    {
     "data": {
      "text/plain": [
       "devs_nbr        17104.0\n",
       "projects_nbr        3.0\n",
       "dtype: float64"
      ]
     },
     "execution_count": 272,
     "metadata": {},
     "output_type": "execute_result"
    }
   ],
   "source": [
    "# len(df_dev_per_projects[df_dev_per_projects[\"projects_nbr\"]==1])/len(df_dev_per_projects)\n",
    "df_dev_per_projects[df_dev_per_projects[\"dev_status\"]==\"Non core\"].median()"
   ]
  },
  {
   "attachments": {},
   "cell_type": "markdown",
   "metadata": {},
   "source": [
    "### # of reviewers per # of projects"
   ]
  },
  {
   "cell_type": "code",
   "execution_count": 273,
   "metadata": {},
   "outputs": [],
   "source": [
    "df_rev_per_projects = df.loc[(df[\"status\"] == \"MERGED\")&(~df[\"owner_account_id\"].isin(casual_contributors))].copy()"
   ]
  },
  {
   "cell_type": "code",
   "execution_count": 52,
   "metadata": {},
   "outputs": [],
   "source": [
    "df_rev_per_projects[\"reviewers\"] = df_rev_per_projects[\"reviewers\"].map(lambda revs: [rev[\"_account_id\"] for rev in revs if (\"tags\" not in rev) and (rev[\"_account_id\"] not in casual_contributors)])"
   ]
  },
  {
   "cell_type": "code",
   "execution_count": 53,
   "metadata": {},
   "outputs": [],
   "source": [
    "df_rev_per_projects = df_rev_per_projects[[\"project\", \"number\", \"reviewers\"]].explode(column=\"reviewers\")"
   ]
  },
  {
   "cell_type": "code",
   "execution_count": 54,
   "metadata": {},
   "outputs": [],
   "source": [
    "df_rev_per_projects = df_rev_per_projects.groupby(by=[\"reviewers\"]).agg({\"project\": pd.Series.nunique}).reset_index(level=0)#.groupby(\"project\").count().reset_index(level=0)\n",
    "df_rev_per_projects.rename(columns={\"project\": \"projects_nbr\", \"reviewers\": \"reviewer\"}, inplace=True)\n",
    "df_rev_per_projects[\"rev_status\"] = df_rev_per_projects[\"reviewer\"].map(lambda rev_id: \"Core\" if rev_id in os_core_team_devs else \"Non core\")\n",
    "df_rev_per_projects.to_csv(\"./RQs/PQ/Files/revs_per_nbr_project.csv\", index=False)"
   ]
  },
  {
   "cell_type": "code",
   "execution_count": 274,
   "metadata": {},
   "outputs": [],
   "source": [
    "df_rev_per_projects = pd.read_csv(\"./RQs/PQ/Files/revs_per_nbr_project.csv\")"
   ]
  },
  {
   "cell_type": "code",
   "execution_count": 282,
   "metadata": {},
   "outputs": [
    {
     "data": {
      "text/html": [
       "<div>\n",
       "<style scoped>\n",
       "    .dataframe tbody tr th:only-of-type {\n",
       "        vertical-align: middle;\n",
       "    }\n",
       "\n",
       "    .dataframe tbody tr th {\n",
       "        vertical-align: top;\n",
       "    }\n",
       "\n",
       "    .dataframe thead th {\n",
       "        text-align: right;\n",
       "    }\n",
       "</style>\n",
       "<table border=\"1\" class=\"dataframe\">\n",
       "  <thead>\n",
       "    <tr style=\"text-align: right;\">\n",
       "      <th></th>\n",
       "      <th>reviewer</th>\n",
       "      <th>projects_nbr</th>\n",
       "      <th>rev_status</th>\n",
       "    </tr>\n",
       "  </thead>\n",
       "  <tbody>\n",
       "    <tr>\n",
       "      <th>2</th>\n",
       "      <td>3</td>\n",
       "      <td>1019</td>\n",
       "      <td>Non core</td>\n",
       "    </tr>\n",
       "    <tr>\n",
       "      <th>4</th>\n",
       "      <td>5</td>\n",
       "      <td>9</td>\n",
       "      <td>Non core</td>\n",
       "    </tr>\n",
       "    <tr>\n",
       "      <th>5</th>\n",
       "      <td>6</td>\n",
       "      <td>20</td>\n",
       "      <td>Non core</td>\n",
       "    </tr>\n",
       "    <tr>\n",
       "      <th>6</th>\n",
       "      <td>7</td>\n",
       "      <td>95</td>\n",
       "      <td>Non core</td>\n",
       "    </tr>\n",
       "    <tr>\n",
       "      <th>7</th>\n",
       "      <td>8</td>\n",
       "      <td>3</td>\n",
       "      <td>Non core</td>\n",
       "    </tr>\n",
       "    <tr>\n",
       "      <th>...</th>\n",
       "      <td>...</td>\n",
       "      <td>...</td>\n",
       "      <td>...</td>\n",
       "    </tr>\n",
       "    <tr>\n",
       "      <th>8991</th>\n",
       "      <td>35191</td>\n",
       "      <td>2</td>\n",
       "      <td>Non core</td>\n",
       "    </tr>\n",
       "    <tr>\n",
       "      <th>8992</th>\n",
       "      <td>35199</td>\n",
       "      <td>3</td>\n",
       "      <td>Non core</td>\n",
       "    </tr>\n",
       "    <tr>\n",
       "      <th>8993</th>\n",
       "      <td>35240</td>\n",
       "      <td>1</td>\n",
       "      <td>Non core</td>\n",
       "    </tr>\n",
       "    <tr>\n",
       "      <th>8994</th>\n",
       "      <td>35266</td>\n",
       "      <td>1</td>\n",
       "      <td>Non core</td>\n",
       "    </tr>\n",
       "    <tr>\n",
       "      <th>8995</th>\n",
       "      <td>35414</td>\n",
       "      <td>8</td>\n",
       "      <td>Non core</td>\n",
       "    </tr>\n",
       "  </tbody>\n",
       "</table>\n",
       "<p>8264 rows × 3 columns</p>\n",
       "</div>"
      ],
      "text/plain": [
       "      reviewer  projects_nbr rev_status\n",
       "2            3          1019   Non core\n",
       "4            5             9   Non core\n",
       "5            6            20   Non core\n",
       "6            7            95   Non core\n",
       "7            8             3   Non core\n",
       "...        ...           ...        ...\n",
       "8991     35191             2   Non core\n",
       "8992     35199             3   Non core\n",
       "8993     35240             1   Non core\n",
       "8994     35266             1   Non core\n",
       "8995     35414             8   Non core\n",
       "\n",
       "[8264 rows x 3 columns]"
      ]
     },
     "execution_count": 282,
     "metadata": {},
     "output_type": "execute_result"
    }
   ],
   "source": [
    "# len(\n",
    "df_rev_per_projects[df_rev_per_projects[\"rev_status\"]==\"Non core\"]#.median()\n",
    "# )/len(df_rev_per_projects)"
   ]
  },
  {
   "attachments": {},
   "cell_type": "markdown",
   "metadata": {},
   "source": [
    "### # of developers per # of services"
   ]
  },
  {
   "cell_type": "code",
   "execution_count": 59,
   "metadata": {},
   "outputs": [],
   "source": [
    "online_repositories = pd.read_csv(\"./all_os_components.csv\")\n",
    "\n",
    "online_repositories[\"related_projects\"] = online_repositories[\"related_projects\"].apply(ast.literal_eval)\n",
    "\n",
    "online_repositories = dict(zip(online_repositories[\"main_project\"].values.reshape(-1), online_repositories[\"related_projects\"].values))\n",
    "\n",
    "def invert_projects_services():\n",
    "    return {\"openstack/%s\" % p:service for service, projects in online_repositories.items() for p in projects}\n",
    "\n",
    "project_services_inv = invert_projects_services()"
   ]
  },
  {
   "cell_type": "code",
   "execution_count": 62,
   "metadata": {},
   "outputs": [],
   "source": [
    "df_dev_per_services = df.loc[(df[\"is_owner_bot\"] == 0)&(df[\"status\"] == \"MERGED\")&(~df[\"owner_account_id\"].isin(casual_contributors)), [\"project\", \"owner_account_id\"]]\n",
    "df_dev_per_services[\"service\"] = df_dev_per_services[\"project\"].map(lambda p: project_services_inv.get(p))"
   ]
  },
  {
   "cell_type": "code",
   "execution_count": 63,
   "metadata": {},
   "outputs": [
    {
     "data": {
      "text/plain": [
       "90780"
      ]
     },
     "execution_count": 63,
     "metadata": {},
     "output_type": "execute_result"
    }
   ],
   "source": [
    "len(df_dev_per_services[df_dev_per_services[\"service\"].isnull()])"
   ]
  },
  {
   "cell_type": "code",
   "execution_count": 64,
   "metadata": {},
   "outputs": [],
   "source": [
    "df_dev_per_services.dropna(subset=[\"service\"], inplace=True)\n",
    "df_dev_per_services = df_dev_per_services.groupby(by=[\"owner_account_id\"]).agg({\"service\": pd.Series.nunique}).reset_index(level=0)#.groupby(\"project\").count().reset_index(level=0)\n",
    "df_dev_per_services[\"dev_status\"] = df_dev_per_services[\"owner_account_id\"].map(lambda rev_id: \"Core\" if rev_id in os_core_team_devs else \"Non core\")\n",
    "df_dev_per_services.to_csv(\"./RQs/PQ/Files/devs_per_nbr_service.csv\", index=False)"
   ]
  },
  {
   "cell_type": "code",
   "execution_count": 2,
   "metadata": {},
   "outputs": [],
   "source": [
    "df_dev_per_projects = pd.read_csv(\"./RQs/PQ/Files/devs_per_nbr_project.csv\")\n",
    "df_dev_per_services = pd.read_csv(\"./RQs/PQ/Files/devs_per_nbr_service.csv\")"
   ]
  },
  {
   "cell_type": "code",
   "execution_count": 10,
   "metadata": {},
   "outputs": [
    {
     "data": {
      "text/plain": [
       "0.11173184357541899"
      ]
     },
     "execution_count": 10,
     "metadata": {},
     "output_type": "execute_result"
    }
   ],
   "source": [
    "len(df_dev_per_services[df_dev_per_services[\"dev_status\"]==\"Core\"])/len(df_dev_per_services)\n",
    "# df_dev_per_services"
   ]
  },
  {
   "cell_type": "code",
   "execution_count": 284,
   "metadata": {},
   "outputs": [],
   "source": [
    "developers = pd.read_csv(\"./RQs/PQ/Files/devs_per_nbr_service.csv\")\n",
    "reviewers = pd.read_csv(\"./RQs/PQ/Files/revs_per_nbr_service.csv\")"
   ]
  },
  {
   "cell_type": "code",
   "execution_count": 302,
   "metadata": {},
   "outputs": [
    {
     "name": "stderr",
     "output_type": "stream",
     "text": [
      "/var/folders/p4/wn9d12jj6g78td0tl7gx7xlw0000gp/T/ipykernel_1469/864720424.py:2: FutureWarning: Dropping of nuisance columns in DataFrame reductions (with 'numeric_only=None') is deprecated; in a future version this will raise TypeError.  Select only valid columns before calling the reduction.\n",
      "  reviewers[(reviewers[\"rev_status\"]==\"Non core\")].median()\n"
     ]
    },
    {
     "data": {
      "text/plain": [
       "reviewer    17169.0\n",
       "service         2.0\n",
       "dtype: float64"
      ]
     },
     "execution_count": 302,
     "metadata": {},
     "output_type": "execute_result"
    }
   ],
   "source": [
    "# len(reviewers[reviewers[\"service\"]==1])/len(reviewers)\n",
    "reviewers[(reviewers[\"rev_status\"]==\"Non core\")].median()\n",
    "# len(developers[(developers[\"service\"]==1)&(developers[\"dev_status\"]==\"Non core\")])/len(developers[developers[\"dev_status\"]==\"Non core\"])#.median()"
   ]
  },
  {
   "attachments": {},
   "cell_type": "markdown",
   "metadata": {},
   "source": [
    "### # of reviewers per # of services"
   ]
  },
  {
   "cell_type": "code",
   "execution_count": 65,
   "metadata": {},
   "outputs": [],
   "source": [
    "df_rev_per_services = df.loc[(df[\"status\"] == \"MERGED\")&(~df[\"owner_account_id\"].isin(casual_contributors))].copy()\n",
    "df_rev_per_services[\"service\"] = df_rev_per_services[\"project\"].map(lambda p: project_services_inv.get(p))\n",
    "df_rev_per_services = df_rev_per_services.explode(column=[\"service\"])\n",
    "df_rev_per_services.dropna(subset=[\"service\"], inplace=True)\n",
    "df_rev_per_services[\"reviewer\"] = df_rev_per_services[\"reviewers\"].map(lambda revs: [rev[\"_account_id\"] for rev in revs if (\"tags\" not in rev) and (rev[\"_account_id\"] not in casual_contributors)])\n",
    "df_rev_per_services = df_rev_per_services.explode(column=[\"reviewer\"])\n",
    "df_rev_per_services = df_rev_per_services.groupby(by=[\"reviewer\"]).agg({\"service\": pd.Series.nunique}).reset_index(level=0)#.groupby(\"project\").count().reset_index(level=0)\n",
    "df_rev_per_services[\"rev_status\"] = df_rev_per_services[\"reviewer\"].map(lambda rev_id: \"Core\" if rev_id in os_core_team_devs else \"Non core\")\n",
    "df_rev_per_services.to_csv(\"./RQs/PQ/Files/revs_per_nbr_service.csv\", index=False)"
   ]
  },
  {
   "attachments": {},
   "cell_type": "markdown",
   "metadata": {},
   "source": [
    "### median of ranges of services in terms of developers' intersection that partipate in each project pair within the same service"
   ]
  },
  {
   "cell_type": "code",
   "execution_count": 7,
   "metadata": {},
   "outputs": [],
   "source": [
    "def retrieve_intersect(list1, list2):\n",
    "    return list(set(list1).intersection(list2))\n",
    "\n",
    "def retrieve_union(list1, list2):\n",
    "    return list(set(list1).union(list2))\n",
    "\n",
    "def retrieve_services_medians():\n",
    "    openstack_services = pd.read_csv(\"./all_os_components.csv\")\n",
    "    openstack_services[\"related_projects\"] = openstack_services[\"related_projects\"].map(ast.literal_eval)\n",
    "\n",
    "    result = dict.fromkeys(openstack_services[\"main_project\"].values)\n",
    "\n",
    "    for idx, row in openstack_services.iterrows():\n",
    "        service = row[\"main_project\"]\n",
    "        related_projects = row[\"related_projects\"]\n",
    "        treated_items = []\n",
    "        project_intersections = []\n",
    "        for i in range(len(related_projects)):\n",
    "            projectA = related_projects[i]\n",
    "            for j in range(len(related_projects)):\n",
    "                projectB = related_projects[j]\n",
    "                if (projectA != projectB) and (projectB not in treated_items):\n",
    "                    devsA = df.loc[(df[\"project\"] == \"openstack/%s\" % (projectA))&(df[\"is_owner_bot\"]==False)&(~df[\"owner_account_id\"].isin(casual_contributors)), \"owner_account_id\"].values\n",
    "                    devsB = df.loc[(df[\"project\"] == \"openstack/%s\" % (projectB))&(df[\"is_owner_bot\"]==False)&(~df[\"owner_account_id\"].isin(casual_contributors)), \"owner_account_id\"].values\n",
    "\n",
    "                    common_devs = len(retrieve_union(devsA, devsB)) if len(retrieve_union(devsA, devsB)) != 0 else 1\n",
    "                    devAB_intersect = len(retrieve_intersect(devsA, devsB)) * 100 / common_devs\n",
    "                    project_intersections.append(devAB_intersect)\n",
    "            treated_items.append(projectA)\n",
    "        # result[service] = statistics.median(project_intersections) if len(project_intersections) != 0 else 0\n",
    "        result[service] = project_intersections\n",
    "    # return pd.DataFrame({\"service\": result.keys(), \"median\": result.values()})\n",
    "    return result\n",
    "     "
   ]
  },
  {
   "cell_type": "code",
   "execution_count": 8,
   "metadata": {},
   "outputs": [],
   "source": [
    "df_services_medians = retrieve_services_medians()"
   ]
  },
  {
   "cell_type": "code",
   "execution_count": 33,
   "metadata": {},
   "outputs": [],
   "source": [
    "df_services_medians = pd.DataFrame({\"service\": df_services_medians.keys(), \"median\": df_services_medians.values()})\n",
    "df_services_medians = df_services_medians.explode(column=\"median\")\n",
    "df_services_medians.dropna(subset=\"median\", inplace=True)\n",
    "df_services_medians.reset_index(drop=True, inplace=True)\n",
    "df_services_medians.to_csv(\"./RQs/PQ/Files/all_services_medians.csv\", index=False)"
   ]
  },
  {
   "cell_type": "code",
   "execution_count": 40,
   "metadata": {},
   "outputs": [],
   "source": [
    "chain = [864384, 861571, 861572, 861319, 861320, 862219, 862479, 861208, 861467, 862492, 861471, 861609, 863532, 864946, 864948, 861110, 861111, 861366, 861369, 861116, 861635, 862797, 862798, 862799, 861136, 861137, 862801, 862803, 861140, 862805, 862806, 862802, 862809, 862810, 862811, 862812, 862814, 862816, 862820, 861158, 862183, 862189, 860795, 861053]"
   ]
  },
  {
   "cell_type": "code",
   "execution_count": 42,
   "metadata": {},
   "outputs": [
    {
     "data": {
      "text/plain": [
       "40"
      ]
     },
     "execution_count": 42,
     "metadata": {},
     "output_type": "execute_result"
    }
   ],
   "source": [
    "len(df.loc[df[\"number\"].isin(chain), \"project\"].unique())"
   ]
  }
 ],
 "metadata": {
  "kernelspec": {
   "display_name": "base",
   "language": "python",
   "name": "python3"
  },
  "language_info": {
   "codemirror_mode": {
    "name": "ipython",
    "version": 3
   },
   "file_extension": ".py",
   "mimetype": "text/x-python",
   "name": "python",
   "nbconvert_exporter": "python",
   "pygments_lexer": "ipython3",
   "version": "3.9.13"
  },
  "orig_nbformat": 4,
  "vscode": {
   "interpreter": {
    "hash": "4c3f98dc7a618963d8c453529bd2f978a19750ea04392a0abd6ac6b1e473063f"
   }
  }
 },
 "nbformat": 4,
 "nbformat_minor": 2
}
